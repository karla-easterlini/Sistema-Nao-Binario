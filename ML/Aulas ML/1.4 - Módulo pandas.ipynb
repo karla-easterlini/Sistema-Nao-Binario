{
 "cells": [
  {
   "cell_type": "markdown",
   "metadata": {},
   "source": [
    "Guia rápido do módulo pandas\n",
    "============================\n",
    "\n"
   ]
  },
  {
   "cell_type": "markdown",
   "metadata": {},
   "source": [
    "O módulo `pandas` é utilizado para análise e tratamento de dados. Este módulo é praticamente sempre importado com o apelido de `pd`, como mostra o código abaixo.\n",
    "\n"
   ]
  },
  {
   "cell_type": "code",
   "execution_count": 1,
   "metadata": {},
   "outputs": [],
   "source": [
    "import pandas as pd"
   ]
  },
  {
   "cell_type": "markdown",
   "metadata": {},
   "source": [
    "## Criando um `DataFrame`\n",
    "\n"
   ]
  },
  {
   "cell_type": "markdown",
   "metadata": {},
   "source": [
    "Uma das unidades básicas do `pandas` é o objeto `DataFrame`. Pense que estes objetos seriam as *tabelas* ou *planilhas* que estamos acostumados com outros tipos de software (como por exemplo, o Excel).\n",
    "\n",
    "Para criar um `DataFrame` precisamos de dados em um formato que nos lembre uma tabela! Podemos representar estes dados usando arrays de duas dimensões de `numpy` ou usando listas de listas.\n",
    "\n",
    "Vamos usar uma lista de listas para o exemplo abaixo. Note que é importante definir o que representam cada coluna quando criamos um novo `DataFrame` seguindo esta rota.\n",
    "\n"
   ]
  },
  {
   "cell_type": "code",
   "execution_count": 2,
   "metadata": {},
   "outputs": [
    {
     "name": "stdout",
     "output_type": "stream",
     "text": [
      "   Idade  Dia  Mês  Altura  Gosta de Paçoca?\n",
      "0     18    5   11    1.70              True\n",
      "1     19    3    1    1.64              True\n",
      "2     22   29    7    1.78              True\n",
      "3     21   15    4    1.72             False\n",
      "4     25   18    9    1.93              True\n",
      "5     19    4    4    1.47             False\n"
     ]
    }
   ],
   "source": [
    "colunas = [\"Idade\", \"Dia\", \"Mês\", \"Altura\", \"Gosta de Paçoca?\"]\n",
    "\n",
    "meus_dados = [\n",
    "    [18, 5, 11, 1.70, True],\n",
    "    [19, 3, 1, 1.64, True],\n",
    "    [22, 29, 7, 1.78, True],\n",
    "    [21, 15, 4, 1.72, False],\n",
    "    [25, 18, 9, 1.93, True],\n",
    "    [19, 4, 4, 1.47, False],\n",
    "]\n",
    "\n",
    "meu_df = pd.DataFrame(meus_dados, columns=colunas)\n",
    "\n",
    "print(meu_df)"
   ]
  },
  {
   "cell_type": "markdown",
   "metadata": {},
   "source": [
    "## Investigando um `DataFrame`\n",
    "\n"
   ]
  },
  {
   "cell_type": "markdown",
   "metadata": {},
   "source": [
    "Qual é o formato do `DataFrame`? (Isto é, qual o número de linhas e colunas?)\n",
    "\n"
   ]
  },
  {
   "cell_type": "code",
   "execution_count": 3,
   "metadata": {},
   "outputs": [
    {
     "name": "stdout",
     "output_type": "stream",
     "text": [
      "(6, 5)\n"
     ]
    }
   ],
   "source": [
    "print(meu_df.shape)"
   ]
  },
  {
   "cell_type": "markdown",
   "metadata": {},
   "source": [
    "Quais são os tipos de dados que estão armazenados no `DataFrame`?\n",
    "\n"
   ]
  },
  {
   "cell_type": "code",
   "execution_count": 4,
   "metadata": {},
   "outputs": [
    {
     "name": "stdout",
     "output_type": "stream",
     "text": [
      "Idade                 int64\n",
      "Dia                   int64\n",
      "Mês                   int64\n",
      "Altura              float64\n",
      "Gosta de Paçoca?       bool\n",
      "dtype: object\n"
     ]
    }
   ],
   "source": [
    "print(meu_df.dtypes)"
   ]
  },
  {
   "cell_type": "markdown",
   "metadata": {},
   "source": [
    "Quais são as colunas do `DataFrame`? (Colunas são os &ldquo;nomes&rdquo; com os quais agrupamos os dados verticalment)\n",
    "\n"
   ]
  },
  {
   "cell_type": "code",
   "execution_count": 5,
   "metadata": {},
   "outputs": [
    {
     "name": "stdout",
     "output_type": "stream",
     "text": [
      "Index(['Idade', 'Dia', 'Mês', 'Altura', 'Gosta de Paçoca?'], dtype='object')\n"
     ]
    }
   ],
   "source": [
    "print(meu_df.columns)"
   ]
  },
  {
   "cell_type": "markdown",
   "metadata": {},
   "source": [
    "Quais são os índices do `DataFrame`? (Índices são os &ldquo;nomes&rdquo; com os quais agrupamos os dados horizontalmente)\n",
    "\n"
   ]
  },
  {
   "cell_type": "code",
   "execution_count": 6,
   "metadata": {},
   "outputs": [
    {
     "name": "stdout",
     "output_type": "stream",
     "text": [
      "RangeIndex(start=0, stop=6, step=1)\n"
     ]
    }
   ],
   "source": [
    "print(meu_df.index)"
   ]
  },
  {
   "cell_type": "markdown",
   "metadata": {},
   "source": [
    "## Análise descritiva dos dados de um `DataFrame`\n",
    "\n"
   ]
  },
  {
   "cell_type": "code",
   "execution_count": 7,
   "metadata": {},
   "outputs": [
    {
     "name": "stdout",
     "output_type": "stream",
     "text": [
      "           Idade        Dia        Mês    Altura\n",
      "count   6.000000   6.000000   6.000000  6.000000\n",
      "mean   20.666667  12.333333   6.000000  1.706667\n",
      "std     2.581989  10.269697   3.687818  0.152272\n",
      "min    18.000000   3.000000   1.000000  1.470000\n",
      "25%    19.000000   4.250000   4.000000  1.655000\n",
      "50%    20.000000  10.000000   5.500000  1.710000\n",
      "75%    21.750000  17.250000   8.500000  1.765000\n",
      "max    25.000000  29.000000  11.000000  1.930000\n"
     ]
    }
   ],
   "source": [
    "print(meu_df.describe())"
   ]
  },
  {
   "cell_type": "markdown",
   "metadata": {},
   "source": [
    "## Realizando consultas a um `DataFrame`\n",
    "\n"
   ]
  },
  {
   "cell_type": "markdown",
   "metadata": {},
   "source": [
    "Use a seguinte expressão para consultar valores de uma coluna:\n",
    "\n"
   ]
  },
  {
   "cell_type": "code",
   "execution_count": 8,
   "metadata": {},
   "outputs": [
    {
     "name": "stdout",
     "output_type": "stream",
     "text": [
      "0    11\n",
      "1     1\n",
      "2     7\n",
      "3     4\n",
      "4     9\n",
      "5     4\n",
      "Name: Mês, dtype: int64\n"
     ]
    }
   ],
   "source": [
    "print(meu_df[\"Mês\"])"
   ]
  },
  {
   "cell_type": "markdown",
   "metadata": {},
   "source": [
    "Para consultar valores de mais de uma coluna, use uma lista!\n",
    "\n"
   ]
  },
  {
   "cell_type": "code",
   "execution_count": 9,
   "metadata": {},
   "outputs": [
    {
     "name": "stdout",
     "output_type": "stream",
     "text": [
      "   Mês  Idade  Dia\n",
      "0   11     18    5\n",
      "1    1     19    3\n",
      "2    7     22   29\n",
      "3    4     21   15\n",
      "4    9     25   18\n",
      "5    4     19    4\n"
     ]
    }
   ],
   "source": [
    "print(meu_df[[\"Mês\", \"Idade\", \"Dia\"]])"
   ]
  },
  {
   "cell_type": "markdown",
   "metadata": {},
   "source": [
    "Podemos armazenar valores das colunas em variáveis.\n",
    "\n"
   ]
  },
  {
   "cell_type": "code",
   "execution_count": 10,
   "metadata": {},
   "outputs": [
    {
     "name": "stdout",
     "output_type": "stream",
     "text": [
      "0    11\n",
      "1     1\n",
      "2     7\n",
      "3     4\n",
      "4     9\n",
      "5     4\n",
      "Name: Mês, dtype: int64\n"
     ]
    }
   ],
   "source": [
    "mes_aniversario = meu_df[\"Mês\"]\n",
    "print(mes_aniversario)"
   ]
  },
  {
   "cell_type": "markdown",
   "metadata": {},
   "source": [
    "Um vetor coluna de `pandas` não é chamado um `DataFrame`, mas sim uma `Series`. É muito comum convertermos `DataFrames` ou `Series` para arrays de `numpy`. Para fazer isso, basta usar o `.values`.\n",
    "\n"
   ]
  },
  {
   "cell_type": "code",
   "execution_count": 11,
   "metadata": {},
   "outputs": [
    {
     "name": "stdout",
     "output_type": "stream",
     "text": [
      "[11  1  7  4  9  4]\n"
     ]
    }
   ],
   "source": [
    "mes_aniversario = meu_df[\"Mês\"].values\n",
    "print(mes_aniversario)"
   ]
  },
  {
   "cell_type": "markdown",
   "metadata": {},
   "source": [
    "## Filtrando um `DataFrame`\n",
    "\n"
   ]
  },
  {
   "cell_type": "markdown",
   "metadata": {},
   "source": [
    "Muitas vezes precisamos filtrar os dados de forma condicional ao valor armazenado. Vamos supor que queremos apenas os dados da tabela com pessoas que têm altura maior que 1.70.\n",
    "\n"
   ]
  },
  {
   "cell_type": "code",
   "execution_count": 12,
   "metadata": {},
   "outputs": [
    {
     "name": "stdout",
     "output_type": "stream",
     "text": [
      "   Idade  Dia  Mês  Altura  Gosta de Paçoca?\n",
      "2     22   29    7    1.78              True\n",
      "3     21   15    4    1.72             False\n",
      "4     25   18    9    1.93              True\n"
     ]
    }
   ],
   "source": [
    "logica = meu_df[\"Altura\"] > 1.70\n",
    "meu_df_filtrado = meu_df.loc[logica]\n",
    "print(meu_df_filtrado)"
   ]
  },
  {
   "cell_type": "markdown",
   "metadata": {},
   "source": [
    "Observe que da forma que fizemos nós não alteramos o `DataFrame` original!\n",
    "\n"
   ]
  },
  {
   "cell_type": "code",
   "execution_count": 13,
   "metadata": {},
   "outputs": [
    {
     "name": "stdout",
     "output_type": "stream",
     "text": [
      "   Idade  Dia  Mês  Altura  Gosta de Paçoca?\n",
      "0     18    5   11    1.70              True\n",
      "1     19    3    1    1.64              True\n",
      "2     22   29    7    1.78              True\n",
      "3     21   15    4    1.72             False\n",
      "4     25   18    9    1.93              True\n",
      "5     19    4    4    1.47             False\n"
     ]
    }
   ],
   "source": [
    "print(meu_df)"
   ]
  },
  {
   "cell_type": "markdown",
   "metadata": {},
   "source": [
    "Digamos agora que queremos filtrar pessoas com altura maior que 1.70 e que gostam de paçoca. Precisamos usar o conectivo lógico de conjunção aqui. Neste caso, usamos o símbolo `&` para realizar esta operação.\n",
    "\n"
   ]
  },
  {
   "cell_type": "code",
   "execution_count": 14,
   "metadata": {},
   "outputs": [
    {
     "name": "stdout",
     "output_type": "stream",
     "text": [
      "   Idade  Dia  Mês  Altura  Gosta de Paçoca?\n",
      "2     22   29    7    1.78              True\n",
      "4     25   18    9    1.93              True\n"
     ]
    }
   ],
   "source": [
    "logica1 = meu_df[\"Altura\"] > 1.70\n",
    "logica2 = meu_df[\"Gosta de Paçoca?\"] == True\n",
    "logica = logica1 & logica2\n",
    "meu_df_filtrado = meu_df.loc[logica]\n",
    "print(meu_df_filtrado)"
   ]
  },
  {
   "cell_type": "markdown",
   "metadata": {},
   "source": [
    "E se quisermos pessoas que tem altura maior que 1.70 e gostam de paçoca OU pessoas que nasceram antes de maio? O conectivo lógico de disjunção é escrito com o símbolo `|` neste caso.\n",
    "\n"
   ]
  },
  {
   "cell_type": "code",
   "execution_count": 15,
   "metadata": {},
   "outputs": [
    {
     "name": "stdout",
     "output_type": "stream",
     "text": [
      "   Idade  Dia  Mês  Altura  Gosta de Paçoca?\n",
      "1     19    3    1    1.64              True\n",
      "2     22   29    7    1.78              True\n",
      "3     21   15    4    1.72             False\n",
      "4     25   18    9    1.93              True\n",
      "5     19    4    4    1.47             False\n"
     ]
    }
   ],
   "source": [
    "logica1 = meu_df[\"Altura\"] > 1.70\n",
    "logica2 = meu_df[\"Gosta de Paçoca?\"] == True\n",
    "logica3 = meu_df[\"Mês\"] < 5\n",
    "logica = (logica1 & logica2) | logica3\n",
    "meu_df_filtrado = meu_df.loc[logica]\n",
    "print(meu_df_filtrado)"
   ]
  },
  {
   "cell_type": "markdown",
   "metadata": {},
   "source": [
    "## Reestruturando um `DataFrame`\n",
    "\n"
   ]
  },
  {
   "cell_type": "markdown",
   "metadata": {},
   "source": [
    "Quero remover uma coluna!\n",
    "\n"
   ]
  },
  {
   "cell_type": "code",
   "execution_count": 16,
   "metadata": {},
   "outputs": [
    {
     "name": "stdout",
     "output_type": "stream",
     "text": [
      "   Idade  Dia  Mês  Gosta de Paçoca?\n",
      "0     18    5   11              True\n",
      "1     19    3    1              True\n",
      "2     22   29    7              True\n",
      "3     21   15    4             False\n",
      "4     25   18    9              True\n",
      "5     19    4    4             False\n"
     ]
    }
   ],
   "source": [
    "novo_df = meu_df.drop(\"Altura\", axis=1)\n",
    "print(novo_df)"
   ]
  },
  {
   "cell_type": "markdown",
   "metadata": {},
   "source": [
    "Quero remover duas ou mais colunas!\n",
    "\n"
   ]
  },
  {
   "cell_type": "code",
   "execution_count": 17,
   "metadata": {},
   "outputs": [
    {
     "name": "stdout",
     "output_type": "stream",
     "text": [
      "   Idade  Dia  Gosta de Paçoca?\n",
      "0     18    5              True\n",
      "1     19    3              True\n",
      "2     22   29              True\n",
      "3     21   15             False\n",
      "4     25   18              True\n",
      "5     19    4             False\n"
     ]
    }
   ],
   "source": [
    "novo_df = meu_df.drop([\"Altura\", \"Mês\"], axis=1)\n",
    "print(novo_df)"
   ]
  },
  {
   "cell_type": "markdown",
   "metadata": {},
   "source": [
    "Quero apenas trabalhar com algumas colunas (que eu sei o nome)!\n",
    "\n"
   ]
  },
  {
   "cell_type": "code",
   "execution_count": 18,
   "metadata": {},
   "outputs": [
    {
     "name": "stdout",
     "output_type": "stream",
     "text": [
      "   Altura  Mês\n",
      "0    1.70   11\n",
      "1    1.64    1\n",
      "2    1.78    7\n",
      "3    1.72    4\n",
      "4    1.93    9\n",
      "5    1.47    4\n"
     ]
    }
   ],
   "source": [
    "novo_df = meu_df.reindex([\"Altura\", \"Mês\"], axis=1)\n",
    "print(novo_df)"
   ]
  },
  {
   "cell_type": "markdown",
   "metadata": {},
   "source": [
    "Quero transpor o `DataFrame`!\n",
    "\n"
   ]
  },
  {
   "cell_type": "code",
   "execution_count": 19,
   "metadata": {},
   "outputs": [
    {
     "name": "stdout",
     "output_type": "stream",
     "text": [
      "                     0     1     2      3     4      5\n",
      "Idade               18    19    22     21    25     19\n",
      "Dia                  5     3    29     15    18      4\n",
      "Mês                 11     1     7      4     9      4\n",
      "Altura             1.7  1.64  1.78   1.72  1.93   1.47\n",
      "Gosta de Paçoca?  True  True  True  False  True  False\n"
     ]
    }
   ],
   "source": [
    "novo_df = meu_df.T\n",
    "print(novo_df)"
   ]
  },
  {
   "cell_type": "markdown",
   "metadata": {},
   "source": [
    "## Salvando um `DataFrame` em um arquivo\n",
    "\n"
   ]
  },
  {
   "cell_type": "markdown",
   "metadata": {},
   "source": [
    "Quero salvar um `DataFrame` em um arquivo de excel (o arquivo salvo fica na mesma pasta do notebook).\n",
    "\n"
   ]
  },
  {
   "cell_type": "code",
   "execution_count": 20,
   "metadata": {},
   "outputs": [],
   "source": [
    "nome_do_arquivo = \"dados.xlsx\"  # não esquecer a extensão!\n",
    "meu_df.to_excel(nome_do_arquivo)"
   ]
  },
  {
   "cell_type": "markdown",
   "metadata": {},
   "source": [
    "Quero salvar um `DataFrame` em um arquivo de excel, mas sem os índices (os índices são os &ldquo;nomes&rdquo; das linhas).\n",
    "\n"
   ]
  },
  {
   "cell_type": "code",
   "execution_count": 21,
   "metadata": {},
   "outputs": [],
   "source": [
    "nome_do_arquivo = \"dados.xlsx\"  # não esquecer a extensão!\n",
    "meu_df.to_excel(nome_do_arquivo, index=False)"
   ]
  },
  {
   "cell_type": "markdown",
   "metadata": {},
   "source": [
    "Quero salvar um `DataFrame` em um arquivo csv.\n",
    "\n"
   ]
  },
  {
   "cell_type": "code",
   "execution_count": 22,
   "metadata": {},
   "outputs": [],
   "source": [
    "nome_do_arquivo = \"dados.csv\"  # não esquecer a extensão!\n",
    "meu_df.to_csv(nome_do_arquivo)"
   ]
  },
  {
   "cell_type": "markdown",
   "metadata": {},
   "source": [
    "Quero salvar um `DataFrame` em um arquivo csv, mas sem os índices.\n",
    "\n"
   ]
  },
  {
   "cell_type": "code",
   "execution_count": 23,
   "metadata": {},
   "outputs": [],
   "source": [
    "nome_do_arquivo = \"dados.csv\"  # não esquecer a extensão!\n",
    "meu_df.to_csv(nome_do_arquivo, index=False)"
   ]
  },
  {
   "cell_type": "markdown",
   "metadata": {},
   "source": [
    "## Criando um `DataFrame` a partir de um arquivo\n",
    "\n"
   ]
  },
  {
   "cell_type": "markdown",
   "metadata": {},
   "source": [
    "Quero criar um `DataFrame` a partir do uma planílha de excel.\n",
    "\n"
   ]
  },
  {
   "cell_type": "code",
   "execution_count": 24,
   "metadata": {},
   "outputs": [
    {
     "name": "stdout",
     "output_type": "stream",
     "text": [
      "   Idade  Dia  Mês  Altura  Gosta de Paçoca?\n",
      "0     18    5   11    1.70              True\n",
      "1     19    3    1    1.64              True\n",
      "2     22   29    7    1.78              True\n",
      "3     21   15    4    1.72             False\n",
      "4     25   18    9    1.93              True\n",
      "5     19    4    4    1.47             False\n"
     ]
    }
   ],
   "source": [
    "nome_do_arquivo = \"dados.xlsx\"\n",
    "df_do_excel = pd.read_excel(nome_do_arquivo)\n",
    "print(df_do_excel)"
   ]
  },
  {
   "cell_type": "markdown",
   "metadata": {},
   "source": [
    "Quero criar um `DataFrame` a partir de um csv.\n",
    "\n"
   ]
  },
  {
   "cell_type": "code",
   "execution_count": 25,
   "metadata": {},
   "outputs": [
    {
     "name": "stdout",
     "output_type": "stream",
     "text": [
      "   Idade  Dia  Mês  Altura  Gosta de Paçoca?\n",
      "0     18    5   11    1.70              True\n",
      "1     19    3    1    1.64              True\n",
      "2     22   29    7    1.78              True\n",
      "3     21   15    4    1.72             False\n",
      "4     25   18    9    1.93              True\n",
      "5     19    4    4    1.47             False\n"
     ]
    }
   ],
   "source": [
    "nome_do_arquivo = \"dados.csv\"\n",
    "df_do_csv = pd.read_csv(nome_do_arquivo)\n",
    "print(df_do_csv)"
   ]
  },
  {
   "cell_type": "code",
   "execution_count": null,
   "metadata": {},
   "outputs": [],
   "source": []
  }
 ],
 "metadata": {
  "kernelspec": {
   "display_name": "ilumpy",
   "language": "python",
   "name": "ilumpy"
  },
  "language_info": {
   "codemirror_mode": {
    "name": "ipython",
    "version": 3
   },
   "file_extension": ".py",
   "mimetype": "text/x-python",
   "name": "python",
   "nbconvert_exporter": "python",
   "pygments_lexer": "ipython3",
   "version": "3.10.6"
  },
  "org": null
 },
 "nbformat": 4,
 "nbformat_minor": 4
}
