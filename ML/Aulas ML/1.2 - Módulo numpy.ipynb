{
 "cells": [
  {
   "cell_type": "markdown",
   "metadata": {},
   "source": [
    "Guia rápido do módulo numpy\n",
    "===========================\n",
    "\n"
   ]
  },
  {
   "cell_type": "markdown",
   "metadata": {},
   "source": [
    "O módulo `numpy` é utilizado para operações numéricas com vetores e matrizes. É um módulo fundamental para praticamente todos os cientista que utilizam Python na sua prática científica. Este módulo é praticamente sempre importado com o apelido de `np`, como mostra o código abaixo.\n",
    "\n"
   ]
  },
  {
   "cell_type": "code",
   "execution_count": 1,
   "metadata": {},
   "outputs": [],
   "source": [
    "import numpy as np"
   ]
  },
  {
   "cell_type": "markdown",
   "metadata": {},
   "source": [
    "## Criando um array usando listas\n",
    "\n"
   ]
  },
  {
   "cell_type": "markdown",
   "metadata": {},
   "source": [
    "O objeto mais fundamental que o `numpy` nos fornece são as matrizes de $n$ dimensões, conhecidas como `ndarray` ou simplesmente `array`.\n",
    "\n"
   ]
  },
  {
   "cell_type": "code",
   "execution_count": 2,
   "metadata": {},
   "outputs": [
    {
     "name": "stdout",
     "output_type": "stream",
     "text": [
      "[1 2 3]\n",
      "[[1 2 3]\n",
      " [4 5 6]\n",
      " [7 8 9]]\n"
     ]
    }
   ],
   "source": [
    "array_1d = np.array([1, 2, 3])  # array de 1 dimensão\n",
    "\n",
    "print(array_1d)\n",
    "\n",
    "lista_de_listas = [\n",
    "    [1, 2, 3],\n",
    "    [4, 5, 6],\n",
    "    [7, 8, 9],\n",
    "]\n",
    "\n",
    "array_2d = np.array(lista_de_listas)  # array de 2 dimensões\n",
    "\n",
    "print(array_2d)"
   ]
  },
  {
   "cell_type": "markdown",
   "metadata": {},
   "source": [
    "## Criando um array apenas com 0s ou com 1s\n",
    "\n"
   ]
  },
  {
   "cell_type": "code",
   "execution_count": 3,
   "metadata": {},
   "outputs": [
    {
     "name": "stdout",
     "output_type": "stream",
     "text": [
      "[0. 0. 0. 0. 0. 0. 0. 0. 0. 0.]\n",
      "[[0. 0. 0. 0.]\n",
      " [0. 0. 0. 0.]\n",
      " [0. 0. 0. 0.]]\n",
      "[1. 1. 1. 1. 1.]\n",
      "[[1. 1. 1.]\n",
      " [1. 1. 1.]]\n"
     ]
    }
   ],
   "source": [
    "array1 = np.zeros(10)\n",
    "array2 = np.zeros((3, 4))\n",
    "\n",
    "array3 = np.ones(5)\n",
    "array4 = np.ones((2, 3))\n",
    "\n",
    "print(array1)\n",
    "print(array2)\n",
    "print(array3)\n",
    "print(array4)"
   ]
  },
  {
   "cell_type": "markdown",
   "metadata": {},
   "source": [
    "## Criando um array com uma sequência numérica linear com passo bem definido\n",
    "\n"
   ]
  },
  {
   "cell_type": "code",
   "execution_count": 4,
   "metadata": {},
   "outputs": [
    {
     "name": "stdout",
     "output_type": "stream",
     "text": [
      "[0 1 2 3 4 5 6 7 8 9]\n",
      "[10 11 12 13 14 15 16 17 18 19]\n",
      "[  0  10  20  30  40  50  60  70  80  90 100]\n",
      "[0.  0.1 0.2 0.3 0.4 0.5 0.6 0.7 0.8 0.9]\n"
     ]
    }
   ],
   "source": [
    "array1 = np.arange(10)  # com apenas um argumento, ele inicia sempre do zero\n",
    "array2 = np.arange(10, 20)\n",
    "array3 = np.arange(0, 110, 10)\n",
    "array4 = np.arange(0, 1, 0.1)  # o intervalo não precisa ser inteiro!\n",
    "\n",
    "print(array1)\n",
    "print(array2)\n",
    "print(array3)\n",
    "print(array4)"
   ]
  },
  {
   "cell_type": "markdown",
   "metadata": {},
   "source": [
    "## Criando um array com uma sequência numérica linear com número de itens bem definido\n",
    "\n"
   ]
  },
  {
   "cell_type": "code",
   "execution_count": 5,
   "metadata": {},
   "outputs": [
    {
     "name": "stdout",
     "output_type": "stream",
     "text": [
      "[0.   0.01 0.02 0.03 0.04 0.05 0.06 0.07 0.08 0.09 0.1  0.11 0.12 0.13\n",
      " 0.14 0.15 0.16 0.17 0.18 0.19 0.2  0.21 0.22 0.23 0.24 0.25 0.26 0.27\n",
      " 0.28 0.29 0.3  0.31 0.32 0.33 0.34 0.35 0.36 0.37 0.38 0.39 0.4  0.41\n",
      " 0.42 0.43 0.44 0.45 0.46 0.47 0.48 0.49 0.5  0.51 0.52 0.53 0.54 0.55\n",
      " 0.56 0.57 0.58 0.59 0.6  0.61 0.62 0.63 0.64 0.65 0.66 0.67 0.68 0.69\n",
      " 0.7  0.71 0.72 0.73 0.74 0.75 0.76 0.77 0.78 0.79 0.8  0.81 0.82 0.83\n",
      " 0.84 0.85 0.86 0.87 0.88 0.89 0.9  0.91 0.92 0.93 0.94 0.95 0.96 0.97\n",
      " 0.98 0.99 1.  ]\n",
      "[ 0.   2.5  5.   7.5 10. ]\n",
      "[ 0.          0.20408163  0.40816327  0.6122449   0.81632653  1.02040816\n",
      "  1.2244898   1.42857143  1.63265306  1.83673469  2.04081633  2.24489796\n",
      "  2.44897959  2.65306122  2.85714286  3.06122449  3.26530612  3.46938776\n",
      "  3.67346939  3.87755102  4.08163265  4.28571429  4.48979592  4.69387755\n",
      "  4.89795918  5.10204082  5.30612245  5.51020408  5.71428571  5.91836735\n",
      "  6.12244898  6.32653061  6.53061224  6.73469388  6.93877551  7.14285714\n",
      "  7.34693878  7.55102041  7.75510204  7.95918367  8.16326531  8.36734694\n",
      "  8.57142857  8.7755102   8.97959184  9.18367347  9.3877551   9.59183673\n",
      "  9.79591837 10.        ]\n"
     ]
    }
   ],
   "source": [
    "array1 = np.linspace(0, 1, 101)  # array com 101 valores entre 0 e 1\n",
    "array2 = np.linspace(0, 10, 5)  # array com 5 valores entre 0 e 10\n",
    "array3 = np.linspace(0, 10)  # sem o último argumento ele gera 50 números\n",
    "\n",
    "print(array1)\n",
    "print(array2)\n",
    "print(array3)"
   ]
  },
  {
   "cell_type": "markdown",
   "metadata": {},
   "source": [
    "## Criando um array com uma sequência numérica espaçada logaritmicamente\n",
    "\n"
   ]
  },
  {
   "cell_type": "code",
   "execution_count": 6,
   "metadata": {},
   "outputs": [
    {
     "name": "stdout",
     "output_type": "stream",
     "text": [
      "[1.00000000e+00 2.21221629e+00 4.89390092e+00 1.08263673e+01\n",
      " 2.39502662e+01 5.29831691e+01 1.17210230e+02 2.59294380e+02\n",
      " 5.73615251e+02 1.26896100e+03 2.80721620e+03 6.21016942e+03\n",
      " 1.37382380e+04 3.03919538e+04 6.72335754e+04 1.48735211e+05\n",
      " 3.29034456e+05 7.27895384e+05 1.61026203e+06 3.56224789e+06\n",
      " 7.88046282e+06 1.74332882e+07 3.85662042e+07 8.53167852e+07\n",
      " 1.88739182e+08 4.17531894e+08 9.23670857e+08 2.04335972e+09\n",
      " 4.52035366e+09 1.00000000e+10]\n",
      "[1.00000000e-05 5.17947468e-05 2.68269580e-04 1.38949549e-03\n",
      " 7.19685673e-03 3.72759372e-02 1.93069773e-01 1.00000000e+00\n",
      " 5.17947468e+00 2.68269580e+01 1.38949549e+02 7.19685673e+02\n",
      " 3.72759372e+03 1.93069773e+04 1.00000000e+05]\n",
      "[  1.           1.09854114   1.20679264   1.32571137   1.45634848\n",
      "   1.59985872   1.75751062   1.93069773   2.12095089   2.32995181\n",
      "   2.55954792   2.8117687    3.0888436    3.39322177   3.72759372\n",
      "   4.09491506   4.49843267   4.94171336   5.42867544   5.96362332\n",
      "   6.55128557   7.19685673   7.90604321   8.68511374   9.54095476\n",
      "  10.48113134  11.51395399  12.64855217  13.89495494  15.26417967\n",
      "  16.76832937  18.42069969  20.23589648  22.22996483  24.42053095\n",
      "  26.82695795  29.47051703  32.37457543  35.56480306  39.06939937\n",
      "  42.9193426   47.14866363  51.79474679  56.89866029  62.50551925\n",
      "  68.6648845   75.43120063  82.86427729  91.0298178  100.        ]\n"
     ]
    }
   ],
   "source": [
    "array1 = np.logspace(0, 10, 30)  # array com 30 valores entre 10**0 e 10**10\n",
    "array2 = np.logspace(-5, 5, 15)  # array com 15 valores entre 10**-5 e 10**5\n",
    "array3 = np.logspace(0, 2)  # sem o último argumento ele gera 50 números\n",
    "\n",
    "print(array1)\n",
    "print(array2)\n",
    "print(array3)"
   ]
  },
  {
   "cell_type": "markdown",
   "metadata": {},
   "source": [
    "## Criando um array populado com números aleatórios\n",
    "\n"
   ]
  },
  {
   "cell_type": "code",
   "execution_count": 7,
   "metadata": {},
   "outputs": [
    {
     "name": "stdout",
     "output_type": "stream",
     "text": [
      "[0.85684571 0.91422021 0.80032767 0.01173845 0.14472201 0.75961915\n",
      " 0.99289811 0.97219852 0.58311706 0.48055717]\n",
      "[[0.10950477 0.18541475 0.06401112]\n",
      " [0.06550411 0.01813945 0.00090168]\n",
      " [0.57999338 0.79190135 0.31417747]]\n",
      "[[0.24108284 0.64075072 0.52815057 0.58304509]\n",
      " [0.43133985 0.52586936 0.68051789 0.28989814]\n",
      " [0.72022798 0.06583255 0.82290778 0.5885641 ]\n",
      " [0.12024669 0.85724615 0.77994029 0.56304874]\n",
      " [0.68428443 0.8609106  0.03549625 0.54423713]]\n"
     ]
    }
   ],
   "source": [
    "array_1d = np.random.random(10)\n",
    "array_2d_3x3 = np.random.random((3, 3))\n",
    "array_2d_5x4 = np.random.random((5, 4))\n",
    "\n",
    "print(array_1d)\n",
    "print(array_2d_3x3)\n",
    "print(array_2d_5x4)"
   ]
  },
  {
   "cell_type": "markdown",
   "metadata": {},
   "source": [
    "## Aplicando funções em arrays\n",
    "\n"
   ]
  },
  {
   "cell_type": "markdown",
   "metadata": {},
   "source": [
    "Quando aplicamos funções em arrays nosso interesse geralmente é que a função seja aplicada para cada elemento do array. O próprio `numpy` já tem diversas funções prontas que atuam desta maneira.\n",
    "\n"
   ]
  },
  {
   "cell_type": "code",
   "execution_count": 8,
   "metadata": {},
   "outputs": [
    {
     "name": "stdout",
     "output_type": "stream",
     "text": [
      "[0.         0.69314718 1.09861229]\n",
      "[0.         0.30103    0.47712125]\n",
      "[ 2.71828183  7.3890561  20.08553692]\n",
      "[ 0.54030231 -0.41614684 -0.9899925 ]\n",
      "[0.84147098 0.90929743 0.14112001]\n",
      "[ 1.55740772 -2.18503986 -0.14254654]\n",
      "[1.         1.41421356 1.73205081]\n"
     ]
    }
   ],
   "source": [
    "array = np.array([1, 2, 3])\n",
    "\n",
    "print(np.log(array))    # logaritmo natural (base e)\n",
    "print(np.log10(array))  # logaritmo base 10\n",
    "print(np.exp(array))    # exponencial\n",
    "print(np.cos(array))    # cosseno\n",
    "print(np.sin(array))    # seno\n",
    "print(np.tan(array))    # tangente\n",
    "print(np.sqrt(array))   # raiz quadrada"
   ]
  },
  {
   "cell_type": "markdown",
   "metadata": {},
   "source": [
    "## Usando operadores de Python com arrays\n",
    "\n"
   ]
  },
  {
   "cell_type": "markdown",
   "metadata": {},
   "source": [
    "Os operadores de Python costumam operar em termos de elementos nos arrays.\n",
    "\n"
   ]
  },
  {
   "cell_type": "code",
   "execution_count": 9,
   "metadata": {},
   "outputs": [
    {
     "name": "stdout",
     "output_type": "stream",
     "text": [
      "[5 7 9]\n",
      "[-3 -3 -3]\n",
      "[ 4 10 18]\n",
      "[0.25 0.4  0.5 ]\n",
      "[  1  32 729]\n"
     ]
    }
   ],
   "source": [
    "array1 = np.array([1, 2, 3])\n",
    "array2 = np.array([4, 5, 6])\n",
    "\n",
    "print(array1 + array2)\n",
    "print(array1 - array2)\n",
    "print(array1 * array2)\n",
    "print(array1 / array2)\n",
    "print(array1 ** array2)"
   ]
  },
  {
   "cell_type": "markdown",
   "metadata": {},
   "source": [
    "## Funções agregadoras (sem direcionalidade)\n",
    "\n"
   ]
  },
  {
   "cell_type": "markdown",
   "metadata": {},
   "source": [
    "Soma dos elementos, mínimo, máximo, média e desvio padrão são operações chamadas agregadoras que são muito utilizadas. Arrays de `numpy` nos permitem computar esses valores de maneira muito fácil! Veja o exemplo abaixo.\n",
    "\n"
   ]
  },
  {
   "cell_type": "code",
   "execution_count": 10,
   "metadata": {},
   "outputs": [
    {
     "name": "stdout",
     "output_type": "stream",
     "text": [
      "45\n",
      "1\n",
      "9\n",
      "5.0\n",
      "2.581988897471611\n",
      "2.7386127875258306\n"
     ]
    }
   ],
   "source": [
    "array = np.array([1, 2, 3, 4, 5, 6, 7, 8, 9])\n",
    "\n",
    "print(np.sum(array))           # soma\n",
    "print(np.min(array))           # mínimo\n",
    "print(np.max(array))           # máximo\n",
    "print(np.mean(array))          # média\n",
    "print(np.std(array, ddof=0))   # desvio padrão (zero grau de liberdade)\n",
    "print(np.std(array, ddof=1))   # desvio padrão (um grau de liberdade)"
   ]
  },
  {
   "cell_type": "code",
   "execution_count": 11,
   "metadata": {},
   "outputs": [
    {
     "name": "stdout",
     "output_type": "stream",
     "text": [
      "45\n",
      "1\n",
      "9\n",
      "5.0\n",
      "2.581988897471611\n",
      "2.7386127875258306\n"
     ]
    }
   ],
   "source": [
    "array = np.array(\n",
    "    [\n",
    "        [1, 2, 3],\n",
    "        [4, 5, 6],\n",
    "        [7, 8, 9],\n",
    "    ]\n",
    ")\n",
    "\n",
    "print(np.sum(array))           # soma\n",
    "print(np.min(array))           # mínimo\n",
    "print(np.max(array))           # máximo\n",
    "print(np.mean(array))          # média\n",
    "print(np.std(array, ddof=0))   # desvio padrão (zero grau de liberdade)\n",
    "print(np.std(array, ddof=1))   # desvio padrão (um grau de liberdade)"
   ]
  },
  {
   "cell_type": "markdown",
   "metadata": {},
   "source": [
    "## Funções agregadoras (com direcionalidade)\n",
    "\n"
   ]
  },
  {
   "cell_type": "markdown",
   "metadata": {},
   "source": [
    "Quando queremos realizar uma operação agregadora em uma certa direção do nosso array, nós precisamos usar o argumento `axis`.\n",
    "\n",
    "Se quisermos realizar uma operação &ldquo;ao longo das linhas&rdquo; usamos `axis=0`. Lembre-se que uma matriz $n \\times m$ é definida como uma matriz de $n$ linhas e $m$ colunas. O número de linhas é declarado primeiro, por isso usamos o valor zero no argumento `axis` (pois linhas são a primeira dimensão e o Python começa a contar pelo zero).\n",
    "\n"
   ]
  },
  {
   "cell_type": "code",
   "execution_count": 12,
   "metadata": {},
   "outputs": [
    {
     "name": "stdout",
     "output_type": "stream",
     "text": [
      "[12 15 18]\n",
      "[1 2 3]\n",
      "[7 8 9]\n",
      "[4. 5. 6.]\n",
      "[2.44948974 2.44948974 2.44948974]\n",
      "[3. 3. 3.]\n"
     ]
    }
   ],
   "source": [
    "array = np.array(\n",
    "    [\n",
    "        [1, 2, 3],\n",
    "        [4, 5, 6],\n",
    "        [7, 8, 9],\n",
    "    ]\n",
    ")\n",
    "\n",
    "print(np.sum(array, axis=0))           # soma\n",
    "print(np.min(array, axis=0))           # mínimo\n",
    "print(np.max(array, axis=0))           # máximo\n",
    "print(np.mean(array, axis=0))          # média\n",
    "print(np.std(array, axis=0, ddof=0))   # desvio padrão (zero grau de liberdade)\n",
    "print(np.std(array, axis=0, ddof=1))   # desvio padrão (um grau de liberdade)"
   ]
  },
  {
   "cell_type": "markdown",
   "metadata": {},
   "source": [
    "Se quisermos realizar uma operação &ldquo;ao longo das colunas&rdquo; usamos `axis=1`.\n",
    "\n"
   ]
  },
  {
   "cell_type": "code",
   "execution_count": 13,
   "metadata": {},
   "outputs": [
    {
     "name": "stdout",
     "output_type": "stream",
     "text": [
      "[ 6 15 24]\n",
      "[1 4 7]\n",
      "[3 6 9]\n",
      "[2. 5. 8.]\n",
      "[0.81649658 0.81649658 0.81649658]\n",
      "[1. 1. 1.]\n"
     ]
    }
   ],
   "source": [
    "array = np.array(\n",
    "    [\n",
    "        [1, 2, 3],\n",
    "        [4, 5, 6],\n",
    "        [7, 8, 9],\n",
    "    ]\n",
    ")\n",
    "\n",
    "print(np.sum(array, axis=1))           # soma\n",
    "print(np.min(array, axis=1))           # mínimo\n",
    "print(np.max(array, axis=1))           # máximo\n",
    "print(np.mean(array, axis=1))          # média\n",
    "print(np.std(array, axis=1, ddof=0))   # desvio padrão (zero grau de liberdade)\n",
    "print(np.std(array, axis=1, ddof=1))   # desvio padrão (um grau de liberdade)"
   ]
  },
  {
   "cell_type": "markdown",
   "metadata": {},
   "source": [
    "## Indexando arrays\n",
    "\n"
   ]
  },
  {
   "cell_type": "markdown",
   "metadata": {},
   "source": [
    "Sintaxe similar a de listas:\n",
    "\n"
   ]
  },
  {
   "cell_type": "code",
   "execution_count": 14,
   "metadata": {},
   "outputs": [
    {
     "name": "stdout",
     "output_type": "stream",
     "text": [
      "[1 2 3]\n",
      "[4 5 6]\n",
      "[7 8 9]\n",
      "\n",
      "[[1 2 3]\n",
      " [4 5 6]]\n",
      "[[4 5 6]\n",
      " [7 8 9]]\n",
      "\n",
      "1\n",
      "6\n"
     ]
    }
   ],
   "source": [
    "array = np.array(\n",
    "    [\n",
    "        [1, 2, 3],\n",
    "        [4, 5, 6],\n",
    "        [7, 8, 9],\n",
    "    ]\n",
    ")\n",
    "\n",
    "linha_0 = array[0]\n",
    "linha_1 = array[1]\n",
    "linha_2 = array[2]\n",
    "\n",
    "linhas_0_e_1 = array[:2]\n",
    "linhas_1_e_2 = array[1:]\n",
    "\n",
    "linha_0_coluna_0 = array[0][0]\n",
    "linha_1_coluna_2 = array[1][2]\n",
    "\n",
    "print(linha_0)\n",
    "print(linha_1)\n",
    "print(linha_2)\n",
    "print()\n",
    "print(linhas_0_e_1)\n",
    "print(linhas_1_e_2)\n",
    "print()\n",
    "print(linha_0_coluna_0)\n",
    "print(linha_1_coluna_2)"
   ]
  },
  {
   "cell_type": "markdown",
   "metadata": {},
   "source": [
    "Sintaxe própria do `numpy` (que não funciona para listas!):\n",
    "\n"
   ]
  },
  {
   "cell_type": "code",
   "execution_count": 15,
   "metadata": {},
   "outputs": [
    {
     "name": "stdout",
     "output_type": "stream",
     "text": [
      "1\n",
      "6\n",
      "\n",
      "[1 4 7]\n",
      "[2 5 8]\n",
      "[3 6 9]\n"
     ]
    }
   ],
   "source": [
    "array = np.array(\n",
    "    [\n",
    "        [1, 2, 3],\n",
    "        [4, 5, 6],\n",
    "        [7, 8, 9],\n",
    "    ]\n",
    ")\n",
    "\n",
    "linha_0_coluna_0 = array[0, 0]\n",
    "linha_1_coluna_2 = array[1, 2]\n",
    "\n",
    "# O `:` indica `todos os elementos desta posição`\n",
    "coluna_0 = array[:, 0]\n",
    "coluna_1 = array[:, 1]\n",
    "coluna_2 = array[:, 2]\n",
    "\n",
    "print(linha_0_coluna_0)\n",
    "print(linha_1_coluna_2)\n",
    "print()\n",
    "print(coluna_0)\n",
    "print(coluna_1)\n",
    "print(coluna_2)"
   ]
  },
  {
   "cell_type": "markdown",
   "metadata": {},
   "source": [
    "## Atributos e peculiaridades de arrays\n",
    "\n"
   ]
  },
  {
   "cell_type": "markdown",
   "metadata": {},
   "source": [
    "Atributos para extrairmos informações dos arrays:\n",
    "\n"
   ]
  },
  {
   "cell_type": "code",
   "execution_count": 16,
   "metadata": {},
   "outputs": [
    {
     "name": "stdout",
     "output_type": "stream",
     "text": [
      "(3, 3)\n",
      "2\n",
      "9\n",
      "int64\n"
     ]
    }
   ],
   "source": [
    "array = np.array(\n",
    "    [\n",
    "        [1, 2, 3],\n",
    "        [4, 5, 6],\n",
    "        [7, 8, 9],\n",
    "    ]\n",
    ")\n",
    "\n",
    "print(array.shape)  # formato do array\n",
    "print(array.ndim)   # número de dimensões\n",
    "print(array.size)   # quantidade de valores que tem no array\n",
    "print(array.dtype)  # tipo dos dados armazenados no array"
   ]
  },
  {
   "cell_type": "markdown",
   "metadata": {},
   "source": [
    "Diferentemente de listas, arrays não têm os métodos `append`, `remove`, `pop` e `extend`. Uma vez que o array foi criado, seu tamanho não pode ser alterado. Mas podemos alterar seu formato! Para isso usamos o método `reshape`.\n",
    "\n"
   ]
  },
  {
   "cell_type": "code",
   "execution_count": 17,
   "metadata": {},
   "outputs": [
    {
     "name": "stdout",
     "output_type": "stream",
     "text": [
      "[[1 2 3]\n",
      " [4 5 6]\n",
      " [7 8 9]]\n",
      "[[1 2 3 4 5 6 7 8 9]]\n",
      "[[1]\n",
      " [2]\n",
      " [3]\n",
      " [4]\n",
      " [5]\n",
      " [6]\n",
      " [7]\n",
      " [8]\n",
      " [9]]\n"
     ]
    }
   ],
   "source": [
    "array = np.array(\n",
    "    [\n",
    "        [1, 2, 3],\n",
    "        [4, 5, 6],\n",
    "        [7, 8, 9],\n",
    "    ]\n",
    ")\n",
    "\n",
    "array_2 = array.reshape((1, 9))  # 1 linha e 9 colunas\n",
    "array_3 = array.reshape((9, 1))  # 9 linhas e 1 coluna\n",
    "\n",
    "print(array)\n",
    "print(array_2)\n",
    "print(array_3)"
   ]
  },
  {
   "cell_type": "markdown",
   "metadata": {},
   "source": [
    "Veja que as operações do `numpy` nunca geram uma *cópia* do seu array, apenas uma *visão* dele. Sabemos que visões de objetos podem nos levar a erros quando alteramos os valores do objeto! Vamos ver um exemplo:\n",
    "\n"
   ]
  },
  {
   "cell_type": "code",
   "execution_count": 18,
   "metadata": {},
   "outputs": [
    {
     "name": "stdout",
     "output_type": "stream",
     "text": [
      "[[10  2  3]\n",
      " [ 4  5  6]\n",
      " [ 7  8  9]]\n",
      "[[10  2  3  4  5  6  7  8  9]]\n",
      "[[10]\n",
      " [ 2]\n",
      " [ 3]\n",
      " [ 4]\n",
      " [ 5]\n",
      " [ 6]\n",
      " [ 7]\n",
      " [ 8]\n",
      " [ 9]]\n"
     ]
    }
   ],
   "source": [
    "array = np.array(\n",
    "    [\n",
    "        [1, 2, 3],\n",
    "        [4, 5, 6],\n",
    "        [7, 8, 9],\n",
    "    ]\n",
    ")\n",
    "\n",
    "array_2 = array.reshape((1, 9))  # 1 linha e 9 colunas\n",
    "array_3 = array.reshape((9, 1))  # 9 linhas e 1 coluna\n",
    "\n",
    "array_2[0, 0] = 10  # alteramos o valor da linha 0 e da coluna 0 apenas do array_2\n",
    "\n",
    "# veja que todos os arrays foram alterados!!!\n",
    "print(array)\n",
    "print(array_2)\n",
    "print(array_3)"
   ]
  },
  {
   "cell_type": "markdown",
   "metadata": {},
   "source": [
    "Então sempre que precisar, crie uma cópia do seu array com o método `copy`.\n",
    "\n"
   ]
  },
  {
   "cell_type": "code",
   "execution_count": 19,
   "metadata": {},
   "outputs": [
    {
     "name": "stdout",
     "output_type": "stream",
     "text": [
      "[[1 2 3]\n",
      " [4 5 6]\n",
      " [7 8 9]]\n",
      "[[10  2  3  4  5  6  7  8  9]]\n",
      "[[1]\n",
      " [2]\n",
      " [3]\n",
      " [4]\n",
      " [5]\n",
      " [6]\n",
      " [7]\n",
      " [8]\n",
      " [9]]\n"
     ]
    }
   ],
   "source": [
    "array = np.array(\n",
    "    [\n",
    "        [1, 2, 3],\n",
    "        [4, 5, 6],\n",
    "        [7, 8, 9],\n",
    "    ]\n",
    ")\n",
    "\n",
    "array_2 = array.reshape((1, 9)).copy()  # cópia!!\n",
    "array_3 = array.reshape((9, 1))\n",
    "\n",
    "array_2[0, 0] = 10  # alteramos o valor da linha 0 e da coluna 0 apenas do array_2\n",
    "\n",
    "print(array)\n",
    "print(array_2) # apenas esse foi modificado pois ele é uma cópia!\n",
    "print(array_3)"
   ]
  },
  {
   "cell_type": "markdown",
   "metadata": {},
   "source": [
    "## Algumas operações de álgebra linear\n",
    "\n"
   ]
  },
  {
   "cell_type": "markdown",
   "metadata": {},
   "source": [
    "Multiplicação matricial entre dois arrays pode ser feita com o operador `@` (também conhecido com operador de multiplicação matricial).\n",
    "\n"
   ]
  },
  {
   "cell_type": "code",
   "execution_count": 20,
   "metadata": {},
   "outputs": [
    {
     "name": "stdout",
     "output_type": "stream",
     "text": [
      "[[ 30  36  42]\n",
      " [ 66  81  96]\n",
      " [102 126 150]]\n"
     ]
    }
   ],
   "source": [
    "array = np.array(\n",
    "    [\n",
    "        [1, 2, 3],\n",
    "        [4, 5, 6],\n",
    "        [7, 8, 9],\n",
    "    ]\n",
    ")\n",
    "\n",
    "multiplicacao = array @ array\n",
    "\n",
    "print(multiplicacao)"
   ]
  },
  {
   "cell_type": "markdown",
   "metadata": {},
   "source": [
    "A matriz transposta de um array pode ser obtida com o atributo `T`.\n",
    "\n"
   ]
  },
  {
   "cell_type": "code",
   "execution_count": 21,
   "metadata": {},
   "outputs": [
    {
     "name": "stdout",
     "output_type": "stream",
     "text": [
      "[[1 2 3]\n",
      " [4 5 6]\n",
      " [7 8 9]]\n",
      "\n",
      "[[1 4 7]\n",
      " [2 5 8]\n",
      " [3 6 9]]\n"
     ]
    }
   ],
   "source": [
    "array = np.array(\n",
    "    [\n",
    "        [1, 2, 3],\n",
    "        [4, 5, 6],\n",
    "        [7, 8, 9],\n",
    "    ]\n",
    ")\n",
    "\n",
    "transposta = array.T\n",
    "\n",
    "print(array)\n",
    "print()\n",
    "print(transposta)"
   ]
  },
  {
   "cell_type": "markdown",
   "metadata": {},
   "source": [
    "O determinante de uma matriz pode ser calculado com a função `linalg.det` e a inversa de uma matriz pode ser calculada com a função `linalg.inv`.\n",
    "\n"
   ]
  },
  {
   "cell_type": "code",
   "execution_count": 22,
   "metadata": {},
   "outputs": [
    {
     "name": "stdout",
     "output_type": "stream",
     "text": [
      "-79.99999999999997\n",
      "\n",
      "[[ 0.2875 -0.175   0.0375]\n",
      " [-0.275  -0.05    0.225 ]\n",
      " [ 0.0375  0.325  -0.2125]]\n"
     ]
    }
   ],
   "source": [
    "array = np.array(\n",
    "    [\n",
    "        [5, 2, 3],\n",
    "        [4, 5, 6],\n",
    "        [7, 8, 5],\n",
    "    ]\n",
    ")\n",
    "\n",
    "determinante = np.linalg.det(array)\n",
    "inversa = np.linalg.inv(array)\n",
    "\n",
    "print(determinante)\n",
    "print()\n",
    "print(inversa)"
   ]
  }
 ],
 "metadata": {
  "kernelspec": {
   "display_name": "ilumpy",
   "language": "python",
   "name": "ilumpy"
  },
  "language_info": {
   "codemirror_mode": {
    "name": "ipython",
    "version": 3
   },
   "file_extension": ".py",
   "mimetype": "text/x-python",
   "name": "python",
   "nbconvert_exporter": "python",
   "pygments_lexer": "ipython3",
   "version": "3.10.6"
  },
  "org": null
 },
 "nbformat": 4,
 "nbformat_minor": 4
}
