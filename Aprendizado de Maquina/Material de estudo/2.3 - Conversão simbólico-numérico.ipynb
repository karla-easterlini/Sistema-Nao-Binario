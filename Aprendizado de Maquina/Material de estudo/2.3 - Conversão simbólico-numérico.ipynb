{
 "cells": [
  {
   "cell_type": "markdown",
   "metadata": {},
   "source": [
    "Conversão simbólico-numérico\n",
    "============================\n",
    "\n"
   ]
  },
  {
   "cell_type": "markdown",
   "metadata": {},
   "source": [
    "## DataFrame\n",
    "\n"
   ]
  },
  {
   "cell_type": "markdown",
   "metadata": {},
   "source": [
    "Vamos iniciar criando um `DataFrame`. Observe que neste conjunto de dados temos 3\n",
    "\n"
   ]
  },
  {
   "cell_type": "code",
   "execution_count": 1,
   "metadata": {},
   "outputs": [
    {
     "name": "stdout",
     "output_type": "stream",
     "text": [
      "        Nome Cor favorita Gosta de dorama?\n",
      "0     Platão        preto            muito\n",
      "1   Sócrates         azul            pouco\n",
      "2  Descartes     vermelho            pouco\n",
      "3  Nietzsche     vermelho    mais ou menos\n"
     ]
    }
   ],
   "source": [
    "import pandas as pd\n",
    "\n",
    "dicionario_contendo_os_dados = {\n",
    "    \"Nome\": [\"Platão\", \"Sócrates\", \"Descartes\", \"Nietzsche\"],\n",
    "    \"Cor favorita\": [\"preto\", \"azul\", \"vermelho\", \"vermelho\"],\n",
    "    \"Gosta de dorama?\": [\"muito\", \"pouco\", \"pouco\", \"mais ou menos\"],\n",
    "}\n",
    "\n",
    "df = pd.DataFrame.from_dict(dicionario_contendo_os_dados)\n",
    "\n",
    "print(df)"
   ]
  },
  {
   "cell_type": "markdown",
   "metadata": {},
   "source": [
    "## One-hot encoder\n",
    "\n"
   ]
  },
  {
   "cell_type": "markdown",
   "metadata": {},
   "source": [
    "O codificador one-hot (também conhecido como *codificação 1-de-c*) converte dados categóricos em numéricos criando uma coluna para cada categoria obserdava. Estas colunas armazenam apenas 0 ou 1 (dados binários) sendo que o valor 1 indica qual era o rótulo original antes de se aplicar esta operação.\n",
    "\n"
   ]
  },
  {
   "cell_type": "code",
   "execution_count": 2,
   "metadata": {},
   "outputs": [
    {
     "name": "stdout",
     "output_type": "stream",
     "text": [
      "Dados originais\n",
      "[['preto']\n",
      " ['azul']\n",
      " ['vermelho']\n",
      " ['vermelho']]\n",
      "\n",
      "Dados convertidos:\n",
      "[array(['azul', 'preto', 'vermelho'], dtype=object)]\n",
      "[[0. 1. 0.]\n",
      " [1. 0. 0.]\n",
      " [0. 0. 1.]\n",
      " [0. 0. 1.]]\n",
      "\n",
      "Dados desconvertidos:\n",
      "[['preto']\n",
      " ['azul']\n",
      " ['vermelho']\n",
      " ['vermelho']]\n"
     ]
    }
   ],
   "source": [
    "from sklearn.preprocessing import OneHotEncoder\n",
    "\n",
    "# Passo 1: só é necessário se os dados tem apenas uma dimensão\n",
    "# Se seus dados já tem duas dimensões, não precisa fazer isso!\n",
    "x = df[\"Cor favorita\"].values.reshape(-1, 1)\n",
    "\n",
    "# Passo 2: criar uma instância do encoder\n",
    "encoder = OneHotEncoder(sparse_output=False)\n",
    "\n",
    "# Passo 3: ajustar o  aos dados\n",
    "encoder.fit(x)\n",
    "\n",
    "# Passo 3.5: coletar informações úteis do ajuste\n",
    "colunas = encoder.categories_\n",
    "\n",
    "# Passo 4: aplicar o encoder usando o método `transform`\n",
    "dados_convertidos = encoder.transform(x)\n",
    "\n",
    "# Passo 5: se desejamos recuperar os valores iniciais, usamos o `inverse_transform`\n",
    "idade_desnormalizada = encoder.inverse_transform(dados_convertidos)\n",
    "\n",
    "# Ver resultados\n",
    "print(\"Dados originais\")\n",
    "print(x)\n",
    "print()\n",
    "\n",
    "print(\"Dados convertidos:\")\n",
    "print(colunas)\n",
    "print(dados_convertidos)\n",
    "print()\n",
    "\n",
    "print(\"Dados desconvertidos:\")\n",
    "print(idade_desnormalizada)"
   ]
  },
  {
   "cell_type": "markdown",
   "metadata": {},
   "source": [
    "## Ordinal encoder\n",
    "\n"
   ]
  },
  {
   "cell_type": "markdown",
   "metadata": {},
   "source": [
    "O codificador ordinal converte dados categóricos em numéricos ordenando eles de zero até $n-1$ (onde $n$ é o número de rótulos diferentes).\n",
    "\n"
   ]
  },
  {
   "cell_type": "code",
   "execution_count": 3,
   "metadata": {},
   "outputs": [
    {
     "name": "stdout",
     "output_type": "stream",
     "text": [
      "Dados originais\n",
      "[['muito']\n",
      " ['pouco']\n",
      " ['pouco']\n",
      " ['mais ou menos']]\n",
      "\n",
      "Dados convertidos:\n",
      "[[2.]\n",
      " [0.]\n",
      " [0.]\n",
      " [1.]]\n",
      "\n",
      "Dados desconvertidos:\n",
      "[['muito']\n",
      " ['pouco']\n",
      " ['pouco']\n",
      " ['mais ou menos']]\n"
     ]
    }
   ],
   "source": [
    "from sklearn.preprocessing import OrdinalEncoder\n",
    "\n",
    "# Passo 1: só é necessário se os dados tem apenas uma dimensão\n",
    "# Se seus dados já tem duas dimensões, não precisa fazer isso!\n",
    "x = df[\"Gosta de dorama?\"].values.reshape(-1, 1)\n",
    "\n",
    "# Passo 2: criar uma instância do encoder\n",
    "ordem = [[\"pouco\", \"mais ou menos\", \"muito\"]] # uma lista para cada coluna\n",
    "encoder = OrdinalEncoder(categories=ordem)\n",
    "\n",
    "# Passo 3: ajustar o  aos dados\n",
    "encoder.fit(x)\n",
    "\n",
    "# Passo 4: aplicar o encoder usando o método `transform`\n",
    "dados_convertidos = encoder.transform(x)\n",
    "\n",
    "# Passo 5: se desejamos recuperar os valores iniciais, usamos o `inverse_transform`\n",
    "idade_desnormalizada = encoder.inverse_transform(dados_convertidos)\n",
    "\n",
    "# Ver resultados\n",
    "print(\"Dados originais\")\n",
    "print(x)\n",
    "print()\n",
    "\n",
    "print(\"Dados convertidos:\")\n",
    "print(dados_convertidos)\n",
    "print()\n",
    "\n",
    "print(\"Dados desconvertidos:\")\n",
    "print(idade_desnormalizada)"
   ]
  }
 ],
 "metadata": {
  "kernelspec": {
   "display_name": "ilumpy",
   "language": "python",
   "name": "ilumpy"
  },
  "language_info": {
   "codemirror_mode": {
    "name": "ipython",
    "version": 3
   },
   "file_extension": ".py",
   "mimetype": "text/x-python",
   "name": "python",
   "nbconvert_exporter": "python",
   "pygments_lexer": "ipython3",
   "version": "3.10.12"
  },
  "org": null
 },
 "nbformat": 4,
 "nbformat_minor": 4
}
