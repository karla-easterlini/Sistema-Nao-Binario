{
 "cells": [
  {
   "cell_type": "markdown",
   "metadata": {},
   "source": [
    "Como usar o módulo random\n",
    "=========================\n",
    "\n"
   ]
  },
  {
   "cell_type": "markdown",
   "metadata": {},
   "source": [
    "O módulo `random` é um módulo embutido de python utilizado para operações de sorteios (pseudo)aleatórios.\n",
    "\n"
   ]
  },
  {
   "cell_type": "code",
   "execution_count": 1,
   "metadata": {},
   "outputs": [],
   "source": [
    "import random"
   ]
  },
  {
   "cell_type": "markdown",
   "metadata": {},
   "source": [
    "## Quero sortear um número real dentro do intervalo $[0,1[$\n",
    "\n"
   ]
  },
  {
   "cell_type": "markdown",
   "metadata": {},
   "source": [
    "Use o `random.random` sem passar nenhum argumento.\n",
    "\n"
   ]
  },
  {
   "cell_type": "code",
   "execution_count": 2,
   "metadata": {},
   "outputs": [
    {
     "name": "stdout",
     "output_type": "stream",
     "text": [
      "0.26533817068773125\n"
     ]
    }
   ],
   "source": [
    "real_aleatorio_entre_0_e_1 = random.random()\n",
    "\n",
    "print(real_aleatorio_entre_0_e_1)"
   ]
  },
  {
   "cell_type": "markdown",
   "metadata": {},
   "source": [
    "## Quero sortear um número inteiro dentro do intervalo $[a,b]$\n",
    "\n"
   ]
  },
  {
   "cell_type": "markdown",
   "metadata": {},
   "source": [
    "Use o `random.randint` e passe como argumento os valores $a$ e $b$.\n",
    "\n"
   ]
  },
  {
   "cell_type": "code",
   "execution_count": 3,
   "metadata": {},
   "outputs": [
    {
     "name": "stdout",
     "output_type": "stream",
     "text": [
      "8\n"
     ]
    }
   ],
   "source": [
    "a = 3\n",
    "b = 10\n",
    "\n",
    "inteiro_aleatorio_entre_a_e_b = random.randint(a,b)\n",
    "\n",
    "print(inteiro_aleatorio_entre_a_e_b)"
   ]
  },
  {
   "cell_type": "markdown",
   "metadata": {},
   "source": [
    "## Quero sortear um número real dentro do intervalo $[a,b]$\n",
    "\n"
   ]
  },
  {
   "cell_type": "markdown",
   "metadata": {},
   "source": [
    "Use o `random.uniform` e passe como argumento os valores $a$ e $b$.\n",
    "\n"
   ]
  },
  {
   "cell_type": "code",
   "execution_count": 4,
   "metadata": {},
   "outputs": [
    {
     "name": "stdout",
     "output_type": "stream",
     "text": [
      "2.764579092185266\n"
     ]
    }
   ],
   "source": [
    "a = 1.25\n",
    "b = 4.73\n",
    "\n",
    "real_aleatorio_entre_a_e_b = random.uniform(a, b)\n",
    "\n",
    "print(real_aleatorio_entre_a_e_b)"
   ]
  },
  {
   "cell_type": "markdown",
   "metadata": {},
   "source": [
    "## Tenho uma lista e quero sortear um item\n",
    "\n"
   ]
  },
  {
   "cell_type": "markdown",
   "metadata": {},
   "source": [
    "Para isso use o `random.choice`.\n",
    "\n"
   ]
  },
  {
   "cell_type": "code",
   "execution_count": 5,
   "metadata": {},
   "outputs": [
    {
     "name": "stdout",
     "output_type": "stream",
     "text": [
      "azul\n"
     ]
    }
   ],
   "source": [
    "lista = [\n",
    "    \"azul\",\n",
    "    \"vermelho\",\n",
    "    \"roxo\",\n",
    "    \"amarelo\",\n",
    "    \"marrom\",\n",
    "    \"preto\",\n",
    "    \"branco\",\n",
    "    \"verde\",\n",
    "]\n",
    "\n",
    "escolha_aleatoria = random.choice(lista)\n",
    "\n",
    "print(escolha_aleatoria)"
   ]
  },
  {
   "cell_type": "markdown",
   "metadata": {},
   "source": [
    "Observe que sortear um item de uma lista não altera a lista original!! Isso é verdade para todas as funções que veremos aqui no módulo `random`.\n",
    "\n"
   ]
  },
  {
   "cell_type": "code",
   "execution_count": 6,
   "metadata": {},
   "outputs": [
    {
     "name": "stdout",
     "output_type": "stream",
     "text": [
      "['azul', 'vermelho', 'roxo', 'amarelo', 'marrom', 'preto', 'branco', 'verde']\n"
     ]
    }
   ],
   "source": [
    "print(lista)"
   ]
  },
  {
   "cell_type": "markdown",
   "metadata": {},
   "source": [
    "## Tenho uma lista e quero sortear $n$ itens com reposição\n",
    "\n"
   ]
  },
  {
   "cell_type": "markdown",
   "metadata": {},
   "source": [
    "Para isso use o `random.choices` e passe o valor de $n$ para o argumento `k`. Note que é &ldquo;choices&rdquo; no plural, no anterior era &ldquo;choice&rdquo; no singular. Note também que este é um sorteio *com reposição*, isto é: um valor sorteado pode ser sorteado novamente.\n",
    "\n"
   ]
  },
  {
   "cell_type": "code",
   "execution_count": 7,
   "metadata": {},
   "outputs": [
    {
     "name": "stdout",
     "output_type": "stream",
     "text": [
      "['roxo', 'vermelho', 'roxo']\n"
     ]
    }
   ],
   "source": [
    "n = 3\n",
    "\n",
    "lista = [\n",
    "    \"azul\",\n",
    "    \"vermelho\",\n",
    "    \"roxo\",\n",
    "    \"amarelo\",\n",
    "    \"marrom\",\n",
    "    \"preto\",\n",
    "    \"branco\",\n",
    "    \"verde\",\n",
    "]\n",
    "\n",
    "escolhas_aleatorias = random.choices(lista, k=n)\n",
    "\n",
    "print(escolhas_aleatorias)"
   ]
  },
  {
   "cell_type": "markdown",
   "metadata": {},
   "source": [
    "## Tenho uma lista e quero sortear um item, mas a chance de sortear cada item não é igual\n",
    "\n"
   ]
  },
  {
   "cell_type": "markdown",
   "metadata": {},
   "source": [
    "Novamente usaremos o `random.choices` aqui. Precisaremos passar a chance de sortear cada item no argumento `weights` (que significa &ldquo;pesos&rdquo; em inglês). Veja que o argumento `weights` deve receber uma lista de mesmo tamanho da lista do sorteio contendo a chance de cada item da lista ser sorteado. As chances não precisam somar 100%, o Python fará essa conta pra você. Quanto maior o peso, maior a chance do respectivo item ser sorteado. No exemplo abaixo, as cores &ldquo;roxo&rdquo; e &ldquo;verde&rdquo; são as mais prováveis de serem sorteadas (peso 5), já a cor amarelo é a que tem a menor chance de ser sorteada (peso 0.2).\n",
    "\n"
   ]
  },
  {
   "cell_type": "code",
   "execution_count": 8,
   "metadata": {},
   "outputs": [
    {
     "name": "stdout",
     "output_type": "stream",
     "text": [
      "['preto']\n"
     ]
    }
   ],
   "source": [
    "lista = [\n",
    "    \"azul\",\n",
    "    \"vermelho\",\n",
    "    \"roxo\",\n",
    "    \"amarelo\",\n",
    "    \"marrom\",\n",
    "    \"preto\",\n",
    "    \"branco\",\n",
    "    \"verde\",\n",
    "]\n",
    "\n",
    "chance = [\n",
    "    1,\n",
    "    3,\n",
    "    5,\n",
    "    0.2,\n",
    "    1,\n",
    "    3,\n",
    "    3,\n",
    "    5,\n",
    "]\n",
    "\n",
    "escolha_aleatoria_ponderada = random.choices(lista, weights=chance)\n",
    "\n",
    "print(escolha_aleatoria_ponderada)"
   ]
  },
  {
   "cell_type": "markdown",
   "metadata": {},
   "source": [
    "## Tenho uma lista e quero sortear $n$ itens com reposição, mas a chance de sortear cada item não é igual\n",
    "\n"
   ]
  },
  {
   "cell_type": "markdown",
   "metadata": {},
   "source": [
    "Basicamente a mesma coisa que fizemos acima. Veja o código abaixo e verá que não tem nada de novo aqui.\n",
    "\n"
   ]
  },
  {
   "cell_type": "code",
   "execution_count": 9,
   "metadata": {},
   "outputs": [
    {
     "name": "stdout",
     "output_type": "stream",
     "text": [
      "['vermelho', 'roxo', 'vermelho']\n"
     ]
    }
   ],
   "source": [
    "n = 3\n",
    "\n",
    "lista = [\n",
    "    \"azul\",\n",
    "    \"vermelho\",\n",
    "    \"roxo\",\n",
    "    \"amarelo\",\n",
    "    \"marrom\",\n",
    "    \"preto\",\n",
    "    \"branco\",\n",
    "    \"verde\",\n",
    "]\n",
    "\n",
    "chance = [\n",
    "    1,\n",
    "    3,\n",
    "    5,\n",
    "    0.2,\n",
    "    1,\n",
    "    3,\n",
    "    3,\n",
    "    5,\n",
    "]\n",
    "\n",
    "escolhas_aleatorias_ponderadas = random.choices(lista, weights=chance, k=3)\n",
    "\n",
    "print(escolhas_aleatorias_ponderadas)"
   ]
  },
  {
   "cell_type": "markdown",
   "metadata": {},
   "source": [
    "## Tenho uma lista e quero sortear $n$ itens sem reposição\n",
    "\n"
   ]
  },
  {
   "cell_type": "markdown",
   "metadata": {},
   "source": [
    "Use o `random.sample` para realizar sorteios sem reposição (isto é, um item sorteado não pode ser sorteado novamente). O argumento `k` controla quantos itens serão sorteados.\n",
    "\n"
   ]
  },
  {
   "cell_type": "code",
   "execution_count": 10,
   "metadata": {},
   "outputs": [
    {
     "name": "stdout",
     "output_type": "stream",
     "text": [
      "['amarelo', 'verde', 'roxo']\n"
     ]
    }
   ],
   "source": [
    "n = 3\n",
    "\n",
    "lista = [\n",
    "    \"azul\",\n",
    "    \"vermelho\",\n",
    "    \"roxo\",\n",
    "    \"amarelo\",\n",
    "    \"marrom\",\n",
    "    \"preto\",\n",
    "    \"branco\",\n",
    "    \"verde\",\n",
    "]\n",
    "\n",
    "sorteio_aleatorio_sem_reposicao = random.sample(lista, k=n)\n",
    "\n",
    "print(sorteio_aleatorio_sem_reposicao)"
   ]
  },
  {
   "cell_type": "markdown",
   "metadata": {},
   "source": [
    "## Quero sortear um número real a partir de uma distribuição normal (Gaussiana)\n",
    "\n"
   ]
  },
  {
   "cell_type": "markdown",
   "metadata": {},
   "source": [
    "Use o `random.gauss` e passe a média e o desvio padrão da sua distribuição normal como argumentos\n",
    "\n"
   ]
  },
  {
   "cell_type": "code",
   "execution_count": 11,
   "metadata": {},
   "outputs": [
    {
     "name": "stdout",
     "output_type": "stream",
     "text": [
      "-2.8525007083054734\n"
     ]
    }
   ],
   "source": [
    "media = 0\n",
    "desvio_padrao = 1\n",
    "\n",
    "real_sorteado_de_uma_distribuicao_normal = random.gauss(media, desvio_padrao)\n",
    "\n",
    "print(real_sorteado_de_uma_distribuicao_normal)"
   ]
  },
  {
   "cell_type": "markdown",
   "metadata": {},
   "source": [
    "## Quero embaralhar uma lista de objetos\n",
    "\n"
   ]
  },
  {
   "cell_type": "markdown",
   "metadata": {},
   "source": [
    "Você pode fazer isso de duas maneiras diferentes. Se quiser embaralhar a própria lista, efetivamente alterando o objeto em si use o `random.shuffle`.\n",
    "\n"
   ]
  },
  {
   "cell_type": "code",
   "execution_count": 12,
   "metadata": {},
   "outputs": [
    {
     "name": "stdout",
     "output_type": "stream",
     "text": [
      "['verde', 'preto', 'branco', 'amarelo', 'roxo', 'vermelho', 'azul', 'marrom']\n"
     ]
    }
   ],
   "source": [
    "lista = [\n",
    "    \"azul\",\n",
    "    \"vermelho\",\n",
    "    \"roxo\",\n",
    "    \"amarelo\",\n",
    "    \"marrom\",\n",
    "    \"preto\",\n",
    "    \"branco\",\n",
    "    \"verde\",\n",
    "]\n",
    "\n",
    "random.shuffle(lista)\n",
    "\n",
    "print(lista)"
   ]
  },
  {
   "cell_type": "markdown",
   "metadata": {},
   "source": [
    "Se você não quiser alterar a lista original, mas sim quer gerar um objeto novo com os elementos da lista original embaralhados, então use o `random.sample` com um valor de `k=len(objeto)`.\n",
    "\n"
   ]
  },
  {
   "cell_type": "code",
   "execution_count": 13,
   "metadata": {},
   "outputs": [
    {
     "name": "stdout",
     "output_type": "stream",
     "text": [
      "['amarelo', 'branco', 'preto', 'roxo', 'azul', 'verde', 'marrom', 'vermelho']\n"
     ]
    }
   ],
   "source": [
    "lista = [\n",
    "    \"azul\",\n",
    "    \"vermelho\",\n",
    "    \"roxo\",\n",
    "    \"amarelo\",\n",
    "    \"marrom\",\n",
    "    \"preto\",\n",
    "    \"branco\",\n",
    "    \"verde\",\n",
    "]\n",
    "\n",
    "lista_embaralhada = random.sample(lista, k=len(lista))\n",
    "\n",
    "print(lista_embaralhada)"
   ]
  }
 ],
 "metadata": {
  "kernelspec": {
   "display_name": "ilumpy",
   "language": "python",
   "name": "ilumpy"
  },
  "language_info": {
   "codemirror_mode": {
    "name": "ipython",
    "version": 3
   },
   "file_extension": ".py",
   "mimetype": "text/x-python",
   "name": "python",
   "nbconvert_exporter": "python",
   "pygments_lexer": "ipython3",
   "version": "3.10.6"
  },
  "org": null
 },
 "nbformat": 4,
 "nbformat_minor": 4
}
