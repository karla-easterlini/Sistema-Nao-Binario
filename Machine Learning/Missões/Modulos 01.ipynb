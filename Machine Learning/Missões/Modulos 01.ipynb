{
 "cells": [
  {
   "cell_type": "markdown",
   "id": "6359273b-9646-4c12-90bf-9f94e6599f90",
   "metadata": {},
   "source": [
    "# Módulos 01"
   ]
  },
  {
   "cell_type": "markdown",
   "id": "15e6f466-b177-48a4-afbb-771d1d020d87",
   "metadata": {
    "tags": []
   },
   "source": [
    "### Proponente: \n",
    "Diana Didatolov (diretora da Biblioteca Real)"
   ]
  },
  {
   "cell_type": "markdown",
   "id": "b0140b6c-6efc-4ff8-aa24-6d5a313e6560",
   "metadata": {
    "tags": []
   },
   "source": [
    "## Objetivos\n",
    "Escreva um notebook de Jupyter mostrando como funciona módulo itertools do Python (https://docs.python.org/3/library/itertools.html). Em particular, não se esqueça de mostrar com iteradores de análise combinatória (product, permutations, combinations e combinations_with_replacement)."
   ]
  },
  {
   "cell_type": "markdown",
   "id": "1bb1fe7d-1f17-4b58-9201-03ecad91228d",
   "metadata": {},
   "source": [
    "#### Módulo Itertools"
   ]
  },
  {
   "cell_type": "code",
   "execution_count": null,
   "id": "624db7c7-2d9d-4bf3-a3e6-c48e8a5a2bb2",
   "metadata": {},
   "outputs": [],
   "source": []
  },
  {
   "cell_type": "markdown",
   "id": "8811cdae-2fd9-4c48-8773-817f841330ce",
   "metadata": {},
   "source": [
    "#### Iteradores de análise combinatória"
   ]
  },
  {
   "cell_type": "code",
   "execution_count": null,
   "id": "4fcb5865-2ce9-49dc-ba89-11cec0e16bf7",
   "metadata": {},
   "outputs": [],
   "source": []
  },
  {
   "cell_type": "markdown",
   "id": "bff16884-21a3-4896-86cf-56ece83ecb5a",
   "metadata": {},
   "source": [
    "## Referências\n"
   ]
  },
  {
   "cell_type": "code",
   "execution_count": null,
   "id": "b2a14932-8cb1-444f-a758-3c5065558aae",
   "metadata": {},
   "outputs": [],
   "source": []
  }
 ],
 "metadata": {
  "kernelspec": {
   "display_name": "ilumpy",
   "language": "python",
   "name": "ilumpy"
  },
  "language_info": {
   "codemirror_mode": {
    "name": "ipython",
    "version": 3
   },
   "file_extension": ".py",
   "mimetype": "text/x-python",
   "name": "python",
   "nbconvert_exporter": "python",
   "pygments_lexer": "ipython3",
   "version": "3.9.13"
  }
 },
 "nbformat": 4,
 "nbformat_minor": 5
}
