{
 "cells": [
  {
   "cell_type": "markdown",
   "id": "22132040-b33f-474c-b056-774adc95062d",
   "metadata": {
    "tags": []
   },
   "source": [
    "# Modelos 03\n",
    "### Sistema Não-Binário\n",
    "#### Karla Pascoalini e Cauê Santos"
   ]
  },
  {
   "cell_type": "markdown",
   "id": "9caf53ac-4579-40c5-a677-6283072bbf13",
   "metadata": {},
   "source": [
    "## Proponente: \n",
    "Diana Didatolov (Diana é relativamente nova para a posição de prestígio que ocupa na Biblioteca Real. Isso aconteceu pois ela teve um papel importantíssimo durante a Guerra das Marretas Voadoras, o que resultou na sua promoção dentro da Biblioteca. A diretora anterior, que perdeu seu cargo, é sua arquirrival por conta disso).\n",
    "\n",
    "## Objetivo:\n",
    "Se informe sobre outros modelos lineares que existem. Escolha um desses modelos e faça um notebook didático mostrando como este modelo funciona e como ele se difere do modelo linear estudado em sala de aula. Em um conjunto de dados da sua escolha, treine um modelo linear múltiplo e compare o resultado com o modelo linear que você escolheu. Sua comparação deve levar em conta alguma métrica (como RMSE, por exemplo). Gráficos são muito bem-vindos!\n",
    "\n",
    "### Comentários adicionais: \n",
    "O scikit-learn tem vários modelos lineares prontos, você pode conferir eles em https://scikit-learn.org/stable/modules/linear_model.html. A explicação aprofundada de cada modelo pode ser encontrada em livros e em vídeos."
   ]
  },
  {
   "cell_type": "code",
   "execution_count": 7,
   "id": "2b1a94fc-b981-4d5f-ad7f-86c0d198264a",
   "metadata": {},
   "outputs": [],
   "source": [
    "import seaborn as sns\n",
    "\n",
    "DATASET_NAME = \"penguins\"\n",
    "FEATURES = [\"bill_length_mm\", \"bill_depth_mm\", \"flipper_length_mm\"]\n",
    "TARGET = [\"body_mass_g\"]\n",
    "\n",
    "df = sns.load_dataset(DATASET_NAME)\n",
    "\n",
    "df = df.reindex(FEATURES + TARGET, axis=1)\n",
    "df = df.dropna() \n",
    "\n",
    "X = df.reindex(FEATURES, axis=1)\n",
    "y = df.reindex(TARGET, axis=1)\n",
    "\n",
    "X = X.values\n",
    "y = y.values.ravel()"
   ]
  },
  {
   "cell_type": "code",
   "execution_count": 12,
   "id": "0a85f16a-cd63-47e2-be07-a88c66c0d435",
   "metadata": {},
   "outputs": [
    {
     "name": "stdout",
     "output_type": "stream",
     "text": [
      "[3204.15220769 2696.41646713]\n",
      "O MSE do modelo foi de 152998.96430792563 unidades de y ao quadrado\n",
      "O RMSE do modelo foi de 391.15082041065136 unidades de y\n"
     ]
    }
   ],
   "source": [
    "from sklearn import linear_model\n",
    "from sklearn.metrics import mean_squared_error\n",
    "\n",
    "reg = linear_model.BayesianRidge()\n",
    "reg.fit(X, y)\n",
    "\n",
    "# Realizar uma previsão\n",
    "x = [\n",
    "    [43, 20, 180],\n",
    "    [39, 20.5, 170],\n",
    "]\n",
    "previsao = reg.predict(x)\n",
    "\n",
    "previsao_correta = reg.predict(X)\n",
    "\n",
    "MSE = mean_squared_error(y, previsao_correta)\n",
    "RMSE = mean_squared_error(y, previsao_correta, squared = False)\n",
    "\n",
    "print(previsao)\n",
    "print(f'O MSE do modelo foi de {MSE} unidades de y ao quadrado')\n",
    "print(f'O RMSE do modelo foi de {RMSE} unidades de y')\n"
   ]
  },
  {
   "cell_type": "code",
   "execution_count": null,
   "id": "2117899c-b90b-4950-935a-d506f10379f1",
   "metadata": {},
   "outputs": [],
   "source": []
  }
 ],
 "metadata": {
  "kernelspec": {
   "display_name": "ilumpy",
   "language": "python",
   "name": "ilumpy"
  },
  "language_info": {
   "codemirror_mode": {
    "name": "ipython",
    "version": 3
   },
   "file_extension": ".py",
   "mimetype": "text/x-python",
   "name": "python",
   "nbconvert_exporter": "python",
   "pygments_lexer": "ipython3",
   "version": "3.10.8"
  }
 },
 "nbformat": 4,
 "nbformat_minor": 5
}
