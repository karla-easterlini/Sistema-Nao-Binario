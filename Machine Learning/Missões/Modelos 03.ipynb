{
 "cells": [
  {
   "cell_type": "markdown",
   "id": "22132040-b33f-474c-b056-774adc95062d",
   "metadata": {
    "tags": []
   },
   "source": [
    "# Modelos 03\n",
    "### Sistema Não-Binário\n",
    "#### Karla Pascoalini e Cauê Santos"
   ]
  },
  {
   "cell_type": "markdown",
   "id": "9caf53ac-4579-40c5-a677-6283072bbf13",
   "metadata": {},
   "source": [
    "## Proponente: \n",
    "Diana Didatolov (Diana é relativamente nova para a posição de prestígio que ocupa na Biblioteca Real. Isso aconteceu pois ela teve um papel importantíssimo durante a Guerra das Marretas Voadoras, o que resultou na sua promoção dentro da Biblioteca. A diretora anterior, que perdeu seu cargo, é sua arquirrival por conta disso).\n",
    "\n",
    "## Objetivo:\n",
    "Se informe sobre outros modelos lineares que existem. Escolha um desses modelos e faça um notebook didático mostrando como este modelo funciona e como ele se difere do modelo linear estudado em sala de aula. Em um conjunto de dados da sua escolha, treine um modelo linear múltiplo e compare o resultado com o modelo linear que você escolheu. Sua comparação deve levar em conta alguma métrica (como RMSE, por exemplo). Gráficos são muito bem-vindos!\n",
    "\n",
    "### Comentários adicionais: \n",
    "O scikit-learn tem vários modelos lineares prontos, você pode conferir eles em https://scikit-learn.org/stable/modules/linear_model.html. A explicação aprofundada de cada modelo pode ser encontrada em livros e em vídeos."
   ]
  },
  {
   "cell_type": "markdown",
   "id": "50721986-c28c-4d44-bc95-d38078d225ef",
   "metadata": {},
   "source": [
    "### Modelo de Regressão Bayesiana Ridge"
   ]
  },
  {
   "cell_type": "markdown",
   "id": "b84c9631-ed8d-4185-bad7-96d8ac6c652e",
   "metadata": {},
   "source": [
    "Diferente dos modelos que vimos anteriormente, este modelo não assume apenas um termo para levar em consideração a incerteza oriunda dos dados presentes, na verdade, vai até o final contabilizando que os dados terão valores diferentes. Entretanto, faz uma suposição importante para seu funcionamento: De que os dados seguem uma distribuição normal em sua diferença.\n",
    "\n",
    "A regressão Bayesiana Ridge funciona assim:\n",
    "\n",
    "- Primeiro, o modelo assume que os parâmetros da reta (a inclinação $\\beta_1$ e o ponto de intercecção $\\beta_0$) são distribuídos normalmente, ou seja, seguindo uma distribuição normal.\n",
    "- Em segundo lugar, o modelo usa esses parâmetros para fazer uma previsão baseado no conjunto de dados fornecidos\n",
    "- Em terceiro lugar, o modelo calcula a probabilidade de cada previsão estar correta.\n",
    "- Finalmente, o modelo usa essas probabilidades para calcular a melhor linha possível.\n",
    "\n",
    "Assim como vimos em probabilidade e estatística, o nome Bayesiana não é infundado, isso porque o modelo utiliza parte desse raciocínio para se \"auto-ajustar\" de certa forma. Quando ele calcula a probabilidade de sua previsão estar correta, é como se o modelo estivesse calculando a probabilidade do valor esperado, dado a previsão já feita.\n",
    "\n",
    "O termo \"Ridge\" vem do fato de que o modelo adiciona um termo de penalidade à função de custo. Esse termo de penalidade faz com que os parâmetros do modelo sejam menores. Isso ajuda a reduzir o superajuste, pois faz com que o modelo seja menos sensível a pequenas flutuações nos dados.\n",
    "\n",
    "Para esse modelo de aprendizado de máquina, utiliza-se a probabilidade como uma mira ou uma lente, capaz de focalizar melhor os esforços, afim de resultar em um melhor resultado no final. Também é possível adaptar os parâmetros enquanto estamos na fase de estimar os valores, além de que esse modelo pode ter um pouco mais de \"molejo\" com os dados, dada a sua natureza inerentemente probabilística.\n",
    "\n",
    "A regressão Bayesiana Ridge é um modelo que pode ser usada para reduzir o \"_overfitting_\" em modelos de regressão linear. Ela é frequentemente usada em aplicações onde os dados são ruidosos ou não lineares."
   ]
  },
  {
   "cell_type": "code",
   "execution_count": 7,
   "id": "2b1a94fc-b981-4d5f-ad7f-86c0d198264a",
   "metadata": {},
   "outputs": [],
   "source": [
    "import seaborn as sns\n",
    "\n",
    "DATASET_NAME = \"penguins\"\n",
    "FEATURES = [\"bill_length_mm\", \"bill_depth_mm\", \"flipper_length_mm\"]\n",
    "TARGET = [\"body_mass_g\"]\n",
    "\n",
    "df = sns.load_dataset(DATASET_NAME)\n",
    "\n",
    "df = df.reindex(FEATURES + TARGET, axis=1)\n",
    "df = df.dropna() \n",
    "\n",
    "X = df.reindex(FEATURES, axis=1)\n",
    "y = df.reindex(TARGET, axis=1)\n",
    "\n",
    "X = X.values\n",
    "y = y.values.ravel()"
   ]
  },
  {
   "cell_type": "code",
   "execution_count": 12,
   "id": "0a85f16a-cd63-47e2-be07-a88c66c0d435",
   "metadata": {},
   "outputs": [
    {
     "name": "stdout",
     "output_type": "stream",
     "text": [
      "[3204.15220769 2696.41646713]\n",
      "O MSE do modelo foi de 152998.96430792563 unidades de y ao quadrado\n",
      "O RMSE do modelo foi de 391.15082041065136 unidades de y\n"
     ]
    }
   ],
   "source": [
    "from sklearn import linear_model\n",
    "from sklearn.metrics import mean_squared_error\n",
    "\n",
    "reg = linear_model.BayesianRidge()\n",
    "reg.fit(X, y)\n",
    "\n",
    "# Realizar uma previsão\n",
    "x = [\n",
    "    [43, 20, 180],\n",
    "    [39, 20.5, 170],\n",
    "]\n",
    "previsao = reg.predict(x)\n",
    "\n",
    "previsao_correta = reg.predict(X)\n",
    "\n",
    "MSE = mean_squared_error(y, previsao_correta)\n",
    "RMSE = mean_squared_error(y, previsao_correta, squared = False)\n",
    "\n",
    "print(previsao)\n",
    "print(f'O MSE do modelo foi de {MSE} unidades de y ao quadrado')\n",
    "print(f'O RMSE do modelo foi de {RMSE} unidades de y')\n"
   ]
  },
  {
   "cell_type": "code",
   "execution_count": 18,
   "id": "2117899c-b90b-4950-935a-d506f10379f1",
   "metadata": {},
   "outputs": [
    {
     "name": "stdout",
     "output_type": "stream",
     "text": [
      "O R² desse modelo é de 0.7614053386124096\n"
     ]
    }
   ],
   "source": [
    "print(f'O R² desse modelo é de {reg.score(X,y)}')"
   ]
  },
  {
   "cell_type": "code",
   "execution_count": null,
   "id": "72c11c2d-d4be-4167-b02c-14b316b4d82c",
   "metadata": {},
   "outputs": [],
   "source": []
  }
 ],
 "metadata": {
  "kernelspec": {
   "display_name": "ilumpy",
   "language": "python",
   "name": "ilumpy"
  },
  "language_info": {
   "codemirror_mode": {
    "name": "ipython",
    "version": 3
   },
   "file_extension": ".py",
   "mimetype": "text/x-python",
   "name": "python",
   "nbconvert_exporter": "python",
   "pygments_lexer": "ipython3",
   "version": "3.10.8"
  }
 },
 "nbformat": 4,
 "nbformat_minor": 5
}
