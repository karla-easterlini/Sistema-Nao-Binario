{
 "cells": [
  {
   "cell_type": "markdown",
   "id": "22132040-b33f-474c-b056-774adc95062d",
   "metadata": {
    "tags": []
   },
   "source": [
    "# Modelos 03\n",
    "### Sistema Não-Binário\n",
    "#### Karla Pascoalini e Cauê Santos"
   ]
  },
  {
   "cell_type": "markdown",
   "id": "9caf53ac-4579-40c5-a677-6283072bbf13",
   "metadata": {},
   "source": [
    "## Proponente: \n",
    "Diana Didatolov (Diana é relativamente nova para a posição de prestígio que ocupa na Biblioteca Real. Isso aconteceu pois ela teve um papel importantíssimo durante a Guerra das Marretas Voadoras, o que resultou na sua promoção dentro da Biblioteca. A diretora anterior, que perdeu seu cargo, é sua arquirrival por conta disso).\n",
    "\n",
    "## Objetivo:\n",
    "Se informe sobre outros modelos lineares que existem. Escolha um desses modelos e faça um notebook didático mostrando como este modelo funciona e como ele se difere do modelo linear estudado em sala de aula. Em um conjunto de dados da sua escolha, treine um modelo linear múltiplo e compare o resultado com o modelo linear que você escolheu. Sua comparação deve levar em conta alguma métrica (como RMSE, por exemplo). Gráficos são muito bem-vindos!\n",
    "\n",
    "### Comentários adicionais: \n",
    "O scikit-learn tem vários modelos lineares prontos, você pode conferir eles em https://scikit-learn.org/stable/modules/linear_model.html. A explicação aprofundada de cada modelo pode ser encontrada em livros e em vídeos."
   ]
  },
  {
   "cell_type": "code",
   "execution_count": null,
   "id": "2b1a94fc-b981-4d5f-ad7f-86c0d198264a",
   "metadata": {},
   "outputs": [],
   "source": []
  }
 ],
 "metadata": {
  "kernelspec": {
   "display_name": "ilumpy",
   "language": "python",
   "name": "ilumpy"
  },
  "language_info": {
   "codemirror_mode": {
    "name": "ipython",
    "version": 3
   },
   "file_extension": ".py",
   "mimetype": "text/x-python",
   "name": "python",
   "nbconvert_exporter": "python",
   "pygments_lexer": "ipython3",
   "version": "3.10.8"
  }
 },
 "nbformat": 4,
 "nbformat_minor": 5
}
