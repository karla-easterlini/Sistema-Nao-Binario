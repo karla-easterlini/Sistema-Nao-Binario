{
 "cells": [
  {
   "cell_type": "markdown",
   "id": "22132040-b33f-474c-b056-774adc95062d",
   "metadata": {
    "tags": []
   },
   "source": [
    "# Modelos 03\n",
    "### Sistema Não-Binário\n",
    "#### Karla Pascoalini e Cauê Santos"
   ]
  },
  {
   "cell_type": "markdown",
   "id": "d90f53f2-79a3-475a-92a9-f5a9d0bedd80",
   "metadata": {},
   "source": [
    "## ID: Modelos 4\n",
    "\n",
    "### Proponente: Milu Iluminarius MLVI \n",
    "_(rei do reino de Lumi. Diz a lenda que Milu Iluminarius I virou rei pois foi o único que conseguiu remover A Grande Espada da Luz da Lua que estava fincada em uma pedra. Essa história na verdade é uma grande balela e ele apenas virou rei pois seus pais eram detentores de terras)._\n",
    "\n",
    "#### Comentário: \n",
    "O rei de Lumi está preocupado com um ataque iminente de um dragão e por conta disso (e pelo fato de ele ser o rei…) ele não postou esta tarefa no Mural de Missões mas sim delegou direto para todos vocês.\n",
    "\n",
    "#### Objetivo:\n",
    "O rei Iluminarius levantou as hipóteses abaixo durante sua última reunião com a cúpula de Ciência, Tecnologia e Encantamentos do reinado. Sua tarefa é responder ao menos 2 das hipóteses formuladas pelo rei. Para este trabalho, utilize o dataset de diamantes do seaborn (ouvi dizer que existe um pergaminho na Biblioteca Real que têm informações sobre este dataset!).\n",
    "\n",
    "1.) Realizar normalização padrão dos atributos melhora a performance de modelos induzidos pelo algoritmo de k-vizinhos mais próximos\n",
    "\n",
    "2.) Realizar normalização padrão dos atributos melhora a performance de modelos induzidos pelo algoritmo de árvore de decisão\n",
    "\n",
    "3.) Reduzir a dimensinalidade do problema utilizando PCA melhora a performance de modelos induzidos pelo algoritmo de k-vizinhos mais próximos\n",
    "\n",
    "4.) Reduzir a dimensinalidade do problema utilizando PCA melhora a performance de modelos induzidos pelo algoritmo de árvore de decisão\n",
    "\n",
    "#### Comentários Adicionais:\n",
    "Não é necessário realizar um teste de hipóteses estatístico neste exercício. Podem testar as hipóteses apenas checando o que ocorre e elaborando uma conclusão razoável pontuada com bom-senso. Mas se quiserem usar testes de hipóteses (aqueles com p-valor e tal) fiquem à vontade também, só não é um requerimento."
   ]
  },
  {
   "cell_type": "markdown",
   "id": "93815653-3f2e-4dac-af58-0c770f92a39c",
   "metadata": {},
   "source": [
    "### Referências\n",
    "\n",
    "[1] https://scikit-learn.org/stable/modules/generated/sklearn.linear_model.Ridge.html#sklearn.linear_model.Ridge\n",
    "\n",
    "[2] https://www.youtube.com/watch?v=Z6HGJMUakmc&pp=ygUZYmF5ZXNpYW4gcmlkZ2UgcmVncmVzc2lvbg%3D%3D\n",
    "\n",
    "[3] https://www.simplilearn.com/tutorials/data-science-tutorial/bayesian-linear-regression#implementation_of_bayesian_regression_using_python\n",
    "\n",
    "[4] https://towardsdatascience.com/how-to-build-a-bayesian-ridge-regression-model-with-full-hyperparameter-integration-f4ac2bdaf329"
   ]
  }
 ],
 "metadata": {
  "kernelspec": {
   "display_name": "ilumpy",
   "language": "python",
   "name": "ilumpy"
  },
  "language_info": {
   "codemirror_mode": {
    "name": "ipython",
    "version": 3
   },
   "file_extension": ".py",
   "mimetype": "text/x-python",
   "name": "python",
   "nbconvert_exporter": "python",
   "pygments_lexer": "ipython3",
   "version": "3.10.8"
  }
 },
 "nbformat": 4,
 "nbformat_minor": 5
}
