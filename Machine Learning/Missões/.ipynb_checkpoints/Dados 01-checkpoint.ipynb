{
 "cells": [
  {
   "cell_type": "markdown",
   "id": "6359273b-9646-4c12-90bf-9f94e6599f90",
   "metadata": {},
   "source": [
    "# Dados 01\n"
   ]
  },
  {
   "cell_type": "markdown",
   "id": "b0140b6c-6efc-4ff8-aa24-6d5a313e6560",
   "metadata": {},
   "source": [
    "## Objetivos\n",
    "O módulo seaborn tem vários datasets didáticos embutidos nele. Veja a função load_dataset no link https://seaborn.pydata.org/generated/seaborn.load_dataset.html para se informar mais. Seu objetivo é explorar pelo menos 3 datasets deste repositório. Espera-se que os datasets sejam carregados, exibidos e que os dados contidos nos datasets seja explorados e discutidos tanto sobre seu significado quanto suas características (análise exploratória)."
   ]
  },
  {
   "cell_type": "markdown",
   "id": "ff72422d-8988-461d-a647-97989c7fa4fc",
   "metadata": {},
   "source": [
    "## Resultados"
   ]
  },
  {
   "cell_type": "code",
   "execution_count": 28,
   "id": "fde75f84-cf26-4598-80e5-7427e9f20b0e",
   "metadata": {
    "collapsed": true,
    "jupyter": {
     "outputs_hidden": true,
     "source_hidden": true
    },
    "tags": []
   },
   "outputs": [
    {
     "name": "stdout",
     "output_type": "stream",
     "text": [
      "Dataset de planetas\n",
      "               method  number  orbital_period   mass  distance  year\n",
      "0     Radial Velocity       1      269.300000   7.10     77.40  2006\n",
      "1     Radial Velocity       1      874.774000   2.21     56.95  2008\n",
      "2     Radial Velocity       1      763.000000   2.60     19.84  2011\n",
      "3     Radial Velocity       1      326.030000  19.40    110.62  2007\n",
      "4     Radial Velocity       1      516.220000  10.50    119.47  2009\n",
      "...               ...     ...             ...    ...       ...   ...\n",
      "1030          Transit       1        3.941507    NaN    172.00  2006\n",
      "1031          Transit       1        2.615864    NaN    148.00  2007\n",
      "1032          Transit       1        3.191524    NaN    174.00  2007\n",
      "1033          Transit       1        4.125083    NaN    293.00  2008\n",
      "1034          Transit       1        4.187757    NaN    260.00  2008\n",
      "\n",
      "[1035 rows x 6 columns]\n"
     ]
    }
   ],
   "source": [
    "import seaborn as sns\n",
    "\n",
    "planets_data = sns.load_dataset(\"planets\")\n",
    "\n",
    "print(f'Dataset de planetas')\n",
    "print(planets_data)"
   ]
  },
  {
   "cell_type": "markdown",
   "id": "33d9b0e1-5961-41f2-87c6-a9503c1a21b8",
   "metadata": {
    "jupyter": {
     "source_hidden": true
    },
    "tags": []
   },
   "source": [
    "#### Discussão Dataset de Planetas\n",
    "\n",
    "No dataset de planetas, os seguintes atributos com valores definidos são o método, numero, período orbital, massa, distância e ano.\n",
    "O primeiro atributo define a metodologia usada pra detectar o planeta. 2 métodos foram analisados, o de velocidade radial e o de transição. \n",
    "\n",
    "A velocidade radial tem sua base no Princípio de Doppler, e funciona da seguinte forma: Ao analisar um planeta em um sistema com uma estrela, geralmente o centro de massa do sistema, onde os objetos estão girando ao entorno, não é o centro de massa da estrela. Isso acontece justamente pela ação gravitacional, mesmo que pequena, que um planeta ou mais de um, pode causar ao movimento de rotação daquela estrela. Essa variação do centro de rotação da estrela cria um fenômeno, conhecido como efeito Doppler.\n",
    "\n",
    "O efeito Doppler é um efeito que afeta a luz e o som, descrito como uma propriedade da frequência de onda de se alterar quando um observador (nós) e uma fonte de onda (estrela) estão em movimento relativo um ao outro. Ao se afastar, a estrela produz o fenômeno de redshift, que indica que sua frequencia se deslocou para o comprimento de onda vermelho. Já quando ela se aproxima, ela produz o blueshift, indicando que ela se deslocou para o comprimento azul. Sabendo quando ela está se deslocando para longe e perto, já que ela faz um movimento circular ou elíptico, e portanto, quanto seu centro de massa é variado em relação aos planetas que a orbitam.\n",
    "\n",
    "O outro método, de transição, analisa, a partir da magnitude da estrela, se há algum objeto orbitando-a. A magnitude nada mais é que o grau de intensidade luminosa de um astro. Quando esse grau de intensidade é analisado em uma estrela, e realmente tem um exoplaneta orbitando ela, ele vai interferir nessa intensidade sempre que ele eclipsar ela em relação ao observador (novamente, nós). A partir desse dado periódico do eclipse, é possível determinar o raio relativo do planeta até a estrela, o raio da estrela e do planeta. \n",
    "\n",
    "Sabendo destas informações, já é possível determinar o período orbital, que é outro atributo relacionado no Dataset, que nada mais é que o período que um objeto astronômico demanda pra orbitar outro objeto.\n",
    "\n",
    "A distância é relativa a distância em anos-luz do exoplaneta à Terra. Anos-luz é uma medida de distância astronômica definida pela quantidade de espaço que a luz percorre em um ano, no vácuo. E por fim a massa, definida pela quantidade de matéria que compõe um volume.\n",
    "\n",
    "O ano e número são atributos triviais, para categorizar o dataset."
   ]
  },
  {
   "cell_type": "code",
   "execution_count": 19,
   "id": "813efb79-8faf-4cfa-ae6f-1e3492e50a16",
   "metadata": {
    "collapsed": true,
    "jupyter": {
     "outputs_hidden": true
    },
    "tags": []
   },
   "outputs": [
    {
     "name": "stdout",
     "output_type": "stream",
     "text": [
      "Dataset de ligações cerebrais\n",
      "    network                    1                  1.1                   2  \\\n",
      "0      node                    1                    1                   1   \n",
      "1      hemi                   lh                   rh                  lh   \n",
      "2       NaN                  NaN                  NaN                 NaN   \n",
      "3         0    56.05574417114258    92.03103637695312   3.391575574874878   \n",
      "4         1     55.5472526550293     43.6900749206543  -65.49598693847656   \n",
      "..      ...                  ...                  ...                 ...   \n",
      "918     915  -7.4295125007629395    -4.81321907043457  -3.670536518096924   \n",
      "919     916   -33.55413818359375   -38.60562133789063  -25.66480255126953   \n",
      "920     917   -78.53956604003906   -74.19718933105469  -54.04159545898438   \n",
      "921     918  -103.23582458496094    -98.7442855834961  -40.10954284667969   \n",
      "922     919   -36.28886795043945  -10.762069702148438  -30.35626220703125   \n",
      "\n",
      "                     2.1                    3                  3.1  \\\n",
      "0                      1                    1                    1   \n",
      "1                     rh                   lh                   rh   \n",
      "2                    NaN                  NaN                  NaN   \n",
      "3      38.65968322753906   26.203819274902344   -49.71556854248047   \n",
      "4    -13.974522590637207   -28.27496337890625   -39.05012893676758   \n",
      "..                   ...                  ...                  ...   \n",
      "918   1.4422610998153689    -19.6804313659668  -29.109355926513672   \n",
      "919  -30.252351760864254   5.5627851486206055   20.182186126708984   \n",
      "920   -39.97029113769531  -14.277058601379395  -30.606460571289066   \n",
      "921   -44.90773391723633   12.109148025512695   1.6213401556015017   \n",
      "922   -23.31950378417969   14.252187728881836   -27.55986022949219   \n",
      "\n",
      "                       4                  4.1                     5  ...  \\\n",
      "0                      1                    1                     1  ...   \n",
      "1                     lh                   rh                    lh  ...   \n",
      "2                    NaN                  NaN                   NaN  ...   \n",
      "3       47.4610366821289   26.746612548828125   -35.898860931396484  ...   \n",
      "4    -1.2106596231460571  -19.012897491455078    19.568010330200195  ...   \n",
      "..                   ...                  ...                   ...  ...   \n",
      "918  -3.3765623569488525      -8.764892578125  0.017911728471517563  ...   \n",
      "919    17.91124725341797    24.65358161926269    -32.93561172485352  ...   \n",
      "920    60.62852096557617    62.02702331542969    -32.80055618286133  ...   \n",
      "921   33.765560150146484    55.35607147216797   -14.330512046813965  ...   \n",
      "922   17.279512405395508  -19.060152053833008     26.55877685546875  ...   \n",
      "\n",
      "                   16.5                16.6                 16.7  \\\n",
      "0                     3                   4                    4   \n",
      "1                    rh                  lh                   rh   \n",
      "2                   NaN                 NaN                  NaN   \n",
      "3    0.6079040169715881  -70.27054595947266    77.36577606201172   \n",
      "4     57.49507141113281  -76.39321899414062   127.26136016845705   \n",
      "..                  ...                 ...                  ...   \n",
      "918   58.28579330444336   68.55741119384766    22.83304786682129   \n",
      "919   59.86481857299805   23.00457763671875   7.6574625968933105   \n",
      "920   68.76786804199219   49.66401672363281    64.55149841308594   \n",
      "921   103.1552505493164  106.45484924316406     9.04682731628418   \n",
      "922   102.0863037109375   80.05113983154297  -2.6426103115081787   \n",
      "\n",
      "                      17                17.1                 17.2  \\\n",
      "0                      1                   1                    2   \n",
      "1                     lh                  rh                   lh   \n",
      "2                    NaN                 NaN                  NaN   \n",
      "3     -21.73455047607422  1.0282527208328247   7.7917842864990225   \n",
      "4    -13.035799026489258    46.3818244934082  -15.752449989318848   \n",
      "..                   ...                 ...                  ...   \n",
      "918    76.17948913574219    51.9346694946289   -6.614512920379639   \n",
      "919    50.96239852905274  13.696922302246096    63.50361633300781   \n",
      "920    43.80074691772461   8.144479751586914    47.28145980834961   \n",
      "921    46.67441940307617   40.95479583740234   0.8771800398826599   \n",
      "922  -12.229619979858398  -6.596726417541504   17.665163040161133   \n",
      "\n",
      "                   17.3                 17.4                17.5  \\\n",
      "0                     2                    3                   3   \n",
      "1                    rh                   lh                  rh   \n",
      "2                   NaN                  NaN                 NaN   \n",
      "3     68.90372467041016  -10.520872116088867  120.49046325683594   \n",
      "4     31.00033187866211  -39.607521057128906   24.76401138305664   \n",
      "..                  ...                  ...                 ...   \n",
      "918  -6.690762042999268   22.893030166625977   48.27437973022461   \n",
      "919   57.40117645263672    24.97454833984375   51.97215270996094   \n",
      "920   70.49964904785156    66.99440002441406   81.53924560546875   \n",
      "921   37.57715225219727   20.517745971679688   3.124434232711792   \n",
      "922  16.153173446655273    8.300398826599121  33.687530517578125   \n",
      "\n",
      "                    17.6  \n",
      "0                      4  \n",
      "1                     lh  \n",
      "2                    NaN  \n",
      "3    -39.686431884765625  \n",
      "4      -36.7710075378418  \n",
      "..                   ...  \n",
      "918    76.22845458984375  \n",
      "919    64.53878784179689  \n",
      "920    64.96977233886719  \n",
      "921    56.71838760375977  \n",
      "922   17.960655212402344  \n",
      "\n",
      "[923 rows x 63 columns]\n"
     ]
    }
   ],
   "source": [
    "brain_networks_data = sns.load_dataset(\"brain_networks\")\n",
    "\n",
    "print(f'Dataset de ligações cerebrais')\n",
    "print(brain_networks_data)"
   ]
  },
  {
   "cell_type": "code",
   "execution_count": 39,
   "id": "b0d47eee-95f9-48a2-b71a-47a894c13784",
   "metadata": {
    "collapsed": true,
    "jupyter": {
     "outputs_hidden": true,
     "source_hidden": true
    },
    "tags": []
   },
   "outputs": [
    {
     "name": "stdout",
     "output_type": "stream",
     "text": [
      "Dataset de pinguins: \n",
      "    species     island  bill_length_mm  bill_depth_mm  flipper_length_mm  \\\n",
      "0    Adelie  Torgersen            39.1           18.7              181.0   \n",
      "1    Adelie  Torgersen            39.5           17.4              186.0   \n",
      "2    Adelie  Torgersen            40.3           18.0              195.0   \n",
      "3    Adelie  Torgersen             NaN            NaN                NaN   \n",
      "4    Adelie  Torgersen            36.7           19.3              193.0   \n",
      "..      ...        ...             ...            ...                ...   \n",
      "339  Gentoo     Biscoe             NaN            NaN                NaN   \n",
      "340  Gentoo     Biscoe            46.8           14.3              215.0   \n",
      "341  Gentoo     Biscoe            50.4           15.7              222.0   \n",
      "342  Gentoo     Biscoe            45.2           14.8              212.0   \n",
      "343  Gentoo     Biscoe            49.9           16.1              213.0   \n",
      "\n",
      "     body_mass_g     sex  \n",
      "0         3750.0    Male  \n",
      "1         3800.0  Female  \n",
      "2         3250.0  Female  \n",
      "3            NaN     NaN  \n",
      "4         3450.0  Female  \n",
      "..           ...     ...  \n",
      "339          NaN     NaN  \n",
      "340       4850.0  Female  \n",
      "341       5750.0    Male  \n",
      "342       5200.0  Female  \n",
      "343       5400.0    Male  \n",
      "\n",
      "[344 rows x 7 columns]\n",
      "['Torgersen', 'Biscoe', 'Dream']\n",
      "['Adelie', 'Chinstrap', 'Gentoo']\n"
     ]
    }
   ],
   "source": [
    "penguins_data = sns.load_dataset(\"penguins\")\n",
    "\n",
    "def categoriza_atributos(lista):\n",
    "    atributos = []\n",
    "    for item in lista:\n",
    "        if item not in atributos:\n",
    "            atributos.append(item)\n",
    "    return atributos\n",
    "\n",
    "atributos1 = categoriza_atributos(penguins_data['island'])\n",
    "atributos2 = categoriza_atributos(penguins_data['species'])\n",
    "\n",
    "print(f'Dataset de pinguins: ')\n",
    "print(penguins_data)\n",
    "\n",
    "print(atributos1)\n",
    "print(atributos2)"
   ]
  },
  {
   "cell_type": "markdown",
   "id": "92ac27a5-4212-4663-b623-6a3e0b31be00",
   "metadata": {
    "jupyter": {
     "source_hidden": true
    },
    "tags": []
   },
   "source": [
    "#### Discussão Dataset de Penguins\n",
    "\n",
    "Nesse dataset, foram acolhidos dados de 344 pinguins de 3 espécies diferentes: Adelie, Gentoo e Chinstrap. Os dados foram pegos de 3 ilhas diferentes, sendo essas Torgersen, Biscoe e Dream. Os penguins também obtiveram atributos do sexo e comprimentos do bico e nadadeira. \n",
    "\n",
    "Esses dados, disponibilizados publicamente, foram posteriormente utilizados pra análise biológica destes.\n",
    "Em um artigo da jstor, o dataset auxiliou no estudo de segregação dessas 3 espécies na ilha de King George Island na antártica. Com a análise dos dados, eles encontraram que os penguins praticamente tiveram uma alta segregação sexual, também chamada de dimorfismo sexual ecológico, que nada mais é que a diferenciação entre os sexos daquela espécie em relação às suas características físicas, comportamentais ou morfológicas, diretamente ligadas a possíveis adaptações dos nichos ecológicos ou as próprias funções daquele ecossistema observado.\n",
    "\n",
    "A descrição exata do resultado dessa análise é descrita na citação abaixo:\n",
    "\n",
    "\"(...) os pinguins barbicha eram mais dimórficos sexualmente em culmen e nadadeiras do que os pinguins Adélie e gentoo. Adélies e gentoos eram mais sexualmente dimórficos em massa corporal do que chinstraps. Apenas chinstraps e gentoos masculinos e femininos ocuparam nichos separados de forrageamento δ15N. Fortes efeitos de ano nas assinaturas δ15N foram documentados para todas as três espécies, no entanto, apenas para Adélies, a variação anual nas assinaturas δ15N se correlacionou fortemente com as condições do gelo marinho no inverno. Não houve evidência de que a variação no nicho de forrageamento específico do sexo interagiu com a qualidade anual do habitat no inverno.\""
   ]
  },
  {
   "cell_type": "markdown",
   "id": "bff16884-21a3-4896-86cf-56ece83ecb5a",
   "metadata": {},
   "source": [
    "## Referências\n",
    "\n",
    "https://www.youtube.com/watch?v=oLP-ZBfOdrQ&list=PLDnKgWZJzNWANcxKSWAocehKpD5qSoyzl&index=2\n",
    "\n",
    "https://plainenglish.io/blog/9-seaborn-datasets-for-data-science-ml-beginners\n",
    "\n",
    "https://journals.plos.org/plosone/article?id=10.1371/journal.pone.0090081\n",
    "\n",
    "https://github.com/allisonhorst/palmerpenguins/blob/main/README.md"
   ]
  },
  {
   "cell_type": "code",
   "execution_count": null,
   "id": "b2a14932-8cb1-444f-a758-3c5065558aae",
   "metadata": {},
   "outputs": [],
   "source": []
  }
 ],
 "metadata": {
  "kernelspec": {
   "display_name": "ilumpy",
   "language": "python",
   "name": "ilumpy"
  },
  "language_info": {
   "codemirror_mode": {
    "name": "ipython",
    "version": 3
   },
   "file_extension": ".py",
   "mimetype": "text/x-python",
   "name": "python",
   "nbconvert_exporter": "python",
   "pygments_lexer": "ipython3",
   "version": "3.9.13"
  }
 },
 "nbformat": 4,
 "nbformat_minor": 5
}
