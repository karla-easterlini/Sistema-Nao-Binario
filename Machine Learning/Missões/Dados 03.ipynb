{
 "cells": [
  {
   "cell_type": "markdown",
   "id": "57581314-2e88-4a7e-8931-b4dda61c4ad6",
   "metadata": {
    "tags": []
   },
   "source": [
    "# Dados 03\n",
    "### Sistema Não-Binário\n",
    "#### Karla Pascoalini e Cauê Santos"
   ]
  },
  {
   "cell_type": "markdown",
   "id": "8952cb38-b86f-45f9-a41f-2ddd297baedd",
   "metadata": {
    "tags": []
   },
   "source": [
    "## Proponente: \n",
    "Alfaiate Ligeirinha (apesar do nome, ela é na verdade uma barda muito conhecida no reinado, amiga da Senhorita Creizuda)\n",
    "## Objetivo:\n",
    "Escolha entre a sua dupla um dataset que tem potencial para ser o dataset do trabalho de conclusão da disciplina (é um dataset, não dois, não três). Datasets didáticos (tipo os que tem no seaborn) são desencorajados para esta tarefa. Carregue seu dataset em um DataFrame. Identifique quais são as colunas que contém atributos e quais são as colunas que contém targets. Faça uma análise exploratória dos dados, buscando entender como eles se comportam (não se esqueça de uma breve discussão). Identifique os tipos dos dados e realize conversão simbólico-numérica para todos os dados categóricos que identificou como atributo ou target (preste atenção se seus dados são ordinais ou nominais para fazer a conversão mais apropriada). Identifique dados que requerem transformação (seja por conversão de unidades ou por aplicação de logaritmo) e realize as transformações necessárias. Encerre seu trabalho definindo dois DataFrames: um chamado X que deverá conter todos seus atributos e um chamado y contendo todos seus targets. Tanto atributos quanto targets nestes DataFrames finais devem ser numéricos e já transformados (se for o caso). Não normalize os dados ainda!"
   ]
  },
  {
   "cell_type": "code",
   "execution_count": 7,
   "id": "22e15737-9b36-4cef-b098-f6539acf150d",
   "metadata": {},
   "outputs": [
    {
     "name": "stdout",
     "output_type": "stream",
     "text": [
      "Index(['pdg_id', 'pdg_name', 'name', 'charge', 'rank', 'quarks', 'mass',\n",
      "       'mass_lower', 'mass_upper', 'width', 'width_lower', 'width_upper'],\n",
      "      dtype='object')\n"
     ]
    }
   ],
   "source": [
    "import pandas as pd\n",
    "df = pd.read_csv(\"physics_particles.csv\")\n",
    "print(df.columns)"
   ]
  },
  {
   "cell_type": "markdown",
   "id": "4910fea5-1858-4c1a-902f-be4a57bed41f",
   "metadata": {},
   "source": [
    "A primeira coluna é um atributo, segunda, terceira e quarta colunas são atributos que caracterizam as particulas.\n",
    "\n",
    "A coluna pdg_id significa literalmente o PDG ID de cada partícula, que é um código único que a define\n",
    "\n",
    "A segunda coluna, pdg_name mostra o nome da partícula pelo código ou símbolo.\n",
    "\n",
    "A terceira coluna, name, é o nome das partículas.\n",
    "\n",
    "\"Charge\", o nome da quarta coluna define a carga elétrica das partículas, em unidade de carga de pósitron.\n",
    "\n",
    "Na quinta coluna, se ranqueia o número de estrelas bariônicas com o seguinte código: \n",
    "4 - A existência é certa e as propriedades são pelo menos bastante bem exploradas.\n",
    "3 - A existência varia de muito provável a certa, mas é desejável confirmação adicional e/ou números quânticos, frações ramificadas, etc. não estão bem determinados.\n",
    "2 - A evidência da existência é apenas justa.\n",
    "1 - A evidência de existência é fraca.\n",
    "0 – Partículas Fundamentais – A existência é certa.\n",
    "\n",
    "Na sexta coluna, com o tema de quarks, categoriza o conteúdo de quarks da partícula (Se ela não tiver, retorna a string vazia)\n",
    "\n",
    "Na sétima coluna fala da massa, em mega eletron volt (MeV)\n",
    "\n",
    "Na oitava e nona colunas, fala da menor e maior incerteza da massa da partícula, também em MeV\n",
    "\n",
    "Na décima coluna, fala da largura de decaimento da partícula\n",
    "\n",
    "Na décima primeira e décima segunda colunas, falam da incerteza inferior e superior do decaimento da partícula, em MeV"
   ]
  },
  {
   "cell_type": "code",
   "execution_count": null,
   "id": "59dcf931-0685-4899-b82b-59821f559ba1",
   "metadata": {},
   "outputs": [],
   "source": []
  }
 ],
 "metadata": {
  "kernelspec": {
   "display_name": "ilumpy",
   "language": "python",
   "name": "ilumpy"
  },
  "language_info": {
   "codemirror_mode": {
    "name": "ipython",
    "version": 3
   },
   "file_extension": ".py",
   "mimetype": "text/x-python",
   "name": "python",
   "nbconvert_exporter": "python",
   "pygments_lexer": "ipython3",
   "version": "3.10.8"
  }
 },
 "nbformat": 4,
 "nbformat_minor": 5
}
