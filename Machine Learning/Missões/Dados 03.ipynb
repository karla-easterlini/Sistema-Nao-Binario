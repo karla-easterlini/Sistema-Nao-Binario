{
 "cells": [
  {
   "cell_type": "markdown",
   "id": "57581314-2e88-4a7e-8931-b4dda61c4ad6",
   "metadata": {
    "tags": []
   },
   "source": [
    "# Dados 03\n",
    "### Sistema Não-Binário\n",
    "#### Karla Pascoalini e Cauê Santos"
   ]
  },
  {
   "cell_type": "markdown",
   "id": "8952cb38-b86f-45f9-a41f-2ddd297baedd",
   "metadata": {
    "tags": []
   },
   "source": [
    "## Proponente: \n",
    "Alfaiate Ligeirinha (apesar do nome, ela é na verdade uma barda muito conhecida no reinado, amiga da Senhorita Creizuda)\n",
    "## Objetivo:\n",
    "Escolha entre a sua dupla um dataset que tem potencial para ser o dataset do trabalho de conclusão da disciplina (é um dataset, não dois, não três). Datasets didáticos (tipo os que tem no seaborn) são desencorajados para esta tarefa. Carregue seu dataset em um DataFrame. Identifique quais são as colunas que contém atributos e quais são as colunas que contém targets. Faça uma análise exploratória dos dados, buscando entender como eles se comportam (não se esqueça de uma breve discussão). Identifique os tipos dos dados e realize conversão simbólico-numérica para todos os dados categóricos que identificou como atributo ou target (preste atenção se seus dados são ordinais ou nominais para fazer a conversão mais apropriada). Identifique dados que requerem transformação (seja por conversão de unidades ou por aplicação de logaritmo) e realize as transformações necessárias. Encerre seu trabalho definindo dois DataFrames: um chamado X que deverá conter todos seus atributos e um chamado y contendo todos seus targets. Tanto atributos quanto targets nestes DataFrames finais devem ser numéricos e já transformados (se for o caso). Não normalize os dados ainda!"
   ]
  },
  {
   "cell_type": "code",
   "execution_count": null,
   "id": "22e15737-9b36-4cef-b098-f6539acf150d",
   "metadata": {},
   "outputs": [],
   "source": []
  },
  {
   "cell_type": "code",
   "execution_count": null,
   "id": "fc63aa5c-4347-4340-83ec-fa2361947f64",
   "metadata": {},
   "outputs": [],
   "source": []
  }
 ],
 "metadata": {
  "kernelspec": {
   "display_name": "ilumpy",
   "language": "python",
   "name": "ilumpy"
  },
  "language_info": {
   "codemirror_mode": {
    "name": "ipython",
    "version": 3
   },
   "file_extension": ".py",
   "mimetype": "text/x-python",
   "name": "python",
   "nbconvert_exporter": "python",
   "pygments_lexer": "ipython3",
   "version": "3.10.8"
  }
 },
 "nbformat": 4,
 "nbformat_minor": 5
}
