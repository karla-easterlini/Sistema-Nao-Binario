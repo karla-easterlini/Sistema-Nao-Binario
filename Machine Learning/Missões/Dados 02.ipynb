{
 "cells": [
  {
   "cell_type": "markdown",
   "id": "d10ed9db-317e-47a3-9483-d5c60d713350",
   "metadata": {
    "tags": []
   },
   "source": [
    "# Dados 02\n",
    "### Sistema Não-Binário\n",
    "#### Karla Pascoalini e Cauê Santos"
   ]
  },
  {
   "cell_type": "markdown",
   "id": "68a8b5e9-4278-4d8c-b3ef-94640b9fdb11",
   "metadata": {
    "tags": []
   },
   "source": [
    "## Proponente: \n",
    "Patrulheiro Formidável Amarelo\n",
    "## Objetivo:\n",
    "Escolha um conjunto de dados qualquer que contenha pelo menos 1 coluna com dados numéricos (pode ser atributo ou target, tanto faz). Faça operações de normalização e transformação neste dataset e o\n",
    "bserve o que acontece."
   ]
  },
  {
   "cell_type": "markdown",
   "id": "fa921196-dad6-4c90-a9c1-ed7a9f078466",
   "metadata": {
    "jp-MarkdownHeadingCollapsed": true,
    "tags": []
   },
   "source": [
    "### Escolha do DataSet"
   ]
  },
  {
   "cell_type": "code",
   "execution_count": 1,
   "id": "e0bb4fb1-ea53-4e4e-a04e-d77622408369",
   "metadata": {
    "tags": []
   },
   "outputs": [
    {
     "name": "stdout",
     "output_type": "stream",
     "text": [
      "Dataset de planetas\n",
      "               method  number  orbital_period   mass  distance  year\n",
      "0     Radial Velocity       1      269.300000   7.10     77.40  2006\n",
      "1     Radial Velocity       1      874.774000   2.21     56.95  2008\n",
      "2     Radial Velocity       1      763.000000   2.60     19.84  2011\n",
      "3     Radial Velocity       1      326.030000  19.40    110.62  2007\n",
      "4     Radial Velocity       1      516.220000  10.50    119.47  2009\n",
      "...               ...     ...             ...    ...       ...   ...\n",
      "1030          Transit       1        3.941507    NaN    172.00  2006\n",
      "1031          Transit       1        2.615864    NaN    148.00  2007\n",
      "1032          Transit       1        3.191524    NaN    174.00  2007\n",
      "1033          Transit       1        4.125083    NaN    293.00  2008\n",
      "1034          Transit       1        4.187757    NaN    260.00  2008\n",
      "\n",
      "[1035 rows x 6 columns]\n"
     ]
    }
   ],
   "source": [
    "import seaborn as sns #Importa a biblioteca de DS\n",
    "\n",
    "planets_data = sns.load_dataset(\"planets\") #Carrega o DataSet\n",
    "\n",
    "print(f'Dataset de planetas')\n",
    "print(planets_data) #Mostra o DataSet"
   ]
  },
  {
   "cell_type": "markdown",
   "id": "af529579-22f5-416a-8411-435973848545",
   "metadata": {
    "jp-MarkdownHeadingCollapsed": true,
    "tags": []
   },
   "source": [
    "### Transformação"
   ]
  },
  {
   "cell_type": "code",
   "execution_count": 2,
   "id": "1c115631-726e-4003-8721-6df4a6813b3b",
   "metadata": {
    "collapsed": true,
    "jupyter": {
     "outputs_hidden": true
    },
    "tags": []
   },
   "outputs": [
    {
     "name": "stdout",
     "output_type": "stream",
     "text": [
      "Conversão da distancia de anoz luz para metros\n",
      "\n",
      "               method  number  orbital_period   mass      distance  year\n",
      "0     Radial Velocity       1      269.300000   7.10  7.322814e+17  2006\n",
      "1     Radial Velocity       1      874.774000   2.21  5.388040e+17  2008\n",
      "2     Radial Velocity       1      763.000000   2.60  1.877062e+17  2011\n",
      "3     Radial Velocity       1      326.030000  19.40  1.046576e+18  2007\n",
      "4     Radial Velocity       1      516.220000  10.50  1.130306e+18  2009\n",
      "...               ...     ...             ...    ...           ...   ...\n",
      "1030          Transit       1        3.941507    NaN  1.627292e+18  2006\n",
      "1031          Transit       1        2.615864    NaN  1.400228e+18  2007\n",
      "1032          Transit       1        3.191524    NaN  1.646214e+18  2007\n",
      "1033          Transit       1        4.125083    NaN  2.772073e+18  2008\n",
      "1034          Transit       1        4.187757    NaN  2.459860e+18  2008\n",
      "\n",
      "[1035 rows x 6 columns]\n",
      "\n",
      "Organização dos planetas pelo ano\n",
      "\n"
     ]
    },
    {
     "data": {
      "text/plain": [
       "441    1989\n",
       "942    1992\n",
       "941    1992\n",
       "943    1994\n",
       "16     1995\n",
       "       ... \n",
       "846    2014\n",
       "847    2014\n",
       "849    2014\n",
       "851    2014\n",
       "840    2014\n",
       "Name: year, Length: 1035, dtype: int64"
      ]
     },
     "execution_count": 2,
     "metadata": {},
     "output_type": "execute_result"
    }
   ],
   "source": [
    "planets2 = planets_data.copy()\n",
    "\n",
    "planets2[\"distance\"] = planets2[\"distance\"] * 9.461 * (10 ** 15)\n",
    "print(\"Conversão da distancia de anoz luz para metros\")\n",
    "print()\n",
    "print(planets2)\n",
    "print()\n",
    "print(\"Organização dos planetas pelo ano\")\n",
    "print()\n",
    "planets2[\"year\"].sort_values()"
   ]
  },
  {
   "cell_type": "markdown",
   "id": "7800e742-4f3f-4b43-b76c-c3a8bad5db2b",
   "metadata": {
    "tags": []
   },
   "source": [
    "### Normalização"
   ]
  },
  {
   "cell_type": "markdown",
   "id": "f1b6abc6-a1b2-4be7-81ac-fe9c8ca0eebc",
   "metadata": {
    "jp-MarkdownHeadingCollapsed": true,
    "tags": []
   },
   "source": [
    "#### Normalização Padrão"
   ]
  },
  {
   "cell_type": "code",
   "execution_count": 9,
   "id": "fa73a06b-ebce-406e-9af4-d819cbadfb34",
   "metadata": {},
   "outputs": [
    {
     "name": "stdout",
     "output_type": "stream",
     "text": [
      "               method  number  orbital_period   mass  distance  year  \\\n",
      "0     Radial Velocity       1      269.300000   7.10     77.40  2006   \n",
      "1     Radial Velocity       1      874.774000   2.21     56.95  2008   \n",
      "2     Radial Velocity       1      763.000000   2.60     19.84  2011   \n",
      "3     Radial Velocity       1      326.030000  19.40    110.62  2007   \n",
      "4     Radial Velocity       1      516.220000  10.50    119.47  2009   \n",
      "...               ...     ...             ...    ...       ...   ...   \n",
      "1030          Transit       1        3.941507    NaN    172.00  2006   \n",
      "1031          Transit       1        2.615864    NaN    148.00  2007   \n",
      "1032          Transit       1        3.191524    NaN    174.00  2007   \n",
      "1033          Transit       1        4.125083    NaN    293.00  2008   \n",
      "1034          Transit       1        4.187757    NaN    260.00  2008   \n",
      "\n",
      "      orbital_period_NP  orbital_period_NMA  orbital_period_NMM  \n",
      "0             -0.066640            0.000369            0.000369  \n",
      "1             -0.043366            0.001198            0.001198  \n",
      "2             -0.047662            0.001045            0.001045  \n",
      "3             -0.064459            0.000447            0.000446  \n",
      "4             -0.057148            0.000707            0.000707  \n",
      "...                 ...                 ...                 ...  \n",
      "1030          -0.076840            0.000005            0.000005  \n",
      "1031          -0.076891            0.000004            0.000003  \n",
      "1032          -0.076869            0.000004            0.000004  \n",
      "1033          -0.076833            0.000006            0.000006  \n",
      "1034          -0.076831            0.000006            0.000006  \n",
      "\n",
      "[1035 rows x 9 columns]\n"
     ]
    }
   ],
   "source": [
    "media = planets_data['orbital_period'].mean()\n",
    "dsv_p = planets_data['orbital_period'].std()\n",
    "\n",
    "planets_data['orbital_period_NP'] = (planets_data['orbital_period'] - media) / dsv_p\n",
    "\n",
    "print(planets_data)"
   ]
  },
  {
   "cell_type": "markdown",
   "id": "b83e4821-a82d-463d-bda9-022c4c9c547f",
   "metadata": {
    "jp-MarkdownHeadingCollapsed": true,
    "tags": []
   },
   "source": [
    "#### Normalização pelo Máximo Absoluto"
   ]
  },
  {
   "cell_type": "code",
   "execution_count": 5,
   "id": "23606260-7b6f-464b-bd8f-0e873731c342",
   "metadata": {},
   "outputs": [
    {
     "name": "stdout",
     "output_type": "stream",
     "text": [
      "               method  number  orbital_period   mass  distance  year  \\\n",
      "0     Radial Velocity       1      269.300000   7.10     77.40  2006   \n",
      "1     Radial Velocity       1      874.774000   2.21     56.95  2008   \n",
      "2     Radial Velocity       1      763.000000   2.60     19.84  2011   \n",
      "3     Radial Velocity       1      326.030000  19.40    110.62  2007   \n",
      "4     Radial Velocity       1      516.220000  10.50    119.47  2009   \n",
      "...               ...     ...             ...    ...       ...   ...   \n",
      "1030          Transit       1        3.941507    NaN    172.00  2006   \n",
      "1031          Transit       1        2.615864    NaN    148.00  2007   \n",
      "1032          Transit       1        3.191524    NaN    174.00  2007   \n",
      "1033          Transit       1        4.125083    NaN    293.00  2008   \n",
      "1034          Transit       1        4.187757    NaN    260.00  2008   \n",
      "\n",
      "      orbital_period_NP  orbital_period_NMA  \n",
      "0             -0.066640            0.000369  \n",
      "1             -0.043366            0.001198  \n",
      "2             -0.047662            0.001045  \n",
      "3             -0.064459            0.000447  \n",
      "4             -0.057148            0.000707  \n",
      "...                 ...                 ...  \n",
      "1030          -0.076840            0.000005  \n",
      "1031          -0.076891            0.000004  \n",
      "1032          -0.076869            0.000004  \n",
      "1033          -0.076833            0.000006  \n",
      "1034          -0.076831            0.000006  \n",
      "\n",
      "[1035 rows x 8 columns]\n"
     ]
    }
   ],
   "source": [
    "maximo_absoluto = max(abs(planets_data['orbital_period']))\n",
    "\n",
    "planets_data['orbital_period_NMA'] = planets_data['orbital_period'] / maximo_absoluto\n",
    "\n",
    "print(planets_data)\n",
    "\n",
    "def categoriza_atributos(lista):\n",
    "    atributos = []\n",
    "    for item in lista:\n",
    "        if item not in atributos:\n",
    "            atributos.append(item)\n",
    "    return atributos\n",
    "\n",
    "#planets_data['orbital_period2'].sort_values()\n",
    "#print(categoriza_atributos(planets_data['orbital_period2']))"
   ]
  },
  {
   "cell_type": "markdown",
   "id": "d5e3a20f-c7c7-4b8b-b05a-fa6dd74dcb8c",
   "metadata": {
    "jp-MarkdownHeadingCollapsed": true,
    "tags": []
   },
   "source": [
    "#### Normalização pelo Mínimo e Máximo"
   ]
  },
  {
   "cell_type": "code",
   "execution_count": 6,
   "id": "aff3a487-b124-427f-ab19-2ebf0b2cba63",
   "metadata": {},
   "outputs": [
    {
     "name": "stdout",
     "output_type": "stream",
     "text": [
      "               method  number  orbital_period   mass  distance  year  \\\n",
      "0     Radial Velocity       1      269.300000   7.10     77.40  2006   \n",
      "1     Radial Velocity       1      874.774000   2.21     56.95  2008   \n",
      "2     Radial Velocity       1      763.000000   2.60     19.84  2011   \n",
      "3     Radial Velocity       1      326.030000  19.40    110.62  2007   \n",
      "4     Radial Velocity       1      516.220000  10.50    119.47  2009   \n",
      "...               ...     ...             ...    ...       ...   ...   \n",
      "1030          Transit       1        3.941507    NaN    172.00  2006   \n",
      "1031          Transit       1        2.615864    NaN    148.00  2007   \n",
      "1032          Transit       1        3.191524    NaN    174.00  2007   \n",
      "1033          Transit       1        4.125083    NaN    293.00  2008   \n",
      "1034          Transit       1        4.187757    NaN    260.00  2008   \n",
      "\n",
      "      orbital_period_NP  orbital_period_NMA  orbital_period_NMM  \n",
      "0             -0.066640            0.000369            0.000369  \n",
      "1             -0.043366            0.001198            0.001198  \n",
      "2             -0.047662            0.001045            0.001045  \n",
      "3             -0.064459            0.000447            0.000446  \n",
      "4             -0.057148            0.000707            0.000707  \n",
      "...                 ...                 ...                 ...  \n",
      "1030          -0.076840            0.000005            0.000005  \n",
      "1031          -0.076891            0.000004            0.000003  \n",
      "1032          -0.076869            0.000004            0.000004  \n",
      "1033          -0.076833            0.000006            0.000006  \n",
      "1034          -0.076831            0.000006            0.000006  \n",
      "\n",
      "[1035 rows x 9 columns]\n"
     ]
    }
   ],
   "source": [
    "mín = planets_data[\"orbital_period\"].min()\n",
    "máx = planets_data[\"orbital_period\"].max()\n",
    "\n",
    "planets_data[\"orbital_period_NMM\"] = (planets_data[\"orbital_period\"] - mín) / (máx - mín)\n",
    "print(planets_data)"
   ]
  },
  {
   "cell_type": "code",
   "execution_count": null,
   "id": "b424cb1e-7dae-476c-a44b-32f59a6312d1",
   "metadata": {},
   "outputs": [],
   "source": []
  }
 ],
 "metadata": {
  "kernelspec": {
   "display_name": "ilumpy",
   "language": "python",
   "name": "ilumpy"
  },
  "language_info": {
   "codemirror_mode": {
    "name": "ipython",
    "version": 3
   },
   "file_extension": ".py",
   "mimetype": "text/x-python",
   "name": "python",
   "nbconvert_exporter": "python",
   "pygments_lexer": "ipython3",
   "version": "3.9.13"
  }
 },
 "nbformat": 4,
 "nbformat_minor": 5
}
