{
 "cells": [
  {
   "cell_type": "markdown",
   "id": "6359273b-9646-4c12-90bf-9f94e6599f90",
   "metadata": {},
   "source": [
    "# Dados 01\n"
   ]
  },
  {
   "cell_type": "markdown",
   "id": "b0140b6c-6efc-4ff8-aa24-6d5a313e6560",
   "metadata": {},
   "source": [
    "## Objetivos\n",
    "O módulo seaborn tem vários datasets didáticos embutidos nele. Veja a função load_dataset no link https://seaborn.pydata.org/generated/seaborn.load_dataset.html para se informar mais. Seu objetivo é explorar pelo menos 3 datasets deste repositório. Espera-se que os datasets sejam carregados, exibidos e que os dados contidos nos datasets seja explorados e discutidos tanto sobre seu significado quanto suas características (análise exploratória)."
   ]
  },
  {
   "cell_type": "markdown",
   "id": "ff72422d-8988-461d-a647-97989c7fa4fc",
   "metadata": {},
   "source": [
    "## Resultados"
   ]
  },
  {
   "cell_type": "markdown",
   "id": "ddb98cf1-14bd-45f8-958f-be67a17774a5",
   "metadata": {},
   "source": [
    "## 1º Dataset: Planetas"
   ]
  },
  {
   "cell_type": "code",
   "execution_count": 4,
   "id": "fde75f84-cf26-4598-80e5-7427e9f20b0e",
   "metadata": {
    "tags": []
   },
   "outputs": [
    {
     "name": "stdout",
     "output_type": "stream",
     "text": [
      "Dataset de planetas\n",
      "               method  number  orbital_period   mass  distance  year\n",
      "0     Radial Velocity       1      269.300000   7.10     77.40  2006\n",
      "1     Radial Velocity       1      874.774000   2.21     56.95  2008\n",
      "2     Radial Velocity       1      763.000000   2.60     19.84  2011\n",
      "3     Radial Velocity       1      326.030000  19.40    110.62  2007\n",
      "4     Radial Velocity       1      516.220000  10.50    119.47  2009\n",
      "...               ...     ...             ...    ...       ...   ...\n",
      "1030          Transit       1        3.941507    NaN    172.00  2006\n",
      "1031          Transit       1        2.615864    NaN    148.00  2007\n",
      "1032          Transit       1        3.191524    NaN    174.00  2007\n",
      "1033          Transit       1        4.125083    NaN    293.00  2008\n",
      "1034          Transit       1        4.187757    NaN    260.00  2008\n",
      "\n",
      "[1035 rows x 6 columns]\n",
      "\n",
      "O período orbital mais longo foi de 730000.0\n",
      "O período orbital mais curto foi de 0.09070629\n",
      "A mediana dos períodos orbitais foi de 1523.0\n",
      "\n",
      "A mediana das massas dos planetas foi de 2.7\n",
      "\n",
      "A distância mais longa foi de 8500.0 anos-luz\n",
      "A distância mais curta foi de 1.35 anos-luz\n",
      "A mediana distâncias foi de 44.37 anos-luz\n"
     ]
    }
   ],
   "source": [
    "import seaborn as sns\n",
    "import statistics as st\n",
    "\n",
    "planets_data = sns.load_dataset(\"planets\")\n",
    "\n",
    "print(f'Dataset de planetas')\n",
    "print(planets_data)\n",
    "\n",
    "print()\n",
    "\n",
    "periodos = planets_data['orbital_period']\n",
    "dist = planets_data['distance']\n",
    "massas = planets_data['mass']\n",
    "\n",
    "maior_periodo = max(periodos)\n",
    "menor_periodo = min(periodos)\n",
    "periodos = sorted(periodos)\n",
    "mediana_periodos = st.median(periodos)\n",
    "\n",
    "print(f'O período orbital mais longo foi de {maior_periodo}')\n",
    "print(f'O período orbital mais curto foi de {menor_periodo}')\n",
    "print(f'A mediana dos períodos orbitais foi de {mediana_periodos}')\n",
    "\n",
    "print()\n",
    "\n",
    "mediana_massas = st.median(massas)\n",
    "\n",
    "print(f'A mediana das massas dos planetas foi de {mediana_massas}')\n",
    "\n",
    "print()\n",
    "\n",
    "maior_dist = max(dist)\n",
    "menor_dist = min(dist)\n",
    "mediana_dist = st.median(dist)\n",
    "\n",
    "print(f'A distância mais longa foi de {maior_dist} anos-luz')\n",
    "print(f'A distância mais curta foi de {menor_dist} anos-luz')\n",
    "print(f'A mediana distâncias foi de {mediana_dist} anos-luz')"
   ]
  },
  {
   "cell_type": "markdown",
   "id": "33d9b0e1-5961-41f2-87c6-a9503c1a21b8",
   "metadata": {
    "jp-MarkdownHeadingCollapsed": true,
    "tags": []
   },
   "source": [
    "#### Discussão teórica Dataset de Planetas"
   ]
  },
  {
   "cell_type": "markdown",
   "id": "4774b060-f8b6-4d89-955c-9b6b6993b462",
   "metadata": {},
   "source": [
    "No dataset de planetas, os seguintes atributos com valores definidos são o método, número, período orbital, massa, distância e ano.\n",
    "O primeiro atributo define a metodologia usada pra detectar o planeta. 2 métodos foram analisados, o de velocidade radial e o de transição. \n",
    "\n",
    "A velocidade radial tem sua base no Princípio de Doppler, e funciona da seguinte forma: Ao analisar um planeta em um sistema com uma estrela, geralmente o centro de massa do sistema, onde os objetos estão girando ao entorno, não é o centro de massa da estrela. Isso acontece justamente pela ação gravitacional, mesmo que pequena, que um planeta ou mais de um, pode causar ao movimento de rotação daquela estrela. Como nessa situação possuímos um corpo em movimento, e um observador, pode-se ocorrer um fenômeno físico muito importante e interessante chamado de efeito Doppler\n",
    "\n",
    "O efeito Doppler é um efeito que afeta a luz e o som, descrito como uma propriedade da frequência de onda de se alterar quando um observador (nós) e uma fonte de onda (estrela) estão em movimento relativo um ao outro. Ao se afastar, a estrela produz o fenômeno de redshift, que indica que sua frequencia se deslocou para o comprimento de onda vermelho. Já quando ela se aproxima, ela produz o blueshift, indicando que ela se deslocou para o comprimento azul. Sabendo como seu comprimento de onda muda, conseguimos estudar seu movimento de órbita (que como foi comprovado por Kepler, é elíptico) e pelas equações de movimento celeste conseguimos determinar quanto esse centro de massa está deslocado.\n",
    "\n",
    "O outro método, de transição, analisa, a partir da magnitude da estrela, se há algum objeto orbitando-a. A magnitude nada mais é que o grau de intensidade luminosa de um astro. Quando esse grau de intensidade é analisado em uma estrela, e realmente tem um exoplaneta orbitando ela, ele vai interferir nessa intensidade sempre que ele eclipsar ela em relação ao observador (novamente, nós). A partir desse dado periódico do eclipse, é possível determinar o raio relativo do planeta até a estrela, o raio da estrela e do planeta. \n",
    "\n",
    "Sabendo destas informações, já é possível determinar o período orbital, que é outro atributo relacionado no Dataset, que nada mais é que o período que um objeto astronômico demanda pra orbitar outro objeto.\n",
    "\n",
    "A distância é relativa a distância em anos-luz do exoplaneta à Terra. Anos-luz é uma medida de distância astronômica definida pela quantidade de espaço que a luz percorre em um ano, no vácuo. E por fim a massa, definida pela quantidade de matéria que compõe um volume.\n",
    "\n",
    "O ano e número são atributos triviais, para categorizar o dataset.\n",
    "\n",
    "Algo interessante desse conjuntos de dados, é que ele pode ser entendido e anlisado de maneira bem interessante, com base nas 3 leis de Kepler, em especial a 3ª que diz que \"o quadrado do período orbital é proporcional ao cubo do semi-eixo maior da órbita\", ou em outras palavras:\n",
    "$$P^2 \\text{ }\\alpha \\text{  } a^3$$ Porém com um olhar mais atento e partindo das leis de Newton (gravitação e dinâmica), conseguimos chegar que:\n",
    "$$\\frac{a^3}{P^2} = k = \\frac{GM_{estrela}}{4\\pi^2}$$\n",
    "\n",
    "Essa constante k é individual para cada estrela, visto que depende de sua massa! Assim, se dois planetas possuirem uma constante k da órbita muito similar, isso pode ser um indício de que pertencem ao mesmo sistema estelar. Nós tentamos realizar essa análise, porém não encontramos nenhum conjunto de planetas que possuissem a mesma constante k. Pode ser interessante adicionar uma certa \"margem\" de quanto uma constante pode variar da outra, para levar em consideração erros de medida e outros efeitos relacionados."
   ]
  },
  {
   "cell_type": "markdown",
   "id": "1d58377b-4d0a-4816-93b2-70b4f19a91e8",
   "metadata": {
    "tags": []
   },
   "source": [
    "#### Discussão Estatística"
   ]
  },
  {
   "cell_type": "markdown",
   "id": "5724e9e5-8977-41e1-8cf9-a09c9a2ac38c",
   "metadata": {},
   "source": [
    "Nesse dataset é possível encontrar algo muito comum na área de astromia e astrofísica, que são valores ou muito grande ou muito pequenos. Por isso a maioria das medidas estatísticas utilizadas foram medianas, pois estas lidam muito melhor com outliers do que a média. O exemplo em que isso fica mais claro é com os períodos orbitais, a distribuição desses dados é muito peculiar, pois a uma boa quantidade possui valores próximos da mediana, mas mais do que um valor possuem um tamanho consideravelmente maior."
   ]
  },
  {
   "cell_type": "markdown",
   "id": "768f4098-bacb-4070-97c2-e5835d0632bb",
   "metadata": {},
   "source": [
    "#### Análise exploratória - 1º dataset"
   ]
  },
  {
   "cell_type": "markdown",
   "id": "e833740b-2593-442e-bbd3-3e26039aac63",
   "metadata": {},
   "source": [
    "## 2º Dataset: Penguins"
   ]
  },
  {
   "cell_type": "code",
   "execution_count": 39,
   "id": "b0d47eee-95f9-48a2-b71a-47a894c13784",
   "metadata": {
    "tags": []
   },
   "outputs": [
    {
     "name": "stdout",
     "output_type": "stream",
     "text": [
      "Dataset de pinguins: \n",
      "    species     island  bill_length_mm  bill_depth_mm  flipper_length_mm  \\\n",
      "0    Adelie  Torgersen            39.1           18.7              181.0   \n",
      "1    Adelie  Torgersen            39.5           17.4              186.0   \n",
      "2    Adelie  Torgersen            40.3           18.0              195.0   \n",
      "3    Adelie  Torgersen             NaN            NaN                NaN   \n",
      "4    Adelie  Torgersen            36.7           19.3              193.0   \n",
      "..      ...        ...             ...            ...                ...   \n",
      "339  Gentoo     Biscoe             NaN            NaN                NaN   \n",
      "340  Gentoo     Biscoe            46.8           14.3              215.0   \n",
      "341  Gentoo     Biscoe            50.4           15.7              222.0   \n",
      "342  Gentoo     Biscoe            45.2           14.8              212.0   \n",
      "343  Gentoo     Biscoe            49.9           16.1              213.0   \n",
      "\n",
      "     body_mass_g     sex  \n",
      "0         3750.0    Male  \n",
      "1         3800.0  Female  \n",
      "2         3250.0  Female  \n",
      "3            NaN     NaN  \n",
      "4         3450.0  Female  \n",
      "..           ...     ...  \n",
      "339          NaN     NaN  \n",
      "340       4850.0  Female  \n",
      "341       5750.0    Male  \n",
      "342       5200.0  Female  \n",
      "343       5400.0    Male  \n",
      "\n",
      "[344 rows x 7 columns]\n",
      "['Torgersen', 'Biscoe', 'Dream']\n",
      "['Adelie', 'Chinstrap', 'Gentoo']\n"
     ]
    }
   ],
   "source": [
    "penguins_data = sns.load_dataset(\"penguins\")\n",
    "\n",
    "def categoriza_atributos(lista):\n",
    "    atributos = []\n",
    "    for item in lista:\n",
    "        if item not in atributos:\n",
    "            atributos.append(item)\n",
    "    return atributos\n",
    "\n",
    "atributos1 = categoriza_atributos(penguins_data['island'])\n",
    "atributos2 = categoriza_atributos(penguins_data['species'])\n",
    "\n",
    "print(f'Dataset de pinguins: ')\n",
    "print(penguins_data)\n",
    "\n",
    "print(atributos1)\n",
    "print(atributos2)"
   ]
  },
  {
   "cell_type": "markdown",
   "id": "92ac27a5-4212-4663-b623-6a3e0b31be00",
   "metadata": {
    "tags": []
   },
   "source": [
    "#### Discussão Dataset de Penguins\n",
    "\n",
    "Nesse dataset, foram acolhidos dados de 344 pinguins de 3 espécies diferentes: Adelie, Gentoo e Chinstrap. Os dados foram pegos de 3 ilhas diferentes, sendo essas Torgersen, Biscoe e Dream. Os penguins também obtiveram atributos do sexo e comprimentos do bico e nadadeira. \n",
    "\n",
    "Esses dados, disponibilizados publicamente, foram posteriormente utilizados pra análise biológica destes.\n",
    "Em um artigo da jstor, o dataset auxiliou no estudo de segregação dessas 3 espécies na ilha de King George Island na antártica. Com a análise dos dados, eles encontraram que os penguins praticamente tiveram uma alta segregação sexual, também chamada de dimorfismo sexual ecológico, que nada mais é que a diferenciação entre os sexos daquela espécie em relação às suas características físicas, comportamentais ou morfológicas, diretamente ligadas a possíveis adaptações dos nichos ecológicos ou as próprias funções daquele ecossistema observado.\n",
    "\n",
    "A descrição exata do resultado dessa análise é descrita na citação abaixo:\n",
    "\n",
    "\"(...) os pinguins barbicha eram mais dimórficos sexualmente em culmen e nadadeiras do que os pinguins Adélie e gentoo. Adélies e gentoos eram mais sexualmente dimórficos em massa corporal do que chinstraps. Apenas chinstraps e gentoos masculinos e femininos ocuparam nichos separados de forrageamento δ15N. Fortes efeitos de ano nas assinaturas δ15N foram documentados para todas as três espécies, no entanto, apenas para Adélies, a variação anual nas assinaturas δ15N se correlacionou fortemente com as condições do gelo marinho no inverno. Não houve evidência de que a variação no nicho de forrageamento específico do sexo interagiu com a qualidade anual do habitat no inverno.\""
   ]
  },
  {
   "cell_type": "markdown",
   "id": "46b61f55-6ec9-4040-84bf-4144f6bdc6ab",
   "metadata": {},
   "source": [
    "## 3º Dataset: Extensão do gelo por ano"
   ]
  },
  {
   "cell_type": "code",
   "execution_count": 44,
   "id": "813efb79-8faf-4cfa-ae6f-1e3492e50a16",
   "metadata": {
    "tags": []
   },
   "outputs": [
    {
     "name": "stdout",
     "output_type": "stream",
     "text": [
      "Dataset de gelo do oceano\n",
      "     duration  waiting   kind\n",
      "0       3.600       79   long\n",
      "1       1.800       54  short\n",
      "2       3.333       74   long\n",
      "3       2.283       62  short\n",
      "4       4.533       85   long\n",
      "..        ...      ...    ...\n",
      "267     4.117       81   long\n",
      "268     2.150       46  short\n",
      "269     4.417       90   long\n",
      "270     1.817       46  short\n",
      "271     4.467       74   long\n",
      "\n",
      "[272 rows x 3 columns]\n"
     ]
    },
    {
     "data": {
      "text/plain": [
       "<AxesSubplot: xlabel='duration', ylabel='Count'>"
      ]
     },
     "execution_count": 44,
     "metadata": {},
     "output_type": "execute_result"
    },
    {
     "data": {
      "image/png": "[encoded data removed]",
      "text/plain": [
       "<Figure size 640x480 with 1 Axes>"
      ]
     },
     "metadata": {},
     "output_type": "display_data"
    }
   ],
   "source": [
    "geyser_data = sns.load_dataset(\"geyser\")\n",
    "\n",
    "print(f'Dataset de gelo do oceano')\n",
    "print(geyser_data)\n",
    "\n",
    "def categoriza_atributos(lista):\n",
    "    atributos = []\n",
    "    for item in lista:\n",
    "        if item not in atributos:\n",
    "            atributos.append(item)\n",
    "    return atributos\n",
    "categoriza_atributos(geyser_data)\n",
    "\n",
    "\n",
    "sns.set_style('darkgrid')\n",
    "sns.histplot(geyser_data['duration'], bins=20)"
   ]
  },
  {
   "cell_type": "markdown",
   "id": "3bf45549-dcef-4c7a-bf6d-d98cac53fcac",
   "metadata": {},
   "source": [
    "Esse dataset contém 272 exemplos de geiseres no parque de Yellowstone nos EUA. Este conjunto de dados contém três colunas principais: \"duration\", que representa a duração da erupção em minutos, \"waiting\", que representa o intervalo em minutos entre a erupção atual e a próxima, e \"type\" que categoriza essa erupção em função do atributo \"duration\". "
   ]
  },
  {
   "cell_type": "markdown",
   "id": "bff16884-21a3-4896-86cf-56ece83ecb5a",
   "metadata": {},
   "source": [
    "## Referências\n",
    "\n",
    "https://www.youtube.com/watch?v=oLP-ZBfOdrQ&list=PLDnKgWZJzNWANcxKSWAocehKpD5qSoyzl&index=2\n",
    "\n",
    "https://www.youtube.com/watch?v=ZjpYzPrCFE0&t=166s&pp=ygU3bcOpdG9kb3MgZGUgZGV0ZWPDp8OjbyBkZSBleG9wbGFuZXRhcyB2ZWxvY2lkYWRlIHJhZGlhbA%3D%3D\n",
    "\n",
    "https://plainenglish.io/blog/9-seaborn-datasets-for-data-science-ml-beginners\n",
    "\n",
    "https://journals.plos.org/plosone/article?id=10.1371/journal.pone.0090081\n",
    "\n",
    "https://github.com/allisonhorst/palmerpenguins/blob/main/README.md\n",
    "\n",
    "https://nsidc.org/arcticseaicenews/sea-ice-tools/"
   ]
  },
  {
   "cell_type": "code",
   "execution_count": null,
   "id": "b2a14932-8cb1-444f-a758-3c5065558aae",
   "metadata": {},
   "outputs": [],
   "source": []
  }
 ],
 "metadata": {
  "kernelspec": {
   "display_name": "ilumpy",
   "language": "python",
   "name": "ilumpy"
  },
  "language_info": {
   "codemirror_mode": {
    "name": "ipython",
    "version": 3
   },
   "file_extension": ".py",
   "mimetype": "text/x-python",
   "name": "python",
   "nbconvert_exporter": "python",
   "pygments_lexer": "ipython3",
   "version": "3.10.8"
  }
 },
 "nbformat": 4,
 "nbformat_minor": 5
}
