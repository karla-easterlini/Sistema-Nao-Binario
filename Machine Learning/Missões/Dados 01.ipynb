{
 "cells": [
  {
   "cell_type": "markdown",
   "id": "6359273b-9646-4c12-90bf-9f94e6599f90",
   "metadata": {},
   "source": [
    "# Dados 01\n"
   ]
  },
  {
   "cell_type": "markdown",
   "id": "b0140b6c-6efc-4ff8-aa24-6d5a313e6560",
   "metadata": {},
   "source": [
    "## Objetivos\n",
    "O módulo seaborn tem vários datasets didáticos embutidos nele. Veja a função load_dataset no link https://seaborn.pydata.org/generated/seaborn.load_dataset.html para se informar mais. Seu objetivo é explorar pelo menos 3 datasets deste repositório. Espera-se que os datasets sejam carregados, exibidos e que os dados contidos nos datasets seja explorados e discutidos tanto sobre seu significado quanto suas características (análise exploratória)."
   ]
  },
  {
   "cell_type": "markdown",
   "id": "ff72422d-8988-461d-a647-97989c7fa4fc",
   "metadata": {},
   "source": [
    "## Resultados"
   ]
  },
  {
   "cell_type": "code",
   "execution_count": 12,
   "id": "fde75f84-cf26-4598-80e5-7427e9f20b0e",
   "metadata": {
    "tags": []
   },
   "outputs": [
    {
     "name": "stdout",
     "output_type": "stream",
     "text": [
      "Dataset de planetas\n",
      "               method  number  orbital_period   mass  distance  year\n",
      "0     Radial Velocity       1      269.300000   7.10     77.40  2006\n",
      "1     Radial Velocity       1      874.774000   2.21     56.95  2008\n",
      "2     Radial Velocity       1      763.000000   2.60     19.84  2011\n",
      "3     Radial Velocity       1      326.030000  19.40    110.62  2007\n",
      "4     Radial Velocity       1      516.220000  10.50    119.47  2009\n",
      "...               ...     ...             ...    ...       ...   ...\n",
      "1030          Transit       1        3.941507    NaN    172.00  2006\n",
      "1031          Transit       1        2.615864    NaN    148.00  2007\n",
      "1032          Transit       1        3.191524    NaN    174.00  2007\n",
      "1033          Transit       1        4.125083    NaN    293.00  2008\n",
      "1034          Transit       1        4.187757    NaN    260.00  2008\n",
      "\n",
      "[1035 rows x 6 columns]\n",
      "[]\n"
     ]
    }
   ],
   "source": [
    "import seaborn as sns\n",
    "\n",
    "planets_data = sns.load_dataset(\"planets\")\n",
    "\n",
    "print(f'Dataset de planetas')\n",
    "print(planets_data)\n",
    "\n",
    "periodos = planets_data['orbital_period']\n",
    "semi_eixo = planets_data['orbital_period']\n",
    "\n",
    "constantes_estelares = []\n",
    "constantes_estelares_iguais = []\n",
    "for i in range(len(periodos)):\n",
    "    k = ((periodos[i])**2)/((semi_eixo[i]))**3\n",
    "    constantes_estelares.append(k)\n",
    "    \n",
    "for j in range(len(constantes_estelares)-1):\n",
    "    a_de_agora = constantes_estelares[j]\n",
    "    if a_de_agora == constantes_estelares[j+1]:\n",
    "        constantes_estelares_iguais.append(a_de_agora)\n",
    "        \n",
    "print(constantes_estelares_iguais)"
   ]
  },
  {
   "cell_type": "markdown",
   "id": "33d9b0e1-5961-41f2-87c6-a9503c1a21b8",
   "metadata": {
    "tags": []
   },
   "source": [
    "#### Discussão Dataset de Planetas\n",
    "\n",
    "No dataset de planetas, os seguintes atributos com valores definidos são o método, numero, período orbital, massa, distância e ano.\n",
    "O primeiro atributo define a metodologia usada pra detectar o planeta. 2 métodos foram analisados, o de velocidade radial e o de transição. \n",
    "\n",
    "A velocidade radial tem sua base no Princípio de Doppler, e funciona da seguinte forma: Ao analisar um planeta em um sistema com uma estrela, geralmente o centro de massa do sistema, onde os objetos estão girando ao entorno, não é o centro de massa da estrela. Isso acontece justamente pela ação gravitacional, mesmo que pequena, que um planeta ou mais de um, pode causar ao movimento de rotação daquela estrela. Essa variação do centro de rotação da estrela cria um fenômeno, conhecido como efeito Doppler.\n",
    "\n",
    "O efeito Doppler é um efeito que afeta a luz e o som, descrito como uma propriedade da frequência de onda de se alterar quando um observador (nós) e uma fonte de onda (estrela) estão em movimento relativo um ao outro. Ao se afastar, a estrela produz o fenômeno de redshift, que indica que sua frequencia se deslocou para o comprimento de onda vermelho. Já quando ela se aproxima, ela produz o blueshift, indicando que ela se deslocou para o comprimento azul. Sabendo quando ela está se deslocando para longe e perto, já que ela faz um movimento circular ou elíptico, e portanto, quanto seu centro de massa é variado em relação aos planetas que a orbitam.\n",
    "\n",
    "O outro método, de transição, analisa, a partir da magnitude da estrela, se há algum objeto orbitando-a. A magnitude nada mais é que o grau de intensidade luminosa de um astro. Quando esse grau de intensidade é analisado em uma estrela, e realmente tem um exoplaneta orbitando ela, ele vai interferir nessa intensidade sempre que ele eclipsar ela em relação ao observador (novamente, nós). A partir desse dado periódico do eclipse, é possível determinar o raio relativo do planeta até a estrela, o raio da estrela e do planeta. \n",
    "\n",
    "Sabendo destas informações, já é possível determinar o período orbital, que é outro atributo relacionado no Dataset, que nada mais é que o período que um objeto astronômico demanda pra orbitar outro objeto.\n",
    "\n",
    "A distância é relativa a distância em anos-luz do exoplaneta à Terra. Anos-luz é uma medida de distância astronômica definida pela quantidade de espaço que a luz percorre em um ano, no vácuo. E por fim a massa, definida pela quantidade de matéria que compõe um volume.\n",
    "\n",
    "O ano e número são atributos triviais, para categorizar o dataset."
   ]
  },
  {
   "cell_type": "code",
   "execution_count": 39,
   "id": "b0d47eee-95f9-48a2-b71a-47a894c13784",
   "metadata": {
    "tags": []
   },
   "outputs": [
    {
     "name": "stdout",
     "output_type": "stream",
     "text": [
      "Dataset de pinguins: \n",
      "    species     island  bill_length_mm  bill_depth_mm  flipper_length_mm  \\\n",
      "0    Adelie  Torgersen            39.1           18.7              181.0   \n",
      "1    Adelie  Torgersen            39.5           17.4              186.0   \n",
      "2    Adelie  Torgersen            40.3           18.0              195.0   \n",
      "3    Adelie  Torgersen             NaN            NaN                NaN   \n",
      "4    Adelie  Torgersen            36.7           19.3              193.0   \n",
      "..      ...        ...             ...            ...                ...   \n",
      "339  Gentoo     Biscoe             NaN            NaN                NaN   \n",
      "340  Gentoo     Biscoe            46.8           14.3              215.0   \n",
      "341  Gentoo     Biscoe            50.4           15.7              222.0   \n",
      "342  Gentoo     Biscoe            45.2           14.8              212.0   \n",
      "343  Gentoo     Biscoe            49.9           16.1              213.0   \n",
      "\n",
      "     body_mass_g     sex  \n",
      "0         3750.0    Male  \n",
      "1         3800.0  Female  \n",
      "2         3250.0  Female  \n",
      "3            NaN     NaN  \n",
      "4         3450.0  Female  \n",
      "..           ...     ...  \n",
      "339          NaN     NaN  \n",
      "340       4850.0  Female  \n",
      "341       5750.0    Male  \n",
      "342       5200.0  Female  \n",
      "343       5400.0    Male  \n",
      "\n",
      "[344 rows x 7 columns]\n",
      "['Torgersen', 'Biscoe', 'Dream']\n",
      "['Adelie', 'Chinstrap', 'Gentoo']\n"
     ]
    }
   ],
   "source": [
    "penguins_data = sns.load_dataset(\"penguins\")\n",
    "\n",
    "def categoriza_atributos(lista):\n",
    "    atributos = []\n",
    "    for item in lista:\n",
    "        if item not in atributos:\n",
    "            atributos.append(item)\n",
    "    return atributos\n",
    "\n",
    "atributos1 = categoriza_atributos(penguins_data['island'])\n",
    "atributos2 = categoriza_atributos(penguins_data['species'])\n",
    "\n",
    "print(f'Dataset de pinguins: ')\n",
    "print(penguins_data)\n",
    "\n",
    "print(atributos1)\n",
    "print(atributos2)"
   ]
  },
  {
   "cell_type": "markdown",
   "id": "92ac27a5-4212-4663-b623-6a3e0b31be00",
   "metadata": {
    "tags": []
   },
   "source": [
    "#### Discussão Dataset de Penguins\n",
    "\n",
    "Nesse dataset, foram acolhidos dados de 344 pinguins de 3 espécies diferentes: Adelie, Gentoo e Chinstrap. Os dados foram pegos de 3 ilhas diferentes, sendo essas Torgersen, Biscoe e Dream. Os penguins também obtiveram atributos do sexo e comprimentos do bico e nadadeira. \n",
    "\n",
    "Esses dados, disponibilizados publicamente, foram posteriormente utilizados pra análise biológica destes.\n",
    "Em um artigo da jstor, o dataset auxiliou no estudo de segregação dessas 3 espécies na ilha de King George Island na antártica. Com a análise dos dados, eles encontraram que os penguins praticamente tiveram uma alta segregação sexual, também chamada de dimorfismo sexual ecológico, que nada mais é que a diferenciação entre os sexos daquela espécie em relação às suas características físicas, comportamentais ou morfológicas, diretamente ligadas a possíveis adaptações dos nichos ecológicos ou as próprias funções daquele ecossistema observado.\n",
    "\n",
    "A descrição exata do resultado dessa análise é descrita na citação abaixo:\n",
    "\n",
    "\"(...) os pinguins barbicha eram mais dimórficos sexualmente em culmen e nadadeiras do que os pinguins Adélie e gentoo. Adélies e gentoos eram mais sexualmente dimórficos em massa corporal do que chinstraps. Apenas chinstraps e gentoos masculinos e femininos ocuparam nichos separados de forrageamento δ15N. Fortes efeitos de ano nas assinaturas δ15N foram documentados para todas as três espécies, no entanto, apenas para Adélies, a variação anual nas assinaturas δ15N se correlacionou fortemente com as condições do gelo marinho no inverno. Não houve evidência de que a variação no nicho de forrageamento específico do sexo interagiu com a qualidade anual do habitat no inverno.\""
   ]
  },
  {
   "cell_type": "code",
   "execution_count": 6,
   "id": "813efb79-8faf-4cfa-ae6f-1e3492e50a16",
   "metadata": {
    "tags": []
   },
   "outputs": [
    {
     "name": "stdout",
     "output_type": "stream",
     "text": [
      "Dataset de gelo do oceano\n",
      "             Date  Extent\n",
      "0      1980-01-01  14.200\n",
      "1      1980-01-03  14.302\n",
      "2      1980-01-05  14.414\n",
      "3      1980-01-07  14.518\n",
      "4      1980-01-09  14.594\n",
      "...           ...     ...\n",
      "13170  2019-12-27  12.721\n",
      "13171  2019-12-28  12.712\n",
      "13172  2019-12-29  12.780\n",
      "13173  2019-12-30  12.858\n",
      "13174  2019-12-31  12.889\n",
      "\n",
      "[13175 rows x 2 columns]\n"
     ]
    }
   ],
   "source": [
    "sea_ice_data = sns.load_dataset(\"seaice\")\n",
    "\n",
    "print(f'Dataset de gelo do oceano')\n",
    "print(sea_ice_data)"
   ]
  },
  {
   "cell_type": "markdown",
   "id": "bff16884-21a3-4896-86cf-56ece83ecb5a",
   "metadata": {},
   "source": [
    "## Referências\n",
    "\n",
    "https://www.youtube.com/watch?v=oLP-ZBfOdrQ&list=PLDnKgWZJzNWANcxKSWAocehKpD5qSoyzl&index=2\n",
    "\n",
    "https://www.youtube.com/watch?v=ZjpYzPrCFE0&t=166s&pp=ygU3bcOpdG9kb3MgZGUgZGV0ZWPDp8OjbyBkZSBleG9wbGFuZXRhcyB2ZWxvY2lkYWRlIHJhZGlhbA%3D%3D\n",
    "\n",
    "https://plainenglish.io/blog/9-seaborn-datasets-for-data-science-ml-beginners\n",
    "\n",
    "https://journals.plos.org/plosone/article?id=10.1371/journal.pone.0090081\n",
    "\n",
    "https://github.com/allisonhorst/palmerpenguins/blob/main/README.md\n",
    "\n",
    "https://nsidc.org/arcticseaicenews/sea-ice-tools/"
   ]
  },
  {
   "cell_type": "code",
   "execution_count": null,
   "id": "b2a14932-8cb1-444f-a758-3c5065558aae",
   "metadata": {},
   "outputs": [],
   "source": []
  }
 ],
 "metadata": {
  "kernelspec": {
   "display_name": "ilumpy",
   "language": "python",
   "name": "ilumpy"
  },
  "language_info": {
   "codemirror_mode": {
    "name": "ipython",
    "version": 3
   },
   "file_extension": ".py",
   "mimetype": "text/x-python",
   "name": "python",
   "nbconvert_exporter": "python",
   "pygments_lexer": "ipython3",
   "version": "3.10.8"
  }
 },
 "nbformat": 4,
 "nbformat_minor": 5
}
