{
 "cells": [
  {
   "cell_type": "markdown",
   "id": "32620493-c6fe-45f8-a8c2-a2492357dcee",
   "metadata": {
    "tags": []
   },
   "source": [
    "# Modelos 01\n",
    "### Sistema Não-Binário\n",
    "#### Karla Pascoalini e Cauê Santos"
   ]
  },
  {
   "cell_type": "markdown",
   "id": "8b5ae3bd-96a3-48b6-aea9-6940407bcf21",
   "metadata": {
    "tags": []
   },
   "source": [
    "## Proponente: \n",
    "\n",
    "Cavaleiro Luminoso (dono da Taverna do Sol. A Taverna do Sol só abre enquanto o sol está no céu e apenas em dias que não estejam nublados. Antes de tomar qualquer bebida, é necessário levantar os braços lentamente (desta forma: \\o/) em direção ao sol; se não fizer isso você é banido da Taverna para sempre)\n",
    "\n",
    "## Objetivo: \n",
    "\n",
    "Um algoritmo regressor k-NN foi implementado na sala de aula (ou será implementado, dependendo de quando você ler esta mensagem). Sua tarefa é criar um classificador k-NN. Teste seu classificador para prever a espécie de pinguim do dataset de pinguins.\n",
    "\n",
    "### Comentários adicionais: \n",
    "\n",
    "Observe que a tarefa é criar um classificador, não é usar um pronto. É possível resolver este problema sem a necessidade de conversão simbólico-numérica do target! Neste caso, ao invés de tirar a média dos valores para computar a previsão, você deverá ver qual é o rótulo mais frequente. Em caso de empate, crie uma regra simples para desempatar (algo como \"sempre escolher o primeiro ordenado alfabeticamente\"). Ler o material referenciado no notebook em caso de dúvida."
   ]
  },
  {
   "cell_type": "code",
   "execution_count": 2,
   "id": "0a91794e-1c53-4120-825d-6edc20c7e623",
   "metadata": {},
   "outputs": [],
   "source": [
    "import seaborn as sns\n",
    "import numpy as np\n",
    "import statistics as st\n",
    "\n",
    "DATASET_NAME = \"penguins\"\n",
    "FEATURES = [\"bill_length_mm\", \"bill_depth_mm\", \"flipper_length_mm\"]\n",
    "TARGET = [\"species\"]\n",
    "\n",
    "df = sns.load_dataset(DATASET_NAME)\n",
    "\n",
    "df = df.reindex(FEATURES + TARGET, axis=1)\n",
    "df = df.dropna()\n",
    "\n",
    "X = df.reindex(FEATURES, axis=1)\n",
    "y = df.reindex(TARGET, axis=1)\n",
    "\n",
    "X = X.values\n",
    "y = y.values.ravel()"
   ]
  },
  {
   "cell_type": "code",
   "execution_count": 6,
   "id": "20c8055c-87bb-4957-8c75-a05289bc341f",
   "metadata": {
    "tags": []
   },
   "outputs": [
    {
     "name": "stdout",
     "output_type": "stream",
     "text": [
      "Com o comprimento e profudindade do bico iguais a 5 e 20, e o tamanho da nadadeira como 250, temos que o penguin é da espécie Gentoo\n",
      "\n",
      "Com o comprimento e profundidade do bico iguais a 100 e 25, e o tamanho da nadadeira como 10, temos que o penguin é da espécie Adelie\n",
      "\n",
      "Com o comprimento e profundidade do bico iguais a 51 e 17, e o tamanho da nadadeira como 190, temos que o penguin é da espécie Chinstrap\n"
     ]
    }
   ],
   "source": [
    "def treinar_knn(modelo, X, y):\n",
    "    \"\"\"Treina um modelo de k-vizinhos mais próximos\n",
    "    \n",
    "    Args:\n",
    "      modelo:\n",
    "        Dicionário com as informações do modelo.\n",
    "      x:\n",
    "        Atributos\n",
    "      y:\n",
    "        Targets\n",
    "    \"\"\"\n",
    "    modelo[\"x\"] = X\n",
    "    modelo[\"y\"] = y\n",
    "    \n",
    "\n",
    "def calcular_distancias(a, b):\n",
    "    \"\"\"Calcula a distância Euclidiana entre a e b\n",
    "    \n",
    "    Args:\n",
    "      a: \n",
    "        um dado qualquer representado por um array de numpy\n",
    "      b:\n",
    "        um dado qualquer\n",
    "    \n",
    "    Returns:\n",
    "      A distancia entre os pontos de a e b.    \n",
    "    \"\"\"\n",
    "    \n",
    "    diferenca = a - b\n",
    "    diff_quadrado = diferenca**2\n",
    "    soma = np.sum(diff_quadrado, axis=1)\n",
    "    dist = soma ** (1/2)\n",
    "    \n",
    "    return dist\n",
    "    \n",
    "    \n",
    "def previsao_knn(modelo, X):\n",
    "    \"\"\"Usa um modelo treinado para prever um valor dado um conjunto de atributos\n",
    "    \n",
    "    Args:\n",
    "      modelo:\n",
    "        Dicionário com as informações do modelo\n",
    "      x:\n",
    "        Atributos do exemplo a ser previsto\n",
    "        \n",
    "    Returns:\n",
    "      A previsão do modelo para o exemplo x.\n",
    "    \"\"\"\n",
    "    distancias = calcular_distancias(modelo[\"x\"], X) #Calcula a distancia entre todos os elementos e o ponto\n",
    "    indices_ordenados = np.argsort(distancias) # Ordena os items\n",
    "    k_primeiros_indices = indices_ordenados[:modelo[\"num_vizinhos\"]] # Pega os K primeiros índices/mais próximos, veja que k = modelo[\"num_vizinhos\"]\n",
    "    targets_vizinhos = modelo[\"y\"][k_primeiros_indices] # Obtém os valores de destino usando os índices + próximos\n",
    "    targets_vizinhos.sort()\n",
    "    previsao = st.mode(targets_vizinhos) #Acha a moda desses valores de destino pro exemplo X\n",
    "    return previsao\n",
    "\n",
    "modelo = {\"num_vizinhos\": 100}\n",
    "treinar_knn(modelo, X, y)\n",
    "y_previsto1 = previsao_knn(modelo, [50, 10, 250])\n",
    "y_previsto2 = previsao_knn(modelo, [20, 40, 200])\n",
    "y_previsto3 = previsao_knn(modelo, [51, 17, 190])\n",
    "print(f'Com o comprimento e profudindade do bico iguais a 5 e 20, e o tamanho da nadadeira como 250, temos que o penguin é da espécie {y_previsto1}')\n",
    "print()\n",
    "print(f'Com o comprimento e profundidade do bico iguais a 100 e 25, e o tamanho da nadadeira como 10, temos que o penguin é da espécie {y_previsto2}')\n",
    "print()\n",
    "print(f'Com o comprimento e profundidade do bico iguais a 51 e 17, e o tamanho da nadadeira como 190, temos que o penguin é da espécie {y_previsto3}')"
   ]
  },
  {
   "cell_type": "markdown",
   "id": "42453401-5f0c-49c4-b168-4cf390c7ad2e",
   "metadata": {},
   "source": [
    "O algoritmo usado foi um k-Nearest Neighbors de classificação (Para dados categóricos), pois era necessário encontrar as espécies utilizando os dados numéricos dos membros dos penguins.\n",
    "O Dataset inicialmente foi treinado, com 100 vizinhos próximos, utilizando os 3 atributos numéricos e o target nominal, depois, foi colocado no algoritmo de previsão da espécie usando o padrão do dataset todo.\n",
    "Inicialmente calcularam-se as distâncias entre todos os elementos e o ponto em observação, ordena os índices das distancias, seleciona os k índices mais próximos e obtém seus valores.\n",
    "Então eles foram organizados usando o .sort() para comparar os mais próximos, a previsão então considera a moda dos targets vizinhos mais próximos.\n",
    "Nas variáveis \"y_previstox\", identificamos 3 números, definidos pelos comprimentos dos membros do penguin, com eles números, o algoritmo compara com o dataset treinado e prevê o target."
   ]
  },
  {
   "cell_type": "code",
   "execution_count": null,
   "id": "656d14c1-c26a-4a49-b8d5-8360fa71c80c",
   "metadata": {},
   "outputs": [],
   "source": []
  }
 ],
 "metadata": {
  "kernelspec": {
   "display_name": "ilumpy",
   "language": "python",
   "name": "ilumpy"
  },
  "language_info": {
   "codemirror_mode": {
    "name": "ipython",
    "version": 3
   },
   "file_extension": ".py",
   "mimetype": "text/x-python",
   "name": "python",
   "nbconvert_exporter": "python",
   "pygments_lexer": "ipython3",
   "version": "3.10.8"
  }
 },
 "nbformat": 4,
 "nbformat_minor": 5
}
