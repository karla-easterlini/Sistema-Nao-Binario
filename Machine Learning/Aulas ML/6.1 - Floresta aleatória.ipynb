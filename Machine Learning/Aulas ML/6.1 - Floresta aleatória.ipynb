{
 "cells": [
  {
   "cell_type": "markdown",
   "metadata": {},
   "source": [
    "Floresta aleatória\n",
    "==================\n",
    "\n"
   ]
  },
  {
   "cell_type": "markdown",
   "metadata": {},
   "source": [
    "## Com muitas árvores temos uma floresta\n",
    "\n"
   ]
  },
  {
   "cell_type": "markdown",
   "metadata": {},
   "source": [
    "Nós vimos no notebook anterior o algoritmo de árvore de decisão. Ele gera modelos relativamente simples e explicáveis, porém a performance destes modelos muitas vezes deixa a desejar.\n",
    "\n",
    "Uma estratégia para contornar a baixa performance de árvores de decisão é montar um comitê (*ensemble*) contendo diversas árvores de decisão onde cada uma realiza sua previsão individual; podemos considerar que cada uma dessas previsões são &ldquo;votos&rdquo; e considerando todos os votos nós podemos chegar em uma resposta final. A expectativa é que a combinação de diferentes modelos com alto viés e baixa variância resulte em um modelo com maior variância e menor viés. Com isso, a expectativa é de que a performance do comitê seja melhor do que a performance dos membros sozinhos.\n",
    "\n",
    "O nome do algoritmo descrito acima é &ldquo;floresta aleatória&rdquo;. É uma &ldquo;floresta&rdquo; pois é feita de diversas *árvores* de decisão. É &ldquo;aleatória&rdquo; pois o processo de construir cada uma das árvores de decisão desta floresta envolve amostragem dos exemplos e dos atributos. A fundamentação teórica sobre florestas aleatórias será discutida em sala de aula e pode ser consultada no capítulo 4.9 da referência [1]. Vale a pena conferir também o vídeo da Leslie Myint [2] e do StatQuest [3] sobre o tema.\n",
    "\n"
   ]
  },
  {
   "cell_type": "markdown",
   "metadata": {},
   "source": [
    "## Florestas aleatórias com `scikit-learn`\n",
    "\n"
   ]
  },
  {
   "cell_type": "markdown",
   "metadata": {},
   "source": [
    "Vamos primeiro carregar os dados e dividi-los em treino e teste.\n",
    "\n"
   ]
  },
  {
   "cell_type": "code",
   "execution_count": 1,
   "metadata": {},
   "outputs": [],
   "source": [
    "from sklearn.model_selection import train_test_split\n",
    "import seaborn as sns\n",
    "\n",
    "DATASET_NAME = \"penguins\"\n",
    "FEATURES = [\"bill_length_mm\", \"bill_depth_mm\", \"flipper_length_mm\"]\n",
    "TARGET = [\"body_mass_g\"]\n",
    "\n",
    "TAMANHO_TESTE = 0.1\n",
    "SEMENTE_ALEATORIA = 61455\n",
    "\n",
    "df = sns.load_dataset(DATASET_NAME)\n",
    "\n",
    "df = df.reindex(FEATURES + TARGET, axis=1)\n",
    "df = df.dropna()\n",
    "\n",
    "indices = df.index\n",
    "indices_treino, indices_teste = train_test_split(\n",
    "    indices, test_size=TAMANHO_TESTE, random_state=SEMENTE_ALEATORIA\n",
    ")\n",
    "\n",
    "df_treino = df.loc[indices_treino]\n",
    "df_teste = df.loc[indices_teste]\n",
    "\n",
    "X_treino = df_treino.reindex(FEATURES, axis=1).values\n",
    "y_treino = df_treino.reindex(TARGET, axis=1).values.ravel()\n",
    "\n",
    "X_teste = df_teste.reindex(FEATURES, axis=1).values\n",
    "y_teste = df_teste.reindex(TARGET, axis=1).values.ravel()"
   ]
  },
  {
   "cell_type": "markdown",
   "metadata": {},
   "source": [
    "Agora vamos criar uma instância do modelo!\n",
    "\n"
   ]
  },
  {
   "cell_type": "code",
   "execution_count": 2,
   "metadata": {},
   "outputs": [],
   "source": [
    "from sklearn.ensemble import RandomForestRegressor\n",
    "\n",
    "modelo_rf = RandomForestRegressor(random_state=SEMENTE_ALEATORIA)"
   ]
  },
  {
   "cell_type": "markdown",
   "metadata": {},
   "source": [
    "Vamos treinar o modelo e checar sua performance.\n",
    "\n"
   ]
  },
  {
   "cell_type": "code",
   "execution_count": 3,
   "metadata": {},
   "outputs": [
    {
     "name": "stdout",
     "output_type": "stream",
     "text": [
      "O RMSE do modelo árvore de decisão foi de 326.3228462734413 unidades de y.\n"
     ]
    }
   ],
   "source": [
    "from sklearn.metrics import mean_squared_error\n",
    "\n",
    "modelo_rf.fit(X_treino, y_treino)\n",
    "\n",
    "y_verdadeiro = y_teste\n",
    "y_previsao = modelo_rf.predict(X_teste)\n",
    "\n",
    "RMSE = mean_squared_error(y_verdadeiro, y_previsao, squared=False)\n",
    "\n",
    "print(f\"O RMSE do modelo árvore de decisão foi de {RMSE} unidades de y.\")"
   ]
  },
  {
   "cell_type": "markdown",
   "metadata": {},
   "source": [
    "## Hiperparâmetros\n",
    "\n"
   ]
  },
  {
   "cell_type": "markdown",
   "metadata": {},
   "source": [
    "O algoritmo da floresta aleatória tem os mesmos hiperparâmetros do algoritmo da árvore de decisão e mais alguns outros. Todos eles podem ser conferidos na [documentação](https://scikit-learn.org/stable/modules/generated/sklearn.ensemble.RandomForestRegressor.html). O hiperparâmetro `max_leaf_nodes`, por exemplo, controla o número máximo de vértices raiz para cada árvore que compõe o comitê.\n",
    "\n",
    "Um novo hiperparâmetro muito importente é o `num_estimators` que controla o número de árvores que irão compor o comitê (por padrão esse valor é de 100).\n",
    "\n",
    "Outro novo hiperparâmetro é o `max_features`. Este hiperparâmetro está ligado ao processo de indução de cada árvore (ver referências [2] e [3]). Ele controla o número máximo de atributos que serão considerados a cada vez que estivermos em um vértice raiz ou vértice de decisão. Por padrão, o `scikit-learn` considera *todos* os atributos neste processo. No entanto, segundo a referência [1], resultados empíricos sugerem que o valor de 0.33 para este hiperparâmetro usualmente leva a uma boa performance (isto é, considerar um terço dos atributos a cada vértice, escolhidos de forma aleatória toda vez que necessário).\n",
    "\n",
    "Fique atento que o argumento `n_jobs` deste algoritmo *não é um hiperparâmetro*, mas sim o controle de como os cálculos serão executados. Por padrão, o `scikit-learn` usa apenas um núcleo de CPU para induzir sua floresta aleatória. Isso pode ser muito lento! Considere aumentar esse valor se você tiver capacidade computacional para tal.\n",
    "\n",
    "O código abaixo testa três hiperparâmetros.\n",
    "\n"
   ]
  },
  {
   "cell_type": "code",
   "execution_count": 4,
   "metadata": {},
   "outputs": [
    {
     "name": "stdout",
     "output_type": "stream",
     "text": [
      "O RMSE do modelo RF usando n_estimators=10 max_leaf_nodes=None e max_depth=None foi de 331.10 unidades de y.\n",
      "O RMSE do modelo RF usando n_estimators=100 max_leaf_nodes=None e max_depth=None foi de 326.32 unidades de y.\n",
      "O RMSE do modelo RF usando n_estimators=300 max_leaf_nodes=None e max_depth=None foi de 311.83 unidades de y.\n",
      "O RMSE do modelo RF usando n_estimators=10 max_leaf_nodes=None e max_depth=3 foi de 344.41 unidades de y.\n",
      "O RMSE do modelo RF usando n_estimators=100 max_leaf_nodes=None e max_depth=3 foi de 341.32 unidades de y.\n",
      "O RMSE do modelo RF usando n_estimators=300 max_leaf_nodes=None e max_depth=3 foi de 336.45 unidades de y.\n",
      "O RMSE do modelo RF usando n_estimators=10 max_leaf_nodes=6 e max_depth=None foi de 348.66 unidades de y.\n",
      "O RMSE do modelo RF usando n_estimators=100 max_leaf_nodes=6 e max_depth=None foi de 349.15 unidades de y.\n",
      "O RMSE do modelo RF usando n_estimators=300 max_leaf_nodes=6 e max_depth=None foi de 347.39 unidades de y.\n",
      "O RMSE do modelo RF usando n_estimators=10 max_leaf_nodes=6 e max_depth=3 foi de 346.71 unidades de y.\n",
      "O RMSE do modelo RF usando n_estimators=100 max_leaf_nodes=6 e max_depth=3 foi de 348.31 unidades de y.\n",
      "O RMSE do modelo RF usando n_estimators=300 max_leaf_nodes=6 e max_depth=3 foi de 346.73 unidades de y.\n"
     ]
    }
   ],
   "source": [
    "from itertools import product\n",
    "\n",
    "NUM_ARVORES = [10, 100, 300]\n",
    "NUM_FOLHAS = [None, 6]\n",
    "NUM_PROFUNDIDADE = [None, 3]\n",
    "\n",
    "for n_folhas, n_profundidade, n_arvores in product(\n",
    "    NUM_FOLHAS, NUM_PROFUNDIDADE, NUM_ARVORES\n",
    "):\n",
    "    modelo_rf = RandomForestRegressor(\n",
    "        n_estimators=n_arvores,\n",
    "        max_leaf_nodes=n_folhas,\n",
    "        max_depth=n_profundidade,\n",
    "        random_state=SEMENTE_ALEATORIA,\n",
    "        n_jobs=4,\n",
    "    )\n",
    "\n",
    "    modelo_rf.fit(X_treino, y_treino)\n",
    "\n",
    "    y_verdadeiro = y_teste\n",
    "    y_previsao = modelo_rf.predict(X_teste)\n",
    "    RMSE = mean_squared_error(y_verdadeiro, y_previsao, squared=False)\n",
    "\n",
    "    print(\n",
    "        f\"O RMSE do modelo RF usando \"\n",
    "        f\"n_estimators={n_arvores} max_leaf_nodes={n_folhas} \"\n",
    "        f\"e max_depth={n_profundidade} foi de {RMSE:.2f} unidades de y.\"\n",
    "    )"
   ]
  },
  {
   "cell_type": "markdown",
   "metadata": {},
   "source": [
    "Notou algum padrão?\n",
    "\n"
   ]
  },
  {
   "cell_type": "markdown",
   "metadata": {},
   "source": [
    "## A importância de cada atributo\n",
    "\n"
   ]
  },
  {
   "cell_type": "markdown",
   "metadata": {},
   "source": [
    "Nem todos os atributos têm a mesma &ldquo;importância&rdquo; quando um modelo realiza uma previsão. Em outras palavras, nem todos os atributos contribuem de maneira igual quando o modelo usa eles para prever o target.\n",
    "\n",
    "A importância de um certo atributo está relacionada com o impacto que este atributo tem na performance do modelo. Uma forma de estimar a importância de um atributo é percorrendo todos os vértices de todas as árvores da floresta aleatória em busca de vértices que contenham o atributo sendo investigado. Para cada um destes vértices, nós computamos a melhora local de performance (isto é, quanto que a performance melhorou após os dados &ldquo;passarem&rdquo; pelo vértice sendo estudado). A média da melhora local de performance é uma estimativa da importância do atributo sendo estudado.\n",
    "\n",
    "Vamos ver como podemos usar o `scikit-learn` para estimar a importância de atributos. Primeiramente temos que treinar o modelo. Aqui vamos usar um modelo mais simples com apenas 50 árvores para o processo ficar mais rápido.\n",
    "\n"
   ]
  },
  {
   "cell_type": "code",
   "execution_count": 5,
   "metadata": {},
   "outputs": [
    {
     "data": {
      "text/html": [
       "<style>#sk-container-id-1 {color: black;background-color: white;}#sk-container-id-1 pre{padding: 0;}#sk-container-id-1 div.sk-toggleable {background-color: white;}#sk-container-id-1 label.sk-toggleable__label {cursor: pointer;display: block;width: 100%;margin-bottom: 0;padding: 0.3em;box-sizing: border-box;text-align: center;}#sk-container-id-1 label.sk-toggleable__label-arrow:before {content: \"▸\";float: left;margin-right: 0.25em;color: #696969;}#sk-container-id-1 label.sk-toggleable__label-arrow:hover:before {color: black;}#sk-container-id-1 div.sk-estimator:hover label.sk-toggleable__label-arrow:before {color: black;}#sk-container-id-1 div.sk-toggleable__content {max-height: 0;max-width: 0;overflow: hidden;text-align: left;background-color: #f0f8ff;}#sk-container-id-1 div.sk-toggleable__content pre {margin: 0.2em;color: black;border-radius: 0.25em;background-color: #f0f8ff;}#sk-container-id-1 input.sk-toggleable__control:checked~div.sk-toggleable__content {max-height: 200px;max-width: 100%;overflow: auto;}#sk-container-id-1 input.sk-toggleable__control:checked~label.sk-toggleable__label-arrow:before {content: \"▾\";}#sk-container-id-1 div.sk-estimator input.sk-toggleable__control:checked~label.sk-toggleable__label {background-color: #d4ebff;}#sk-container-id-1 div.sk-label input.sk-toggleable__control:checked~label.sk-toggleable__label {background-color: #d4ebff;}#sk-container-id-1 input.sk-hidden--visually {border: 0;clip: rect(1px 1px 1px 1px);clip: rect(1px, 1px, 1px, 1px);height: 1px;margin: -1px;overflow: hidden;padding: 0;position: absolute;width: 1px;}#sk-container-id-1 div.sk-estimator {font-family: monospace;background-color: #f0f8ff;border: 1px dotted black;border-radius: 0.25em;box-sizing: border-box;margin-bottom: 0.5em;}#sk-container-id-1 div.sk-estimator:hover {background-color: #d4ebff;}#sk-container-id-1 div.sk-parallel-item::after {content: \"\";width: 100%;border-bottom: 1px solid gray;flex-grow: 1;}#sk-container-id-1 div.sk-label:hover label.sk-toggleable__label {background-color: #d4ebff;}#sk-container-id-1 div.sk-serial::before {content: \"\";position: absolute;border-left: 1px solid gray;box-sizing: border-box;top: 0;bottom: 0;left: 50%;z-index: 0;}#sk-container-id-1 div.sk-serial {display: flex;flex-direction: column;align-items: center;background-color: white;padding-right: 0.2em;padding-left: 0.2em;position: relative;}#sk-container-id-1 div.sk-item {position: relative;z-index: 1;}#sk-container-id-1 div.sk-parallel {display: flex;align-items: stretch;justify-content: center;background-color: white;position: relative;}#sk-container-id-1 div.sk-item::before, #sk-container-id-1 div.sk-parallel-item::before {content: \"\";position: absolute;border-left: 1px solid gray;box-sizing: border-box;top: 0;bottom: 0;left: 50%;z-index: -1;}#sk-container-id-1 div.sk-parallel-item {display: flex;flex-direction: column;z-index: 1;position: relative;background-color: white;}#sk-container-id-1 div.sk-parallel-item:first-child::after {align-self: flex-end;width: 50%;}#sk-container-id-1 div.sk-parallel-item:last-child::after {align-self: flex-start;width: 50%;}#sk-container-id-1 div.sk-parallel-item:only-child::after {width: 0;}#sk-container-id-1 div.sk-dashed-wrapped {border: 1px dashed gray;margin: 0 0.4em 0.5em 0.4em;box-sizing: border-box;padding-bottom: 0.4em;background-color: white;}#sk-container-id-1 div.sk-label label {font-family: monospace;font-weight: bold;display: inline-block;line-height: 1.2em;}#sk-container-id-1 div.sk-label-container {text-align: center;}#sk-container-id-1 div.sk-container {/* jupyter's `normalize.less` sets `[hidden] { display: none; }` but bootstrap.min.css set `[hidden] { display: none !important; }` so we also need the `!important` here to be able to override the default hidden behavior on the sphinx rendered scikit-learn.org. See: https://github.com/scikit-learn/scikit-learn/issues/21755 */display: inline-block !important;position: relative;}#sk-container-id-1 div.sk-text-repr-fallback {display: none;}</style><div id=\"sk-container-id-1\" class=\"sk-top-container\"><div class=\"sk-text-repr-fallback\"><pre>RandomForestRegressor(n_estimators=50, n_jobs=4, random_state=61455)</pre><b>In a Jupyter environment, please rerun this cell to show the HTML representation or trust the notebook. <br />On GitHub, the HTML representation is unable to render, please try loading this page with nbviewer.org.</b></div><div class=\"sk-container\" hidden><div class=\"sk-item\"><div class=\"sk-estimator sk-toggleable\"><input class=\"sk-toggleable__control sk-hidden--visually\" id=\"sk-estimator-id-1\" type=\"checkbox\" checked><label for=\"sk-estimator-id-1\" class=\"sk-toggleable__label sk-toggleable__label-arrow\">RandomForestRegressor</label><div class=\"sk-toggleable__content\"><pre>RandomForestRegressor(n_estimators=50, n_jobs=4, random_state=61455)</pre></div></div></div></div></div>"
      ],
      "text/plain": [
       "RandomForestRegressor(n_estimators=50, n_jobs=4, random_state=61455)"
      ]
     },
     "execution_count": 5,
     "metadata": {},
     "output_type": "execute_result"
    }
   ],
   "source": [
    "N_ARVORES = 50\n",
    "N_JOBS = 4\n",
    "\n",
    "modelo_rf = RandomForestRegressor(\n",
    "    n_estimators=N_ARVORES,\n",
    "    random_state=SEMENTE_ALEATORIA,\n",
    "    n_jobs=N_JOBS,\n",
    ")\n",
    "\n",
    "modelo_rf.fit(X_treino, y_treino)"
   ]
  },
  {
   "cell_type": "markdown",
   "metadata": {},
   "source": [
    "O `scikit-learn` já computa as importâncias de florestas aleatórias automaticamente e armazena elas no atributo `feature_importances_`. Dica: atributos que terminam com um sublinhado (`_`) dizem respeito a características do modelo que foram obtidas *após* o treinamento. Atributos que não terminam com sublinhado são características que foram determinadas *antes* do treinamento.\n",
    "\n",
    "Importante ressaltar que o `scikit-learn` automaticamente normaliza as importâncias para que a soma delas resulte em 1. Desta forma, fica mais fácil de comparar importâncias entre diferentes atributos.\n",
    "\n",
    "O código abaixo avalia a importância e seu desvio padrão. O código foi baseado neste [tutorial](https://scikit-learn.org/stable/auto_examples/ensemble/plot_forest_importances.html) disponível no site do `scikit-learn`.\n",
    "\n"
   ]
  },
  {
   "cell_type": "code",
   "execution_count": 6,
   "metadata": {},
   "outputs": [
    {
     "data": {
      "image/png": "[encoded data removed]",
      "text/plain": [
       "<Figure size 640x480 with 1 Axes>"
      ]
     },
     "metadata": {},
     "output_type": "display_data"
    }
   ],
   "source": [
    "import matplotlib.pyplot as plt\n",
    "import numpy as np\n",
    "import pandas as pd\n",
    "\n",
    "importancia = modelo_rf.feature_importances_\n",
    "desvio_padrao = np.std(\n",
    "    [arvore.feature_importances_ for arvore in modelo_rf.estimators_], axis=0\n",
    ")\n",
    "\n",
    "serie_importancia = pd.Series(importancia, index=FEATURES)\n",
    "\n",
    "fig, axe = plt.subplots()\n",
    "serie_importancia.plot.bar(yerr=desvio_padrao, ax=axe)\n",
    "axe.set_ylabel(\"Importância relativa\")\n",
    "plt.show()"
   ]
  },
  {
   "cell_type": "markdown",
   "metadata": {},
   "source": [
    "Observamos que o tamanho da nadadeira dos pinguins é o atributo de maior importância em nossa análise. O tamanho e profundidade do bico demonstraram serem bem menos importantes.\n",
    "\n"
   ]
  },
  {
   "cell_type": "markdown",
   "metadata": {},
   "source": [
    "## Referências\n",
    "\n"
   ]
  },
  {
   "cell_type": "markdown",
   "metadata": {},
   "source": [
    "1.  IZBICKI, Rafael; DOS SANTOS, Tiago Mendonça. Aprendizado de máquina: uma abordagem estatística. 2020. Disponível em: [http://www.rizbicki.ufscar.br/ame/](http://www.rizbicki.ufscar.br/ame/).\n",
    "\n",
    "2.  Vídeo da Leslie Myint sobre florestas aleatórias [https://www.youtube.com/watch?v=FurqoUSdAPM](https://www.youtube.com/watch?v=FurqoUSdAPM)\n",
    "\n",
    "3.  StatQuest sobre florestas aleatórias [https://www.youtube.com/watch?v=J4Wdy0Wc_xQ](https://www.youtube.com/watch?v=J4Wdy0Wc_xQ)\n",
    "\n",
    "4.  Documentação do `scikit-learn` sobre florestas aleatórias para regressão [https://scikit-learn.org/stable/modules/generated/sklearn.ensemble.RandomForestRegressor.html](https://scikit-learn.org/stable/modules/generated/sklearn.ensemble.RandomForestRegressor.html)\n",
    "\n",
    "5.  Vídeo sobre a importância dos atributos em uma floresta aleatória [https://www.youtube.com/watch?v=cw4qG9ePZ9Y](https://www.youtube.com/watch?v=cw4qG9ePZ9Y)\n",
    "\n",
    "6.  Tutorial `scikit-learn` sobre importância de florestas aleatórias [https://scikit-learn.org/stable/auto_examples/ensemble/plot_forest_importances.html](https://scikit-learn.org/stable/auto_examples/ensemble/plot_forest_importances.html)\n",
    "\n"
   ]
  }
 ],
 "metadata": {
  "kernelspec": {
   "display_name": "ilumpy",
   "language": "python",
   "name": "ilumpy"
  },
  "language_info": {
   "codemirror_mode": {
    "name": "ipython",
    "version": 3
   },
   "file_extension": ".py",
   "mimetype": "text/x-python",
   "name": "python",
   "nbconvert_exporter": "python",
   "pygments_lexer": "ipython3",
   "version": "3.10.6"
  },
  "org": null
 },
 "nbformat": 4,
 "nbformat_minor": 4
}
