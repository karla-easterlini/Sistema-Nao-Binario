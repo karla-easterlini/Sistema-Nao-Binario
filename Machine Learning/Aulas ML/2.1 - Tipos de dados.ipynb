{
 "cells": [
  {
   "cell_type": "markdown",
   "metadata": {},
   "source": [
    "Tipos de dados\n",
    "==============\n",
    "\n"
   ]
  },
  {
   "cell_type": "markdown",
   "metadata": {},
   "source": [
    "## DataFrame\n",
    "\n"
   ]
  },
  {
   "cell_type": "markdown",
   "metadata": {},
   "source": [
    "Antes de seguir em frente precisamos do `DataFrame` dos dados que iremos tratar. Neste notebook nós mesmos criaremos os dados e armazenaremos eles em um dicionário. Usaremos o conversor de dicionário em `DataFrame` do próprio `pandas`.\n",
    "\n"
   ]
  },
  {
   "cell_type": "code",
   "execution_count": 1,
   "metadata": {},
   "outputs": [
    {
     "name": "stdout",
     "output_type": "stream",
     "text": [
      "        Nome  Idade  Bigode épico? Altura\n",
      "0     Platão   80.0           True   <NA>\n",
      "1   Sócrates   71.0           True   <NA>\n",
      "2  Descartes   53.0          False   1.55\n",
      "3  Nietzsche   55.0           True    1.7\n"
     ]
    }
   ],
   "source": [
    "import pandas as pd\n",
    "\n",
    "dicionario_contendo_os_dados = {\n",
    "    \"Nome\": [\"Platão\", \"Sócrates\", \"Descartes\", \"Nietzsche\"],\n",
    "    \"Idade\": [80, 71, 53, 55.0],\n",
    "    \"Bigode épico?\": [True, True, False, True],\n",
    "    \"Altura\": [pd.NA, pd.NA, 1.55, 1.70],\n",
    "}\n",
    "\n",
    "df = pd.DataFrame.from_dict(dicionario_contendo_os_dados)\n",
    "\n",
    "print(df)"
   ]
  },
  {
   "cell_type": "markdown",
   "metadata": {},
   "source": [
    "O objeto `pd.NA` indica para o `pandas` que o dado não está disponível (*not available*). É bastante comum um conjunto de dados ter certas entradas indisponíveis e faz parte do pré-processamento de dados identificar e tratar esse tipo de problema.\n",
    "\n"
   ]
  },
  {
   "cell_type": "markdown",
   "metadata": {},
   "source": [
    "## Tipos dos dados\n",
    "\n"
   ]
  },
  {
   "cell_type": "markdown",
   "metadata": {},
   "source": [
    "Dados podem ter diversos tipos. Certas informações, como o nome das pessoas, são representados por textos, logo são strings. Números podem ser inteiros, floats, complexos, Booleanos&#x2026;\n",
    "\n",
    "Vamos ver se o `pandas` conseguiu entender corretamente os tipos dos nossos dados.\n",
    "\n"
   ]
  },
  {
   "cell_type": "code",
   "execution_count": 2,
   "metadata": {},
   "outputs": [
    {
     "name": "stdout",
     "output_type": "stream",
     "text": [
      "Nome              object\n",
      "Idade            float64\n",
      "Bigode épico?       bool\n",
      "Altura            object\n",
      "dtype: object\n"
     ]
    }
   ],
   "source": [
    "print(df.dtypes)"
   ]
  },
  {
   "cell_type": "markdown",
   "metadata": {},
   "source": [
    "Segundo o `pandas`, a coluna `Nome` tem o tipo de `object`. Este tipo simplesmente está nos dizendo que existem objetos quaisquer de Python dentro dessa coluna (o que não diz muuuuita coisa na verdade&#x2026;). Uma coluna que contenha dados de diferentes tipos sempre será uma coluna do tipo `object`. Uma coluna que só contenha strings acaba sendo uma coluna do tipo `object` por padrão no `pandas`.\n",
    "\n",
    "A coluna `Idade` é uma coluna com o tipo `float64`, ou seja, ela guarda números reais que são armazenados em 64 bits no seu computador. Ué, mas as idades são todas números inteiros, o que aconteceu aqui? Aconteceu que uma das idades estava escrita como float (você consegue identificar qual?). Quando o `pandas` encontra dados numéricos misturados, ele sempre escolhe o tipo que consegue englobar a todos. Como os inteiros são um subconjunto dos reais, então o `pandas` optou por usar `float` ao invés de `int` para contemplar todos os dados da coluna `Idade`.\n",
    "\n",
    "A coluna `Bigode épico?` foi corretamente identificada como uma coluna do tipo Booleana.\n",
    "\n",
    "A coluna `Altura` foi identificada como uma coluna do tipo `object`&#x2026; mas ela só contém números, não é? Na verdade não, ela contém também células vazias representadas pelo `pd.NA`. Para o `pandas` isso significa que existe uma mistura de diferentes tipos de objetos de Python, logo o tipo da coluna é `object`.\n",
    "\n",
    "DataFrames de `pandas` têm um método que permite eles inferirem &ldquo;automaticamente&rdquo; os tipos de colunas. Vamos ver como ele se comporta no nosso `DataFrame`.\n",
    "\n"
   ]
  },
  {
   "cell_type": "code",
   "execution_count": 3,
   "metadata": {},
   "outputs": [
    {
     "name": "stdout",
     "output_type": "stream",
     "text": [
      "Nome             string[python]\n",
      "Idade                     Int64\n",
      "Bigode épico?           boolean\n",
      "Altura                  Float64\n",
      "dtype: object\n"
     ]
    }
   ],
   "source": [
    "df = df.convert_dtypes()\n",
    "print(df.dtypes)"
   ]
  },
  {
   "cell_type": "markdown",
   "metadata": {},
   "source": [
    "Há! O método `convert_dtypes` foi sagaz e entendeu que a coluna `Nome` é composta por strings e que a coluna `Idade` contém na verdade apenas números inteiros. Ele converteu a coluna `Bigode Épico?` de `bool` para `boolean`. A diferença é simples: colunas com o tipo `boolean` permitem células vazias usando o `pd.NA`. Colunas do tipo `bool` não permitem. Por fim, a coluna `Altura` permanece com o tipo `object` pois não há nada que possa ser feito, afinal ela de fato é composta por tipos diferentes de dados.\n",
    "\n",
    "Digamos que você queira alterar o tipo de uma coluna &ldquo;na mão&rdquo;. Isso pode ser feito com o método `astype`. Vamos alterar a coluna `Idade` para o tipo `float`:\n",
    "\n"
   ]
  },
  {
   "cell_type": "code",
   "execution_count": 4,
   "metadata": {},
   "outputs": [
    {
     "name": "stdout",
     "output_type": "stream",
     "text": [
      "Nome             string[python]\n",
      "Idade                   float64\n",
      "Bigode épico?           boolean\n",
      "Altura                  Float64\n",
      "dtype: object\n"
     ]
    }
   ],
   "source": [
    "df2 = df.copy()\n",
    "df2[\"Idade\"] = df2[\"Idade\"].astype(float)\n",
    "print(df2.dtypes)"
   ]
  },
  {
   "cell_type": "markdown",
   "metadata": {},
   "source": [
    "Voilà!\n",
    "\n"
   ]
  }
 ],
 "metadata": {
  "kernelspec": {
   "display_name": "ilumpy",
   "language": "python",
   "name": "ilumpy"
  },
  "language_info": {
   "codemirror_mode": {
    "name": "ipython",
    "version": 3
   },
   "file_extension": ".py",
   "mimetype": "text/x-python",
   "name": "python",
   "nbconvert_exporter": "python",
   "pygments_lexer": "ipython3",
   "version": "3.10.12"
  },
  "org": null
 },
 "nbformat": 4,
 "nbformat_minor": 4
}
