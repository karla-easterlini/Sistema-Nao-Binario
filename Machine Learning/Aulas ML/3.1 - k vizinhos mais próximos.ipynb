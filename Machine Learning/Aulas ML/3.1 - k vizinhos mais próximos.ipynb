{
 "cells": [
  {
   "cell_type": "markdown",
   "metadata": {},
   "source": [
    "k-vizinhos mais próximos\n",
    "========================\n",
    "\n"
   ]
  },
  {
   "cell_type": "markdown",
   "metadata": {},
   "source": [
    "## Modelos preditivos\n",
    "\n"
   ]
  },
  {
   "cell_type": "markdown",
   "metadata": {},
   "source": [
    "Quando criamos modelos preditivos, nosso objetivo é prever um (ou mais) target(s) usando um modelo que recebe um (ou mais) atributo(s). Um desafio neste caso é encontrar um modelo preditivo que seja capaz de prever *razoavelmente bem* o target desejado dados os atributos. &ldquo;Razoavelmente bem&rdquo; será quantificado no futuro através de métricas.\n",
    "\n",
    "Quando o target a ser previsto é um target categórico, dizemos que o problema é um problema de *classificação*.\n",
    "\n",
    "Quando o target a ser previsto é um target numérico, dizemos que o problema é um problema de *regressão*.\n",
    "\n",
    "Existem diversas maneiras de se obter modelos preditivos. Aqui utilizaremos de estratégias de aprendizado de máquina. Algoritmos de aprendizado de máquina são capazes de induzir modelos preditivos observando conjuntos de dados contendo atributos e target.\n",
    "\n"
   ]
  },
  {
   "cell_type": "markdown",
   "metadata": {},
   "source": [
    "## O algoritmo $k$​-vizinhos mais próximos\n",
    "\n"
   ]
  },
  {
   "cell_type": "markdown",
   "metadata": {},
   "source": [
    "O algoritmo $k$​-vizinhos mais próximos ($k$​-NN) é um algoritmo de aprendizado de máquina baseado na hipótese que dados similares ocupam regiões próximas no espaço de entrada (isto é, no espaço dos atributos). Este algoritmo pode ser utilizado tanto para regressão quanto para classificação.\n",
    "\n",
    "O princípio de funcionamento deste algoritmo será discutido em aula, mas de maneira resumida, quando um modelo treinado por este algoritmo é usado para realizar a previsão de um certo exemplo $x$, ele checa a distância deste exemplo $x$ com todos os exemplos usados para treinar o modelo. Os $k$ exemplos mais próximos de $x$ são usados para calcular a previsão do exemplo $x$.\n",
    "\n",
    "Para uma fundamentação teórica, leia as páginas 53 a 58 da referência [1]. Pode ser interessante também ler o capítulo 12 da referência [2] assistir aos vídeos das referências [3, 4].\n",
    "\n"
   ]
  },
  {
   "cell_type": "markdown",
   "metadata": {},
   "source": [
    "## Implementando um regressor $k$​-NN\n",
    "\n"
   ]
  },
  {
   "cell_type": "markdown",
   "metadata": {},
   "source": [
    "Como parte da disciplina, vamos implementar um regressor $k$-NN em Python para entender o funcionamento de um algoritmo de aprendizado de máquina do começo ao fim. Para isso, usaremos o conjunto de dados de pinguins disponível no `seaborn`. Como atributos, vamos utilizar as medidas do bico e da nadadeira dos pinguins e como target vamos utilizar o peso dos pinguins.\n",
    "\n"
   ]
  },
  {
   "cell_type": "code",
   "execution_count": 5,
   "metadata": {},
   "outputs": [],
   "source": [
    "import seaborn as sns\n",
    "\n",
    "DATASET_NAME = \"penguins\"\n",
    "FEATURES = [\"bill_length_mm\", \"bill_depth_mm\", \"flipper_length_mm\"]\n",
    "TARGET = [\"body_mass_g\"]\n",
    "\n",
    "df = sns.load_dataset(DATASET_NAME)\n",
    "\n",
    "df = df.reindex(FEATURES + TARGET, axis=1)\n",
    "df = df.dropna()\n",
    "\n",
    "X = df.reindex(FEATURES, axis=1)\n",
    "y = df.reindex(TARGET, axis=1)"
   ]
  },
  {
   "cell_type": "markdown",
   "metadata": {},
   "source": [
    "Faremos juntos a implementação na sala de aula. Você pode conferir uma implementação gravada em vídeo na referência [5].\n",
    "\n"
   ]
  },
  {
   "cell_type": "markdown",
   "metadata": {
    "tags": []
   },
   "source": [
    "# Dados 03\n",
    "### Sistema Não-Binário\n",
    "#### Karla Pascoalini e Cauê Santos"
   ]
  },
  {
   "cell_type": "markdown",
   "metadata": {
    "tags": []
   },
   "source": [
    "## Proponente: \n",
    "Alfaiate Ligeirinha (apesar do nome, ela é na verdade uma barda muito conhecida no reinado, amiga da Senhorita Creizuda)\n",
    "## Objetivo:\n",
    "Escolha entre a sua dupla um dataset que tem potencial para ser o dataset do trabalho de conclusão da disciplina (é um dataset, não dois, não três). Datasets didáticos (tipo os que tem no seaborn) são desencorajados para esta tarefa. Carregue seu dataset em um DataFrame. Identifique quais são as colunas que contém atributos e quais são as colunas que contém targets. Faça uma análise exploratória dos dados, buscando entender como eles se comportam (não se esqueça de uma breve discussão). Identifique os tipos dos dados e realize conversão simbólico-numérica para todos os dados categóricos que identificou como atributo ou target (preste atenção se seus dados são ordinais ou nominais para fazer a conversão mais apropriada). Identifique dados que requerem transformação (seja por conversão de unidades ou por aplicação de logaritmo) e realize as transformações necessárias. Encerre seu trabalho definindo dois DataFrames: um chamado X que deverá conter todos seus atributos e um chamado y contendo todos seus targets. Tanto atributos quanto targets nestes DataFrames finais devem ser numéricos e já transformados (se for o caso). Não normalize os dados ainda!"
   ]
  },
  {
   "cell_type": "code",
   "execution_count": 6,
   "metadata": {},
   "outputs": [
    {
     "data": {
      "text/html": [
       "<div>\n",
       "<style scoped>\n",
       "    .dataframe tbody tr th:only-of-type {\n",
       "        vertical-align: middle;\n",
       "    }\n",
       "\n",
       "    .dataframe tbody tr th {\n",
       "        vertical-align: top;\n",
       "    }\n",
       "\n",
       "    .dataframe thead th {\n",
       "        text-align: right;\n",
       "    }\n",
       "</style>\n",
       "<table border=\"1\" class=\"dataframe\">\n",
       "  <thead>\n",
       "    <tr style=\"text-align: right;\">\n",
       "      <th></th>\n",
       "      <th>bill_length_mm</th>\n",
       "      <th>bill_depth_mm</th>\n",
       "      <th>flipper_length_mm</th>\n",
       "    </tr>\n",
       "  </thead>\n",
       "  <tbody>\n",
       "    <tr>\n",
       "      <th>count</th>\n",
       "      <td>342.000000</td>\n",
       "      <td>342.000000</td>\n",
       "      <td>342.000000</td>\n",
       "    </tr>\n",
       "    <tr>\n",
       "      <th>mean</th>\n",
       "      <td>43.921930</td>\n",
       "      <td>17.151170</td>\n",
       "      <td>200.915205</td>\n",
       "    </tr>\n",
       "    <tr>\n",
       "      <th>std</th>\n",
       "      <td>5.459584</td>\n",
       "      <td>1.974793</td>\n",
       "      <td>14.061714</td>\n",
       "    </tr>\n",
       "    <tr>\n",
       "      <th>min</th>\n",
       "      <td>32.100000</td>\n",
       "      <td>13.100000</td>\n",
       "      <td>172.000000</td>\n",
       "    </tr>\n",
       "    <tr>\n",
       "      <th>25%</th>\n",
       "      <td>39.225000</td>\n",
       "      <td>15.600000</td>\n",
       "      <td>190.000000</td>\n",
       "    </tr>\n",
       "    <tr>\n",
       "      <th>50%</th>\n",
       "      <td>44.450000</td>\n",
       "      <td>17.300000</td>\n",
       "      <td>197.000000</td>\n",
       "    </tr>\n",
       "    <tr>\n",
       "      <th>75%</th>\n",
       "      <td>48.500000</td>\n",
       "      <td>18.700000</td>\n",
       "      <td>213.000000</td>\n",
       "    </tr>\n",
       "    <tr>\n",
       "      <th>max</th>\n",
       "      <td>59.600000</td>\n",
       "      <td>21.500000</td>\n",
       "      <td>231.000000</td>\n",
       "    </tr>\n",
       "  </tbody>\n",
       "</table>\n",
       "</div>"
      ],
      "text/plain": [
       "       bill_length_mm  bill_depth_mm  flipper_length_mm\n",
       "count      342.000000     342.000000         342.000000\n",
       "mean        43.921930      17.151170         200.915205\n",
       "std          5.459584       1.974793          14.061714\n",
       "min         32.100000      13.100000         172.000000\n",
       "25%         39.225000      15.600000         190.000000\n",
       "50%         44.450000      17.300000         197.000000\n",
       "75%         48.500000      18.700000         213.000000\n",
       "max         59.600000      21.500000         231.000000"
      ]
     },
     "execution_count": 6,
     "metadata": {},
     "output_type": "execute_result"
    }
   ],
   "source": [
    "X.describe()"
   ]
  },
  {
   "cell_type": "code",
   "execution_count": 7,
   "metadata": {},
   "outputs": [
    {
     "data": {
      "text/plain": [
       "342"
      ]
     },
     "execution_count": 7,
     "metadata": {},
     "output_type": "execute_result"
    }
   ],
   "source": [
    "len(X)"
   ]
  },
  {
   "cell_type": "code",
   "execution_count": 8,
   "metadata": {
    "tags": []
   },
   "outputs": [
    {
     "data": {
      "text/html": [
       "<div>\n",
       "<style scoped>\n",
       "    .dataframe tbody tr th:only-of-type {\n",
       "        vertical-align: middle;\n",
       "    }\n",
       "\n",
       "    .dataframe tbody tr th {\n",
       "        vertical-align: top;\n",
       "    }\n",
       "\n",
       "    .dataframe thead th {\n",
       "        text-align: right;\n",
       "    }\n",
       "</style>\n",
       "<table border=\"1\" class=\"dataframe\">\n",
       "  <thead>\n",
       "    <tr style=\"text-align: right;\">\n",
       "      <th></th>\n",
       "      <th>body_mass_g</th>\n",
       "    </tr>\n",
       "  </thead>\n",
       "  <tbody>\n",
       "    <tr>\n",
       "      <th>count</th>\n",
       "      <td>342.000000</td>\n",
       "    </tr>\n",
       "    <tr>\n",
       "      <th>mean</th>\n",
       "      <td>4201.754386</td>\n",
       "    </tr>\n",
       "    <tr>\n",
       "      <th>std</th>\n",
       "      <td>801.954536</td>\n",
       "    </tr>\n",
       "    <tr>\n",
       "      <th>min</th>\n",
       "      <td>2700.000000</td>\n",
       "    </tr>\n",
       "    <tr>\n",
       "      <th>25%</th>\n",
       "      <td>3550.000000</td>\n",
       "    </tr>\n",
       "    <tr>\n",
       "      <th>50%</th>\n",
       "      <td>4050.000000</td>\n",
       "    </tr>\n",
       "    <tr>\n",
       "      <th>75%</th>\n",
       "      <td>4750.000000</td>\n",
       "    </tr>\n",
       "    <tr>\n",
       "      <th>max</th>\n",
       "      <td>6300.000000</td>\n",
       "    </tr>\n",
       "  </tbody>\n",
       "</table>\n",
       "</div>"
      ],
      "text/plain": [
       "       body_mass_g\n",
       "count   342.000000\n",
       "mean   4201.754386\n",
       "std     801.954536\n",
       "min    2700.000000\n",
       "25%    3550.000000\n",
       "50%    4050.000000\n",
       "75%    4750.000000\n",
       "max    6300.000000"
      ]
     },
     "execution_count": 8,
     "metadata": {},
     "output_type": "execute_result"
    }
   ],
   "source": [
    "y.describe()"
   ]
  },
  {
   "cell_type": "code",
   "execution_count": 10,
   "metadata": {},
   "outputs": [],
   "source": [
    "def treinar_knn(modelo, x, y):\n",
    "    \n",
    "    modelo['x'] = x\n",
    "    modelo['y'] = y\n",
    "    \n",
    "modelo = {\"num_vizinhos\":3}\n",
    "treinar_knn(modelo, X, y)"
   ]
  },
  {
   "cell_type": "code",
   "execution_count": null,
   "metadata": {},
   "outputs": [],
   "source": []
  },
  {
   "cell_type": "markdown",
   "metadata": {},
   "source": [
    "## Referências\n",
    "\n"
   ]
  },
  {
   "cell_type": "markdown",
   "metadata": {},
   "source": [
    "1.  FACELI, Katti; LORENA, AC; GAMA, João; et al. Inteligência Artificial: uma abordagem de Aprendizado de Máquina. 2. ed., 2021.\n",
    "\n",
    "2.  GRUS, Joel. Data Science from Scratch: First Principles with Python. 2. ed. Sebastopol, CA: O’Reilly Media, 2019.\n",
    "\n",
    "3.  [https://www.youtube.com/watch?v=HVXime0nQeI](https://www.youtube.com/watch?v=HVXime0nQeI)\n",
    "\n",
    "4.  [https://www.youtube.com/watch?v=4Dpf76AB9Js](https://www.youtube.com/watch?v=4Dpf76AB9Js)\n",
    "\n",
    "5.  [https://www.youtube.com/watch?v=rTEtEy5o3X0](https://www.youtube.com/watch?v=rTEtEy5o3X0)\n",
    "\n"
   ]
  }
 ],
 "metadata": {
  "kernelspec": {
   "display_name": "ilumpy",
   "language": "python",
   "name": "ilumpy"
  },
  "language_info": {
   "codemirror_mode": {
    "name": "ipython",
    "version": 3
   },
   "file_extension": ".py",
   "mimetype": "text/x-python",
   "name": "python",
   "nbconvert_exporter": "python",
   "pygments_lexer": "ipython3",
   "version": "3.10.8"
  },
  "org": null
 },
 "nbformat": 4,
 "nbformat_minor": 4
}
