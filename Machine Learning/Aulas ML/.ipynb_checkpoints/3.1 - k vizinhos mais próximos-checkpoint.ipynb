{
 "cells": [
  {
   "cell_type": "markdown",
   "metadata": {},
   "source": [
    "k-vizinhos mais próximos\n",
    "========================\n",
    "\n"
   ]
  },
  {
   "cell_type": "markdown",
   "metadata": {},
   "source": [
    "## Modelos preditivos\n",
    "\n"
   ]
  },
  {
   "cell_type": "markdown",
   "metadata": {},
   "source": [
    "Quando criamos modelos preditivos, nosso objetivo é prever um (ou mais) target(s) usando um modelo que recebe um (ou mais) atributo(s). Um desafio neste caso é encontrar um modelo preditivo que seja capaz de prever *razoavelmente bem* o target desejado dados os atributos. &ldquo;Razoavelmente bem&rdquo; será quantificado no futuro através de métricas.\n",
    "\n",
    "Quando o target a ser previsto é um target categórico, dizemos que o problema é um problema de *classificação*.\n",
    "\n",
    "Quando o target a ser previsto é um target numérico, dizemos que o problema é um problema de *regressão*.\n",
    "\n",
    "Existem diversas maneiras de se obter modelos preditivos. Aqui utilizaremos de estratégias de aprendizado de máquina. Algoritmos de aprendizado de máquina são capazes de induzir modelos preditivos observando conjuntos de dados contendo atributos e target.\n",
    "\n"
   ]
  },
  {
   "cell_type": "markdown",
   "metadata": {},
   "source": [
    "## O algoritmo $k$​-vizinhos mais próximos\n",
    "\n"
   ]
  },
  {
   "cell_type": "markdown",
   "metadata": {},
   "source": [
    "O algoritmo $k$​-vizinhos mais próximos ($k$​-NN) é um algoritmo de aprendizado de máquina baseado na hipótese que dados similares ocupam regiões próximas no espaço de entrada (isto é, no espaço dos atributos). Este algoritmo pode ser utilizado tanto para regressão quanto para classificação.\n",
    "\n",
    "O princípio de funcionamento deste algoritmo será discutido em aula, mas de maneira resumida, quando um modelo treinado por este algoritmo é usado para realizar a previsão de um certo exemplo $x$, ele checa a distância deste exemplo $x$ com todos os exemplos usados para treinar o modelo. Os $k$ exemplos mais próximos de $x$ são usados para calcular a previsão do exemplo $x$.\n",
    "\n",
    "Para uma fundamentação teórica, leia as páginas 53 a 58 da referência [1]. Pode ser interessante também ler o capítulo 12 da referência [2] assistir aos vídeos das referências [3, 4].\n",
    "\n"
   ]
  },
  {
   "cell_type": "markdown",
   "metadata": {},
   "source": [
    "## Implementando um regressor $k$​-NN\n",
    "\n"
   ]
  },
  {
   "cell_type": "markdown",
   "metadata": {},
   "source": [
    "Como parte da disciplina, vamos implementar um regressor $k$-NN em Python para entender o funcionamento de um algoritmo de aprendizado de máquina do começo ao fim. Para isso, usaremos o conjunto de dados de pinguins disponível no `seaborn`. Como atributos, vamos utilizar as medidas do bico e da nadadeira dos pinguins e como target vamos utilizar o peso dos pinguins.\n",
    "\n"
   ]
  },
  {
   "cell_type": "code",
   "execution_count": 1,
   "metadata": {},
   "outputs": [],
   "source": [
    "import seaborn as sns\n",
    "\n",
    "DATASET_NAME = \"penguins\"\n",
    "FEATURES = [\"bill_length_mm\", \"bill_depth_mm\", \"flipper_length_mm\"]\n",
    "TARGET = [\"body_mass_g\"]\n",
    "\n",
    "df = sns.load_dataset(DATASET_NAME)\n",
    "\n",
    "X = df.reindex(FEATURES, axis=1)\n",
    "y = df.reindex(TARGET, axis=1)"
   ]
  },
  {
   "cell_type": "markdown",
   "metadata": {},
   "source": [
    "Faremos juntos a implementação na sala de aula. Você pode conferir uma implementação gravada em vídeo na referência [5].\n",
    "\n"
   ]
  },
  {
   "cell_type": "code",
   "execution_count": null,
   "metadata": {},
   "outputs": [],
   "source": []
  },
  {
   "cell_type": "markdown",
   "metadata": {},
   "source": [
    "## Referências\n",
    "\n"
   ]
  },
  {
   "cell_type": "markdown",
   "metadata": {},
   "source": [
    "1.  FACELI, Katti; LORENA, AC; GAMA, João; et al. Inteligência Artificial: uma abordagem de Aprendizado de Máquina. 2. ed., 2021.\n",
    "\n",
    "2.  GRUS, Joel. Data Science from Scratch: First Principles with Python. 2. ed. Sebastopol, CA: O’Reilly Media, 2019.\n",
    "\n",
    "3.  [https://www.youtube.com/watch?v=HVXime0nQeI](https://www.youtube.com/watch?v=HVXime0nQeI)\n",
    "\n",
    "4.  [https://www.youtube.com/watch?v=4Dpf76AB9Js](https://www.youtube.com/watch?v=4Dpf76AB9Js)\n",
    "\n",
    "5.  [https://www.youtube.com/watch?v=rTEtEy5o3X0](https://www.youtube.com/watch?v=rTEtEy5o3X0)\n",
    "\n"
   ]
  }
 ],
 "metadata": {
  "kernelspec": {
   "display_name": "ilumpy",
   "language": "python",
   "name": "ilumpy"
  },
  "language_info": {
   "codemirror_mode": {
    "name": "ipython",
    "version": 3
   },
   "file_extension": ".py",
   "mimetype": "text/x-python",
   "name": "python",
   "nbconvert_exporter": "python",
   "pygments_lexer": "ipython3",
   "version": "3.10.6"
  },
  "org": null
 },
 "nbformat": 4,
 "nbformat_minor": 4
}
