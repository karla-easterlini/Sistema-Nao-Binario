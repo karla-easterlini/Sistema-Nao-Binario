{
 "cells": [
  {
   "cell_type": "markdown",
   "metadata": {},
   "source": [
    "k-vizinhos mais próximos\n",
    "========================\n",
    "\n"
   ]
  },
  {
   "cell_type": "markdown",
   "metadata": {},
   "source": [
    "## Modelos preditivos\n",
    "\n"
   ]
  },
  {
   "cell_type": "markdown",
   "metadata": {},
   "source": [
    "Quando criamos modelos preditivos, nosso objetivo é prever um (ou mais) target(s) usando um modelo que recebe um (ou mais) atributo(s). Um desafio neste caso é encontrar um modelo preditivo que seja capaz de prever *razoavelmente bem* o target desejado dados os atributos. &ldquo;Razoavelmente bem&rdquo; será quantificado no futuro através de métricas.\n",
    "\n",
    "Quando o target a ser previsto é um target categórico, dizemos que o problema é um problema de *classificação*.\n",
    "\n",
    "Quando o target a ser previsto é um target numérico, dizemos que o problema é um problema de *regressão*.\n",
    "\n",
    "Existem diversas maneiras de se obter modelos preditivos. Aqui utilizaremos de estratégias de aprendizado de máquina. Algoritmos de aprendizado de máquina são capazes de induzir modelos preditivos observando conjuntos de dados contendo atributos e target.\n",
    "\n"
   ]
  },
  {
   "cell_type": "markdown",
   "metadata": {},
   "source": [
    "## O algoritmo $k$​-vizinhos mais próximos\n",
    "\n"
   ]
  },
  {
   "cell_type": "markdown",
   "metadata": {},
   "source": [
    "O algoritmo $k$​-vizinhos mais próximos ($k$​-NN) é um algoritmo de aprendizado de máquina baseado na hipótese que dados similares ocupam regiões próximas no espaço de entrada (isto é, no espaço dos atributos). Este algoritmo pode ser utilizado tanto para regressão quanto para classificação.\n",
    "\n",
    "O princípio de funcionamento deste algoritmo será discutido em aula, mas de maneira resumida, quando um modelo treinado por este algoritmo é usado para realizar a previsão de um certo exemplo $x$, ele checa a distância deste exemplo $x$ com todos os exemplos usados para treinar o modelo. Os $k$ exemplos mais próximos de $x$ são usados para calcular a previsão do exemplo $x$.\n",
    "\n",
    "Para uma fundamentação teórica, leia as páginas 53 a 58 da referência [1]. Pode ser interessante também ler o capítulo 12 da referência [2] assistir aos vídeos das referências [3, 4].\n",
    "\n"
   ]
  },
  {
   "cell_type": "markdown",
   "metadata": {},
   "source": [
    "## Implementando um regressor $k$​-NN\n",
    "\n"
   ]
  },
  {
   "cell_type": "markdown",
   "metadata": {},
   "source": [
    "Como parte da disciplina, vamos implementar um regressor $k$-NN em Python para entender o funcionamento de um algoritmo de aprendizado de máquina do começo ao fim. Para isso, usaremos o conjunto de dados de pinguins disponível no `seaborn`. Como atributos, vamos utilizar as medidas do bico e da nadadeira dos pinguins e como target vamos utilizar o peso dos pinguins.\n",
    "\n"
   ]
  },
  {
   "cell_type": "code",
   "execution_count": 22,
   "metadata": {},
   "outputs": [],
   "source": [
    "import seaborn as sns\n",
    "\n",
    "DATASET_NAME = \"penguins\"\n",
    "FEATURES = [\"bill_length_mm\", \"bill_depth_mm\", \"flipper_length_mm\"]\n",
    "TARGET = [\"body_mass_g\"]\n",
    "\n",
    "df = sns.load_dataset(DATASET_NAME)\n",
    "\n",
    "df = df.reindex(FEATURES + TARGET, axis=1)\n",
    "df = df.dropna()\n",
    "\n",
    "X = df.reindex(FEATURES, axis=1)\n",
    "y = df.reindex(TARGET, axis=1)\n",
    "\n",
    "X = X.values\n",
    "y = y.values.ravel()"
   ]
  },
  {
   "cell_type": "code",
   "execution_count": 34,
   "metadata": {},
   "outputs": [
    {
     "data": {
      "text/plain": [
       "array([[ 39.1,  18.7, 181. ],\n",
       "       [ 39.5,  17.4, 186. ],\n",
       "       [ 40.3,  18. , 195. ],\n",
       "       ...,\n",
       "       [ 50.4,  15.7, 222. ],\n",
       "       [ 45.2,  14.8, 212. ],\n",
       "       [ 49.9,  16.1, 213. ]])"
      ]
     },
     "execution_count": 34,
     "metadata": {},
     "output_type": "execute_result"
    }
   ],
   "source": [
    "X"
   ]
  },
  {
   "cell_type": "code",
   "execution_count": 38,
   "metadata": {},
   "outputs": [
    {
     "data": {
      "text/plain": [
       "(342,)"
      ]
     },
     "execution_count": 38,
     "metadata": {},
     "output_type": "execute_result"
    }
   ],
   "source": [
    "import numpy as np \n",
    "np.sum((X - [40, 20, 180])**2, axis=1).shape"
   ]
  },
  {
   "cell_type": "markdown",
   "metadata": {},
   "source": [
    "Faremos juntos a implementação na sala de aula. Você pode conferir uma implementação gravada em vídeo na referência [5].\n",
    "\n"
   ]
  },
  {
   "cell_type": "code",
   "execution_count": 39,
   "metadata": {},
   "outputs": [],
   "source": [
    "# funções\n",
    "\n",
    "def treinar_knn(modelo, x, y):\n",
    "    \"\"\"Treina um modelo de k-vizinhos mais próximos\n",
    "    \n",
    "    Args:\n",
    "      modelo:\n",
    "        Dicionário com as informações do modelo.\n",
    "      x:\n",
    "        Atributos\n",
    "      y:\n",
    "        Targets\n",
    "    \"\"\"\n",
    "    modelo[\"x\"] = x\n",
    "    modelo[\"y\"] = y\n",
    "    \n",
    "\n",
    "def calcular_distancias(a, b):\n",
    "    \"\"\"Calcula a distância Euclidiana entre a e b\n",
    "    \n",
    "    Args:\n",
    "      a: \n",
    "        um dado qualquer representado por um array de numpy\n",
    "      b:\n",
    "        um dado qualquer\n",
    "    \n",
    "    Returns:\n",
    "      A distancia entre os pontos de a e b.    \n",
    "    \"\"\"\n",
    "    \n",
    "    diferenca = a - b\n",
    "    diff_quadrado = diferenca**2\n",
    "    soma = np.sum(diff_quadrado, axis=1)\n",
    "    dist = soma ** (1/2)\n",
    "    \n",
    "    return dist\n",
    "    \n",
    "    \n",
    "def previsao_knn(modelo, x):\n",
    "    \"\"\"Usa um modelo treinado para prever um valor dado um conjunto de atributos\n",
    "    \n",
    "    Args:\n",
    "      modelo:\n",
    "        Dicionário com as informações do modelo\n",
    "      x:\n",
    "        Atributos do exemplo a ser previsto\n",
    "        \n",
    "    Returns:\n",
    "      A previsão do modelo para o exemplo x.\n",
    "    \"\"\"\n",
    "    distancias = calcular_distancias(modelo[\"x\"], x)\n",
    "    indices_ordenados = np.argsort(distancias)\n",
    "    k_primeiros_indices = indices_ordenados[:modelo[\"num_vizinhos\"]]\n",
    "    targets_vizinhos = modelo[\"y\"][k_primeiros_indices]\n",
    "    previsao = np.mean(targets_vizinhos)\n",
    "    return previsao"
   ]
  },
  {
   "cell_type": "code",
   "execution_count": 40,
   "metadata": {},
   "outputs": [
    {
     "name": "stdout",
     "output_type": "stream",
     "text": [
      "3641.6666666666665\n"
     ]
    }
   ],
   "source": [
    "# script\n",
    "\n",
    "modelo = {\"num_vizinhos\": 3}\n",
    "treinar_knn(modelo, X, y)\n",
    "y_previsto = previsao_knn(modelo, [43, 20, 180])\n",
    "print(y_previsto)"
   ]
  },
  {
   "cell_type": "markdown",
   "metadata": {},
   "source": [
    "## Referências\n",
    "\n"
   ]
  },
  {
   "cell_type": "markdown",
   "metadata": {},
   "source": [
    "1.  FACELI, Katti; LORENA, AC; GAMA, João; et al. Inteligência Artificial: uma abordagem de Aprendizado de Máquina. 2. ed., 2021.\n",
    "\n",
    "2.  GRUS, Joel. Data Science from Scratch: First Principles with Python. 2. ed. Sebastopol, CA: O’Reilly Media, 2019.\n",
    "\n",
    "3.  [https://www.youtube.com/watch?v=HVXime0nQeI](https://www.youtube.com/watch?v=HVXime0nQeI)\n",
    "\n",
    "4.  [https://www.youtube.com/watch?v=4Dpf76AB9Js](https://www.youtube.com/watch?v=4Dpf76AB9Js)\n",
    "\n",
    "5.  [https://www.youtube.com/watch?v=rTEtEy5o3X0](https://www.youtube.com/watch?v=rTEtEy5o3X0)\n",
    "\n"
   ]
  }
 ],
 "metadata": {
  "kernelspec": {
   "display_name": "ilumpy",
   "language": "python",
   "name": "ilumpy"
  },
  "language_info": {
   "codemirror_mode": {
    "name": "ipython",
    "version": 3
   },
   "file_extension": ".py",
   "mimetype": "text/x-python",
   "name": "python",
   "nbconvert_exporter": "python",
   "pygments_lexer": "ipython3",
   "version": "3.9.7"
  },
  "org": null
 },
 "nbformat": 4,
 "nbformat_minor": 4
}
