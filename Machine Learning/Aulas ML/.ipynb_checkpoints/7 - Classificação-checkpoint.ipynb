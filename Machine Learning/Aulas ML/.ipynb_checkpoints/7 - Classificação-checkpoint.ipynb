{
 "cells": [
  {
   "cell_type": "markdown",
   "metadata": {},
   "source": [
    "Classificação\n",
    "=============\n",
    "\n"
   ]
  },
  {
   "cell_type": "markdown",
   "metadata": {},
   "source": [
    "## Introdução\n",
    "\n"
   ]
  },
  {
   "cell_type": "markdown",
   "metadata": {},
   "source": [
    "Até agora estudamos estratégias de aprendizado de máquina supervisionado onde o target era numérico. Nestes problemas, os modelos preditivos foram induzidos por algoritmos de regressão que tinham como objetivo minimizar uma certa função de perda (também conhecida como função de risco ou função de custo). A função de perda que utilizamos até agora foi o RMSE.\n",
    "\n",
    "Quando nosso target é categórico, não é mais apropriado utilizar algoritmos de regressão e também não é mais apropriado utilizar a função de perda RMSE. Precisamos de outras estratégias!\n",
    "\n"
   ]
  },
  {
   "cell_type": "markdown",
   "metadata": {},
   "source": [
    "## O problema da classificação binária\n",
    "\n"
   ]
  },
  {
   "cell_type": "markdown",
   "metadata": {},
   "source": [
    "Suponha que você tenha um target categórico binário, isto é, ele pode assumir apenas dois valores (verdadeiro ou falso, zero ou um, sim ou não, etc&#x2026;). Suponha também que você tenha um modelo capaz de prever seu target.\n",
    "\n",
    "Neste caso, temos os valores que chamaremos de **reais** que são os valores medidos (isto é, os dados do nosso conjunto de dados) e os valores **preditos** que são os valores previstos pelo modelo.\n",
    "\n",
    "Com isso, podemos dividir o resultado em 4 caixas:\n",
    "\n",
    "-   **VP**: Verdadeiro positivo (*true positive*): rótulo real é 1 e a previsão foi 1.\n",
    "-   **FP**: Falso positivo (*false positive*): rótulo real é 0 e a previsão foi 1.\n",
    "-   **VN**: Verdadeiro negativo (*true negative*): rótulo real é 0 e a previsão foi 0.\n",
    "-   **FN**: Falso negativo (*false negative*): rótulo real é 1 e a previsão foi 0.\n",
    "\n",
    "Estes valores costumam ser representados no que é conhecido como **matriz de confusão**.\n",
    "\n",
    "| |Valor predito = 1|Valor predito = 0|\n",
    "|---|---|---|\n",
    "| <b>Valor real = 1</b>|VP|FN|\n",
    "| <b>Valor real = 0</b>|FP|VN|\n",
    "\n",
    "Antes de seguir em frente é importante observar que existem dois tipos de erros possíveis neste caso binário:\n",
    "\n",
    "-   **Erro tipo 1**: quando se atribui o rótulo positivo mas o valor real é negativo (falso positivo)\n",
    "\n",
    "-   **Erro tipo 2**: quando se atribui o rótulo negativo mas o valor real é positivo (falso negativo)\n",
    "\n",
    "Uma forma didática para visualizar os dois tipos de erros é a imagem abaixo. Nesta imagem, assuma que o rótulo 0 significa &ldquo;não está grávida&rdquo; e o rótulo 1 significa &ldquo;está grávida&rdquo;.\n",
    "\n",
    "![img](https://i.stack.imgur.com/Kq0OH.jpg)\n",
    "\n",
    "Na imagem, &ldquo;You&rsquo;re pregnant&rdquo; significa &ldquo;você está grávida&rdquo; e &ldquo;You&rsquo;re not pregnant&rdquo; significa &ldquo;você não está grávida&rdquo;.\n",
    "\n"
   ]
  },
  {
   "cell_type": "markdown",
   "metadata": {},
   "source": [
    "## Métricas\n",
    "\n"
   ]
  },
  {
   "cell_type": "markdown",
   "metadata": {},
   "source": [
    "Com base na matriz de confusão, podemos definir diversas métricas para problemas de classificação.\n",
    "\n",
    "**Nota**: todas as métricas apresentadas abaixo seguem a mesma regra de &ldquo;quanto maior, melhor&rdquo;.\n",
    "\n"
   ]
  },
  {
   "cell_type": "markdown",
   "metadata": {},
   "source": [
    "### Taxa de verdadeiros positivos\n",
    "\n"
   ]
  },
  {
   "cell_type": "markdown",
   "metadata": {},
   "source": [
    "$$\n",
    "\\mathrm{TPR = \\frac{VP}{VP + FN}}\n",
    "$$\n",
    "\n",
    "**O que mede**: quantos exemplos com rótulo 1 (positivo) foram corretamente identificados.\n",
    "\n",
    "**Outros nomes**:\n",
    "\n",
    "-   Sensibilidade\n",
    "-   Taxa de acerto\n",
    "-   *Sensitivity*\n",
    "-   *Recall*\n",
    "-   *True positive rate* (TPR)\n",
    "\n"
   ]
  },
  {
   "cell_type": "markdown",
   "metadata": {},
   "source": [
    "### Taxa de verdadeiros negativos\n",
    "\n"
   ]
  },
  {
   "cell_type": "markdown",
   "metadata": {},
   "source": [
    "$$\n",
    "\\mathrm{TNR = \\frac{VN}{VN + FP}}\n",
    "$$\n",
    "\n",
    "**O que mede**: quantos exemplos com rótulo 0 (negativo) foram corretamente identificados.\n",
    "\n",
    "**Outros nomes**:\n",
    "\n",
    "-   Especificidade\n",
    "-   *Specificity*\n",
    "-   *Selectivity*\n",
    "-   *True negative rate* (TNR)\n",
    "\n"
   ]
  },
  {
   "cell_type": "markdown",
   "metadata": {},
   "source": [
    "### Valor predito positivo\n",
    "\n"
   ]
  },
  {
   "cell_type": "markdown",
   "metadata": {},
   "source": [
    "$$\n",
    "\\mathrm{PPV = \\frac{VP}{VP + FP}}\n",
    "$$\n",
    "\n",
    "**O que mede**: dos exemplos classificados com o rótulo 1 (positivo), quantos foram corretamente identificados.\n",
    "\n",
    "**Outros nomes**:\n",
    "\n",
    "-   Precisão\n",
    "-   *Precision*\n",
    "-   *Positive predicted value* (PPV)\n",
    "\n"
   ]
  },
  {
   "cell_type": "markdown",
   "metadata": {},
   "source": [
    "### Valor predito negativo\n",
    "\n"
   ]
  },
  {
   "cell_type": "markdown",
   "metadata": {},
   "source": [
    "$$\n",
    "\\mathrm{NPV = \\frac{VN}{VN + FN}}\n",
    "$$\n",
    "\n",
    "**O que mede**: dos exemplos classificados com o rótulo 0 (negativo), quantos foram corretamente identificados.\n",
    "\n",
    "**Outros nomes**:\n",
    "\n",
    "-   *Negative predicted value* (NPV)\n",
    "\n"
   ]
  },
  {
   "cell_type": "markdown",
   "metadata": {},
   "source": [
    "### Acurácia\n",
    "\n"
   ]
  },
  {
   "cell_type": "markdown",
   "metadata": {},
   "source": [
    "$$\n",
    "\\mathrm{ACC = \\frac{VP + VN}{VP + FP + VN + FN}}\n",
    "$$\n",
    "\n",
    "**O que mede**: fração dos exemplos que foram corretamente identificados.\n",
    "\n",
    "**Outros nomes**:\n",
    "\n",
    "-   *Accuracy* (ACC)\n",
    "\n"
   ]
  },
  {
   "cell_type": "markdown",
   "metadata": {},
   "source": [
    "### Estatística F1\n",
    "\n"
   ]
  },
  {
   "cell_type": "markdown",
   "metadata": {},
   "source": [
    "$$\n",
    "\\mathrm{F1 = \\frac{2}{\\frac{1}{TPR} + \\frac{1}{PPV}} = \\frac{2VP}{2VP + FP + FN}}\n",
    "$$\n",
    "\n",
    "**O que mede**: média harmônica entre TPR (sensibilidade) e PPV (precisão).\n",
    "\n",
    "**Outros nomes**:\n",
    "\n",
    "-   F1 score\n",
    "-   F-score\n",
    "-   F-measure\n",
    "\n"
   ]
  },
  {
   "cell_type": "markdown",
   "metadata": {},
   "source": [
    "### Outras métricas\n",
    "\n"
   ]
  },
  {
   "cell_type": "markdown",
   "metadata": {},
   "source": [
    "Veja a referência [2].\n",
    "\n"
   ]
  },
  {
   "cell_type": "markdown",
   "metadata": {},
   "source": [
    "## Modelos de classificação binária com `scikit-learn`\n",
    "\n"
   ]
  },
  {
   "cell_type": "markdown",
   "metadata": {},
   "source": [
    "### Carregando os dados\n",
    "\n"
   ]
  },
  {
   "cell_type": "markdown",
   "metadata": {},
   "source": [
    "Pra variar um pouco, vamos utilizar o conjunto de dados de pinguins 🙂.\n",
    "\n"
   ]
  },
  {
   "cell_type": "code",
   "execution_count": 1,
   "metadata": {},
   "outputs": [],
   "source": [
    "import seaborn as sns\n",
    "\n",
    "DATASET_NAME = \"penguins\"\n",
    "FEATURES = [\"bill_length_mm\", \"bill_depth_mm\", \"flipper_length_mm\", \"body_mass_g\"]\n",
    "TARGET = [\"species\"]\n",
    "\n",
    "df = sns.load_dataset(DATASET_NAME)\n",
    "\n",
    "df = df.reindex(FEATURES + TARGET, axis=1)\n",
    "df = df.dropna()"
   ]
  },
  {
   "cell_type": "markdown",
   "metadata": {},
   "source": [
    "Observe que temos três espécies de pinguins neste conjunto de dados, logo não seria uma classificação binária&#x2026;\n",
    "\n"
   ]
  },
  {
   "cell_type": "code",
   "execution_count": 2,
   "metadata": {},
   "outputs": [
    {
     "name": "stdout",
     "output_type": "stream",
     "text": [
      "['Adelie' 'Chinstrap' 'Gentoo']\n"
     ]
    }
   ],
   "source": [
    "print(df[\"species\"].unique())"
   ]
  },
  {
   "cell_type": "markdown",
   "metadata": {},
   "source": [
    "Um dos pinguins deverá nos deixar&#x2026; por votação do Comitê de Escolha de Pinguins (CEP), os pinguins de barbicha foram selecionados para nos deixar.\n",
    "\n"
   ]
  },
  {
   "cell_type": "code",
   "execution_count": 3,
   "metadata": {},
   "outputs": [],
   "source": [
    "ELIMINADOS = \"Chinstrap\"\n",
    "\n",
    "logic = df[\"species\"] != ELIMINADOS\n",
    "df = df.loc[logic]"
   ]
  },
  {
   "cell_type": "markdown",
   "metadata": {},
   "source": [
    "Para diversos algoritmos do `scikit-learn`, **não** é necessário binarizar nosso target. No entanto, vamos fazer isso para ver como funciona. O `scikit-learn` já tem um binarizador pronto.\n",
    "\n"
   ]
  },
  {
   "cell_type": "code",
   "execution_count": 4,
   "metadata": {},
   "outputs": [
    {
     "data": {
      "text/html": [
       "<div>\n",
       "<style scoped>\n",
       "    .dataframe tbody tr th:only-of-type {\n",
       "        vertical-align: middle;\n",
       "    }\n",
       "\n",
       "    .dataframe tbody tr th {\n",
       "        vertical-align: top;\n",
       "    }\n",
       "\n",
       "    .dataframe thead th {\n",
       "        text-align: right;\n",
       "    }\n",
       "</style>\n",
       "<table border=\"1\" class=\"dataframe\">\n",
       "  <thead>\n",
       "    <tr style=\"text-align: right;\">\n",
       "      <th></th>\n",
       "      <th>bill_length_mm</th>\n",
       "      <th>bill_depth_mm</th>\n",
       "      <th>flipper_length_mm</th>\n",
       "      <th>body_mass_g</th>\n",
       "      <th>species</th>\n",
       "    </tr>\n",
       "  </thead>\n",
       "  <tbody>\n",
       "    <tr>\n",
       "      <th>0</th>\n",
       "      <td>39.1</td>\n",
       "      <td>18.7</td>\n",
       "      <td>181.0</td>\n",
       "      <td>3750.0</td>\n",
       "      <td>0</td>\n",
       "    </tr>\n",
       "    <tr>\n",
       "      <th>1</th>\n",
       "      <td>39.5</td>\n",
       "      <td>17.4</td>\n",
       "      <td>186.0</td>\n",
       "      <td>3800.0</td>\n",
       "      <td>0</td>\n",
       "    </tr>\n",
       "    <tr>\n",
       "      <th>2</th>\n",
       "      <td>40.3</td>\n",
       "      <td>18.0</td>\n",
       "      <td>195.0</td>\n",
       "      <td>3250.0</td>\n",
       "      <td>0</td>\n",
       "    </tr>\n",
       "    <tr>\n",
       "      <th>4</th>\n",
       "      <td>36.7</td>\n",
       "      <td>19.3</td>\n",
       "      <td>193.0</td>\n",
       "      <td>3450.0</td>\n",
       "      <td>0</td>\n",
       "    </tr>\n",
       "    <tr>\n",
       "      <th>5</th>\n",
       "      <td>39.3</td>\n",
       "      <td>20.6</td>\n",
       "      <td>190.0</td>\n",
       "      <td>3650.0</td>\n",
       "      <td>0</td>\n",
       "    </tr>\n",
       "    <tr>\n",
       "      <th>...</th>\n",
       "      <td>...</td>\n",
       "      <td>...</td>\n",
       "      <td>...</td>\n",
       "      <td>...</td>\n",
       "      <td>...</td>\n",
       "    </tr>\n",
       "    <tr>\n",
       "      <th>338</th>\n",
       "      <td>47.2</td>\n",
       "      <td>13.7</td>\n",
       "      <td>214.0</td>\n",
       "      <td>4925.0</td>\n",
       "      <td>1</td>\n",
       "    </tr>\n",
       "    <tr>\n",
       "      <th>340</th>\n",
       "      <td>46.8</td>\n",
       "      <td>14.3</td>\n",
       "      <td>215.0</td>\n",
       "      <td>4850.0</td>\n",
       "      <td>1</td>\n",
       "    </tr>\n",
       "    <tr>\n",
       "      <th>341</th>\n",
       "      <td>50.4</td>\n",
       "      <td>15.7</td>\n",
       "      <td>222.0</td>\n",
       "      <td>5750.0</td>\n",
       "      <td>1</td>\n",
       "    </tr>\n",
       "    <tr>\n",
       "      <th>342</th>\n",
       "      <td>45.2</td>\n",
       "      <td>14.8</td>\n",
       "      <td>212.0</td>\n",
       "      <td>5200.0</td>\n",
       "      <td>1</td>\n",
       "    </tr>\n",
       "    <tr>\n",
       "      <th>343</th>\n",
       "      <td>49.9</td>\n",
       "      <td>16.1</td>\n",
       "      <td>213.0</td>\n",
       "      <td>5400.0</td>\n",
       "      <td>1</td>\n",
       "    </tr>\n",
       "  </tbody>\n",
       "</table>\n",
       "<p>274 rows × 5 columns</p>\n",
       "</div>"
      ],
      "text/plain": [
       "     bill_length_mm  bill_depth_mm  flipper_length_mm  body_mass_g  species\n",
       "0              39.1           18.7              181.0       3750.0        0\n",
       "1              39.5           17.4              186.0       3800.0        0\n",
       "2              40.3           18.0              195.0       3250.0        0\n",
       "4              36.7           19.3              193.0       3450.0        0\n",
       "5              39.3           20.6              190.0       3650.0        0\n",
       "..              ...            ...                ...          ...      ...\n",
       "338            47.2           13.7              214.0       4925.0        1\n",
       "340            46.8           14.3              215.0       4850.0        1\n",
       "341            50.4           15.7              222.0       5750.0        1\n",
       "342            45.2           14.8              212.0       5200.0        1\n",
       "343            49.9           16.1              213.0       5400.0        1\n",
       "\n",
       "[274 rows x 5 columns]"
      ]
     },
     "execution_count": 4,
     "metadata": {},
     "output_type": "execute_result"
    }
   ],
   "source": [
    "from sklearn.preprocessing import LabelBinarizer\n",
    "\n",
    "binarizador = LabelBinarizer()\n",
    "binarizador.fit(df[TARGET])\n",
    "\n",
    "nomes_das_features = binarizador.classes_\n",
    "\n",
    "df[TARGET] = binarizador.transform(df[TARGET])\n",
    "df"
   ]
  },
  {
   "cell_type": "markdown",
   "metadata": {},
   "source": [
    "Finalmente, separamos os dados em treino e teste.\n",
    "\n"
   ]
  },
  {
   "cell_type": "code",
   "execution_count": 5,
   "metadata": {},
   "outputs": [],
   "source": [
    "from sklearn.model_selection import train_test_split\n",
    "\n",
    "TAMANHO_TESTE = 0.1\n",
    "SEMENTE_ALEATORIA = 61455\n",
    "\n",
    "indices = df.index\n",
    "indices_treino, indices_teste = train_test_split(\n",
    "    indices, test_size=TAMANHO_TESTE, random_state=SEMENTE_ALEATORIA\n",
    ")\n",
    "\n",
    "df_treino = df.loc[indices_treino]\n",
    "df_teste = df.loc[indices_teste]\n",
    "\n",
    "X_treino = df_treino.reindex(FEATURES, axis=1).values\n",
    "y_treino = df_treino.reindex(TARGET, axis=1).values.ravel()\n",
    "\n",
    "X_teste = df_teste.reindex(FEATURES, axis=1).values\n",
    "y_teste = df_teste.reindex(TARGET, axis=1).values.ravel()"
   ]
  },
  {
   "cell_type": "markdown",
   "metadata": {},
   "source": [
    "### Baseline\n",
    "\n"
   ]
  },
  {
   "cell_type": "markdown",
   "metadata": {},
   "source": [
    "O modelo baseline mais simples de classificação é o modelo que sempre prevê o dado mais frequente que observou durante o treino.\n",
    "\n"
   ]
  },
  {
   "cell_type": "code",
   "execution_count": 6,
   "metadata": {},
   "outputs": [
    {
     "data": {
      "text/html": [
       "<style>#sk-container-id-1 {color: black;background-color: white;}#sk-container-id-1 pre{padding: 0;}#sk-container-id-1 div.sk-toggleable {background-color: white;}#sk-container-id-1 label.sk-toggleable__label {cursor: pointer;display: block;width: 100%;margin-bottom: 0;padding: 0.3em;box-sizing: border-box;text-align: center;}#sk-container-id-1 label.sk-toggleable__label-arrow:before {content: \"▸\";float: left;margin-right: 0.25em;color: #696969;}#sk-container-id-1 label.sk-toggleable__label-arrow:hover:before {color: black;}#sk-container-id-1 div.sk-estimator:hover label.sk-toggleable__label-arrow:before {color: black;}#sk-container-id-1 div.sk-toggleable__content {max-height: 0;max-width: 0;overflow: hidden;text-align: left;background-color: #f0f8ff;}#sk-container-id-1 div.sk-toggleable__content pre {margin: 0.2em;color: black;border-radius: 0.25em;background-color: #f0f8ff;}#sk-container-id-1 input.sk-toggleable__control:checked~div.sk-toggleable__content {max-height: 200px;max-width: 100%;overflow: auto;}#sk-container-id-1 input.sk-toggleable__control:checked~label.sk-toggleable__label-arrow:before {content: \"▾\";}#sk-container-id-1 div.sk-estimator input.sk-toggleable__control:checked~label.sk-toggleable__label {background-color: #d4ebff;}#sk-container-id-1 div.sk-label input.sk-toggleable__control:checked~label.sk-toggleable__label {background-color: #d4ebff;}#sk-container-id-1 input.sk-hidden--visually {border: 0;clip: rect(1px 1px 1px 1px);clip: rect(1px, 1px, 1px, 1px);height: 1px;margin: -1px;overflow: hidden;padding: 0;position: absolute;width: 1px;}#sk-container-id-1 div.sk-estimator {font-family: monospace;background-color: #f0f8ff;border: 1px dotted black;border-radius: 0.25em;box-sizing: border-box;margin-bottom: 0.5em;}#sk-container-id-1 div.sk-estimator:hover {background-color: #d4ebff;}#sk-container-id-1 div.sk-parallel-item::after {content: \"\";width: 100%;border-bottom: 1px solid gray;flex-grow: 1;}#sk-container-id-1 div.sk-label:hover label.sk-toggleable__label {background-color: #d4ebff;}#sk-container-id-1 div.sk-serial::before {content: \"\";position: absolute;border-left: 1px solid gray;box-sizing: border-box;top: 0;bottom: 0;left: 50%;z-index: 0;}#sk-container-id-1 div.sk-serial {display: flex;flex-direction: column;align-items: center;background-color: white;padding-right: 0.2em;padding-left: 0.2em;position: relative;}#sk-container-id-1 div.sk-item {position: relative;z-index: 1;}#sk-container-id-1 div.sk-parallel {display: flex;align-items: stretch;justify-content: center;background-color: white;position: relative;}#sk-container-id-1 div.sk-item::before, #sk-container-id-1 div.sk-parallel-item::before {content: \"\";position: absolute;border-left: 1px solid gray;box-sizing: border-box;top: 0;bottom: 0;left: 50%;z-index: -1;}#sk-container-id-1 div.sk-parallel-item {display: flex;flex-direction: column;z-index: 1;position: relative;background-color: white;}#sk-container-id-1 div.sk-parallel-item:first-child::after {align-self: flex-end;width: 50%;}#sk-container-id-1 div.sk-parallel-item:last-child::after {align-self: flex-start;width: 50%;}#sk-container-id-1 div.sk-parallel-item:only-child::after {width: 0;}#sk-container-id-1 div.sk-dashed-wrapped {border: 1px dashed gray;margin: 0 0.4em 0.5em 0.4em;box-sizing: border-box;padding-bottom: 0.4em;background-color: white;}#sk-container-id-1 div.sk-label label {font-family: monospace;font-weight: bold;display: inline-block;line-height: 1.2em;}#sk-container-id-1 div.sk-label-container {text-align: center;}#sk-container-id-1 div.sk-container {/* jupyter's `normalize.less` sets `[hidden] { display: none; }` but bootstrap.min.css set `[hidden] { display: none !important; }` so we also need the `!important` here to be able to override the default hidden behavior on the sphinx rendered scikit-learn.org. See: https://github.com/scikit-learn/scikit-learn/issues/21755 */display: inline-block !important;position: relative;}#sk-container-id-1 div.sk-text-repr-fallback {display: none;}</style><div id=\"sk-container-id-1\" class=\"sk-top-container\"><div class=\"sk-text-repr-fallback\"><pre>DummyClassifier()</pre><b>In a Jupyter environment, please rerun this cell to show the HTML representation or trust the notebook. <br />On GitHub, the HTML representation is unable to render, please try loading this page with nbviewer.org.</b></div><div class=\"sk-container\" hidden><div class=\"sk-item\"><div class=\"sk-estimator sk-toggleable\"><input class=\"sk-toggleable__control sk-hidden--visually\" id=\"sk-estimator-id-1\" type=\"checkbox\" checked><label for=\"sk-estimator-id-1\" class=\"sk-toggleable__label sk-toggleable__label-arrow\">DummyClassifier</label><div class=\"sk-toggleable__content\"><pre>DummyClassifier()</pre></div></div></div></div></div>"
      ],
      "text/plain": [
       "DummyClassifier()"
      ]
     },
     "execution_count": 6,
     "metadata": {},
     "output_type": "execute_result"
    }
   ],
   "source": [
    "from sklearn.dummy import DummyClassifier\n",
    "\n",
    "modelo_baseline = DummyClassifier()\n",
    "\n",
    "modelo_baseline.fit(X_treino, y_treino)"
   ]
  },
  {
   "cell_type": "markdown",
   "metadata": {},
   "source": [
    "Vamos ver a matriz de confusão.\n",
    "\n"
   ]
  },
  {
   "cell_type": "code",
   "execution_count": 7,
   "metadata": {},
   "outputs": [
    {
     "data": {
      "text/plain": [
       "<Axes: >"
      ]
     },
     "execution_count": 7,
     "metadata": {},
     "output_type": "execute_result"
    },
    {
     "data": {
      "image/png": "[encoded data removed]",
      "text/plain": [
       "<Figure size 640x480 with 2 Axes>"
      ]
     },
     "metadata": {},
     "output_type": "display_data"
    }
   ],
   "source": [
    "import seaborn as sns\n",
    "from sklearn.metrics import confusion_matrix\n",
    "import pandas as pd\n",
    "\n",
    "y_verdadeiro = y_teste\n",
    "y_previsao = modelo_baseline.predict(X_teste)\n",
    "\n",
    "matriz_conf = confusion_matrix(y_verdadeiro, y_previsao)\n",
    "\n",
    "df_conf = pd.DataFrame(matriz_conf, nomes_das_features, nomes_das_features)\n",
    "\n",
    "sns.heatmap(df_conf, annot=True, annot_kws={\"size\": 16})"
   ]
  },
  {
   "cell_type": "markdown",
   "metadata": {},
   "source": [
    "Vamos ver as métricas.\n",
    "\n"
   ]
  },
  {
   "cell_type": "code",
   "execution_count": 8,
   "metadata": {},
   "outputs": [
    {
     "name": "stdout",
     "output_type": "stream",
     "text": [
      "              precision    recall  f1-score   support\n",
      "\n",
      "      Adelie       0.50      1.00      0.67        14\n",
      "      Gentoo       0.00      0.00      0.00        14\n",
      "\n",
      "    accuracy                           0.50        28\n",
      "   macro avg       0.25      0.50      0.33        28\n",
      "weighted avg       0.25      0.50      0.33        28\n",
      "\n"
     ]
    },
    {
     "name": "stderr",
     "output_type": "stream",
     "text": [
      "/home/daniel/data/Venv/ilumpy/lib/python3.10/site-packages/sklearn/metrics/_classification.py:1344: UndefinedMetricWarning: Precision and F-score are ill-defined and being set to 0.0 in labels with no predicted samples. Use `zero_division` parameter to control this behavior.\n",
      "  _warn_prf(average, modifier, msg_start, len(result))\n",
      "/home/daniel/data/Venv/ilumpy/lib/python3.10/site-packages/sklearn/metrics/_classification.py:1344: UndefinedMetricWarning: Precision and F-score are ill-defined and being set to 0.0 in labels with no predicted samples. Use `zero_division` parameter to control this behavior.\n",
      "  _warn_prf(average, modifier, msg_start, len(result))\n",
      "/home/daniel/data/Venv/ilumpy/lib/python3.10/site-packages/sklearn/metrics/_classification.py:1344: UndefinedMetricWarning: Precision and F-score are ill-defined and being set to 0.0 in labels with no predicted samples. Use `zero_division` parameter to control this behavior.\n",
      "  _warn_prf(average, modifier, msg_start, len(result))\n"
     ]
    }
   ],
   "source": [
    "from sklearn.metrics import classification_report\n",
    "\n",
    "print(\n",
    "    classification_report(\n",
    "        y_verdadeiro, y_previsao, target_names=nomes_das_features\n",
    "    )\n",
    ")"
   ]
  },
  {
   "cell_type": "markdown",
   "metadata": {},
   "source": [
    "### $k$ vizinhos mais próximos\n",
    "\n"
   ]
  },
  {
   "cell_type": "markdown",
   "metadata": {},
   "source": [
    "O modelo de $k$​-NN para classificação é muito similar ao de regressão. A diferença está após os $k$ vizinhos serem identificados: neste momento, ao invés de retornar a média dos valores dos vizinhos, o modelo retorna a *moda* destes valores. Por conta disso, é recomendado utilizar um valor ímpar para $k$ em problemas de classificação binária.\n",
    "\n",
    "Vamos treinar um classificador $k$​-NN e observar a matriz de confusão.\n",
    "\n"
   ]
  },
  {
   "cell_type": "code",
   "execution_count": 9,
   "metadata": {},
   "outputs": [
    {
     "data": {
      "text/plain": [
       "<Axes: >"
      ]
     },
     "execution_count": 9,
     "metadata": {},
     "output_type": "execute_result"
    },
    {
     "data": {
      "image/png": "[encoded data removed]",
      "text/plain": [
       "<Figure size 640x480 with 2 Axes>"
      ]
     },
     "metadata": {},
     "output_type": "display_data"
    }
   ],
   "source": [
    "from sklearn.neighbors import KNeighborsClassifier\n",
    "\n",
    "modelo_knn = KNeighborsClassifier()\n",
    "\n",
    "modelo_knn.fit(X_treino, y_treino)\n",
    "\n",
    "y_verdadeiro = y_teste\n",
    "y_previsao = modelo_knn.predict(X_teste)\n",
    "\n",
    "matriz_conf = confusion_matrix(y_verdadeiro, y_previsao)\n",
    "\n",
    "df_conf = pd.DataFrame(matriz_conf, nomes_das_features, nomes_das_features)\n",
    "\n",
    "sns.heatmap(df_conf, annot=True, annot_kws={\"size\": 16})"
   ]
  },
  {
   "cell_type": "markdown",
   "metadata": {},
   "source": [
    "Vamos ver as métricas.\n",
    "\n"
   ]
  },
  {
   "cell_type": "code",
   "execution_count": 10,
   "metadata": {},
   "outputs": [
    {
     "name": "stdout",
     "output_type": "stream",
     "text": [
      "              precision    recall  f1-score   support\n",
      "\n",
      "      Adelie       0.78      1.00      0.88        14\n",
      "      Gentoo       1.00      0.71      0.83        14\n",
      "\n",
      "    accuracy                           0.86        28\n",
      "   macro avg       0.89      0.86      0.85        28\n",
      "weighted avg       0.89      0.86      0.85        28\n",
      "\n"
     ]
    }
   ],
   "source": [
    "print(\n",
    "    classification_report(\n",
    "        y_verdadeiro, y_previsao, target_names=nomes_das_features\n",
    "    )\n",
    ")"
   ]
  },
  {
   "cell_type": "markdown",
   "metadata": {},
   "source": [
    "### Regressão logística\n",
    "\n"
   ]
  },
  {
   "cell_type": "markdown",
   "metadata": {},
   "source": [
    "Apesar do nome sugerir o contrário, a regressão logística é um *classificador* linear. Na literatura, a regressão logística também é conhecida como regressão logit, classificação de máxima entropia (MaxEnt) ou classificador log-linear.\n",
    "\n",
    "A regressão logística, após treinada, prevê a probabilidade do target $y_i$ ter o rótulo 1 dado um certo conjunto de atributos $X_i$ de tamanho $N$. Em notação matemática temos\n",
    "\n",
    "$$\n",
    "P(y_i=1 | X_i) = \\frac{1}{1 + \\exp(-(\\sum_{n=1}^N x_n \\beta_n + \\beta_0))},\n",
    "$$\n",
    "\n",
    "onde $x_n$ é o atributo $n$ de $X_i$, $\\beta_0$ é o parâmetro chamado de viés e $\\beta_n$ são parâmetros de ajuste (um para cada atributo de $X_i$).\n",
    "\n",
    "A expressão matemática acima é a curva logística, ela varia de 0 a 1 com um formato de &ldquo;S&rdquo;. Veja um gráfico [aqui](https://en.wikipedia.org/wiki/Logistic_regression).\n",
    "\n",
    "Cada previsão de um modelo logístico é justamente a probabilidade $P$ de que seu exemplo apresente o rótulo 1. Em geral, se $P > 0.5$ então atribuímos o rótulo 1 para o exemplo, do contrário atribuímos o rótulo 0. O valor de $P$ carrega consigo a confiança da previsão.\n",
    "\n",
    "Vamos treinar um classificador usando uma regressão logística e observar a matriz de confusão.\n",
    "\n"
   ]
  },
  {
   "cell_type": "code",
   "execution_count": 11,
   "metadata": {},
   "outputs": [
    {
     "data": {
      "text/plain": [
       "<Axes: >"
      ]
     },
     "execution_count": 11,
     "metadata": {},
     "output_type": "execute_result"
    },
    {
     "data": {
      "image/png": "[encoded data removed]",
      "text/plain": [
       "<Figure size 640x480 with 2 Axes>"
      ]
     },
     "metadata": {},
     "output_type": "display_data"
    }
   ],
   "source": [
    "from sklearn.linear_model import LogisticRegression\n",
    "\n",
    "modelo_lr = LogisticRegression()\n",
    "\n",
    "modelo_lr.fit(X_treino, y_treino)\n",
    "\n",
    "y_verdadeiro = y_teste\n",
    "y_previsao = modelo_lr.predict(X_teste)\n",
    "\n",
    "matriz_conf = confusion_matrix(y_verdadeiro, y_previsao)\n",
    "\n",
    "df_conf = pd.DataFrame(matriz_conf, nomes_das_features, nomes_das_features)\n",
    "\n",
    "sns.heatmap(df_conf, annot=True, annot_kws={\"size\": 16})"
   ]
  },
  {
   "cell_type": "markdown",
   "metadata": {},
   "source": [
    "Vamos ver as métricas.\n",
    "\n"
   ]
  },
  {
   "cell_type": "code",
   "execution_count": 12,
   "metadata": {},
   "outputs": [
    {
     "name": "stdout",
     "output_type": "stream",
     "text": [
      "              precision    recall  f1-score   support\n",
      "\n",
      "      Adelie       1.00      1.00      1.00        14\n",
      "      Gentoo       1.00      1.00      1.00        14\n",
      "\n",
      "    accuracy                           1.00        28\n",
      "   macro avg       1.00      1.00      1.00        28\n",
      "weighted avg       1.00      1.00      1.00        28\n",
      "\n"
     ]
    }
   ],
   "source": [
    "print(\n",
    "    classification_report(\n",
    "        y_verdadeiro, y_previsao, target_names=nomes_das_features\n",
    "    )\n",
    ")"
   ]
  },
  {
   "cell_type": "markdown",
   "metadata": {},
   "source": [
    "Vamos ver a probabilidade atribuída para cada previsão.\n",
    "\n"
   ]
  },
  {
   "cell_type": "code",
   "execution_count": 13,
   "metadata": {},
   "outputs": [
    {
     "name": "stdout",
     "output_type": "stream",
     "text": [
      "Era Adelie e previu Adelie. Prob. de ser Adelie: 1.000.\n",
      "Era Gentoo e previu Gentoo. Prob. de ser Gentoo: 1.000.\n",
      "Era Adelie e previu Adelie. Prob. de ser Adelie: 1.000.\n",
      "Era Adelie e previu Adelie. Prob. de ser Adelie: 1.000.\n",
      "Era Gentoo e previu Gentoo. Prob. de ser Gentoo: 0.999.\n",
      "Era Gentoo e previu Gentoo. Prob. de ser Gentoo: 1.000.\n",
      "Era Gentoo e previu Gentoo. Prob. de ser Gentoo: 0.990.\n",
      "Era Adelie e previu Adelie. Prob. de ser Adelie: 1.000.\n",
      "Era Gentoo e previu Gentoo. Prob. de ser Gentoo: 1.000.\n",
      "Era Gentoo e previu Gentoo. Prob. de ser Gentoo: 1.000.\n",
      "Era Adelie e previu Adelie. Prob. de ser Adelie: 1.000.\n",
      "Era Gentoo e previu Gentoo. Prob. de ser Gentoo: 1.000.\n",
      "Era Adelie e previu Adelie. Prob. de ser Adelie: 1.000.\n",
      "Era Gentoo e previu Gentoo. Prob. de ser Gentoo: 0.992.\n",
      "Era Gentoo e previu Gentoo. Prob. de ser Gentoo: 1.000.\n",
      "Era Gentoo e previu Gentoo. Prob. de ser Gentoo: 0.994.\n",
      "Era Gentoo e previu Gentoo. Prob. de ser Gentoo: 0.996.\n",
      "Era Adelie e previu Adelie. Prob. de ser Adelie: 1.000.\n",
      "Era Gentoo e previu Gentoo. Prob. de ser Gentoo: 1.000.\n",
      "Era Adelie e previu Adelie. Prob. de ser Adelie: 1.000.\n",
      "Era Adelie e previu Adelie. Prob. de ser Adelie: 1.000.\n",
      "Era Adelie e previu Adelie. Prob. de ser Adelie: 1.000.\n",
      "Era Gentoo e previu Gentoo. Prob. de ser Gentoo: 1.000.\n",
      "Era Adelie e previu Adelie. Prob. de ser Adelie: 1.000.\n",
      "Era Adelie e previu Adelie. Prob. de ser Adelie: 1.000.\n",
      "Era Gentoo e previu Gentoo. Prob. de ser Gentoo: 0.978.\n",
      "Era Adelie e previu Adelie. Prob. de ser Adelie: 1.000.\n",
      "Era Adelie e previu Adelie. Prob. de ser Adelie: 1.000.\n"
     ]
    }
   ],
   "source": [
    "probabilidades = modelo_lr.predict_proba(X_teste)\n",
    "\n",
    "for yp, yv, prob_ in zip(y_previsao, y_verdadeiro, probabilidades):\n",
    "    nome_v = nomes_das_features[yv]\n",
    "    nome_p = nomes_das_features[yp]\n",
    "    print(\n",
    "        f\"Era {nome_v} e previu {nome_p}. \"\n",
    "        f\"Prob. de ser {nome_p}: {prob_[yp]:.3f}.\"\n",
    "    )"
   ]
  },
  {
   "cell_type": "markdown",
   "metadata": {},
   "source": [
    "### Árvore de decisão\n",
    "\n"
   ]
  },
  {
   "cell_type": "markdown",
   "metadata": {},
   "source": [
    "Uma árvore de decisão para classificação é bastante similar a uma árvore de decisão de regressão, porém os vértices folha agora contém rótulos ao invés de números.\n",
    "\n",
    "Um outro diferencial é o algoritmo que decide o splitting de cada vértice da árvore. No caso das árvores de decisão regressoras, o splitting era decidido pelo condicional que mais reduzia a somatória do erro quadrático da divisão. Como o conceito de erro quadrático não se aplica para problemas de classificação, devemos utilizar outra estratégia neste caso.\n",
    "\n",
    "A estratégia adotada para escolher o melhor splitting se baseia no conceito de *impureza*. Um vértice é considerado *puro* quando apenas exemplos de mesmo rótulo chegam até este vértice. Se uma mistura de rótulos diferentes chegam em um vértice, este tem um certo grau de impureza que pode ser computado. <u>O melhor splitting será aquele que resulta em uma divisão com *menor* impureza</u>.\n",
    "\n",
    "Existem diversas maneiras de computar a impureza, uma delas é a *entropia*. A forma do cálculo é\n",
    "\n",
    "$$\n",
    "H(X) = - \\sum_{x \\in X} p(x) \\log_2 (p(x)) = E[- \\log_2 (p(x))]\n",
    "$$\n",
    "\n",
    "onde $H$ é a entropia, $X$ é o conjunto de todos os rótulos presentes no vértice sendo estudado, $p(x)$ é a probabilidade de escolher o rótulo $x$ ao sortear um item qualquer do vértice e $E$ é a função do valor esperado.\n",
    "\n",
    "Observe que o valor de entropia vai de 0 (vértice puro) até 1 (vértice mais impuro possível).\n",
    "\n",
    "Vamos ver um exemplo. Qual a entropia do splitting abaixo?\n",
    "\n",
    "| |Vértice A|Vértice B|\n",
    "|---|---|---|\n",
    "| Rótulo 0|70|0|\n",
    "| Rótulo 1|10|30|\n",
    "\n",
    "Primeiro computamos a entropia do vértice A ($H(A)$) e depois a entropia do vértice B ($H(B)$).\n",
    "\n",
    "$$\n",
    "H(A) = - (p(0) \\log_2(p(0)) + p(1) \\log_2(p(1))) = - (70/80 \\cdot \\log_2(70/80) + 10/80 \\cdot \\log_2(10/80))\n",
    "$$\n",
    "\n"
   ]
  },
  {
   "cell_type": "code",
   "execution_count": 14,
   "metadata": {},
   "outputs": [
    {
     "name": "stdout",
     "output_type": "stream",
     "text": [
      "A entropia do vértice A é de 0.5435644431995964\n"
     ]
    }
   ],
   "source": [
    "from math import log2\n",
    "\n",
    "p0 = 70/80\n",
    "p1 = 10/80\n",
    "HA = -(p0 * log2(p0) + p1 * log2(p1))\n",
    "\n",
    "print(f\"A entropia do vértice A é de {HA}\")"
   ]
  },
  {
   "cell_type": "markdown",
   "metadata": {},
   "source": [
    "$$\n",
    "H(B) = - (p(0) \\log_2(p(0)) + p(1) \\log_2(p(1))) = - (0/30 \\cdot \\log_2(0/30) + 30/30 \\cdot \\log_2(30/30))\n",
    "$$\n",
    "\n"
   ]
  },
  {
   "cell_type": "code",
   "execution_count": 15,
   "metadata": {},
   "outputs": [
    {
     "name": "stdout",
     "output_type": "stream",
     "text": [
      "A entropia do vértice B é de 0\n"
     ]
    }
   ],
   "source": [
    "from math import log2\n",
    "\n",
    "p0 = 0/30\n",
    "p1 = 30/30\n",
    "# HB = -(p0 * log2(p0) + p1 * log2(p1)) # dá erro se rodar, veja o texto\n",
    "HB = 0\n",
    "\n",
    "print(f\"A entropia do vértice B é de {HB}\")"
   ]
  },
  {
   "cell_type": "markdown",
   "metadata": {},
   "source": [
    "Neste caso, como convenção tomamos que $0 \\cdot \\log_2(0)=0$, o que resulta em $H(B)=0$\n",
    "\n",
    "Para calcular a entropia do split, precisamos computar a entropia ponderada considerando $H(A)$ e $H(B)$:\n",
    "\n",
    "$$\n",
    "\\textrm{Entropia do split} = \\frac{n_A}{n_A + n_B}H(A) +  \\frac{n_B}{n_A + n_B}H(B)\n",
    "$$\n",
    "\n",
    "onde $n_A$ é o número total de exemplos no vértice A (neste caso é 70 + 10) e $n_B$ é o número total de exemplos no vértice B (neste caso é 0 + 30).\n",
    "\n"
   ]
  },
  {
   "cell_type": "code",
   "execution_count": 16,
   "metadata": {},
   "outputs": [
    {
     "name": "stdout",
     "output_type": "stream",
     "text": [
      "A entropia do split é de 0.39531959505425196\n"
     ]
    }
   ],
   "source": [
    "nA = 70 + 10\n",
    "nB = 0 + 30\n",
    "\n",
    "H_split = (nA / (nA + nB)) * HA + (nB / (nA + nB)) * HB\n",
    "\n",
    "print(f\"A entropia do split é de {H_split}\")"
   ]
  },
  {
   "cell_type": "markdown",
   "metadata": {},
   "source": [
    "Agora suponha que temos outro split para considerar. Qual devemos utilizar? O acima ou o abaixo?\n",
    "\n",
    "| |Vértice A|Vértice B|\n",
    "|---|---|---|\n",
    "| Rótulo 0|60|15|\n",
    "| Rótulo 1|20|15|\n",
    "\n"
   ]
  },
  {
   "cell_type": "code",
   "execution_count": 17,
   "metadata": {},
   "outputs": [
    {
     "name": "stdout",
     "output_type": "stream",
     "text": [
      "A entropia do vértice A é de 0.8112781244591328\n",
      "A entropia do vértice B é de 1.0\n",
      "A entropia do split é de 0.8627477268793693\n"
     ]
    }
   ],
   "source": [
    "p0 = 60/80\n",
    "p1 = 20/80\n",
    "HA = -(p0 * log2(p0) + p1 * log2(p1))\n",
    "\n",
    "print(f\"A entropia do vértice A é de {HA}\")\n",
    "\n",
    "p0 = 15/30\n",
    "p1 = 15/30\n",
    "HB = -(p0 * log2(p0) + p1 * log2(p1))\n",
    "\n",
    "print(f\"A entropia do vértice B é de {HB}\")\n",
    "\n",
    "nA = 60 + 20\n",
    "nB = 15 + 15\n",
    "\n",
    "H_split = (nA / (nA + nB)) * HA + (nB / (nA + nB)) * HB\n",
    "\n",
    "print(f\"A entropia do split é de {H_split}\")"
   ]
  },
  {
   "cell_type": "markdown",
   "metadata": {},
   "source": [
    "Observe que o primeiro split resultou em uma entropia de 0.39 e o segundo em uma entropia de 0.86. Logo, o primeiro split é o que mais reduz a impureza dos vértices e deve ser escolhido neste caso.\n",
    "\n",
    "Vamos treinar um classificador usando uma árvore de decisão e observar a matriz de confusão.\n",
    "\n"
   ]
  },
  {
   "cell_type": "code",
   "execution_count": 18,
   "metadata": {},
   "outputs": [
    {
     "data": {
      "text/plain": [
       "<Axes: >"
      ]
     },
     "execution_count": 18,
     "metadata": {},
     "output_type": "execute_result"
    },
    {
     "data": {
      "image/png": "[encoded data removed]",
      "text/plain": [
       "<Figure size 640x480 with 2 Axes>"
      ]
     },
     "metadata": {},
     "output_type": "display_data"
    }
   ],
   "source": [
    "from sklearn.tree import DecisionTreeClassifier\n",
    "\n",
    "modelo_dt = DecisionTreeClassifier()\n",
    "\n",
    "modelo_dt.fit(X_treino, y_treino)\n",
    "\n",
    "y_verdadeiro = y_teste\n",
    "y_previsao = modelo_dt.predict(X_teste)\n",
    "\n",
    "matriz_conf = confusion_matrix(y_verdadeiro, y_previsao)\n",
    "\n",
    "df_conf = pd.DataFrame(matriz_conf, nomes_das_features, nomes_das_features)\n",
    "\n",
    "sns.heatmap(df_conf, annot=True, annot_kws={\"size\": 16})"
   ]
  },
  {
   "cell_type": "markdown",
   "metadata": {},
   "source": [
    "Vamos ver as métricas.\n",
    "\n"
   ]
  },
  {
   "cell_type": "code",
   "execution_count": 19,
   "metadata": {},
   "outputs": [
    {
     "name": "stdout",
     "output_type": "stream",
     "text": [
      "              precision    recall  f1-score   support\n",
      "\n",
      "      Adelie       1.00      1.00      1.00        14\n",
      "      Gentoo       1.00      1.00      1.00        14\n",
      "\n",
      "    accuracy                           1.00        28\n",
      "   macro avg       1.00      1.00      1.00        28\n",
      "weighted avg       1.00      1.00      1.00        28\n",
      "\n"
     ]
    }
   ],
   "source": [
    "print(\n",
    "    classification_report(\n",
    "        y_verdadeiro, y_previsao, target_names=nomes_das_features\n",
    "    )\n",
    ")"
   ]
  },
  {
   "cell_type": "markdown",
   "metadata": {},
   "source": [
    "Vamos ver a probabilidade atribuída para cada previsão. Neste caso, a probabilidade atribuída representa a fração de itens com o rótulo previsto no vértice folha que realizou a previsão.\n",
    "\n"
   ]
  },
  {
   "cell_type": "code",
   "execution_count": 20,
   "metadata": {},
   "outputs": [
    {
     "name": "stdout",
     "output_type": "stream",
     "text": [
      "Era Adelie e previu Adelie. Prob. de ser Adelie: 1.000.\n",
      "Era Gentoo e previu Gentoo. Prob. de ser Gentoo: 1.000.\n",
      "Era Adelie e previu Adelie. Prob. de ser Adelie: 1.000.\n",
      "Era Adelie e previu Adelie. Prob. de ser Adelie: 1.000.\n",
      "Era Gentoo e previu Gentoo. Prob. de ser Gentoo: 1.000.\n",
      "Era Gentoo e previu Gentoo. Prob. de ser Gentoo: 1.000.\n",
      "Era Gentoo e previu Gentoo. Prob. de ser Gentoo: 1.000.\n",
      "Era Adelie e previu Adelie. Prob. de ser Adelie: 1.000.\n",
      "Era Gentoo e previu Gentoo. Prob. de ser Gentoo: 1.000.\n",
      "Era Gentoo e previu Gentoo. Prob. de ser Gentoo: 1.000.\n",
      "Era Adelie e previu Adelie. Prob. de ser Adelie: 1.000.\n",
      "Era Gentoo e previu Gentoo. Prob. de ser Gentoo: 1.000.\n",
      "Era Adelie e previu Adelie. Prob. de ser Adelie: 1.000.\n",
      "Era Gentoo e previu Gentoo. Prob. de ser Gentoo: 1.000.\n",
      "Era Gentoo e previu Gentoo. Prob. de ser Gentoo: 1.000.\n",
      "Era Gentoo e previu Gentoo. Prob. de ser Gentoo: 1.000.\n",
      "Era Gentoo e previu Gentoo. Prob. de ser Gentoo: 1.000.\n",
      "Era Adelie e previu Adelie. Prob. de ser Adelie: 1.000.\n",
      "Era Gentoo e previu Gentoo. Prob. de ser Gentoo: 1.000.\n",
      "Era Adelie e previu Adelie. Prob. de ser Adelie: 1.000.\n",
      "Era Adelie e previu Adelie. Prob. de ser Adelie: 1.000.\n",
      "Era Adelie e previu Adelie. Prob. de ser Adelie: 1.000.\n",
      "Era Gentoo e previu Gentoo. Prob. de ser Gentoo: 1.000.\n",
      "Era Adelie e previu Adelie. Prob. de ser Adelie: 1.000.\n",
      "Era Adelie e previu Adelie. Prob. de ser Adelie: 1.000.\n",
      "Era Gentoo e previu Gentoo. Prob. de ser Gentoo: 1.000.\n",
      "Era Adelie e previu Adelie. Prob. de ser Adelie: 1.000.\n",
      "Era Adelie e previu Adelie. Prob. de ser Adelie: 1.000.\n"
     ]
    }
   ],
   "source": [
    "probabilidades = modelo_dt.predict_proba(X_teste)\n",
    "\n",
    "for yp, yv, prob_ in zip(y_previsao, y_verdadeiro, probabilidades):\n",
    "    nome_v = nomes_das_features[yv]\n",
    "    nome_p = nomes_das_features[yp]\n",
    "    print(\n",
    "        f\"Era {nome_v} e previu {nome_p}. \"\n",
    "        f\"Prob. de ser {nome_p}: {prob_[yp]:.3f}.\"\n",
    "    )"
   ]
  },
  {
   "cell_type": "markdown",
   "metadata": {},
   "source": [
    "### Floresta aleatória\n",
    "\n"
   ]
  },
  {
   "cell_type": "markdown",
   "metadata": {},
   "source": [
    "O classificador tipo floresta aleatória é muito similar ao regressor tipo floresta aleatória, com duas diferenças notáveis:\n",
    "\n",
    "1.  As árvores da floresta são classificadores e não regressores (o que faz todo sentido!).\n",
    "\n",
    "2.  A previsão final não é a média da previsão de cada árvore, mas sim a moda.\n",
    "\n",
    "Vamos treinar um classificador usando uma floresta aleatória e observar a matriz de confusão.\n",
    "\n"
   ]
  },
  {
   "cell_type": "code",
   "execution_count": 21,
   "metadata": {},
   "outputs": [
    {
     "data": {
      "text/plain": [
       "<Axes: >"
      ]
     },
     "execution_count": 21,
     "metadata": {},
     "output_type": "execute_result"
    },
    {
     "data": {
      "image/png": "[encoded data removed]",
      "text/plain": [
       "<Figure size 640x480 with 2 Axes>"
      ]
     },
     "metadata": {},
     "output_type": "display_data"
    }
   ],
   "source": [
    "from sklearn.ensemble import RandomForestClassifier\n",
    "\n",
    "modelo_rf = RandomForestClassifier()\n",
    "\n",
    "modelo_rf.fit(X_treino, y_treino)\n",
    "\n",
    "y_verdadeiro = y_teste\n",
    "y_previsao = modelo_rf.predict(X_teste)\n",
    "\n",
    "matriz_conf = confusion_matrix(y_verdadeiro, y_previsao)\n",
    "\n",
    "df_conf = pd.DataFrame(matriz_conf, nomes_das_features, nomes_das_features)\n",
    "\n",
    "sns.heatmap(df_conf, annot=True, annot_kws={\"size\": 16})"
   ]
  },
  {
   "cell_type": "markdown",
   "metadata": {},
   "source": [
    "Vamos ver as métricas.\n",
    "\n"
   ]
  },
  {
   "cell_type": "code",
   "execution_count": 22,
   "metadata": {},
   "outputs": [
    {
     "name": "stdout",
     "output_type": "stream",
     "text": [
      "              precision    recall  f1-score   support\n",
      "\n",
      "      Adelie       1.00      1.00      1.00        14\n",
      "      Gentoo       1.00      1.00      1.00        14\n",
      "\n",
      "    accuracy                           1.00        28\n",
      "   macro avg       1.00      1.00      1.00        28\n",
      "weighted avg       1.00      1.00      1.00        28\n",
      "\n"
     ]
    }
   ],
   "source": [
    "print(\n",
    "    classification_report(\n",
    "        y_verdadeiro, y_previsao, target_names=nomes_das_features\n",
    "    )\n",
    ")"
   ]
  },
  {
   "cell_type": "markdown",
   "metadata": {},
   "source": [
    "Vamos ver a probabilidade atribuída para cada previsão. Neste caso, a probabilidade atribuída representa a fração de árvores dentro da floresta que previram o rótulo.\n",
    "\n"
   ]
  },
  {
   "cell_type": "code",
   "execution_count": 23,
   "metadata": {},
   "outputs": [
    {
     "name": "stdout",
     "output_type": "stream",
     "text": [
      "Era Adelie e previu Adelie. Prob. de ser Adelie: 1.000.\n",
      "Era Gentoo e previu Gentoo. Prob. de ser Gentoo: 1.000.\n",
      "Era Adelie e previu Adelie. Prob. de ser Adelie: 1.000.\n",
      "Era Adelie e previu Adelie. Prob. de ser Adelie: 0.980.\n",
      "Era Gentoo e previu Gentoo. Prob. de ser Gentoo: 1.000.\n",
      "Era Gentoo e previu Gentoo. Prob. de ser Gentoo: 1.000.\n",
      "Era Gentoo e previu Gentoo. Prob. de ser Gentoo: 0.980.\n",
      "Era Adelie e previu Adelie. Prob. de ser Adelie: 1.000.\n",
      "Era Gentoo e previu Gentoo. Prob. de ser Gentoo: 1.000.\n",
      "Era Gentoo e previu Gentoo. Prob. de ser Gentoo: 1.000.\n",
      "Era Adelie e previu Adelie. Prob. de ser Adelie: 1.000.\n",
      "Era Gentoo e previu Gentoo. Prob. de ser Gentoo: 1.000.\n",
      "Era Adelie e previu Adelie. Prob. de ser Adelie: 1.000.\n",
      "Era Gentoo e previu Gentoo. Prob. de ser Gentoo: 1.000.\n",
      "Era Gentoo e previu Gentoo. Prob. de ser Gentoo: 1.000.\n",
      "Era Gentoo e previu Gentoo. Prob. de ser Gentoo: 1.000.\n",
      "Era Gentoo e previu Gentoo. Prob. de ser Gentoo: 0.970.\n",
      "Era Adelie e previu Adelie. Prob. de ser Adelie: 1.000.\n",
      "Era Gentoo e previu Gentoo. Prob. de ser Gentoo: 1.000.\n",
      "Era Adelie e previu Adelie. Prob. de ser Adelie: 1.000.\n",
      "Era Adelie e previu Adelie. Prob. de ser Adelie: 0.990.\n",
      "Era Adelie e previu Adelie. Prob. de ser Adelie: 1.000.\n",
      "Era Gentoo e previu Gentoo. Prob. de ser Gentoo: 1.000.\n",
      "Era Adelie e previu Adelie. Prob. de ser Adelie: 1.000.\n",
      "Era Adelie e previu Adelie. Prob. de ser Adelie: 1.000.\n",
      "Era Gentoo e previu Gentoo. Prob. de ser Gentoo: 0.970.\n",
      "Era Adelie e previu Adelie. Prob. de ser Adelie: 1.000.\n",
      "Era Adelie e previu Adelie. Prob. de ser Adelie: 1.000.\n"
     ]
    }
   ],
   "source": [
    "probabilidades = modelo_rf.predict_proba(X_teste)\n",
    "\n",
    "for yp, yv, prob_ in zip(y_previsao, y_verdadeiro, probabilidades):\n",
    "    nome_v = nomes_das_features[yv]\n",
    "    nome_p = nomes_das_features[yp]\n",
    "    print(\n",
    "        f\"Era {nome_v} e previu {nome_p}. \"\n",
    "        f\"Prob. de ser {nome_p}: {prob_[yp]:.3f}.\"\n",
    "    )"
   ]
  },
  {
   "cell_type": "markdown",
   "metadata": {},
   "source": [
    "## O problema da classificação multiclasse\n",
    "\n"
   ]
  },
  {
   "cell_type": "markdown",
   "metadata": {},
   "source": [
    "Em certos problemas temos mais que duas classes no target (em termos matemáticos, o conjunto de todos os rótulos possíveis tem cardinalidade maior que 2). Por exemplo, o próprio dataset dos pinguins tinha *três* classes de pinguins (nós que removemos uma para transformá-lo em um problema binário). Chamamos estes problemas de *problemas de classificação multiclasse*.\n",
    "\n",
    "Segundo a documentação (ref. [7]), todos os classificadores do `scikit-learn` são capazes de resolver problemas de classificação multiclasse.\n",
    "\n"
   ]
  },
  {
   "cell_type": "markdown",
   "metadata": {},
   "source": [
    "## Modelos de classificação multiclasse com `scikit-learn`\n",
    "\n"
   ]
  },
  {
   "cell_type": "markdown",
   "metadata": {},
   "source": [
    "### Carregando os dados\n",
    "\n"
   ]
  },
  {
   "cell_type": "markdown",
   "metadata": {},
   "source": [
    "Vamos carregar os dados sem remover os pinguins de barbicha e sem binarizar o target.\n",
    "\n"
   ]
  },
  {
   "cell_type": "code",
   "execution_count": 24,
   "metadata": {},
   "outputs": [],
   "source": [
    "DATASET_NAME = \"penguins\"\n",
    "FEATURES = [\"bill_length_mm\", \"bill_depth_mm\", \"flipper_length_mm\", \"body_mass_g\"]\n",
    "TARGET = [\"species\"]\n",
    "\n",
    "TAMANHO_TESTE = 0.1\n",
    "SEMENTE_ALEATORIA = 61455\n",
    "\n",
    "df = sns.load_dataset(DATASET_NAME)\n",
    "\n",
    "df = df.reindex(FEATURES + TARGET, axis=1)\n",
    "df = df.dropna()\n",
    "\n",
    "indices = df.index\n",
    "indices_treino, indices_teste = train_test_split(\n",
    "    indices, test_size=TAMANHO_TESTE, random_state=SEMENTE_ALEATORIA\n",
    ")\n",
    "\n",
    "df_treino = df.loc[indices_treino]\n",
    "df_teste = df.loc[indices_teste]\n",
    "\n",
    "X_treino = df_treino.reindex(FEATURES, axis=1).values\n",
    "y_treino = df_treino.reindex(TARGET, axis=1).values.ravel()\n",
    "\n",
    "X_teste = df_teste.reindex(FEATURES, axis=1).values\n",
    "y_teste = df_teste.reindex(TARGET, axis=1).values.ravel()"
   ]
  },
  {
   "cell_type": "markdown",
   "metadata": {},
   "source": [
    "### Baseline\n",
    "\n"
   ]
  },
  {
   "cell_type": "markdown",
   "metadata": {},
   "source": [
    "Matriz de confusão.\n",
    "\n"
   ]
  },
  {
   "cell_type": "code",
   "execution_count": 25,
   "metadata": {},
   "outputs": [
    {
     "data": {
      "text/plain": [
       "<Axes: >"
      ]
     },
     "execution_count": 25,
     "metadata": {},
     "output_type": "execute_result"
    },
    {
     "data": {
      "image/png": "[encoded data removed]",
      "text/plain": [
       "<Figure size 640x480 with 2 Axes>"
      ]
     },
     "metadata": {},
     "output_type": "display_data"
    }
   ],
   "source": [
    "modelo_baseline = DummyClassifier()\n",
    "\n",
    "modelo_baseline.fit(X_treino, y_treino)\n",
    "\n",
    "y_verdadeiro = y_teste\n",
    "y_previsao = modelo_baseline.predict(X_teste)\n",
    "\n",
    "nomes_das_features = modelo_baseline.classes_\n",
    "matriz_conf = confusion_matrix(\n",
    "    y_verdadeiro, y_previsao, labels=nomes_das_features\n",
    ")\n",
    "df_conf = pd.DataFrame(matriz_conf, nomes_das_features, nomes_das_features)\n",
    "sns.heatmap(df_conf, annot=True, annot_kws={\"size\": 16})"
   ]
  },
  {
   "cell_type": "markdown",
   "metadata": {},
   "source": [
    "Métricas.\n",
    "\n"
   ]
  },
  {
   "cell_type": "code",
   "execution_count": 26,
   "metadata": {},
   "outputs": [
    {
     "name": "stdout",
     "output_type": "stream",
     "text": [
      "              precision    recall  f1-score   support\n",
      "\n",
      "      Adelie       0.43      1.00      0.60        15\n",
      "   Chinstrap       0.00      0.00      0.00         6\n",
      "      Gentoo       0.00      0.00      0.00        14\n",
      "\n",
      "    accuracy                           0.43        35\n",
      "   macro avg       0.14      0.33      0.20        35\n",
      "weighted avg       0.18      0.43      0.26        35\n",
      "\n"
     ]
    },
    {
     "name": "stderr",
     "output_type": "stream",
     "text": [
      "/home/daniel/data/Venv/ilumpy/lib/python3.10/site-packages/sklearn/metrics/_classification.py:1344: UndefinedMetricWarning: Precision and F-score are ill-defined and being set to 0.0 in labels with no predicted samples. Use `zero_division` parameter to control this behavior.\n",
      "  _warn_prf(average, modifier, msg_start, len(result))\n",
      "/home/daniel/data/Venv/ilumpy/lib/python3.10/site-packages/sklearn/metrics/_classification.py:1344: UndefinedMetricWarning: Precision and F-score are ill-defined and being set to 0.0 in labels with no predicted samples. Use `zero_division` parameter to control this behavior.\n",
      "  _warn_prf(average, modifier, msg_start, len(result))\n",
      "/home/daniel/data/Venv/ilumpy/lib/python3.10/site-packages/sklearn/metrics/_classification.py:1344: UndefinedMetricWarning: Precision and F-score are ill-defined and being set to 0.0 in labels with no predicted samples. Use `zero_division` parameter to control this behavior.\n",
      "  _warn_prf(average, modifier, msg_start, len(result))\n"
     ]
    }
   ],
   "source": [
    "print(\n",
    "    classification_report(\n",
    "        y_verdadeiro, y_previsao, target_names=nomes_das_features\n",
    "    )\n",
    ")"
   ]
  },
  {
   "cell_type": "markdown",
   "metadata": {},
   "source": [
    "### $k$ vizinhos mais próximos\n",
    "\n"
   ]
  },
  {
   "cell_type": "markdown",
   "metadata": {},
   "source": [
    "Matriz de confusão.\n",
    "\n"
   ]
  },
  {
   "cell_type": "code",
   "execution_count": 27,
   "metadata": {},
   "outputs": [
    {
     "data": {
      "text/plain": [
       "<Axes: >"
      ]
     },
     "execution_count": 27,
     "metadata": {},
     "output_type": "execute_result"
    },
    {
     "data": {
      "image/png": "[encoded data removed]",
      "text/plain": [
       "<Figure size 640x480 with 2 Axes>"
      ]
     },
     "metadata": {},
     "output_type": "display_data"
    }
   ],
   "source": [
    "modelo_knn = KNeighborsClassifier()\n",
    "\n",
    "modelo_knn.fit(X_treino, y_treino)\n",
    "\n",
    "y_verdadeiro = y_teste\n",
    "y_previsao = modelo_knn.predict(X_teste)\n",
    "\n",
    "nomes_das_features = modelo_knn.classes_\n",
    "matriz_conf = confusion_matrix(\n",
    "    y_verdadeiro, y_previsao, labels=nomes_das_features\n",
    ")\n",
    "df_conf = pd.DataFrame(matriz_conf, nomes_das_features, nomes_das_features)\n",
    "sns.heatmap(df_conf, annot=True, annot_kws={\"size\": 16})"
   ]
  },
  {
   "cell_type": "markdown",
   "metadata": {},
   "source": [
    "Métricas.\n",
    "\n"
   ]
  },
  {
   "cell_type": "code",
   "execution_count": 28,
   "metadata": {},
   "outputs": [
    {
     "name": "stdout",
     "output_type": "stream",
     "text": [
      "              precision    recall  f1-score   support\n",
      "\n",
      "      Adelie       0.82      0.93      0.87        15\n",
      "   Chinstrap       1.00      0.50      0.67         6\n",
      "      Gentoo       0.93      1.00      0.97        14\n",
      "\n",
      "    accuracy                           0.89        35\n",
      "   macro avg       0.92      0.81      0.84        35\n",
      "weighted avg       0.90      0.89      0.88        35\n",
      "\n"
     ]
    }
   ],
   "source": [
    "print(\n",
    "    classification_report(\n",
    "        y_verdadeiro, y_previsao, target_names=nomes_das_features\n",
    "    )\n",
    ")"
   ]
  },
  {
   "cell_type": "markdown",
   "metadata": {},
   "source": [
    "### Regressão logística\n",
    "\n"
   ]
  },
  {
   "cell_type": "markdown",
   "metadata": {},
   "source": [
    "Matriz de confusão.\n",
    "\n"
   ]
  },
  {
   "cell_type": "code",
   "execution_count": 29,
   "metadata": {},
   "outputs": [
    {
     "name": "stderr",
     "output_type": "stream",
     "text": [
      "/home/daniel/data/Venv/ilumpy/lib/python3.10/site-packages/sklearn/linear_model/_logistic.py:458: ConvergenceWarning: lbfgs failed to converge (status=1):\n",
      "STOP: TOTAL NO. of ITERATIONS REACHED LIMIT.\n",
      "\n",
      "Increase the number of iterations (max_iter) or scale the data as shown in:\n",
      "    https://scikit-learn.org/stable/modules/preprocessing.html\n",
      "Please also refer to the documentation for alternative solver options:\n",
      "    https://scikit-learn.org/stable/modules/linear_model.html#logistic-regression\n",
      "  n_iter_i = _check_optimize_result(\n"
     ]
    },
    {
     "data": {
      "text/plain": [
       "<Axes: >"
      ]
     },
     "execution_count": 29,
     "metadata": {},
     "output_type": "execute_result"
    },
    {
     "data": {
      "image/png": "[encoded data removed]",
      "text/plain": [
       "<Figure size 640x480 with 2 Axes>"
      ]
     },
     "metadata": {},
     "output_type": "display_data"
    }
   ],
   "source": [
    "modelo_lr = LogisticRegression()\n",
    "\n",
    "modelo_lr.fit(X_treino, y_treino)\n",
    "\n",
    "y_verdadeiro = y_teste\n",
    "y_previsao = modelo_lr.predict(X_teste)\n",
    "\n",
    "nomes_das_features = modelo_lr.classes_\n",
    "matriz_conf = confusion_matrix(\n",
    "    y_verdadeiro, y_previsao, labels=nomes_das_features\n",
    ")\n",
    "df_conf = pd.DataFrame(matriz_conf, nomes_das_features, nomes_das_features)\n",
    "sns.heatmap(df_conf, annot=True, annot_kws={\"size\": 16})"
   ]
  },
  {
   "cell_type": "markdown",
   "metadata": {},
   "source": [
    "Métricas.\n",
    "\n"
   ]
  },
  {
   "cell_type": "code",
   "execution_count": 30,
   "metadata": {},
   "outputs": [
    {
     "name": "stdout",
     "output_type": "stream",
     "text": [
      "              precision    recall  f1-score   support\n",
      "\n",
      "      Adelie       1.00      0.93      0.97        15\n",
      "   Chinstrap       0.86      1.00      0.92         6\n",
      "      Gentoo       1.00      1.00      1.00        14\n",
      "\n",
      "    accuracy                           0.97        35\n",
      "   macro avg       0.95      0.98      0.96        35\n",
      "weighted avg       0.98      0.97      0.97        35\n",
      "\n"
     ]
    }
   ],
   "source": [
    "print(\n",
    "    classification_report(\n",
    "        y_verdadeiro, y_previsao, target_names=nomes_das_features\n",
    "    )\n",
    ")"
   ]
  },
  {
   "cell_type": "markdown",
   "metadata": {},
   "source": [
    "Probabilidade atribuída para cada previsão.\n",
    "\n"
   ]
  },
  {
   "cell_type": "code",
   "execution_count": 31,
   "metadata": {},
   "outputs": [
    {
     "name": "stdout",
     "output_type": "stream",
     "text": [
      "Era Adelie e previu Adelie. Prob. de ser Adelie: 1.000.\n",
      "Era Chinstrap e previu Chinstrap. Prob. de ser Chinstrap: 1.000.\n",
      "Era Gentoo e previu Gentoo. Prob. de ser Gentoo: 0.999.\n",
      "Era Adelie e previu Adelie. Prob. de ser Adelie: 0.999.\n",
      "Era Chinstrap e previu Chinstrap. Prob. de ser Chinstrap: 0.999.\n",
      "Era Chinstrap e previu Chinstrap. Prob. de ser Chinstrap: 1.000.\n",
      "Era Adelie e previu Adelie. Prob. de ser Adelie: 1.000.\n",
      "Era Gentoo e previu Gentoo. Prob. de ser Gentoo: 0.999.\n",
      "Era Adelie e previu Adelie. Prob. de ser Adelie: 1.000.\n",
      "Era Adelie e previu Adelie. Prob. de ser Adelie: 0.921.\n",
      "Era Chinstrap e previu Chinstrap. Prob. de ser Chinstrap: 1.000.\n",
      "Era Adelie e previu Chinstrap. Prob. de ser Chinstrap: 0.818.\n",
      "Era Gentoo e previu Gentoo. Prob. de ser Gentoo: 1.000.\n",
      "Era Chinstrap e previu Chinstrap. Prob. de ser Chinstrap: 1.000.\n",
      "Era Adelie e previu Adelie. Prob. de ser Adelie: 0.883.\n",
      "Era Adelie e previu Adelie. Prob. de ser Adelie: 1.000.\n",
      "Era Adelie e previu Adelie. Prob. de ser Adelie: 1.000.\n",
      "Era Adelie e previu Adelie. Prob. de ser Adelie: 0.997.\n",
      "Era Adelie e previu Adelie. Prob. de ser Adelie: 1.000.\n",
      "Era Chinstrap e previu Chinstrap. Prob. de ser Chinstrap: 1.000.\n",
      "Era Gentoo e previu Gentoo. Prob. de ser Gentoo: 1.000.\n",
      "Era Gentoo e previu Gentoo. Prob. de ser Gentoo: 1.000.\n",
      "Era Gentoo e previu Gentoo. Prob. de ser Gentoo: 1.000.\n",
      "Era Gentoo e previu Gentoo. Prob. de ser Gentoo: 1.000.\n",
      "Era Gentoo e previu Gentoo. Prob. de ser Gentoo: 0.951.\n",
      "Era Gentoo e previu Gentoo. Prob. de ser Gentoo: 1.000.\n",
      "Era Gentoo e previu Gentoo. Prob. de ser Gentoo: 1.000.\n",
      "Era Gentoo e previu Gentoo. Prob. de ser Gentoo: 1.000.\n",
      "Era Gentoo e previu Gentoo. Prob. de ser Gentoo: 1.000.\n",
      "Era Adelie e previu Adelie. Prob. de ser Adelie: 1.000.\n",
      "Era Adelie e previu Adelie. Prob. de ser Adelie: 1.000.\n",
      "Era Gentoo e previu Gentoo. Prob. de ser Gentoo: 1.000.\n",
      "Era Adelie e previu Adelie. Prob. de ser Adelie: 0.990.\n",
      "Era Adelie e previu Adelie. Prob. de ser Adelie: 1.000.\n",
      "Era Gentoo e previu Gentoo. Prob. de ser Gentoo: 0.999.\n"
     ]
    }
   ],
   "source": [
    "probabilidades = modelo_lr.predict_proba(X_teste)\n",
    "\n",
    "for yp, yv, prob_ in zip(y_previsao, y_verdadeiro, probabilidades):\n",
    "    indice = list(nomes_das_features).index(yp)\n",
    "    print(f\"Era {yv} e previu {yp}. Prob. de ser {yp}: {prob_[indice]:.3f}.\")"
   ]
  },
  {
   "cell_type": "markdown",
   "metadata": {},
   "source": [
    "### Árvore de decisão\n",
    "\n"
   ]
  },
  {
   "cell_type": "code",
   "execution_count": 32,
   "metadata": {},
   "outputs": [
    {
     "data": {
      "text/plain": [
       "<Axes: >"
      ]
     },
     "execution_count": 32,
     "metadata": {},
     "output_type": "execute_result"
    },
    {
     "data": {
      "image/png": "[encoded data removed]",
      "text/plain": [
       "<Figure size 640x480 with 2 Axes>"
      ]
     },
     "metadata": {},
     "output_type": "display_data"
    }
   ],
   "source": [
    "modelo_dt = DecisionTreeClassifier()\n",
    "\n",
    "modelo_dt.fit(X_treino, y_treino)\n",
    "\n",
    "y_verdadeiro = y_teste\n",
    "y_previsao = modelo_dt.predict(X_teste)\n",
    "\n",
    "nomes_das_features = modelo_dt.classes_\n",
    "matriz_conf = confusion_matrix(\n",
    "    y_verdadeiro, y_previsao, labels=nomes_das_features\n",
    ")\n",
    "df_conf = pd.DataFrame(matriz_conf, nomes_das_features, nomes_das_features)\n",
    "sns.heatmap(df_conf, annot=True, annot_kws={\"size\": 16})"
   ]
  },
  {
   "cell_type": "markdown",
   "metadata": {},
   "source": [
    "Métricas.\n",
    "\n"
   ]
  },
  {
   "cell_type": "code",
   "execution_count": 33,
   "metadata": {},
   "outputs": [
    {
     "name": "stdout",
     "output_type": "stream",
     "text": [
      "              precision    recall  f1-score   support\n",
      "\n",
      "      Adelie       1.00      1.00      1.00        15\n",
      "   Chinstrap       0.86      1.00      0.92         6\n",
      "      Gentoo       1.00      0.93      0.96        14\n",
      "\n",
      "    accuracy                           0.97        35\n",
      "   macro avg       0.95      0.98      0.96        35\n",
      "weighted avg       0.98      0.97      0.97        35\n",
      "\n"
     ]
    }
   ],
   "source": [
    "print(\n",
    "    classification_report(\n",
    "        y_verdadeiro, y_previsao, target_names=nomes_das_features\n",
    "    )\n",
    ")"
   ]
  },
  {
   "cell_type": "markdown",
   "metadata": {},
   "source": [
    "Probabilidade atribuída para cada previsão.\n",
    "\n"
   ]
  },
  {
   "cell_type": "code",
   "execution_count": 34,
   "metadata": {},
   "outputs": [
    {
     "name": "stdout",
     "output_type": "stream",
     "text": [
      "Era Adelie e previu Adelie. Prob. de ser Adelie: 1.000.\n",
      "Era Chinstrap e previu Chinstrap. Prob. de ser Chinstrap: 1.000.\n",
      "Era Gentoo e previu Gentoo. Prob. de ser Gentoo: 1.000.\n",
      "Era Adelie e previu Adelie. Prob. de ser Adelie: 1.000.\n",
      "Era Chinstrap e previu Chinstrap. Prob. de ser Chinstrap: 1.000.\n",
      "Era Chinstrap e previu Chinstrap. Prob. de ser Chinstrap: 1.000.\n",
      "Era Adelie e previu Adelie. Prob. de ser Adelie: 1.000.\n",
      "Era Gentoo e previu Gentoo. Prob. de ser Gentoo: 1.000.\n",
      "Era Adelie e previu Adelie. Prob. de ser Adelie: 1.000.\n",
      "Era Adelie e previu Adelie. Prob. de ser Adelie: 1.000.\n",
      "Era Chinstrap e previu Chinstrap. Prob. de ser Chinstrap: 1.000.\n",
      "Era Adelie e previu Adelie. Prob. de ser Adelie: 1.000.\n",
      "Era Gentoo e previu Gentoo. Prob. de ser Gentoo: 1.000.\n",
      "Era Chinstrap e previu Chinstrap. Prob. de ser Chinstrap: 1.000.\n",
      "Era Adelie e previu Adelie. Prob. de ser Adelie: 1.000.\n",
      "Era Adelie e previu Adelie. Prob. de ser Adelie: 1.000.\n",
      "Era Adelie e previu Adelie. Prob. de ser Adelie: 1.000.\n",
      "Era Adelie e previu Adelie. Prob. de ser Adelie: 1.000.\n",
      "Era Adelie e previu Adelie. Prob. de ser Adelie: 1.000.\n",
      "Era Chinstrap e previu Chinstrap. Prob. de ser Chinstrap: 1.000.\n",
      "Era Gentoo e previu Gentoo. Prob. de ser Gentoo: 1.000.\n",
      "Era Gentoo e previu Gentoo. Prob. de ser Gentoo: 1.000.\n",
      "Era Gentoo e previu Gentoo. Prob. de ser Gentoo: 1.000.\n",
      "Era Gentoo e previu Gentoo. Prob. de ser Gentoo: 1.000.\n",
      "Era Gentoo e previu Chinstrap. Prob. de ser Chinstrap: 1.000.\n",
      "Era Gentoo e previu Gentoo. Prob. de ser Gentoo: 1.000.\n",
      "Era Gentoo e previu Gentoo. Prob. de ser Gentoo: 1.000.\n",
      "Era Gentoo e previu Gentoo. Prob. de ser Gentoo: 1.000.\n",
      "Era Gentoo e previu Gentoo. Prob. de ser Gentoo: 1.000.\n",
      "Era Adelie e previu Adelie. Prob. de ser Adelie: 1.000.\n",
      "Era Adelie e previu Adelie. Prob. de ser Adelie: 1.000.\n",
      "Era Gentoo e previu Gentoo. Prob. de ser Gentoo: 1.000.\n",
      "Era Adelie e previu Adelie. Prob. de ser Adelie: 1.000.\n",
      "Era Adelie e previu Adelie. Prob. de ser Adelie: 1.000.\n",
      "Era Gentoo e previu Gentoo. Prob. de ser Gentoo: 1.000.\n"
     ]
    }
   ],
   "source": [
    "probabilidades = modelo_dt.predict_proba(X_teste)\n",
    "\n",
    "for yp, yv, prob_ in zip(y_previsao, y_verdadeiro, probabilidades):\n",
    "    indice = list(nomes_das_features).index(yp)\n",
    "    print(f\"Era {yv} e previu {yp}. Prob. de ser {yp}: {prob_[indice]:.3f}.\")"
   ]
  },
  {
   "cell_type": "markdown",
   "metadata": {},
   "source": [
    "### Floresta aleatória\n",
    "\n"
   ]
  },
  {
   "cell_type": "markdown",
   "metadata": {},
   "source": [
    "Matriz de confusão.\n",
    "\n"
   ]
  },
  {
   "cell_type": "code",
   "execution_count": 35,
   "metadata": {},
   "outputs": [
    {
     "data": {
      "text/plain": [
       "<Axes: >"
      ]
     },
     "execution_count": 35,
     "metadata": {},
     "output_type": "execute_result"
    },
    {
     "data": {
      "image/png": "[encoded data removed]",
      "text/plain": [
       "<Figure size 640x480 with 2 Axes>"
      ]
     },
     "metadata": {},
     "output_type": "display_data"
    }
   ],
   "source": [
    "modelo_rf = RandomForestClassifier()\n",
    "\n",
    "modelo_rf.fit(X_treino, y_treino)\n",
    "\n",
    "y_verdadeiro = y_teste\n",
    "y_previsao = modelo_rf.predict(X_teste)\n",
    "\n",
    "nomes_das_features = modelo_rf.classes_\n",
    "matriz_conf = confusion_matrix(\n",
    "    y_verdadeiro, y_previsao, labels=nomes_das_features\n",
    ")\n",
    "df_conf = pd.DataFrame(matriz_conf, nomes_das_features, nomes_das_features)\n",
    "sns.heatmap(df_conf, annot=True, annot_kws={\"size\": 16})"
   ]
  },
  {
   "cell_type": "markdown",
   "metadata": {},
   "source": [
    "Métricas.\n",
    "\n"
   ]
  },
  {
   "cell_type": "code",
   "execution_count": 36,
   "metadata": {},
   "outputs": [
    {
     "name": "stdout",
     "output_type": "stream",
     "text": [
      "              precision    recall  f1-score   support\n",
      "\n",
      "      Adelie       1.00      1.00      1.00        15\n",
      "   Chinstrap       0.86      1.00      0.92         6\n",
      "      Gentoo       1.00      0.93      0.96        14\n",
      "\n",
      "    accuracy                           0.97        35\n",
      "   macro avg       0.95      0.98      0.96        35\n",
      "weighted avg       0.98      0.97      0.97        35\n",
      "\n"
     ]
    }
   ],
   "source": [
    "print(\n",
    "    classification_report(\n",
    "        y_verdadeiro, y_previsao, target_names=nomes_das_features\n",
    "    )\n",
    ")"
   ]
  },
  {
   "cell_type": "markdown",
   "metadata": {},
   "source": [
    "Probabilidade atribuída para cada previsão.\n",
    "\n"
   ]
  },
  {
   "cell_type": "code",
   "execution_count": 37,
   "metadata": {},
   "outputs": [
    {
     "name": "stdout",
     "output_type": "stream",
     "text": [
      "Era Adelie e previu Adelie. Prob. de ser Adelie: 1.000.\n",
      "Era Chinstrap e previu Chinstrap. Prob. de ser Chinstrap: 0.760.\n",
      "Era Gentoo e previu Gentoo. Prob. de ser Gentoo: 1.000.\n",
      "Era Adelie e previu Adelie. Prob. de ser Adelie: 0.990.\n",
      "Era Chinstrap e previu Chinstrap. Prob. de ser Chinstrap: 0.990.\n",
      "Era Chinstrap e previu Chinstrap. Prob. de ser Chinstrap: 0.810.\n",
      "Era Adelie e previu Adelie. Prob. de ser Adelie: 0.980.\n",
      "Era Gentoo e previu Gentoo. Prob. de ser Gentoo: 1.000.\n",
      "Era Adelie e previu Adelie. Prob. de ser Adelie: 1.000.\n",
      "Era Adelie e previu Adelie. Prob. de ser Adelie: 0.980.\n",
      "Era Chinstrap e previu Chinstrap. Prob. de ser Chinstrap: 1.000.\n",
      "Era Adelie e previu Adelie. Prob. de ser Adelie: 0.880.\n",
      "Era Gentoo e previu Gentoo. Prob. de ser Gentoo: 1.000.\n",
      "Era Chinstrap e previu Chinstrap. Prob. de ser Chinstrap: 0.990.\n",
      "Era Adelie e previu Adelie. Prob. de ser Adelie: 0.510.\n",
      "Era Adelie e previu Adelie. Prob. de ser Adelie: 0.890.\n",
      "Era Adelie e previu Adelie. Prob. de ser Adelie: 0.990.\n",
      "Era Adelie e previu Adelie. Prob. de ser Adelie: 0.980.\n",
      "Era Adelie e previu Adelie. Prob. de ser Adelie: 1.000.\n",
      "Era Chinstrap e previu Chinstrap. Prob. de ser Chinstrap: 1.000.\n",
      "Era Gentoo e previu Gentoo. Prob. de ser Gentoo: 1.000.\n",
      "Era Gentoo e previu Gentoo. Prob. de ser Gentoo: 1.000.\n",
      "Era Gentoo e previu Gentoo. Prob. de ser Gentoo: 1.000.\n",
      "Era Gentoo e previu Gentoo. Prob. de ser Gentoo: 1.000.\n",
      "Era Gentoo e previu Chinstrap. Prob. de ser Chinstrap: 0.480.\n",
      "Era Gentoo e previu Gentoo. Prob. de ser Gentoo: 0.990.\n",
      "Era Gentoo e previu Gentoo. Prob. de ser Gentoo: 0.880.\n",
      "Era Gentoo e previu Gentoo. Prob. de ser Gentoo: 1.000.\n",
      "Era Gentoo e previu Gentoo. Prob. de ser Gentoo: 1.000.\n",
      "Era Adelie e previu Adelie. Prob. de ser Adelie: 1.000.\n",
      "Era Adelie e previu Adelie. Prob. de ser Adelie: 1.000.\n",
      "Era Gentoo e previu Gentoo. Prob. de ser Gentoo: 1.000.\n",
      "Era Adelie e previu Adelie. Prob. de ser Adelie: 0.920.\n",
      "Era Adelie e previu Adelie. Prob. de ser Adelie: 1.000.\n",
      "Era Gentoo e previu Gentoo. Prob. de ser Gentoo: 0.990.\n"
     ]
    }
   ],
   "source": [
    "probabilidades = modelo_rf.predict_proba(X_teste)\n",
    "\n",
    "for yp, yv, prob_ in zip(y_previsao, y_verdadeiro, probabilidades):\n",
    "    indice = list(nomes_das_features).index(yp)\n",
    "    print(f\"Era {yv} e previu {yp}. Prob. de ser {yp}: {prob_[indice]:.3f}.\")"
   ]
  },
  {
   "cell_type": "markdown",
   "metadata": {},
   "source": [
    "## Validação cruzada estratificada\n",
    "\n"
   ]
  },
  {
   "cell_type": "markdown",
   "metadata": {},
   "source": [
    "Observe a quantidade de cada espécie de pinguim que temos no nosso dataset.\n",
    "\n"
   ]
  },
  {
   "cell_type": "code",
   "execution_count": 38,
   "metadata": {},
   "outputs": [
    {
     "data": {
      "text/plain": [
       "species\n",
       "Adelie       151\n",
       "Gentoo       123\n",
       "Chinstrap     68\n",
       "Name: count, dtype: int64"
      ]
     },
     "execution_count": 38,
     "metadata": {},
     "output_type": "execute_result"
    }
   ],
   "source": [
    "DATASET_NAME = \"penguins\"\n",
    "FEATURES = [\n",
    "    \"bill_length_mm\",\n",
    "    \"bill_depth_mm\",\n",
    "    \"flipper_length_mm\",\n",
    "    \"body_mass_g\",\n",
    "]\n",
    "TARGET = [\"species\"]\n",
    "\n",
    "df = sns.load_dataset(DATASET_NAME)\n",
    "\n",
    "df = df.reindex(FEATURES + TARGET, axis=1)\n",
    "df = df.dropna()\n",
    "\n",
    "df[\"species\"].value_counts()"
   ]
  },
  {
   "cell_type": "markdown",
   "metadata": {},
   "source": [
    "Os dados que temos estão levemente desbalanceados, temos razoavelmente menos exemplos de pinguins de barbicha (chinstrap) do que os demais.\n",
    "\n",
    "Dados desbalanceados podem influenciar a indução de modelos preditivos. Suponha que temos um conjunto de dados sobre uma doença rara, onde poucos exemplos são rotulados como tendo a doença. Observe que um modelo baseline irá performar muito bem nestes dados segundo diversas métricas que estudamos, mesmo chutando apenas que as pessoas não tem a doença sendo estudada. No entanto, isso claramente não é o que desejamos.\n",
    "\n",
    "Dados desbalanceados podem atrapalhar o processo de validação cruzada pois a distribuição dos rótulos tem uma grande chance de ser diferente nos conjuntos de treino, teste e validação.\n",
    "\n",
    "Uma estratégia para reduzir este problema é a validação cruzada estratificada. Nesta estratégia, os dados ainda são sorteados de maneira aleatória para compor os conjuntos de treito, teste e validação, no entanto são sorteados *por rótulo* e não simplesmente considerando o conjunto total de dados. Esta estratégia faz com que a distribuição dos rótulos seja similar nos conjuntos de treino, teste e validação.\n",
    "\n",
    "Quando usamos as funções `GridSearchCV` e `RandomizedSearchCV` do `scikit-learn` com algoritmos classificadores, o próprio `scikit-learn` já usa a validação cruzada estratificada sem a necessidade de nenhuma configuração extra.\n",
    "\n",
    "Vamos ver um exemplo com o `GridSearchCV`. Temos diversas métricas de classificação para escolher na [documentação](https://scikit-learn.org/stable/modules/model_evaluation.html#common-cases-predefined-values), aqui usaremos a métrica F1.\n",
    "\n"
   ]
  },
  {
   "cell_type": "code",
   "execution_count": 39,
   "metadata": {},
   "outputs": [
    {
     "data": {
      "text/html": [
       "<div>\n",
       "<style scoped>\n",
       "    .dataframe tbody tr th:only-of-type {\n",
       "        vertical-align: middle;\n",
       "    }\n",
       "\n",
       "    .dataframe tbody tr th {\n",
       "        vertical-align: top;\n",
       "    }\n",
       "\n",
       "    .dataframe thead th {\n",
       "        text-align: right;\n",
       "    }\n",
       "</style>\n",
       "<table border=\"1\" class=\"dataframe\">\n",
       "  <thead>\n",
       "    <tr style=\"text-align: right;\">\n",
       "      <th></th>\n",
       "      <th>mean_test_score</th>\n",
       "      <th>std_test_score</th>\n",
       "      <th>params</th>\n",
       "    </tr>\n",
       "  </thead>\n",
       "  <tbody>\n",
       "    <tr>\n",
       "      <th>0</th>\n",
       "      <td>0.964250</td>\n",
       "      <td>0.030514</td>\n",
       "      <td>{'max_depth': None, 'min_samples_leaf': 1, 'mi...</td>\n",
       "    </tr>\n",
       "    <tr>\n",
       "      <th>1</th>\n",
       "      <td>0.967385</td>\n",
       "      <td>0.028969</td>\n",
       "      <td>{'max_depth': None, 'min_samples_leaf': 1, 'mi...</td>\n",
       "    </tr>\n",
       "    <tr>\n",
       "      <th>2</th>\n",
       "      <td>0.970675</td>\n",
       "      <td>0.030573</td>\n",
       "      <td>{'max_depth': None, 'min_samples_leaf': 1, 'mi...</td>\n",
       "    </tr>\n",
       "    <tr>\n",
       "      <th>3</th>\n",
       "      <td>0.967385</td>\n",
       "      <td>0.028969</td>\n",
       "      <td>{'max_depth': None, 'min_samples_leaf': 1, 'mi...</td>\n",
       "    </tr>\n",
       "    <tr>\n",
       "      <th>4</th>\n",
       "      <td>0.963820</td>\n",
       "      <td>0.030944</td>\n",
       "      <td>{'max_depth': None, 'min_samples_leaf': 2, 'mi...</td>\n",
       "    </tr>\n",
       "    <tr>\n",
       "      <th>...</th>\n",
       "      <td>...</td>\n",
       "      <td>...</td>\n",
       "      <td>...</td>\n",
       "    </tr>\n",
       "    <tr>\n",
       "      <th>91</th>\n",
       "      <td>0.964400</td>\n",
       "      <td>0.030410</td>\n",
       "      <td>{'max_depth': 10, 'min_samples_leaf': 3, 'min_...</td>\n",
       "    </tr>\n",
       "    <tr>\n",
       "      <th>92</th>\n",
       "      <td>0.964008</td>\n",
       "      <td>0.027056</td>\n",
       "      <td>{'max_depth': 10, 'min_samples_leaf': 4, 'min_...</td>\n",
       "    </tr>\n",
       "    <tr>\n",
       "      <th>93</th>\n",
       "      <td>0.964008</td>\n",
       "      <td>0.027056</td>\n",
       "      <td>{'max_depth': 10, 'min_samples_leaf': 4, 'min_...</td>\n",
       "    </tr>\n",
       "    <tr>\n",
       "      <th>94</th>\n",
       "      <td>0.964008</td>\n",
       "      <td>0.027056</td>\n",
       "      <td>{'max_depth': 10, 'min_samples_leaf': 4, 'min_...</td>\n",
       "    </tr>\n",
       "    <tr>\n",
       "      <th>95</th>\n",
       "      <td>0.964008</td>\n",
       "      <td>0.027056</td>\n",
       "      <td>{'max_depth': 10, 'min_samples_leaf': 4, 'min_...</td>\n",
       "    </tr>\n",
       "  </tbody>\n",
       "</table>\n",
       "<p>96 rows × 3 columns</p>\n",
       "</div>"
      ],
      "text/plain": [
       "    mean_test_score  std_test_score   \n",
       "0          0.964250        0.030514  \\\n",
       "1          0.967385        0.028969   \n",
       "2          0.970675        0.030573   \n",
       "3          0.967385        0.028969   \n",
       "4          0.963820        0.030944   \n",
       "..              ...             ...   \n",
       "91         0.964400        0.030410   \n",
       "92         0.964008        0.027056   \n",
       "93         0.964008        0.027056   \n",
       "94         0.964008        0.027056   \n",
       "95         0.964008        0.027056   \n",
       "\n",
       "                                               params  \n",
       "0   {'max_depth': None, 'min_samples_leaf': 1, 'mi...  \n",
       "1   {'max_depth': None, 'min_samples_leaf': 1, 'mi...  \n",
       "2   {'max_depth': None, 'min_samples_leaf': 1, 'mi...  \n",
       "3   {'max_depth': None, 'min_samples_leaf': 1, 'mi...  \n",
       "4   {'max_depth': None, 'min_samples_leaf': 2, 'mi...  \n",
       "..                                                ...  \n",
       "91  {'max_depth': 10, 'min_samples_leaf': 3, 'min_...  \n",
       "92  {'max_depth': 10, 'min_samples_leaf': 4, 'min_...  \n",
       "93  {'max_depth': 10, 'min_samples_leaf': 4, 'min_...  \n",
       "94  {'max_depth': 10, 'min_samples_leaf': 4, 'min_...  \n",
       "95  {'max_depth': 10, 'min_samples_leaf': 4, 'min_...  \n",
       "\n",
       "[96 rows x 3 columns]"
      ]
     },
     "execution_count": 39,
     "metadata": {},
     "output_type": "execute_result"
    }
   ],
   "source": [
    "from sklearn.model_selection import GridSearchCV\n",
    "\n",
    "NUM_FOLDS = 10\n",
    "\n",
    "espaco_de_busca = {\n",
    "    \"max_depth\": [None, 2, 3, 5, 7, 10],\n",
    "    \"min_samples_split\": [1, 2, 3, 4],\n",
    "    \"min_samples_leaf\": [1, 2, 3, 4],\n",
    "}\n",
    "\n",
    "modelo_dt_cv = DecisionTreeClassifier()\n",
    "\n",
    "buscador = GridSearchCV(\n",
    "    modelo_dt_cv,\n",
    "    espaco_de_busca,\n",
    "    cv=NUM_FOLDS,\n",
    "    scoring=\"f1_weighted\",\n",
    "    refit=True,  # reajusta o melhor modelo com todos os dados de treino\n",
    "    n_jobs=4,\n",
    ")\n",
    "\n",
    "buscador.fit(X_treino, y_treino)\n",
    "\n",
    "resultados = pd.DataFrame(buscador.cv_results_)\n",
    "resultados = resultados.reindex(\n",
    "    [\"mean_test_score\", \"std_test_score\", \"params\"], axis=1\n",
    ")\n",
    "resultados"
   ]
  },
  {
   "cell_type": "markdown",
   "metadata": {},
   "source": [
    "Vamos ver o resultado.\n",
    "\n"
   ]
  },
  {
   "cell_type": "code",
   "execution_count": 40,
   "metadata": {},
   "outputs": [
    {
     "name": "stdout",
     "output_type": "stream",
     "text": [
      "A melhor métrica (considerando dados de treino) foi de  0.9707018787150978\n",
      "O conjunto de hiperparâmetros que resultou nesta métrica foi  {'max_depth': 5, 'min_samples_leaf': 1, 'min_samples_split': 2}\n"
     ]
    }
   ],
   "source": [
    "print(\"A melhor métrica (considerando dados de treino) foi de \", buscador.best_score_)\n",
    "print(\"O conjunto de hiperparâmetros que resultou nesta métrica foi \", buscador.best_params_)"
   ]
  },
  {
   "cell_type": "markdown",
   "metadata": {},
   "source": [
    "Vamos ver a matriz de confusão.\n",
    "\n"
   ]
  },
  {
   "cell_type": "code",
   "execution_count": 41,
   "metadata": {},
   "outputs": [
    {
     "data": {
      "text/plain": [
       "<Axes: >"
      ]
     },
     "execution_count": 41,
     "metadata": {},
     "output_type": "execute_result"
    },
    {
     "data": {
      "image/png": "[encoded data removed]",
      "text/plain": [
       "<Figure size 640x480 with 2 Axes>"
      ]
     },
     "metadata": {},
     "output_type": "display_data"
    }
   ],
   "source": [
    "y_verdadeiro = y_teste\n",
    "y_previsao = buscador.predict(X_teste)\n",
    "\n",
    "nomes_das_features = buscador.classes_\n",
    "matriz_conf = confusion_matrix(\n",
    "    y_verdadeiro, y_previsao, labels=nomes_das_features\n",
    ")\n",
    "df_conf = pd.DataFrame(matriz_conf, nomes_das_features, nomes_das_features)\n",
    "sns.heatmap(df_conf, annot=True, annot_kws={\"size\": 16})"
   ]
  },
  {
   "cell_type": "markdown",
   "metadata": {},
   "source": [
    "Agora vamos estimar a performance deste modelo para dados que nunca viu!\n",
    "\n"
   ]
  },
  {
   "cell_type": "code",
   "execution_count": 42,
   "metadata": {},
   "outputs": [
    {
     "name": "stdout",
     "output_type": "stream",
     "text": [
      "              precision    recall  f1-score   support\n",
      "\n",
      "      Adelie       1.00      0.93      0.97        15\n",
      "   Chinstrap       0.75      1.00      0.86         6\n",
      "      Gentoo       1.00      0.93      0.96        14\n",
      "\n",
      "    accuracy                           0.94        35\n",
      "   macro avg       0.92      0.95      0.93        35\n",
      "weighted avg       0.96      0.94      0.95        35\n",
      "\n"
     ]
    }
   ],
   "source": [
    "y_verdadeiro = y_teste\n",
    "y_previsao = buscador.predict(X_teste)\n",
    "\n",
    "print(\n",
    "    classification_report(\n",
    "        y_verdadeiro, y_previsao, target_names=nomes_das_features\n",
    "    )\n",
    ")"
   ]
  },
  {
   "cell_type": "markdown",
   "metadata": {},
   "source": [
    "## ROC-AUC\n",
    "\n"
   ]
  },
  {
   "cell_type": "markdown",
   "metadata": {},
   "source": [
    "Uma estratégia de seleção de modelos de classificação é comparando a área da Curva ROC (Receiver Operating Characteristic, Característica de Operação do Receptor), métrica conhecida como ROC-AUC. Veja [este vídeo](https://www.youtube.com/watch?v=4jRBRDbJemM) do StatQuest sobre o assunto e busque outros materiais para se aprofundar.\n",
    "\n"
   ]
  },
  {
   "cell_type": "markdown",
   "metadata": {},
   "source": [
    "## Referências\n",
    "\n"
   ]
  },
  {
   "cell_type": "markdown",
   "metadata": {},
   "source": [
    "1.  IZBICKI, Rafael; DOS SANTOS, Tiago Mendonça. Aprendizado de máquina: uma abordagem estatística. 2020. Disponível em: [http://www.rizbicki.ufscar.br/ame/](http://www.rizbicki.ufscar.br/ame/).\n",
    "\n",
    "2.  Matriz de Confusão na Wikipédia [https://en.wikipedia.org/wiki/Confusion_matrix](https://en.wikipedia.org/wiki/Confusion_matrix)\n",
    "\n",
    "3.  Regressão logística na Wikipédia [https://en.wikipedia.org/wiki/Logistic_regression](https://en.wikipedia.org/wiki/Logistic_regression)\n",
    "\n",
    "4.  Vídeo do StatQuest sobre árvores de decisão para classificação [https://www.youtube.com/watch?v=_L39rN6gz7Y](https://www.youtube.com/watch?v=_L39rN6gz7Y)\n",
    "\n",
    "5.  Visualizando a validação cruzada estratificada [https://scikit-learn.org/stable/auto_examples/model_selection/plot_cv_indices.html](https://scikit-learn.org/stable/auto_examples/model_selection/plot_cv_indices.html)\n",
    "\n",
    "6.  Entropia no contexto de ciência da informação [https://en.wikipedia.org/wiki/Entropy_(information_theory)](https://en.wikipedia.org/wiki/Entropy_(information_theory))\n",
    "\n",
    "7.  Classificação multiclasse e multitarget do `scikit-learn` [https://scikit-learn.org/stable/modules/multiclass.html](https://scikit-learn.org/stable/modules/multiclass.html)\n",
    "\n"
   ]
  }
 ],
 "metadata": {
  "kernelspec": {
   "display_name": "ilumpy",
   "language": "python",
   "name": "ilumpy"
  },
  "language_info": {
   "codemirror_mode": {
    "name": "ipython",
    "version": 3
   },
   "file_extension": ".py",
   "mimetype": "text/x-python",
   "name": "python",
   "nbconvert_exporter": "python",
   "pygments_lexer": "ipython3",
   "version": "3.10.6"
  },
  "org": null
 },
 "nbformat": 4,
 "nbformat_minor": 4
}
