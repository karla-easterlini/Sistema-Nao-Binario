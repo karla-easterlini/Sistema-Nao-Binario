{
 "cells": [
  {
   "cell_type": "markdown",
   "metadata": {},
   "source": [
    "k-NN com scikit-learn\n",
    "=====================\n",
    "\n"
   ]
  },
  {
   "cell_type": "markdown",
   "metadata": {},
   "source": [
    "Neste notebook vamos utilizar o `scikit-learn` para treinar um regressor $k$​-NN similar ao que fizemos no notebook anterior. Observe que criar e treinar um modelo de aprendizado de máquina com o `scikit-learn` não é muito diferente de criar e treinar um normalizador com o `scikit-learn` (vimos isso no notebook 2.2).\n",
    "\n"
   ]
  },
  {
   "cell_type": "markdown",
   "metadata": {},
   "source": [
    "## Coleta e tratamento de dados\n",
    "\n"
   ]
  },
  {
   "cell_type": "markdown",
   "metadata": {},
   "source": [
    "Vamos usar os mesmos dados sobre pinguins que usamos no notebook anterior.\n",
    "\n"
   ]
  },
  {
   "cell_type": "code",
   "execution_count": 1,
   "metadata": {},
   "outputs": [],
   "source": [
    "import seaborn as sns\n",
    "\n",
    "DATASET_NAME = \"penguins\"\n",
    "FEATURES = [\"bill_length_mm\", \"bill_depth_mm\", \"flipper_length_mm\"]\n",
    "TARGET = [\"body_mass_g\"]\n",
    "\n",
    "df = sns.load_dataset(DATASET_NAME)\n",
    "\n",
    "df = df.reindex(FEATURES + TARGET, axis=1)\n",
    "df = df.dropna()  # remove linhas com células vazia\n",
    "\n",
    "X = df.reindex(FEATURES, axis=1)\n",
    "y = df.reindex(TARGET, axis=1)\n",
    "\n",
    "X = X.values\n",
    "y = y.values.ravel()  # o método `ravel` deixa os dados em 1 dimensão"
   ]
  },
  {
   "cell_type": "markdown",
   "metadata": {},
   "source": [
    "## Criando e treinando um regressor k-NN\n",
    "\n"
   ]
  },
  {
   "cell_type": "code",
   "execution_count": 2,
   "metadata": {},
   "outputs": [
    {
     "name": "stdout",
     "output_type": "stream",
     "text": [
      "[3641.66666667 3333.33333333]\n"
     ]
    }
   ],
   "source": [
    "from sklearn.neighbors import KNeighborsRegressor\n",
    "\n",
    "# Criar uma instância do regressor\n",
    "num_vizinhos = 3\n",
    "modelo_knn = KNeighborsRegressor(n_neighbors=num_vizinhos)\n",
    "\n",
    "# Ajustar o regressor aos dados\n",
    "modelo_knn.fit(X, y)\n",
    "\n",
    "# Realizar uma previsão\n",
    "x = [\n",
    "    [43, 20, 180],\n",
    "    [39, 20.5, 170],\n",
    "]\n",
    "previsao = modelo_knn.predict(x)\n",
    "print(previsao)"
   ]
  },
  {
   "cell_type": "markdown",
   "metadata": {},
   "source": [
    "## A métrica MSE\n",
    "\n"
   ]
  },
  {
   "cell_type": "markdown",
   "metadata": {},
   "source": [
    "O <u>erro quadrático médio</u> (MSE, *mean squared error* em inglês) é o que chamamos de métrica de performance, ou apenas métrica. Métricas reportam a performance de modelos em um valor numérico. Cada métrica conta uma história sobre como seu modelo se comporta ao tentar prever dados que você já sabe a resposta.\n",
    "\n",
    "O MSE pode ser computado pela equação\n",
    "\n",
    "$$\n",
    "\\mathrm{MSE} = \\sum_{i=1}^{N} \\frac{(y_i - \\hat{y}_i)^2}{N},\n",
    "$$\n",
    "\n",
    "onde $y_i$ é o target do exemplo $i$ (valor que conhecemos, pode ser chamado de &ldquo;$y$ verdadeiro&rdquo; ou &ldquo;$y$ true&rdquo; na literatura), $\\hat{y}_i$ é o valor previsto para o exemplo $i$ e $N$ é o número de exemplos do conjunto de dados que estamos computando a métrica.\n",
    "\n",
    "Observe que o MSE tem a unidade do target ao quadrado.\n",
    "\n",
    "Podemos computar o MSE usando o `scikit-learn`.\n",
    "\n"
   ]
  },
  {
   "cell_type": "code",
   "execution_count": 3,
   "metadata": {},
   "outputs": [
    {
     "name": "stdout",
     "output_type": "stream",
     "text": [
      "O MSE do modelo foi de 74140.06660168941 unidades de y ao quadrado.\n"
     ]
    }
   ],
   "source": [
    "from sklearn.metrics import mean_squared_error\n",
    "\n",
    "X_verdadeiro = X\n",
    "y_verdadeiro = y\n",
    "\n",
    "y_previsto = modelo_knn.predict(X_verdadeiro)\n",
    "\n",
    "MSE = mean_squared_error(y_verdadeiro, y_previsto)\n",
    "\n",
    "print(f\"O MSE do modelo foi de {MSE} unidades de y ao quadrado.\")"
   ]
  },
  {
   "cell_type": "markdown",
   "metadata": {},
   "source": [
    "## A métrica RMSE\n",
    "\n"
   ]
  },
  {
   "cell_type": "markdown",
   "metadata": {},
   "source": [
    "A <u>raiz do erro quadrático médio</u> (RMSE, *root mean squared error* em inglês) é outra métrica de performance de modelos. Ela pode ser computada calculando a raiz quadrada do MSE. Por conta disso, esta é uma métrica que é mais interessante para entender a performance do seu modelo pois os resultados estão na mesma unidade do seu target.\n",
    "\n",
    "O RMSE pode ser computado pela equação\n",
    "\n",
    "$$\n",
    "\\mathrm{RMSE} = \\sqrt{\\mathrm{MSE}} = \\sqrt{\\sum_{i=1}^{N} \\frac{(y_i - \\hat{y}_i)^2}{N}}.\n",
    "$$\n",
    "\n",
    "Podemos computar o RMSE usando o `scikit-learn`.\n",
    "\n"
   ]
  },
  {
   "cell_type": "code",
   "execution_count": 4,
   "metadata": {},
   "outputs": [
    {
     "name": "stdout",
     "output_type": "stream",
     "text": [
      "O RMSE do modelo foi de 272.28673600028594 unidades de y.\n"
     ]
    }
   ],
   "source": [
    "RMSE = mean_squared_error(y_verdadeiro, y_previsto, squared=False)\n",
    "\n",
    "print(f\"O RMSE do modelo foi de {RMSE} unidades de y.\")"
   ]
  },
  {
   "cell_type": "markdown",
   "metadata": {},
   "source": [
    "## Referências\n",
    "\n"
   ]
  },
  {
   "cell_type": "markdown",
   "metadata": {},
   "source": [
    "1.  Documentação sobre o regressor k-NN [https://scikit-learn.org/stable/modules/generated/sklearn.neighbors.KNeighborsRegressor.html](https://scikit-learn.org/stable/modules/generated/sklearn.neighbors.KNeighborsRegressor.html)\n",
    "\n",
    "2.  Guia do usuário do `scikit-learn` [https://scikit-learn.org/stable/modules/model_evaluation.html#mean-squared-error](https://scikit-learn.org/stable/modules/model_evaluation.html#mean-squared-error)\n",
    "\n"
   ]
  }
 ],
 "metadata": {
  "kernelspec": {
   "display_name": "ilumpy",
   "language": "python",
   "name": "ilumpy"
  },
  "language_info": {
   "codemirror_mode": {
    "name": "ipython",
    "version": 3
   },
   "file_extension": ".py",
   "mimetype": "text/x-python",
   "name": "python",
   "nbconvert_exporter": "python",
   "pygments_lexer": "ipython3",
   "version": "3.10.6"
  },
  "org": null
 },
 "nbformat": 4,
 "nbformat_minor": 4
}
