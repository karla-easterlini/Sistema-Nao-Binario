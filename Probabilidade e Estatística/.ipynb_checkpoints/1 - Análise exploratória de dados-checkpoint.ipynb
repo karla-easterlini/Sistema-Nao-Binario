{
 "cells": [
  {
   "cell_type": "markdown",
   "metadata": {},
   "source": [
    "Estatística descritiva\n",
    "======================\n",
    "\n"
   ]
  },
  {
   "cell_type": "markdown",
   "metadata": {},
   "source": [
    "## Introdução\n",
    "\n"
   ]
  },
  {
   "cell_type": "markdown",
   "metadata": {},
   "source": [
    "O Censo nacional é realizado a cada 10 anos (aproximadamente). Trata-se de uma coleta de diversos dados sobre a população brasileira com o intuito de entender a situação do povo brasileiro e guiar políticas públicas.\n",
    "\n",
    "O Censo 2022 identificou um total de 203.062.512 pessoas que moram no território brasileiro. É impraticável analisar cada um dos dados coletados individualmente&#x2026; precisamos de alguma ferramenta para extrair informações úteis destes dados!\n",
    "\n",
    "É neste contexto que entramos em uma das grandes áreas da estatística, chamada de `estatística descritiva`. Segundo Magalhães e Lima [1], estatística descritiva &ldquo;pode ser definida como um conjunto de técnicas destinadas a descrever e resumir os dados, a fim de que possamos tirar conclusões a respeito de características de interesse&rdquo;.\n",
    "\n",
    "Sempre que resumimos um conjunto de dados em um ou mais valores (através do uso de cálculos de estatística descritiva) nós inevitavelmente perdemos informação. Não tem como resumir algo sem perder informação. Um exemplo: eu posso te fornecer todas as estatísticas de um jogo de futebol (número de gols, tempo de posse de bola, número de faltas&#x2026;) e ainda sim isso não substitui assistir o jogo em si.\n",
    "\n"
   ]
  },
  {
   "cell_type": "markdown",
   "metadata": {},
   "source": [
    "## Tipos de dados\n",
    "\n"
   ]
  },
  {
   "cell_type": "markdown",
   "metadata": {},
   "source": [
    "Existem dois grandes tipos de dados: `dados quantitativos` e `dados qualitativos`. Cada um destes tipos de dados se subdivide em dois subgrupos. Temos então um total de 4 tipos diferentes de dados como objetos de estudo da estatística.\n",
    "\n"
   ]
  },
  {
   "cell_type": "markdown",
   "metadata": {},
   "source": [
    "### Dados quantitativos\n",
    "\n"
   ]
  },
  {
   "cell_type": "markdown",
   "metadata": {},
   "source": [
    "Dados quantitativos ou numéricos são dados que armazenam quantidades numéricas. Altura, idade e número de irmãos são exemplos de dados quantitativos. Dados quantitativos são divididos em:\n",
    "\n",
    "-   **Contínuos**: dados que podem assumir qualquer valor dentro de um intervalo numérico;\n",
    "\n",
    "-   **Discretos**: dados que podem assumir apenas alguns valores específicos dentro de um intervalo numérico.\n",
    "\n",
    "Altura é um exemplo de um dado numérico contínuo. Quantidade de irmãos é um exemplo de um dado numérico discreto.\n",
    "\n"
   ]
  },
  {
   "cell_type": "markdown",
   "metadata": {},
   "source": [
    "### Dados qualitativos\n",
    "\n"
   ]
  },
  {
   "cell_type": "markdown",
   "metadata": {},
   "source": [
    "Dados qualitativos ou categóricos são dados que armazenam rótulos, atributos ou qualidades. Cor favorita é um exemplo de dado qualitativo. Dados qualitativos são divididos em:\n",
    "\n",
    "-   **Ordinais**: dados categóricos onde é possível ordenar os rótulos.\n",
    "\n",
    "-   **Nominais**: dados categóricos onde não é possível ordenar os rótulos.\n",
    "\n",
    "Animal favorito é um exemplo de um dado categórico nominal pois não é possível atribuir ordem no momento de comparar animais. Respostas para perguntas na escala Likert são dados qualitativos ordinais. Estas respostas costumam ser na forma de {&ldquo;Discordo totalmente&rdquo;, &ldquo;Discordo parcialmente&rdquo;, &ldquo;Não concordo nem discordo&rdquo;, &ldquo;Concordo parcialmente&rdquo; e &ldquo;Concordo totalmente&rdquo;}, e neste caso podemos atribuir uma ordem às respostas possíveis.\n",
    "\n"
   ]
  },
  {
   "cell_type": "markdown",
   "metadata": {},
   "source": [
    "## Algumas estatísticas descritivas\n",
    "\n"
   ]
  },
  {
   "cell_type": "markdown",
   "metadata": {},
   "source": [
    "Vamos importar o módulo de estatística do Python.\n",
    "\n"
   ]
  },
  {
   "cell_type": "code",
   "execution_count": 1,
   "metadata": {},
   "outputs": [],
   "source": [
    "import statistics as st"
   ]
  },
  {
   "cell_type": "markdown",
   "metadata": {},
   "source": [
    "$X$ é um conjunto de variáveis aleatórias.\n",
    "\n"
   ]
  },
  {
   "cell_type": "code",
   "execution_count": 2,
   "metadata": {},
   "outputs": [
    {
     "name": "stdout",
     "output_type": "stream",
     "text": [
      "[2, 7, 6, 5, 8, 5, 3, 6, 8, 8, 6, 4, 4, 2, 6]\n"
     ]
    }
   ],
   "source": [
    "X = [2, 7, 6, 5, 8, 5, 3, 6, 8, 8, 6, 4, 4, 2, 6]\n",
    "print(X)"
   ]
  },
  {
   "cell_type": "markdown",
   "metadata": {},
   "source": [
    "### Mínimo\n",
    "\n"
   ]
  },
  {
   "cell_type": "code",
   "execution_count": 3,
   "metadata": {},
   "outputs": [
    {
     "name": "stdout",
     "output_type": "stream",
     "text": [
      "O valor mínimo é 2\n"
     ]
    }
   ],
   "source": [
    "minimo = min(X)\n",
    "\n",
    "print(f\"O valor mínimo é {minimo}\")"
   ]
  },
  {
   "cell_type": "markdown",
   "metadata": {},
   "source": [
    "### Máximo\n",
    "\n"
   ]
  },
  {
   "cell_type": "code",
   "execution_count": 4,
   "metadata": {},
   "outputs": [
    {
     "name": "stdout",
     "output_type": "stream",
     "text": [
      "O valor máximo é 8\n"
     ]
    }
   ],
   "source": [
    "maximo = max(X)\n",
    "\n",
    "print(f\"O valor máximo é {maximo}\")"
   ]
  },
  {
   "cell_type": "markdown",
   "metadata": {},
   "source": [
    "### Média\n",
    "\n"
   ]
  },
  {
   "cell_type": "markdown",
   "metadata": {},
   "source": [
    "$$\n",
    "\\mu = \\frac{1}{N} \\sum_{i=1}^{N} X_i\n",
    "$$\n",
    "\n"
   ]
  },
  {
   "cell_type": "code",
   "execution_count": 5,
   "metadata": {},
   "outputs": [
    {
     "name": "stdout",
     "output_type": "stream",
     "text": [
      "O valor médio é 5.333333333333333\n"
     ]
    }
   ],
   "source": [
    "media = st.mean(X)\n",
    "\n",
    "print(f\"O valor médio é {media}\")"
   ]
  },
  {
   "cell_type": "markdown",
   "metadata": {},
   "source": [
    "### Mediana\n",
    "\n"
   ]
  },
  {
   "cell_type": "code",
   "execution_count": 6,
   "metadata": {},
   "outputs": [
    {
     "name": "stdout",
     "output_type": "stream",
     "text": [
      "[2, 2, 3, 4, 4, 5, 5, 6, 6, 6, 6, 7, 8, 8, 8]\n",
      "O valor da mediana é 6\n"
     ]
    }
   ],
   "source": [
    "print(sorted(X))\n",
    "\n",
    "mediana = st.median(X)\n",
    "\n",
    "print(f\"O valor da mediana é {mediana}\")"
   ]
  },
  {
   "cell_type": "markdown",
   "metadata": {},
   "source": [
    "### Moda\n",
    "\n"
   ]
  },
  {
   "cell_type": "code",
   "execution_count": 7,
   "metadata": {},
   "outputs": [
    {
     "name": "stdout",
     "output_type": "stream",
     "text": [
      "O valor da moda é 6\n"
     ]
    }
   ],
   "source": [
    "moda = st.mode(X)\n",
    "\n",
    "print(f\"O valor da moda é {moda}\")"
   ]
  },
  {
   "cell_type": "markdown",
   "metadata": {},
   "source": [
    "### Variância\n",
    "\n"
   ]
  },
  {
   "cell_type": "markdown",
   "metadata": {},
   "source": [
    "$$\n",
    "\\sigma^2 = \\mathrm{Var}(X) = \\frac{1}{N} \\sum_{i=1}^{N} (X_i - \\mu)^2\n",
    "$$\n",
    "\n"
   ]
  },
  {
   "cell_type": "code",
   "execution_count": 8,
   "metadata": {},
   "outputs": [
    {
     "name": "stdout",
     "output_type": "stream",
     "text": [
      "O valor da variância é 3.8222222222222224\n"
     ]
    }
   ],
   "source": [
    "variancia = st.pvariance(X)\n",
    "\n",
    "print(f\"O valor da variância é {variancia}\")"
   ]
  },
  {
   "cell_type": "markdown",
   "metadata": {},
   "source": [
    "**Nota**: este valor calculado é a variância da população. Veremos no futuro o que significa isso.\n",
    "\n"
   ]
  },
  {
   "cell_type": "markdown",
   "metadata": {},
   "source": [
    "### Desvio padrão\n",
    "\n"
   ]
  },
  {
   "cell_type": "markdown",
   "metadata": {},
   "source": [
    "$$\n",
    "\\sigma = \\sqrt{\\mathrm{Var(X)}} =  \\sqrt{\\frac{1}{N} \\sum_{i=1}^{N} (X_i - \\mu)^2}\n",
    "$$\n",
    "\n"
   ]
  },
  {
   "cell_type": "code",
   "execution_count": 9,
   "metadata": {},
   "outputs": [
    {
     "name": "stdout",
     "output_type": "stream",
     "text": [
      "O valor do desvio padrão é 1.9550504398153574\n"
     ]
    }
   ],
   "source": [
    "desvpadr = st.pstdev(X)\n",
    "\n",
    "print(f\"O valor do desvio padrão é {desvpadr}\")"
   ]
  },
  {
   "cell_type": "markdown",
   "metadata": {},
   "source": [
    "**Nota**: este valor calculado é o desvio padrão da população. Veremos no futuro o que significa isso.\n",
    "\n"
   ]
  },
  {
   "cell_type": "markdown",
   "metadata": {},
   "source": [
    "### Quartis\n",
    "\n"
   ]
  },
  {
   "cell_type": "code",
   "execution_count": 10,
   "metadata": {},
   "outputs": [
    {
     "name": "stdout",
     "output_type": "stream",
     "text": [
      "O valor do primeiro quartil é 4.0\n",
      "O valor do segundo quartil é 6.0\n",
      "O valor do terceiro quartil é 7.0\n"
     ]
    }
   ],
   "source": [
    "quartis = st.quantiles(X, n=4)\n",
    "\n",
    "primeiro_quartil = quartis[0]\n",
    "segundo_quartil = quartis[1]\n",
    "terceiro_quartil = quartis[2]\n",
    "\n",
    "print(f\"O valor do primeiro quartil é {primeiro_quartil}\")\n",
    "print(f\"O valor do segundo quartil é {segundo_quartil}\")\n",
    "print(f\"O valor do terceiro quartil é {terceiro_quartil}\")"
   ]
  },
  {
   "cell_type": "markdown",
   "metadata": {},
   "source": [
    "## Computadores, precisão e pontos flutuantes\n",
    "\n"
   ]
  },
  {
   "cell_type": "markdown",
   "metadata": {},
   "source": [
    "Você já deve ter percebido que algumas contas feitas em Python usando números reais (pontos flutuantes) não retornam o valor que você esperaria&#x2026; parece que o Python erra por muito muito pouco lá em uma casa decimal bem distante. Qual o motivo disso?\n",
    "\n"
   ]
  },
  {
   "cell_type": "code",
   "execution_count": 11,
   "metadata": {},
   "outputs": [
    {
     "name": "stdout",
     "output_type": "stream",
     "text": [
      "3.3400000000000003\n"
     ]
    }
   ],
   "source": [
    "print(3.14 + 0.2)"
   ]
  },
  {
   "cell_type": "markdown",
   "metadata": {},
   "source": [
    "O motivo é bem simples.\n",
    "\n",
    "A primeira pergunta que você deve responder é: quantos números reais existem? Mesmo entre um intervalo restrito de [0,1] existem infinitos números reais.\n",
    "\n",
    "A segunda pergunta que você deve responder é: quanta memória tem seu computador? Independente do valor correto eu posso te dizer com certeza que sua memória é um número finito.\n",
    "\n",
    "Como você faria para representar uma quantidade infinita de pontos usando uma máquina com memória finita? Não é possível! O que conseguimos fazer é aproximar! Para todos os fins, variáveis tipo `float` de Python (ou de qualquer outra linguagem) são dados quantitativos discretos, não contínuos! Por isso, nem sempre conseguimos um resultado perfeito em operações entre `floats`.\n",
    "\n"
   ]
  },
  {
   "cell_type": "markdown",
   "metadata": {},
   "source": [
    "## XKCD relevante\n",
    "\n"
   ]
  },
  {
   "cell_type": "markdown",
   "metadata": {},
   "source": [
    "![img](https://imgs.xkcd.com/comics/statistics.png)\n",
    "\n",
    "`Imagem: Statistics (XKCD) disponível em https://xkcd.com/2400`\n",
    "\n"
   ]
  },
  {
   "cell_type": "markdown",
   "metadata": {},
   "source": [
    "## Referências\n",
    "\n"
   ]
  },
  {
   "cell_type": "markdown",
   "metadata": {},
   "source": [
    "1.  M.N. Magalhães, M. N., Lima, A. C. P. Noções de Probabilidade e Estatística, Edusp, (2011).\n",
    "\n",
    "2.  [https://censo2022.ibge.gov.br/panorama/](https://censo2022.ibge.gov.br/panorama/)\n",
    "\n"
   ]
  }
 ],
 "metadata": {
  "kernelspec": {
   "display_name": "ilumpy",
   "language": "python",
   "name": "ilumpy"
  },
  "language_info": {
   "codemirror_mode": {
    "name": "ipython",
    "version": 3
   },
   "file_extension": ".py",
   "mimetype": "text/x-python",
   "name": "python",
   "nbconvert_exporter": "python",
   "pygments_lexer": "ipython3",
   "version": "3.10.6"
  },
  "org": null
 },
 "nbformat": 4,
 "nbformat_minor": 4
}
