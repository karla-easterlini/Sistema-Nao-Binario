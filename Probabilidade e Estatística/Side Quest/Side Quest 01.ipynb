{
 "cells": [
  {
   "cell_type": "markdown",
   "metadata": {},
   "source": [
    "Somando variáveis aleatórias\n",
    "============================\n",
    "\n"
   ]
  },
  {
   "cell_type": "markdown",
   "metadata": {},
   "source": [
    "## Objetivo\n",
    "\n"
   ]
  },
  {
   "cell_type": "markdown",
   "metadata": {},
   "source": [
    "Crie dois arrays de mesmo tamanho que representam variáveis aleatórias (certifique-se que os arrays têm pelo menos 50 itens e não são correlacionados). Teste o que acontece com os valores da média, variância e do desvio padrão quando somamos duas variáveis aleatórias. Após testar, escreva um breve texto sobre o que observou. Por fim, se informe em livros ou na internet sobre a matemática por trás desta conta (ou derive o resultado você mesmo caso queira esse desafio).\n",
    "\n",
    "**Dica**: uma estratégia para criar seus arrays é sorteando valores a partir de diferentes distribuições. A distribuição normal é uma escolha possível, mas pode escolher outras se preferir.\n",
    "\n"
   ]
  },
  {
   "cell_type": "markdown",
   "metadata": {},
   "source": [
    "## Resultado\n",
    "\n",
    "### Criando os Arrays"
   ]
  },
  {
   "cell_type": "code",
   "execution_count": 1,
   "metadata": {
    "tags": []
   },
   "outputs": [],
   "source": [
    "import random as rd\n",
    "import numpy as np\n",
    "import statistics as st\n",
    "\n",
    "array_1 = np.random.randint(-25,250, (10000,10000))\n",
    "array_2 = np.random.randint(-25,250, (10000,10000))\n",
    "array_3 = array_1 + array_2"
   ]
  },
  {
   "cell_type": "markdown",
   "metadata": {},
   "source": [
    "### Cálculo das médias"
   ]
  },
  {
   "cell_type": "code",
   "execution_count": 2,
   "metadata": {},
   "outputs": [],
   "source": [
    "media_1 = np.mean(array_1)\n",
    "media_2 = np.mean(array_2)\n",
    "media_3 = np.mean(array_3)"
   ]
  },
  {
   "cell_type": "markdown",
   "metadata": {},
   "source": [
    "### Cálculo das Medianas"
   ]
  },
  {
   "cell_type": "code",
   "execution_count": 3,
   "metadata": {},
   "outputs": [],
   "source": [
    "mediana_1 = np.median(array_1)\n",
    "mediana_2 = np.median(array_2)\n",
    "mediana_3 = np.median(array_3)"
   ]
  },
  {
   "cell_type": "markdown",
   "metadata": {},
   "source": [
    "### Cálculo das Variâncias"
   ]
  },
  {
   "cell_type": "code",
   "execution_count": 4,
   "metadata": {},
   "outputs": [],
   "source": [
    "variancia_1 = np.var(array_1)\n",
    "variancia_2 = np.var(array_2)\n",
    "variancia_3 = np.var(array_3)"
   ]
  },
  {
   "cell_type": "markdown",
   "metadata": {},
   "source": [
    "### Cálculo do devio padrão"
   ]
  },
  {
   "cell_type": "code",
   "execution_count": 5,
   "metadata": {},
   "outputs": [],
   "source": [
    "desv_1 = np.std(array_1)\n",
    "desv_2 = np.std(array_2)\n",
    "desv_3 = np.std(array_3)"
   ]
  },
  {
   "cell_type": "markdown",
   "metadata": {},
   "source": [
    "### Cálculos referentes ao primeiro array:"
   ]
  },
  {
   "cell_type": "code",
   "execution_count": 6,
   "metadata": {},
   "outputs": [
    {
     "name": "stdout",
     "output_type": "stream",
     "text": [
      "\u001b[35mA média do array 1 é: 111.98662763\u001b[0m\n",
      "\u001b[35mA mediana do array 1 é: 112.0\u001b[0m\n",
      "\u001b[35mA variância do array 1 é: 6302.191142829723\u001b[0m\n",
      "\u001b[35mO desvio padrão do array 1 é: 79.38634103439787\u001b[0m\n"
     ]
    }
   ],
   "source": [
    "print(f'\\033[35mA média do array 1 é: {media_1}\\033[0m')\n",
    "print(f'\\033[35mA mediana do array 1 é: {mediana_1}\\033[0m')\n",
    "print(f'\\033[35mA variância do array 1 é: {variancia_1}\\033[0m')\n",
    "print(f'\\033[35mO desvio padrão do array 1 é: {desv_1}\\033[0m')"
   ]
  },
  {
   "cell_type": "markdown",
   "metadata": {},
   "source": [
    "### Cálculos referentes ao segundo array:"
   ]
  },
  {
   "cell_type": "code",
   "execution_count": 7,
   "metadata": {},
   "outputs": [
    {
     "name": "stdout",
     "output_type": "stream",
     "text": [
      "\u001b[34mA média do array 2 é: 111.99407483\u001b[0m\n",
      "\u001b[34mA mediana do array 2 é: 112.0\u001b[0m\n",
      "\u001b[34mA variância do array 2 é: 6301.489864322374\u001b[0m\n",
      "\u001b[34mO desvio padrão do array 2 é: 79.38192404018923\u001b[0m\n"
     ]
    }
   ],
   "source": [
    "print(f'\\033[34mA média do array 2 é: {media_2}\\033[0m')\n",
    "print(f'\\033[34mA mediana do array 2 é: {mediana_2}\\033[0m')\n",
    "print(f'\\033[34mA variância do array 2 é: {variancia_2}\\033[0m')\n",
    "print(f'\\033[34mO desvio padrão do array 2 é: {desv_2}\\033[0m')"
   ]
  },
  {
   "cell_type": "markdown",
   "metadata": {},
   "source": [
    "### Cálculos referentes ao terceiro array e comparações:"
   ]
  },
  {
   "cell_type": "code",
   "execution_count": 8,
   "metadata": {},
   "outputs": [
    {
     "name": "stdout",
     "output_type": "stream",
     "text": [
      "A média do array 3 é: 223.98070246\n",
      "\u001b[32mSoma das médias para comparação: 223.98070246\u001b[0m\n",
      "A mediana do array 3 é: 224.0\n",
      "\u001b[32mSoma das medianas para comparação: 224.0\u001b[0m\n",
      "A variância do array 3 é: 12603.94528646494\n",
      "\u001b[32mSoma das variâncias para comparação: 12603.681007152096\u001b[0m\n",
      "O desvio padrão do array 3 é: 112.26729393044504\n"
     ]
    }
   ],
   "source": [
    "print(f'A média do array 3 é: {media_3}')\n",
    "print(f'\\033[32mSoma das médias para comparação: {media_1 + media_2}\\033[0m')\n",
    "print(f'A mediana do array 3 é: {mediana_3}')\n",
    "print(f'\\033[32mSoma das medianas para comparação: {mediana_1 + mediana_2}\\033[0m')\n",
    "print(f'A variância do array 3 é: {variancia_3}')\n",
    "print(f'\\033[32mSoma das variâncias para comparação: {variancia_1 + variancia_2}\\033[0m')\n",
    "print(f'O desvio padrão do array 3 é: {desv_3}')"
   ]
  },
  {
   "cell_type": "markdown",
   "metadata": {},
   "source": [
    "## Discussão\n",
    "\n",
    "A soma de variáveis aleatórias pode levar a conclusões interessantes a respeito do processo estatístico necessário para analisá-las, visto que se cumprirem alguns requisitos, o processo de calcular algumas medidas pode se tornar apenas somar as medidas das variáveis aleatórias. Como por exemplo para a média temos que se X é a primeira variável aleatória e Y é a segunda, então:\n",
    "\n",
    " $$\\mu_{(X+Y)} \\approx \\mu_{(X)} + \\mu_{(Y)}$$\n",
    "\n",
    "A propriedade de que a soma das médias é igual à média da soma é um resultado fundamental na teoria das probabilidades. Quando somamos duas variáveis aleatórias independentes, a média da soma é simplesmente a soma das médias individuais. Isso acontece porque existe uma simetria linear quando as variáveis são independentes entre si (isso é um requisito fundamental), o que permite que este comportamento aconteça. Entretanto, caso as variáveis possuam alguma relação entre si, esse comportamento pode ser alterado por alguns fatores.\n",
    "\n",
    "* Para a variância, possuimos dois casos para analisar\n",
    "    - Se as variáveis aleatórias forem independentes uma da outra, em outras palavras $Cov(X,Y) = 0$, então:\n",
    "         $$\\sigma^2_{(X+Y)} \\approx \\sigma^2_{(X)} + \\sigma^2_{Y}$$\n",
    "    - Caso as variáveis possuam alguma correlação entre elas, então:\n",
    "         $$\\sigma^2_{(X+Y)} \\approx \\sigma^2_{(X)} + \\sigma^2_{Y} + 2Cov(X,Y)$$\n",
    "\n",
    "Quando a covariância entre duas variáveis aleatórias é zero, isso indica que essas variáveis não estão linearmente relacionadas, ou seja, elas variam independentemente uma da outra. Assim a propriedade de que a soma das variâncias é igual à variância da soma é uma consequência da independência estatística, ou seja, as variações individuais das variáveis aleatórias se agrupam de maneira relativamente simples (soma).\n",
    "\n",
    "* Já para o desvio-padrão temos algo similar à variância as coisas diferem bastante, isso porque:\n",
    "$$\\sigma_{(X+Y)} \\neq \\sigma_{(X)} + \\sigma_{Y}$$\n",
    "\n",
    "A soma dos desvios padrão não é igual ao desvio padrão da soma. Enquanto a média das variáveis aleatórias segue uma regra simples de adição, o desvio padrão lida de maneira mais complexa com as variações dos números em cada grupo. A soma dos desvios padrão não considera como as variáveis se relacionam umas com as outras quando somadas, o que leva a uma estimativa imprecisa da variabilidade total."
   ]
  },
  {
   "cell_type": "markdown",
   "metadata": {},
   "source": [
    "## Referências\n",
    "\n",
    "\n"
   ]
  },
  {
   "cell_type": "markdown",
   "metadata": {},
   "source": [
    "Escreva nesta seção as referências consultadas.\n",
    "\n",
    "https://www.gkindex.com/python-tutorial/python-arrays-mathematical-operations.jsp?expand_article=1"
   ]
  },
  {
   "cell_type": "markdown",
   "metadata": {},
   "source": [
    "## Playground\n",
    "\n"
   ]
  },
  {
   "cell_type": "code",
   "execution_count": null,
   "metadata": {},
   "outputs": [],
   "source": []
  }
 ],
 "metadata": {
  "kernelspec": {
   "display_name": "ilumpy",
   "language": "python",
   "name": "ilumpy"
  },
  "language_info": {
   "codemirror_mode": {
    "name": "ipython",
    "version": 3
   },
   "file_extension": ".py",
   "mimetype": "text/x-python",
   "name": "python",
   "nbconvert_exporter": "python",
   "pygments_lexer": "ipython3",
   "version": "3.10.8"
  },
  "org": null
 },
 "nbformat": 4,
 "nbformat_minor": 4
}
