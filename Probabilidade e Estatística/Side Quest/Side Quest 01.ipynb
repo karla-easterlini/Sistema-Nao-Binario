{
 "cells": [
  {
   "cell_type": "markdown",
   "metadata": {},
   "source": [
    "Somando variáveis aleatórias\n",
    "============================\n",
    "\n"
   ]
  },
  {
   "cell_type": "markdown",
   "metadata": {},
   "source": [
    "## Objetivo\n",
    "\n"
   ]
  },
  {
   "cell_type": "markdown",
   "metadata": {},
   "source": [
    "Crie dois arrays de mesmo tamanho que representam variáveis aleatórias (certifique-se que os arrays têm pelo menos 50 itens e não são correlacionados). Teste o que acontece com os valores da média, variância e do desvio padrão quando somamos duas variáveis aleatórias. Após testar, escreva um breve texto sobre o que observou. Por fim, se informe em livros ou na internet sobre a matemática por trás desta conta (ou derive o resultado você mesmo caso queira esse desafio).\n",
    "\n",
    "**Dica**: uma estratégia para criar seus arrays é sorteando valores a partir de diferentes distribuições. A distribuição normal é uma escolha possível, mas pode escolher outras se preferir.\n",
    "\n"
   ]
  },
  {
   "cell_type": "markdown",
   "metadata": {},
   "source": [
    "## Resultado\n",
    "\n"
   ]
  },
  {
   "cell_type": "code",
   "execution_count": 40,
   "metadata": {},
   "outputs": [
    {
     "name": "stdout",
     "output_type": "stream",
     "text": [
      "A média do array 1 é: 118.54320987654322\n",
      "A mediana do array 1 é: 121.0\n",
      "A variância do array 1 é: 5559.754305746075\n",
      "O desvio padrão do array 1 é: 74.5637600027391\n",
      "\n",
      "A média do array 2 é: 532.7901234567901\n",
      "A mediana do array 2 é: 531.0\n",
      "A variância do array 2 é: 76160.63496418229\n",
      "O desvio padrão do array 2 é: 275.97216338642255\n",
      "\n",
      "A média do array 3 é: 651.3333333333334\n",
      "A mediana do array 3 é: 623.0\n",
      "A variância do array 3 é: 77340.39506172841\n",
      "O desvio padrão do array 3 é: 278.10141147021966\n"
     ]
    }
   ],
   "source": [
    "import random as rd\n",
    "import numpy as np\n",
    "import statistics as st\n",
    "\n",
    "array_1 = np.random.randint(-25,250, (9,9))\n",
    "array_2 = np.random.randint(55,1000, (9,9))\n",
    "array_3 = array_1 + array_2\n",
    "\n",
    "media_1 = np.mean(array_1)\n",
    "media_2 = np.mean(array_2)\n",
    "media_3 = np.mean(array_3)\n",
    "\n",
    "mediana_1 = np.median(array_1)\n",
    "mediana_2 = np.median(array_2)\n",
    "mediana_3 = np.median(array_3)\n",
    "\n",
    "variancia_1 = np.var(array_1)\n",
    "variancia_2 = np.var(array_2)\n",
    "variancia_3 = np.var(array_3)\n",
    "\n",
    "desv_1 = np.std(array_1)\n",
    "desv_2 = np.std(array_2)\n",
    "desv_3 = np.std(array_3)\n",
    "\n",
    "print(f'A média do array 1 é: {media_1}')\n",
    "print(f'A mediana do array 1 é: {mediana_1}')\n",
    "print(f'A variância do array 1 é: {variancia_1}')\n",
    "print(f'O desvio padrão do array 1 é: {desv_1}')\n",
    "print()\n",
    "print(f'A média do array 2 é: {media_2}')\n",
    "print(f'A mediana do array 2 é: {mediana_2}')\n",
    "print(f'A variância do array 2 é: {variancia_2}')\n",
    "print(f'O desvio padrão do array 2 é: {desv_2}')\n",
    "print()\n",
    "print(f'A média do array 3 é: {media_3}')\n",
    "print(f'A mediana do array 3 é: {mediana_3}')\n",
    "print(f'A variância do array 3 é: {variancia_3}')\n",
    "print(f'O desvio padrão do array 3 é: {desv_3}')"
   ]
  },
  {
   "cell_type": "markdown",
   "metadata": {},
   "source": [
    "## Discussão\n",
    "A soma de duas variáveis aleatórias dos arrays 1 e 2 seguida do cálculo das média, mediana, variância e desvio padrão é equivalente ao cálculo das 4 propriedades seguido da soma. É trivial observar que o terceiro array será sempre maior que os outros dois."
   ]
  },
  {
   "cell_type": "markdown",
   "metadata": {},
   "source": [
    "## Referências\n",
    "\n",
    "\n"
   ]
  },
  {
   "cell_type": "markdown",
   "metadata": {},
   "source": [
    "Escreva nesta seção as referências consultadas.\n",
    "\n",
    "https://www.gkindex.com/python-tutorial/python-arrays-mathematical-operations.jsp?expand_article=1"
   ]
  },
  {
   "cell_type": "markdown",
   "metadata": {},
   "source": [
    "## Playground\n",
    "\n"
   ]
  },
  {
   "cell_type": "code",
   "execution_count": null,
   "metadata": {},
   "outputs": [],
   "source": []
  }
 ],
 "metadata": {
  "kernelspec": {
   "display_name": "ilumpy",
   "language": "python",
   "name": "ilumpy"
  },
  "language_info": {
   "codemirror_mode": {
    "name": "ipython",
    "version": 3
   },
   "file_extension": ".py",
   "mimetype": "text/x-python",
   "name": "python",
   "nbconvert_exporter": "python",
   "pygments_lexer": "ipython3",
   "version": "3.9.13"
  },
  "org": null
 },
 "nbformat": 4,
 "nbformat_minor": 4
}
