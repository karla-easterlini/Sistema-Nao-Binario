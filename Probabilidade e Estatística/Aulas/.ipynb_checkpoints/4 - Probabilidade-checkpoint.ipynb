{
 "cells": [
  {
   "cell_type": "markdown",
   "metadata": {},
   "source": [
    "Probabilidade\n",
    "=============\n",
    "\n"
   ]
  },
  {
   "cell_type": "markdown",
   "metadata": {},
   "source": [
    "## Abordagem clássica\n",
    "\n"
   ]
  },
  {
   "cell_type": "markdown",
   "metadata": {},
   "source": [
    "### Definições\n",
    "\n"
   ]
  },
  {
   "cell_type": "markdown",
   "metadata": {},
   "source": [
    "Dentro da abordagem clássica do estudo da probabilidade, primeiramente nós definimos três conceitos:\n",
    "\n",
    "1.  **Espaço amostral**: conjunto de todos os resultados possíveis que podemos obter ao realizar um experimento. Usamos a letra grega ômega maiúscula para representar um espaço amostral ($\\Omega$). O espaço amostral pode ser um conjunto finito ou infinito.\n",
    "\n",
    "2.  **Evento**: é um subconjunto do espaço amostral. Usamos letras maiúsculas para representar um evento ($A$, $B$, &#x2026;). O conjunto vazio e o próprio espaço amostral são subconjuntos permitidos.\n",
    "\n",
    "3.  **Resultado** ou **ponto amostral**: é um item do espaço amostral. Usamos a letra grega ômega minúscula para representar um resultado ($\\omega$).\n",
    "\n"
   ]
  },
  {
   "cell_type": "markdown",
   "metadata": {},
   "source": [
    "### Um experimento\n",
    "\n"
   ]
  },
  {
   "cell_type": "markdown",
   "metadata": {},
   "source": [
    "Vamos supor que nosso experimento é jogar uma moeda duas vezes. Como fica o espaço amostral? Ele será representado por\n",
    "\n",
    "$$\n",
    "\\Omega = \\{(\\textrm{Cara}, \\textrm{Cara}), (\\textrm{Cara}, \\textrm{Coroa}), (\\textrm{Coroa}, \\textrm{Cara}), (\\textrm{Coroa}, \\textrm{Coroa}) \\}.\n",
    "$$\n",
    "\n",
    "Temos 4 itens em $\\Omega$. Observe que todos os resultados possíveis estão contemplados no nosso espaço amostral. Cada vez que você realizar este experimento, um resultado possível $\\omega$ será necessariamente um dos itens de $\\Omega$.\n",
    "\n",
    "Um evento $A$ possível neste experimento é o evento de tirarmos dois resultados iguais ao lançar a moeda duas vezes. Neste caso, o evento será representado por\n",
    "\n",
    "$$\n",
    "A = \\{(\\textrm{Cara}, \\textrm{Cara}), (\\textrm{Coroa}, \\textrm{Coroa}) \\}.\n",
    "$$\n",
    "\n",
    "Um evento $B$ possível neste experimento é o evento de tirarmos Cara pelo menos uma vez. Neste caso, o evento será representado por\n",
    "\n",
    "$$\n",
    "B = \\{(\\textrm{Cara}, \\textrm{Cara}), (\\textrm{Cara}, \\textrm{Coroa}), (\\textrm{Coroa}, \\textrm{Cara}) \\}.\n",
    "$$\n",
    "\n",
    "Um evento $C$ possível neste experimento é o evento de tirarmos o número 20 ao lançar as duas moedas. Neste caso, o evento será representado por\n",
    "\n",
    "$$\n",
    "C = \\{\\} \\equiv \\varnothing.\n",
    "$$\n",
    "\n",
    "Um evento $D$ possível neste experimento é o evento de tirarmos Cara pelo menos uma vez ou Coroa pelo menos uma vez. Neste caso, o evento será representado por\n",
    "\n",
    "$$\n",
    "D = \\{(\\textrm{Cara}, \\textrm{Cara}), (\\textrm{Cara}, \\textrm{Coroa}), (\\textrm{Coroa}, \\textrm{Cara}), (\\textrm{Coroa}, \\textrm{Coroa}) \\} \\equiv \\Omega.\n",
    "$$\n",
    "\n"
   ]
  },
  {
   "cell_type": "markdown",
   "metadata": {},
   "source": [
    "### Cardinalidade\n",
    "\n"
   ]
  },
  {
   "cell_type": "markdown",
   "metadata": {},
   "source": [
    "Antes de seguir em frente, vamos definir (ou relembrar) o conceito de cardinalidade de conjuntos. A cardinalidade de um conjunto é o número de itens que o conjunto contém.\n",
    "\n",
    "Dado um conjunto $J = \\{1, 3, 5\\}$, a cardinalidade de $J$ é representada por\n",
    "\n",
    "$$\n",
    " n(J) = |J| = \\#J = 3\n",
    "$$\n",
    "\n",
    "Usaremos a notação $n(J)$ para representar a cardinalidade de $J$ nesta série de notebooks.\n",
    "\n"
   ]
  },
  {
   "cell_type": "markdown",
   "metadata": {},
   "source": [
    "### Probabilidade\n",
    "\n"
   ]
  },
  {
   "cell_type": "markdown",
   "metadata": {},
   "source": [
    "Se assumirmos que todos os resultados dentro de $\\Omega$ são igualmente prováveis de acontecer (isto é, a chance de $\\omega_n$ acontecer é igual à chance $\\omega_m$ para quaisquer $n$ e $m$), então a probabilidade de um evento $J$ acontecer é definida por\n",
    "\n",
    "$$\n",
    "P(J) = \\frac{n(J)}{n(\\Omega)},\n",
    "$$\n",
    "\n",
    "onde $P$ é chamada de *função de probabilidade*.\n",
    "\n",
    "Considerando o experimento de lançar as duas moedas (discutido acima), temos as seguintes probabilidades:\n",
    "\n",
    "$$\n",
    "P(A) = \\frac{n(A)}{n(\\Omega)} = \\frac{2}{4} = 0,5 = 50\\%\n",
    "$$\n",
    "\n",
    "$$\n",
    "P(B) = \\frac{n(B)}{n(\\Omega)} = \\frac{3}{4} = 0,75 = 75\\%\n",
    "$$\n",
    "\n",
    "$$\n",
    "P(C) = \\frac{n(C)}{n(\\Omega)} = \\frac{0}{4} = 0 = 0\\%\n",
    "$$\n",
    "\n",
    "$$\n",
    "P(D) = \\frac{n(D)}{n(\\Omega)} = \\frac{4}{4} = 1 = 100\\%\n",
    "$$\n",
    "\n",
    "Você pode pensar na probabilidade como uma quantificação da chance de um certo evento ocorrer. No caso extremo, a chance de $C$ acontecer é zero; trata-se de um *evento impossível* e por isso temos que $P(C)=0$. No outro caso extremo, a chance de $D$ acontecer é 100%; trata-se de um *evento garantido* ou *evento certo*, e por isso temos que $P(D)=1$.\n",
    "\n",
    "Nos casos que não são extremos, temos que a chance de $A$ acontecer é de 50% e de $B$ acontecer é de 75%. Se você fosse apostar no evento $A$ ocorrer ou no evento $B$ ocorrer, escolher $B$ é a melhor estratégia, visto que ele tem uma chance maior de ocorrer do que $A$.\n",
    "\n",
    "A crítica à abordagem clássica da probabilidade é a suposição de que sabemos a chance de cada resultado dentro do espaço amostral de acontecer.\n",
    "\n"
   ]
  },
  {
   "cell_type": "markdown",
   "metadata": {},
   "source": [
    "## Abordagem frequentista\n",
    "\n"
   ]
  },
  {
   "cell_type": "markdown",
   "metadata": {},
   "source": [
    "Dentro da abordagem frequentista, nós executamos um dado experimento $n$ vezes e observamos quantas destas vezes o evento $J$ que temos interesse ocorreu. Suponha que o evento que temos interesse ocorreu $h$ vezes. Neste caso, temos que\n",
    "\n",
    "$$\n",
    "P(J) = \\frac{n}{h}\n",
    "$$\n",
    "\n",
    "Se você lançou uma moeda 1000 vezes e tirou Cara 473 vezes, então a probabilidade de se obter Cara para esta moeda (segundo a abordagem frequentista) é de $473/1000=0,473=47,3\\%$.\n",
    "\n",
    "A abordagem frequentista resulta em valores mais precisos de probabilidade quanto maior for o valor de $n$. A crítica a esta abordagem é justamente o fato de que não sabemos qual valor de $n$ é &ldquo;suficientemente grande&rdquo; para um dado experimento.\n",
    "\n"
   ]
  },
  {
   "cell_type": "markdown",
   "metadata": {},
   "source": [
    "## União e intersecção\n",
    "\n"
   ]
  },
  {
   "cell_type": "markdown",
   "metadata": {},
   "source": [
    "O símbolo $\\cap$ significa &ldquo;intersecção&rdquo;. &ldquo;$P(A\\cap B)$&rdquo; pode ser lido como &ldquo;a chance de ocorrer $A$ <u>e</u> de ocorrer $B$&rdquo;.\n",
    "\n",
    "O símbolo $\\cup$ significa &ldquo;união&rdquo; (chamada de &ldquo;reunião&rdquo; em alguns textos). &ldquo;$P(A\\cup B)$&rdquo; pode ser lido como &ldquo;a chance de ocorrer $A$ <u>ou</u> de ocorrer $B$&rdquo;, sendo que este &ldquo;ou&rdquo; não é um &ldquo;ou exclusivo&rdquo; (ou seja: $A$ e $B$ podem ocorrer simultaneamente).\n",
    "\n",
    "Dizemos que $A$ e $B$ são *eventos mutualmente exclusivos* se $A \\cap B = \\varnothing$, o que resulta em $P(A \\cap B) = 0$.\n",
    "\n"
   ]
  },
  {
   "cell_type": "markdown",
   "metadata": {},
   "source": [
    "## Os axiomas de Kolmogorov\n",
    "\n"
   ]
  },
  {
   "cell_type": "markdown",
   "metadata": {},
   "source": [
    "1.  Probabilidades são valores reais não-negativos. Dado um evento $J$ qualquer, temos que $P(J) \\geq 0$ e $P \\in \\mathbb{R}$\n",
    "\n",
    "2.  A probabilidade $P(\\Omega)$ é definida como sendo igual a $1$.\n",
    "\n",
    "3.  Se $A$ e $B$ são eventos mutuamente exclusivos, então $P(A \\cup B) = P(A) + P(B)$. De maneira mais geral temos que $P(\\bigcup_{i=1}^{\\infty}A_i)=\\sum_{i=1}^{\\infty}P(A_i)$, onde todos os eventos $A_i$ são mutualmente exclusivos entre si.\n",
    "\n"
   ]
  },
  {
   "cell_type": "markdown",
   "metadata": {},
   "source": [
    "## Regra da adição de probabilidades\n",
    "\n"
   ]
  },
  {
   "cell_type": "markdown",
   "metadata": {},
   "source": [
    "$$\n",
    "P(A \\cup B) = P(A) + P(B) - P(A \\cap B)\n",
    "$$\n",
    "\n",
    "Observe que quando $A$ e $B$ são eventos mutualmente exclusivos, temos que $P(A \\cap B) = 0$, o que resulta no terceiro axioma de Kolmogorov.\n",
    "\n"
   ]
  },
  {
   "cell_type": "markdown",
   "metadata": {},
   "source": [
    "## Eventos complementares\n",
    "\n"
   ]
  },
  {
   "cell_type": "markdown",
   "metadata": {},
   "source": [
    "Dizemos que os eventos $J$ e $J^c$ são complementares se\n",
    "\n",
    "$$\n",
    "P(J) + P(J^c) = 1\n",
    "$$\n",
    "\n",
    "Eventos complementares têm algumas propriedades interessantes\n",
    "\n",
    "1.  $J \\cap J^c = \\varnothing$\n",
    "\n",
    "2.  $J \\cup J^c = \\Omega$\n",
    "\n",
    "3.  $(A \\cap B)^c = A^c \\cup B^c$\n",
    "\n",
    "4.  $(A \\cup B)^c = A^c \\cap B^c$\n",
    "\n",
    "5.  $\\Omega^c = \\varnothing$\n",
    "\n",
    "6.  $\\varnothing^c = \\Omega$\n",
    "\n"
   ]
  },
  {
   "cell_type": "markdown",
   "metadata": {},
   "source": [
    "## Eventos aninhados\n",
    "\n"
   ]
  },
  {
   "cell_type": "markdown",
   "metadata": {},
   "source": [
    "Se o evento $B$ é um subconjunto do evento $A$, dizemos que são eventos aninhados. Representamos que $B$ é um subconjunto de $A$ da seguinte maneira\n",
    "\n",
    "$$\n",
    "B \\subseteq A.\n",
    "$$\n",
    "\n"
   ]
  },
  {
   "cell_type": "markdown",
   "metadata": {},
   "source": [
    "## Probabilidade de $A$ acontecer e de $B$ não acontecer\n",
    "\n"
   ]
  },
  {
   "cell_type": "markdown",
   "metadata": {},
   "source": [
    "A probabilidade de $A$ acontecer e de $B$ não acontecer é\n",
    "\n",
    "$$\n",
    "A \\setminus B = A \\cap B^c.\n",
    "$$\n",
    "\n"
   ]
  },
  {
   "cell_type": "markdown",
   "metadata": {},
   "source": [
    "## Relembrando combinação\n",
    "\n"
   ]
  },
  {
   "cell_type": "markdown",
   "metadata": {},
   "source": [
    "Dado um conjunto de tamanho $n$, o número de possibilidades de se sortear $k$ itens deste conjunto, sem reposição, onde a ordem de sorteio *não é* importante é\n",
    "\n",
    "$$\n",
    "{n\\choose k} = \\frac{n!}{k!(n-k)!}.\n",
    "$$\n",
    "\n",
    "Nós lemos $n \\choose k$ como &ldquo;de $n$ escolha $k$&rdquo;.\n",
    "\n",
    "Exemplo: uma lanchonete tem 10 opções de recheio para seu lanche. O lanche que você pediu permite você escolher 2 opções quaisquer (não pode escolher dois iguais!). Quantos lanches diferentes você pode montar?\n",
    "\n",
    "$$\n",
    "{10\\choose 2} = \\frac{10!}{2!(10-2)!} = 45\n",
    "$$\n",
    "\n",
    "Você pode montar 45 lanches diferentes!\n",
    "\n"
   ]
  },
  {
   "cell_type": "markdown",
   "metadata": {},
   "source": [
    "## Relembrando permutação\n",
    "\n"
   ]
  },
  {
   "cell_type": "markdown",
   "metadata": {},
   "source": [
    "Dado um conjunto de tamanho $n$, o número de possibilidades de se sortear $k$ itens deste conjunto, sem reposição, onde a ordem de sorteio *é* importante é\n",
    "\n",
    "$$\n",
    "nPk = \\frac{n!}{(n-k)!}.\n",
    "$$\n",
    "\n",
    "Nós lemos $nPk$ como &ldquo;de $n$ permute $k$&rdquo;\n",
    "\n",
    "Exemplo: é sabido na cultura popular que quando pedimos sorvetes de casquinha com $n \\geq 2$ bolas, a quantidade de sorvete por bola reduz para cada bola adicionada. Neste caso, a ordem que você pede seus sabores de sorvete influencia o seu produto final. Quantas configurações diferentes de sorvetes de casquinha com 3 bolas você pode pedir em uma sorveteria com 20 sabores sem repetir os sabores dos sorvete?\n",
    "\n",
    "$$\n",
    "20P2 = \\frac{20!}{(20-2)!} = 380.\n",
    "$$\n",
    "\n",
    "Você pode montar 380 configurações de sorvetes de casquinha diferentes!\n",
    "\n"
   ]
  },
  {
   "cell_type": "markdown",
   "metadata": {},
   "source": [
    "## XKCD relevante\n",
    "\n"
   ]
  },
  {
   "cell_type": "markdown",
   "metadata": {},
   "source": [
    "![img](https://imgs.xkcd.com/comics/probability_comparisons.png)\n",
    "\n",
    "`Imagem: Probability Comparisons (XKCD) disponível em https://xkcd.com/2379`\n",
    "\n"
   ]
  },
  {
   "cell_type": "markdown",
   "metadata": {},
   "source": [
    "## Referências\n",
    "\n"
   ]
  },
  {
   "cell_type": "markdown",
   "metadata": {},
   "source": [
    "1.  SPIEGEL, Murray R.; SCHILLER, John J.; SRINIVASAN, R. Alu. Probabilidade e Estatística. 3ª edição.: Bookman, 2012.\n",
    "\n",
    "2.  MORETTIN, Pedro A.; BUSSAB, Wilton de O. Estatística básica. 9ª edição.: Saraiva Uni, 2017.\n",
    "\n",
    "3.  [http://prob140.org/textbook/content/README.htm](http://prob140.org/textbook/content/README.htm)\n",
    "\n",
    "4.  [https://en.wikipedia.org/wiki/Probability_axioms](https://en.wikipedia.org/wiki/Probability_axioms)\n",
    "\n",
    "5.  [https://en.wikipedia.org/wiki/Binomial_coefficient](https://en.wikipedia.org/wiki/Binomial_coefficient)\n",
    "\n",
    "6.  [https://en.wikipedia.org/wiki/Permutation](https://en.wikipedia.org/wiki/Permutation)\n",
    "\n",
    "7.  Problema das duas crianças [https://www.untrammeledmind.com/2017/12/two-child-problem-when-one-is-a-girl-named-florida-born-on-a-tuesday/](https://www.untrammeledmind.com/2017/12/two-child-problem-when-one-is-a-girl-named-florida-born-on-a-tuesday/)\n",
    "\n"
   ]
  }
 ],
 "metadata": {
  "kernelspec": {
   "display_name": "ilumpy",
   "language": "python",
   "name": "ilumpy"
  },
  "language_info": {
   "codemirror_mode": {
    "name": "ipython",
    "version": 3
   },
   "file_extension": ".py",
   "mimetype": "text/x-python",
   "name": "python",
   "nbconvert_exporter": "python",
   "pygments_lexer": "ipython3",
   "version": "3.10.8"
  },
  "org": null
 },
 "nbformat": 4,
 "nbformat_minor": 4
}
