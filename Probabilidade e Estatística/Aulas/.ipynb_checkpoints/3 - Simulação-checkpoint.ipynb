{
 "cells": [
  {
   "cell_type": "markdown",
   "metadata": {},
   "source": [
    "Simulação\n",
    "=========\n",
    "\n"
   ]
  },
  {
   "cell_type": "markdown",
   "metadata": {},
   "source": [
    "## Tipos de experimentos\n",
    "\n"
   ]
  },
  {
   "cell_type": "markdown",
   "metadata": {},
   "source": [
    "Quando Mendel estudou o processo de reprodução de ervilhas, ele realizou um *experimento científico controlado*. Com os resultados do seu experimento, Mendel reportou o que é considerado hoje a base dos estudos de genética.\n",
    "\n",
    "O experimento de Mendel e de tantos outros cientistas acontece &ldquo;no mundo real&rdquo;, ou seja, são processos naturais/sociais que ocorrem ao longo do tempo e que são estudados com o intuito de testar hipóteses.\n",
    "\n",
    "Existem também experimentos computacionais. Tratam-se de simulações de processos naturais/sociais realizadas dentro do computador por meio de códigos.\n",
    "\n"
   ]
  },
  {
   "cell_type": "markdown",
   "metadata": {},
   "source": [
    "## Os passos de um experimento computacional\n",
    "\n"
   ]
  },
  {
   "cell_type": "markdown",
   "metadata": {},
   "source": [
    "1.  Decidir o que você vai simular. Você irá simular o jogar de uma moeda? Um jogo de cartas? Átomos interagindo entre si? Nesta etapa, é interessante ter em mente a pergunta que você gostaria de responder com seu experimento;\n",
    "\n",
    "2.  Elaborar um código que realiza uma simulação do início ao fim;\n",
    "\n",
    "3.  Decidir quantas vezes você gostaria de rodar esta simulação no seu experimento;\n",
    "\n",
    "4.  Rodar a simulação o número de vezes que você decidiu no passo 3 (idealmente dentro de um laço de repetição). Cada vez que rodar a simulação, você deve registrar o resultado obtido;\n",
    "\n",
    "5.  Investigar os resultados obtidos na luz da pergunta definida no passo 1.\n",
    "\n"
   ]
  },
  {
   "cell_type": "markdown",
   "metadata": {},
   "source": [
    "## O experimento da moeda\n",
    "\n"
   ]
  },
  {
   "cell_type": "markdown",
   "metadata": {},
   "source": [
    "Vamos simular o jogar de uma moeda. Nossa pergunta é: quantas vezes em média nós tiramos *cara* ao jogar uma moeda 10 vezes?\n",
    "\n",
    "O próximo passo agora é simular o jogar de uma moeda! Para isso, podemos usar o `choice` do módulo random.\n",
    "\n"
   ]
  },
  {
   "cell_type": "code",
   "execution_count": 1,
   "metadata": {},
   "outputs": [
    {
     "name": "stdout",
     "output_type": "stream",
     "text": [
      "['coroa', 'cara', 'coroa', 'coroa', 'coroa', 'coroa', 'coroa', 'coroa', 'coroa', 'coroa']\n"
     ]
    }
   ],
   "source": [
    "from random import choice\n",
    "\n",
    "\n",
    "def jogar_moeda():\n",
    "    return choice([\"cara\", \"coroa\"])\n",
    "\n",
    "\n",
    "def jogar_10_moedas():\n",
    "    resultado = []\n",
    "    for _ in range(10):\n",
    "        resultado.append(jogar_moeda())\n",
    "    return resultado\n",
    "\n",
    "\n",
    "print(jogar_10_moedas())"
   ]
  },
  {
   "cell_type": "markdown",
   "metadata": {},
   "source": [
    "Quantas vezes iremos realizar uma simulação neste experimento? Quanto mais vezes realizamos, melhor será nossa confiança no resultado. Vamos definir que neste caso iremos realizar 1000 simulações.\n",
    "\n",
    "Agora precisamos rodar nossa simulação 1000 vezes e registrar o resultado. Qual resultado que queremos? Isso vai depender da nossa pergunta. No nosso caso aqui, queremos o número de vezes que tiramos *cara* na moeda.\n",
    "\n"
   ]
  },
  {
   "cell_type": "code",
   "execution_count": 27,
   "metadata": {},
   "outputs": [
    {
     "name": "stdout",
     "output_type": "stream",
     "text": [
      "Em média, o lançar de 10 moedas obtivemos 5.7 caras\n"
     ]
    }
   ],
   "source": [
    "import statistics as st\n",
    "\n",
    "\n",
    "def experimento(n):\n",
    "    resultado_global = []\n",
    "    for _ in range(n):\n",
    "        resultado_local = jogar_10_moedas()\n",
    "        numero_cara = resultado_local.count(\"cara\")\n",
    "        resultado_global.append(numero_cara)\n",
    "    return resultado_global\n",
    "\n",
    "\n",
    "num_repeticoes = 10\n",
    "resultado = experimento(num_repeticoes)\n",
    "\n",
    "media = st.mean(resultado)\n",
    "\n",
    "print(f\"Em média, o lançar de 10 moedas obtivemos {media} caras\")"
   ]
  },
  {
   "cell_type": "markdown",
   "metadata": {},
   "source": [
    "Podemos visualizar nosso resultado!\n",
    "\n"
   ]
  },
  {
   "cell_type": "code",
   "execution_count": 28,
   "metadata": {},
   "outputs": [
    {
     "data": {
      "text/plain": [
       "<matplotlib.legend.Legend at 0x23f83c7ca60>"
      ]
     },
     "execution_count": 28,
     "metadata": {},
     "output_type": "execute_result"
    },
    {
     "data": {
      "image/png": "[encoded data removed]",
      "text/plain": [
       "<Figure size 432x288 with 1 Axes>"
      ]
     },
     "metadata": {
      "needs_background": "light"
     },
     "output_type": "display_data"
    }
   ],
   "source": [
    "import matplotlib.pyplot as plt\n",
    "\n",
    "\n",
    "figura, eixo = plt.subplots()\n",
    "eixo.hist(resultado, bins=range(12), align=\"left\", rwidth=0.5)\n",
    "eixo.axvline(media, linestyle=\"--\", color=\"red\", label=\"Média\")\n",
    "eixo.set_xticks(range(11))\n",
    "eixo.set_xlabel(\"Número de vezes que tiramos cara na moeda\")\n",
    "eixo.set_ylabel(\"Quantidade\")\n",
    "eixo.legend(loc=1)\n",
    "\n",
    "# coloque o eixo y em escala log se quiser ver os valores muito pequeno\n",
    "# eixo.set_yscale('log', nonpositive='clip')"
   ]
  },
  {
   "cell_type": "code",
   "execution_count": 29,
   "metadata": {},
   "outputs": [
    {
     "name": "stdout",
     "output_type": "stream",
     "text": [
      "2.1628170930011112\n"
     ]
    }
   ],
   "source": [
    "import statistics as st\n",
    "\n",
    "print(st.stdev(resultado))"
   ]
  },
  {
   "cell_type": "markdown",
   "metadata": {},
   "source": [
    "## O experimento do dado\n",
    "\n"
   ]
  },
  {
   "cell_type": "markdown",
   "metadata": {},
   "source": [
    "Vamos simular o jogar de um dado de seis faces. Nossa pergunta é: qual é a moda da soma dos números quando jogamos dois dados de seis faces?\n",
    "\n",
    "O próximo passo agora é simular o lançar de dois dados! Para isso, podemos usar o `choice` do módulo random novamente.\n",
    "\n"
   ]
  },
  {
   "cell_type": "code",
   "execution_count": 31,
   "metadata": {},
   "outputs": [
    {
     "name": "stdout",
     "output_type": "stream",
     "text": [
      "4\n"
     ]
    }
   ],
   "source": [
    "def jogar_dado_seis_faces():\n",
    "    return choice([1, 2, 3, 4, 5, 6])\n",
    "\n",
    "\n",
    "def soma_dois_dados():\n",
    "    return jogar_dado_seis_faces() + jogar_dado_seis_faces()\n",
    "\n",
    "\n",
    "print(soma_dois_dados())"
   ]
  },
  {
   "cell_type": "markdown",
   "metadata": {},
   "source": [
    "Quantas vezes iremos realizar uma simulação neste experimento? Novamente, vamos definir que neste caso iremos realizar 1000 simulações.\n",
    "\n",
    "Agora precisamos rodar nossa simulação 1000 vezes e registrar o resultado. Qual resultado que queremos? A soma da jogada dos dados!\n",
    "\n"
   ]
  },
  {
   "cell_type": "code",
   "execution_count": 36,
   "metadata": {},
   "outputs": [
    {
     "name": "stdout",
     "output_type": "stream",
     "text": [
      "A moda da soma de dois dados de seis faces é 3\n"
     ]
    }
   ],
   "source": [
    "def experimento(n):\n",
    "    resultado_global = []\n",
    "    for _ in range(n):\n",
    "        valor = soma_dois_dados()\n",
    "        resultado_global.append(valor)\n",
    "    return resultado_global\n",
    "\n",
    "\n",
    "num_repeticoes = 10\n",
    "resultado = experimento(num_repeticoes)\n",
    "\n",
    "moda = st.mode(resultado)\n",
    "\n",
    "print(f\"A moda da soma de dois dados de seis faces é {moda}\")"
   ]
  },
  {
   "cell_type": "markdown",
   "metadata": {},
   "source": [
    "Novamente, podemos visualizar nosso resultado!\n",
    "\n"
   ]
  },
  {
   "cell_type": "code",
   "execution_count": 37,
   "metadata": {},
   "outputs": [
    {
     "data": {
      "text/plain": [
       "Text(0, 0.5, 'Quantidade')"
      ]
     },
     "execution_count": 37,
     "metadata": {},
     "output_type": "execute_result"
    },
    {
     "data": {
      "image/png": "[encoded data removed]",
      "text/plain": [
       "<Figure size 432x288 with 1 Axes>"
      ]
     },
     "metadata": {
      "needs_background": "light"
     },
     "output_type": "display_data"
    }
   ],
   "source": [
    "import matplotlib.pyplot as plt\n",
    "\n",
    "\n",
    "figura, eixo = plt.subplots()\n",
    "eixo.hist(resultado, bins=range(1, 14), align=\"left\", rwidth=0.5)\n",
    "eixo.set_xticks(range(1, 14))\n",
    "eixo.set_xlabel(\"Soma do lançamento de dois dados\")\n",
    "eixo.set_ylabel(\"Quantidade\")\n",
    "\n",
    "# coloque o eixo y em escala log se quiser ver os valores muito pequeno\n",
    "# eixo.set_yscale('log', nonpositive='clip')"
   ]
  },
  {
   "cell_type": "markdown",
   "metadata": {},
   "source": [
    "## O problema de Monty Hall\n",
    "\n"
   ]
  },
  {
   "cell_type": "markdown",
   "metadata": {},
   "source": [
    "Meus parabéns! Você acabou de ser sorteado e irá participar do programa de auditório do apresentador Monty Hall!\n",
    "\n",
    "O jogo é muito simples: você tem na sua frente três portas fechadas, numeradas de 1 até 3. Atrás de uma destas portas está uma enorme quantidade de barras de ouro (obtidas de forma 100% ecologicamente e socialmente correta em todos os aspectos), o suficiente para você e as próximas 42 gerações da sua família viverem bem e livres de problemas financeiros. Atrás das outras duas portas tem, em cada uma delas, um livro de algoritmos escritos em Java, publicado em 1997, livre de qualquer valor comercial/sentimental e considerado absurdamente desatualizado por qualquer pessoa da área. Você não sabe em qual das três portas que estão as barras de ouro.\n",
    "\n",
    "Sabendo disso, você deve escolher uma destas portas para abrir. Se a sorte estiver do seu lado, poderá sair deste programa sendo um mais novo milionário!\n",
    "\n",
    "Ao escolher a porta que irá abrir, Monty Hall pergunta se você tem certeza da sua escolha e, se este for o caso, ele ainda não irá abrir a sua porta escolhida. O que Monty Hall faz é abrir uma das duas portas que *não* foram escolhidas, revelando que atrás desta porta que ele acabou de abrir tinha um livro de Java publicado em 1997.\n",
    "\n",
    "Ao fazer isso (e ainda sem abrir a sua porta escolhida), Monty Hall te pergunta: &ldquo;e agora meu caro, você gostaria de manter a sua escolha ou gostaria de trocar a sua escolha?&rdquo;\n",
    "\n",
    "Esta é sua última chance! Independente se você optar por manter a escolha inicial ou se optar por mudar, Monty Hall irá acatar sua escolha e abrir a porta que você escolher.\n",
    "\n",
    "Suponha que seu objetivo seja abrir a porta com as barras de ouro, qual das opções abaixo você acredita que é a melhor estratégia:\n",
    "\n",
    "1.  Você deve se manter na porta que escolheu inicialmente\n",
    "\n",
    "2.  Você deve trocar a sua escolha inicial\n",
    "\n",
    "3.  Tanto faz se você ficar na porta que escolheu inicialmente ou se trocar de porta, a chance de abrir a porta com barras de ouro não muda, logo não existe uma melhor estratégia neste caso\n",
    "\n",
    "Sua tarefa é refletir sobre este problema, e tentar responder ele (em um primeiro momento) sem o uso de simulação computacional.\n",
    "\n",
    "Após refletir, realize um experimento computacional para checar qual das 3 estratégias é a melhor.\n",
    "\n"
   ]
  },
  {
   "cell_type": "code",
   "execution_count": 52,
   "metadata": {},
   "outputs": [
    {
     "name": "stdout",
     "output_type": "stream",
     "text": [
      "Jogando 10000 vezes você ganhou 3305 ao não mudar de porta\n"
     ]
    }
   ],
   "source": [
    "def monty_hall():\n",
    "    portas_possiveis = [1, 2, 3]\n",
    "    porta_escolhida = choice(portas_possiveis)\n",
    "    porta_ouro = choice(portas_possiveis)\n",
    "    \n",
    "    if porta_escolhida == porta_ouro:\n",
    "        ganha_se_ficar = True\n",
    "    else:\n",
    "        ganha_se_ficar = False\n",
    "        \n",
    "    return ganha_se_ficar  \n",
    "    \n",
    "\n",
    "def experimento(n):\n",
    "    resultado = []\n",
    "    \n",
    "    for _ in range(n):\n",
    "        ganhou_ficando_na_porta_inicial = monty_hall()\n",
    "        resultado.append(ganhou_ficando_na_porta_inicial)\n",
    "        \n",
    "    return resultado\n",
    "\n",
    "\n",
    "num_repeticoes = 10000\n",
    "resultado = experimento(num_repeticoes)\n",
    "\n",
    "vezes_que_ganhou = resultado.count(True)\n",
    "\n",
    "print(f\"Jogando {num_repeticoes} vezes você ganhou {vezes_que_ganhou} ao não mudar de porta\")"
   ]
  },
  {
   "cell_type": "markdown",
   "metadata": {},
   "source": [
    "## XKCD relevante\n",
    "\n"
   ]
  },
  {
   "cell_type": "markdown",
   "metadata": {},
   "source": [
    "![img](https://imgs.xkcd.com/comics/a_bunch_of_rocks.png)\n",
    "\n",
    "`Imagem: A bunch of rocks (XKCD) disponível em https://xkcd.com/505`\n",
    "\n"
   ]
  },
  {
   "cell_type": "markdown",
   "metadata": {},
   "source": [
    "## Referências\n",
    "\n"
   ]
  },
  {
   "cell_type": "markdown",
   "metadata": {},
   "source": [
    "1.  [https://inferentialthinking.com/chapters/09/3/Simulation.html](https://inferentialthinking.com/chapters/09/3/Simulation.html)\n",
    "\n",
    "2.  [https://inferentialthinking.com/chapters/09/4/Monty_Hall_Problem.html](https://inferentialthinking.com/chapters/09/4/Monty_Hall_Problem.html)\n",
    "\n"
   ]
  }
 ],
 "metadata": {
  "kernelspec": {
   "display_name": "ilumpy",
   "language": "python",
   "name": "ilumpy"
  },
  "language_info": {
   "codemirror_mode": {
    "name": "ipython",
    "version": 3
   },
   "file_extension": ".py",
   "mimetype": "text/x-python",
   "name": "python",
   "nbconvert_exporter": "python",
   "pygments_lexer": "ipython3",
   "version": "3.9.7"
  },
  "org": null
 },
 "nbformat": 4,
 "nbformat_minor": 4
}
