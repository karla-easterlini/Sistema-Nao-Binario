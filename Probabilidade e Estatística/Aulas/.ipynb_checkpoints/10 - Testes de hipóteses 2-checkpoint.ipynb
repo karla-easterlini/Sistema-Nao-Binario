{
 "cells": [
  {
   "cell_type": "markdown",
   "metadata": {},
   "source": [
    "Testes de hipóteses --- testes sem simulação e testes pareados\n",
    "==============================================================\n",
    "\n"
   ]
  },
  {
   "cell_type": "markdown",
   "metadata": {},
   "source": [
    "## Introdução\n",
    "\n"
   ]
  },
  {
   "cell_type": "markdown",
   "metadata": {},
   "source": [
    "Novamente, parte deste notebook é baseado no material do curso *Computational and Inferential Thinking: The Foundations of Data Science* criado pelos professores Ani Adhikari, John DeNero e David Wagner da Universidade da Califórnia em Berkeley. O curso está disponível gratuitamente na internet e é altamente recomendado para quem tem vontade de aprofundar seus conhecimentos de estatística (ver referência [1]). Outra parte deste notebook foi baseada no livro da referência [2].\n",
    "\n",
    "Antes de seguir em frente, vamos definir o nível de confiança dos nossos testes.\n",
    "\n"
   ]
  },
  {
   "cell_type": "code",
   "execution_count": 1,
   "metadata": {},
   "outputs": [],
   "source": [
    "NIVEL_CONFIANCA = 0.95\n",
    "\n",
    "significancia = 1 - NIVEL_CONFIANCA"
   ]
  },
  {
   "cell_type": "markdown",
   "metadata": {},
   "source": [
    "## Teste de hipóteses sem simulação\n",
    "\n"
   ]
  },
  {
   "cell_type": "markdown",
   "metadata": {},
   "source": [
    "### O experimento do café\n",
    "\n"
   ]
  },
  {
   "cell_type": "markdown",
   "metadata": {},
   "source": [
    "Na copa da Ilum temos duas opções de café: o café do jarro térmico e o café do que foi apelidado carinhosamente de &ldquo;chopeira&rdquo;. Chamaremos o café do jarro de $A$ e o café da chopeira de $B$.\n",
    "\n",
    "Uma observação muito comum é que o café do jarro térmico costuma acabar antes do café da chopeira. Isso pode ser por diversos motivos, entre eles pode ser que o café do jarro seja considerado melhor do que o café da chopeira.\n",
    "\n",
    "Tendo em vista a observação, vamos levantar nossas hipóteses estatísticas:\n",
    "\n",
    "-   $H_0$: Os cafés são iguais, não havendo preferência por um ou por outro.\n",
    "\n",
    "-   $H_1$: O café $A$ é melhor que o café $B$.\n",
    "\n",
    "**Nota**: observe que as hipóteses não abrangem todas as possibilidades visto que a possibilidade que o café $B$ é melhor que o café $A$ não está contemplada. Isso é bastante comum e neste caso devemos ler a $H_0$ da seguinte forma: &ldquo;Os cafés são iguais, não havendo preferência por um ou por outro *ou* o café $B$ é melhor que o café $A$&rdquo;.\n",
    "\n",
    "Um experimento com 100 participantes foi realizado durante o evento Ilum de Portas Abertas, onde cada participante tinha duas xícaras com café na sua frente, cada xícara rotulada com o número 0 ou 1. Os participantes não sabiam qual xícara era o café $A$ e qual era o café $B$. Ao provar os cáfes, deveriam escolher a xícara que acreditavam ser a do café mais gostoso (mesmo que acreditem que são similares, deviam sempre escolher uma).\n",
    "\n",
    "O experimentador coleta os resultados de cada participante e registra eles na variável aleatória $X$. Esta variável contém apenas números 0 e 1, sendo que 0 representa que a pessoa escolheu o café $A$ e 1 representa que a pessoa escolheu o café $B$ (apenas o experimentador sabia disso).\n",
    "\n"
   ]
  },
  {
   "cell_type": "markdown",
   "metadata": {},
   "source": [
    "#### Situação 1\n",
    "\n"
   ]
  },
  {
   "cell_type": "markdown",
   "metadata": {},
   "source": [
    "Suponha que a variável aleatória $X$ contenha 41 dos 100 valores com o rótulo 1. O que você pode concluir sobre as hipóteses $H_0$ e $H_1$?\n",
    "\n",
    "Vamos pensar um pouco. *Se os cafés fossem idênticos*, então a chance de uma pessoa escolher o café $A$ e não o $B$ deve ser a mesma de escolher o café $B$ e não o $A$, logo esta chance deve ser de 50%.\n",
    "\n",
    "Ao realizar 100 experimentos, cada um independente um do outro, podendo resultar apenas em um de dois resultados e onde a probabilidade de se obter um dos resultados não se altera ao longo dos experimentos, temos um <u>experimento binomial</u>! Neste caso, atribuímos o rótulo &ldquo;sucesso&rdquo; para quando o café $B$ foi escolhido (lembre-se que tanto faz qual dos resultados que recebe o rótulo de sucesso).\n",
    "\n",
    "A pergunta aqui é: qual é a probabilidade de observarmos um valor de <u>41 ou menos</u> pessoas que gostam do café $B$ dado que $H_0$ é verdadeira (lembre-se que $H_0$ afirma que os cafés são iguais)? Formalmente, queremos computar\n",
    "\n",
    "$$\n",
    "\\textrm{p-valor} = P(X \\leq 41 | H_0).\n",
    "$$\n",
    "\n",
    "**Nota**: Nós queremos a probabilidade de observar o valor medido (que foi 41) ou qualquer valor que seja ainda *mais contraditório* que $H_0$. Por isso usamos $P(X \\leq 41)$ e não $P(X = 41)$. Observe que &ldquo;valores mais contraditórios que $H_0$&rdquo; são valores em direção a $H_1$ (se mais pessoas gostarem do café $A$, mais suporte temos para $H_1$).\n",
    "\n",
    "Se $H_0$ é verdadeira, então a variável $X$ deve seguir uma distribuição binomial com $n=100$ (pois temos 100 participantes) e $p=0.5$ (pois segundo $H_0$ os cafés são iguais, logo a chance de escolher um ou outro é de 50%). Formalmente, temos\n",
    "\n",
    "$$\n",
    "\\textrm{p-valor} = P(X \\leq 41 | H_0) = P(X \\leq 41 | X \\sim b(100,0.5)).\n",
    "$$\n",
    "\n",
    "Uma forma de calcular esta probabilidade é pela cdf da distribuição binomial: $B(41; 100, 0.5)$. Vamos resolver isso usando os conhecimentos que adquirimos.\n",
    "\n"
   ]
  },
  {
   "cell_type": "code",
   "execution_count": 2,
   "metadata": {},
   "outputs": [
    {
     "name": "stdout",
     "output_type": "stream",
     "text": [
      "O p-valor observado foi de 0.04431\n",
      "\n",
      "Com esta observação, devemos rejeitar H0\n"
     ]
    }
   ],
   "source": [
    "from scipy import stats\n",
    "\n",
    "NUM_EXPERIMENTOS = 100\n",
    "PROB_SUCESSO = 0.5\n",
    "NUM_SUCESSOS = 41\n",
    "\n",
    "dist_binomial = stats.binom(n=NUM_EXPERIMENTOS, p=PROB_SUCESSO)\n",
    "\n",
    "pvalor = dist_binomial.cdf(NUM_SUCESSOS)\n",
    "\n",
    "print(f\"O p-valor observado foi de {pvalor:.5f}\")\n",
    "\n",
    "print()\n",
    "\n",
    "if pvalor < significancia:\n",
    "    print(\"Com esta observação, devemos rejeitar H0\")\n",
    "else:\n",
    "    print(\"Com esta observação, não devemos rejeitar H0\")"
   ]
  },
  {
   "cell_type": "markdown",
   "metadata": {},
   "source": [
    "Dentro deste contexto, a probabilidade do resultado observado ter ocorrido dado que $H_0$ é verdadeira é baixa. Pelo nosso teste de hipóteses, devemos **rejeitar** $H_0$.\n",
    "\n"
   ]
  },
  {
   "cell_type": "markdown",
   "metadata": {},
   "source": [
    "#### Situação 2\n",
    "\n"
   ]
  },
  {
   "cell_type": "markdown",
   "metadata": {},
   "source": [
    "Mesma situação anterior, porém suponha que a variável aleatória $X$ contenha 45 dos 100 valores com o rótulo 1. O que você pode concluir sobre as hipóteses $H_0$ e $H_1$?\n",
    "\n",
    "Formalmente temos\n",
    "\n",
    "$$\n",
    "\\textrm{p-valor} = P(X \\leq 45 | H_0) = P(X \\leq 45 | X \\sim b(100,0.5)) = B(45;100,0.5).\n",
    "$$\n",
    "\n"
   ]
  },
  {
   "cell_type": "code",
   "execution_count": 3,
   "metadata": {},
   "outputs": [
    {
     "name": "stdout",
     "output_type": "stream",
     "text": [
      "O p-valor observado foi de 0.18410\n",
      "\n",
      "Com esta observação, não devemos rejeitar H0\n"
     ]
    }
   ],
   "source": [
    "NUM_EXPERIMENTOS = 100\n",
    "PROB_SUCESSO = 0.5\n",
    "NUM_SUCESSOS = 45\n",
    "\n",
    "dist_binomial = stats.binom(n=NUM_EXPERIMENTOS, p=PROB_SUCESSO)\n",
    "\n",
    "pvalor = dist_binomial.cdf(NUM_SUCESSOS)\n",
    "\n",
    "print(f\"O p-valor observado foi de {pvalor:.5f}\")\n",
    "\n",
    "print()\n",
    "\n",
    "if pvalor < significancia:\n",
    "    print(\"Com esta observação, devemos rejeitar H0\")\n",
    "else:\n",
    "    print(\"Com esta observação, não devemos rejeitar H0\")"
   ]
  },
  {
   "cell_type": "markdown",
   "metadata": {},
   "source": [
    "Dentro deste contexto, a probabilidade do resultado observado ter ocorrido dado que $H_0$ é verdadeira não é desprezível. Pelo nosso teste de hipóteses, **falhamos em rejeitar** $H_0$.\n",
    "\n"
   ]
  },
  {
   "cell_type": "markdown",
   "metadata": {},
   "source": [
    "### O experimento do café levemente modificado\n",
    "\n"
   ]
  },
  {
   "cell_type": "markdown",
   "metadata": {},
   "source": [
    "Considere um problema similar ao anterior, porém com a hipótese alternativa diferente.\n",
    "\n",
    "-   $H_0$: Os cafés são iguais, não havendo preferência por um ou por outro.\n",
    "\n",
    "-   $H_1$: Os cafés são diferentes, sendo um deles melhor que o outro.\n",
    "\n",
    "Observe que agora a hipótese alternativa não nos diz qual café é melhor, apenas que são diferentes. **Spoiler**: essa mudança irá alterar o nosso cálculo do p-valor.\n",
    "\n",
    "Suponha que a variável aleatória $X$ contenha 41 dos 100 valores com o rótulo 1. O que você pode concluir sobre as hipóteses $H_0$ e $H_1$?\n",
    "\n",
    "A pergunta que devemos fazer aqui é a mesma: quais outros resultados para este experimento seriam *ainda mais contraditórios* de $H_0$ do que o resultado observado? Em outras palavras, quais resultados para este experimento *dariam ainda mais suporte* para a hipótese alternativa?\n",
    "\n",
    "Observe que qualquer resultado no intervalo $[0, 41]$ daria mais suporte para $H_1$. Veja também que $H_1$ diz apenas que os cafés são diferentes, mas não diz qual a diferença. Outros resultados possíveis que dariam suporte para $H_1$ seriam caso mais pessoas tivessem gostado do café $B$ do que do $A$.\n",
    "\n",
    "Veja que o valor de 41 representa 9 votos a menos do que o valor esperado de 50 (caso os cafés fossem iguais). Logo, se tivéssemos observado 59 rótulos 1 na variável aleatória $X$ (50 + 9), este seria um resultado *tão contraditório* de $H_0$ do que o resultado 41 que observamos (porém para o outro lado da distribuição). Não apenas isso, mas sabemos que qualquer valor dentro do intervalo $[59, 100]$ seria tão contraditório ou mais de $H_0$ do que o que observamos no experimento.\n",
    "\n",
    "Essa observação nos faz refletir sobre o p-valor. Lembre-se que o p-valor representa a fração de observações que são tão contraditórias ou mais do que o observado experimentalmente. Neste exemplo, precisamos considerar as duas caldas da distribuição para o cálculo do p-valor! Formalmente temos\n",
    "\n",
    "$$\n",
    "\\textrm{p-valor} = P(X \\leq 41 \\cup X \\geq 59 | H_0)\n",
    "$$\n",
    "\n",
    "com\n",
    "\n",
    "$$\n",
    "H_0 \\sim  b(100,0.5).\n",
    "$$\n",
    "\n",
    "Logo, temos que\n",
    "\n",
    "$$\n",
    "\\textrm{p-valor}=\\overset{\\textrm{calda esquerda}}{\\overbrace{B(41;100,0.5)}}+\\overset{\\textrm{calda direita}}{\\overbrace{1-B(59;100,0.5)}}.$$\n",
    "\n",
    "Para visualizar a situação, veja a pmf abaixo. A região em vermelho representa os resultados tão contraditórios ou mais de $H_0$ do que o resultado observado no experimento.\n",
    "\n"
   ]
  },
  {
   "cell_type": "code",
   "execution_count": 4,
   "metadata": {},
   "outputs": [
    {
     "data": {
      "image/png": "[encoded data removed]",
      "text/plain": [
       "<Figure size 640x480 with 1 Axes>"
      ]
     },
     "metadata": {},
     "output_type": "display_data"
    }
   ],
   "source": [
    "import seaborn as sns\n",
    "import numpy as np\n",
    "\n",
    "NUM_SUCESSOS = 41\n",
    "\n",
    "DELTA = 13 # usado para controlar os limites do gráfico\n",
    "\n",
    "num_experimentos = 100\n",
    "prob_sucesso = 0.5\n",
    "\n",
    "dist_binomial = stats.binom(n=num_experimentos, p=prob_sucesso)\n",
    "\n",
    "x = np.arange(\n",
    "    num_experimentos * prob_sucesso - DELTA,\n",
    "    num_experimentos * prob_sucesso + DELTA,\n",
    ").astype(int)\n",
    "\n",
    "y = dist_binomial.pmf(x) * 100\n",
    "\n",
    "paleta_cores = []\n",
    "for valor in x:\n",
    "    if valor <= NUM_SUCESSOS or valor >= num_experimentos - NUM_SUCESSOS:\n",
    "        paleta_cores.append(\"red\")\n",
    "    else:\n",
    "        paleta_cores.append(\"royalblue\")\n",
    "\n",
    "eixo = sns.barplot(x=x, y=y, palette=paleta_cores)\n",
    "eixo.set(xlabel=\"Número de sucessos\", ylabel=\"Porcentagem\");"
   ]
  },
  {
   "cell_type": "markdown",
   "metadata": {},
   "source": [
    "Finalmente, vamos realizar o teste de hipóteses.\n",
    "\n"
   ]
  },
  {
   "cell_type": "code",
   "execution_count": 5,
   "metadata": {},
   "outputs": [
    {
     "name": "stdout",
     "output_type": "stream",
     "text": [
      "O p-valor observado foi de 0.07276\n",
      "\n",
      "Com esta observação, não devemos rejeitar H0\n"
     ]
    }
   ],
   "source": [
    "calda_esquerda = dist_binomial.cdf(NUM_SUCESSOS)\n",
    "calda_direita = 1 - dist_binomial.cdf(NUM_EXPERIMENTOS - NUM_SUCESSOS)\n",
    "\n",
    "pvalor = calda_esquerda + calda_direita\n",
    "\n",
    "print(f\"O p-valor observado foi de {pvalor:.5f}\")\n",
    "\n",
    "print()\n",
    "\n",
    "if pvalor < significancia:\n",
    "    print(\"Com esta observação, devemos rejeitar H0\")\n",
    "else:\n",
    "    print(\"Com esta observação, não devemos rejeitar H0\")"
   ]
  },
  {
   "cell_type": "markdown",
   "metadata": {},
   "source": [
    "Neste teste de hipóteses, nós falhamos em rejeitar $H_0$.\n",
    "\n"
   ]
  },
  {
   "cell_type": "markdown",
   "metadata": {},
   "source": [
    "## Testes de hipóteses pareados\n",
    "\n"
   ]
  },
  {
   "cell_type": "markdown",
   "metadata": {},
   "source": [
    "Em pesquisas científicas, é bastante comum nos perguntarmos se duas variáveis aleatórias seguem a mesma distribuição ou não. Este processo é conhecido como *teste A/B*.\n",
    "\n",
    "Considere o conjunto de dados abaixo. Nele, temos 1236 pares de mães e bebês com o peso dos bebês recém-nascidos (em onças&#x2026;) e a informação se a mãe fumou durante a gravidez (0 quer dizer que não, 1 quer dizer que sim e 9 quer dizer que não sabemos).\n",
    "\n"
   ]
  },
  {
   "cell_type": "code",
   "execution_count": 6,
   "metadata": {},
   "outputs": [
    {
     "data": {
      "text/html": [
       "<div>\n",
       "<style scoped>\n",
       "    .dataframe tbody tr th:only-of-type {\n",
       "        vertical-align: middle;\n",
       "    }\n",
       "\n",
       "    .dataframe tbody tr th {\n",
       "        vertical-align: top;\n",
       "    }\n",
       "\n",
       "    .dataframe thead th {\n",
       "        text-align: right;\n",
       "    }\n",
       "</style>\n",
       "<table border=\"1\" class=\"dataframe\">\n",
       "  <thead>\n",
       "    <tr style=\"text-align: right;\">\n",
       "      <th></th>\n",
       "      <th>peso</th>\n",
       "      <th>fumou</th>\n",
       "    </tr>\n",
       "  </thead>\n",
       "  <tbody>\n",
       "    <tr>\n",
       "      <th>0</th>\n",
       "      <td>120</td>\n",
       "      <td>0</td>\n",
       "    </tr>\n",
       "    <tr>\n",
       "      <th>1</th>\n",
       "      <td>113</td>\n",
       "      <td>0</td>\n",
       "    </tr>\n",
       "    <tr>\n",
       "      <th>2</th>\n",
       "      <td>128</td>\n",
       "      <td>1</td>\n",
       "    </tr>\n",
       "    <tr>\n",
       "      <th>3</th>\n",
       "      <td>123</td>\n",
       "      <td>0</td>\n",
       "    </tr>\n",
       "    <tr>\n",
       "      <th>4</th>\n",
       "      <td>108</td>\n",
       "      <td>1</td>\n",
       "    </tr>\n",
       "    <tr>\n",
       "      <th>...</th>\n",
       "      <td>...</td>\n",
       "      <td>...</td>\n",
       "    </tr>\n",
       "    <tr>\n",
       "      <th>1231</th>\n",
       "      <td>113</td>\n",
       "      <td>0</td>\n",
       "    </tr>\n",
       "    <tr>\n",
       "      <th>1232</th>\n",
       "      <td>128</td>\n",
       "      <td>0</td>\n",
       "    </tr>\n",
       "    <tr>\n",
       "      <th>1233</th>\n",
       "      <td>130</td>\n",
       "      <td>1</td>\n",
       "    </tr>\n",
       "    <tr>\n",
       "      <th>1234</th>\n",
       "      <td>125</td>\n",
       "      <td>0</td>\n",
       "    </tr>\n",
       "    <tr>\n",
       "      <th>1235</th>\n",
       "      <td>117</td>\n",
       "      <td>0</td>\n",
       "    </tr>\n",
       "  </tbody>\n",
       "</table>\n",
       "<p>1236 rows × 2 columns</p>\n",
       "</div>"
      ],
      "text/plain": [
       "      peso  fumou\n",
       "0      120      0\n",
       "1      113      0\n",
       "2      128      1\n",
       "3      123      0\n",
       "4      108      1\n",
       "...    ...    ...\n",
       "1231   113      0\n",
       "1232   128      0\n",
       "1233   130      1\n",
       "1234   125      0\n",
       "1235   117      0\n",
       "\n",
       "[1236 rows x 2 columns]"
      ]
     },
     "execution_count": 6,
     "metadata": {},
     "output_type": "execute_result"
    }
   ],
   "source": [
    "import pandas as pd\n",
    "\n",
    "df = pd.read_fwf(\"https://www.stat.berkeley.edu/~statlabs/data/babiesI.data\")\n",
    "df.columns = [\"peso\", \"fumou\"]\n",
    "\n",
    "df"
   ]
  },
  {
   "cell_type": "markdown",
   "metadata": {},
   "source": [
    "Antes de seguir em frente, vamos eliminar os exemplos onde não sabemos se a mãe fumou durante a gravidez.\n",
    "\n"
   ]
  },
  {
   "cell_type": "code",
   "execution_count": 7,
   "metadata": {},
   "outputs": [
    {
     "data": {
      "text/html": [
       "<div>\n",
       "<style scoped>\n",
       "    .dataframe tbody tr th:only-of-type {\n",
       "        vertical-align: middle;\n",
       "    }\n",
       "\n",
       "    .dataframe tbody tr th {\n",
       "        vertical-align: top;\n",
       "    }\n",
       "\n",
       "    .dataframe thead th {\n",
       "        text-align: right;\n",
       "    }\n",
       "</style>\n",
       "<table border=\"1\" class=\"dataframe\">\n",
       "  <thead>\n",
       "    <tr style=\"text-align: right;\">\n",
       "      <th></th>\n",
       "      <th>peso</th>\n",
       "      <th>fumou</th>\n",
       "    </tr>\n",
       "  </thead>\n",
       "  <tbody>\n",
       "    <tr>\n",
       "      <th>0</th>\n",
       "      <td>120</td>\n",
       "      <td>0</td>\n",
       "    </tr>\n",
       "    <tr>\n",
       "      <th>1</th>\n",
       "      <td>113</td>\n",
       "      <td>0</td>\n",
       "    </tr>\n",
       "    <tr>\n",
       "      <th>2</th>\n",
       "      <td>128</td>\n",
       "      <td>1</td>\n",
       "    </tr>\n",
       "    <tr>\n",
       "      <th>3</th>\n",
       "      <td>123</td>\n",
       "      <td>0</td>\n",
       "    </tr>\n",
       "    <tr>\n",
       "      <th>4</th>\n",
       "      <td>108</td>\n",
       "      <td>1</td>\n",
       "    </tr>\n",
       "    <tr>\n",
       "      <th>...</th>\n",
       "      <td>...</td>\n",
       "      <td>...</td>\n",
       "    </tr>\n",
       "    <tr>\n",
       "      <th>1231</th>\n",
       "      <td>113</td>\n",
       "      <td>0</td>\n",
       "    </tr>\n",
       "    <tr>\n",
       "      <th>1232</th>\n",
       "      <td>128</td>\n",
       "      <td>0</td>\n",
       "    </tr>\n",
       "    <tr>\n",
       "      <th>1233</th>\n",
       "      <td>130</td>\n",
       "      <td>1</td>\n",
       "    </tr>\n",
       "    <tr>\n",
       "      <th>1234</th>\n",
       "      <td>125</td>\n",
       "      <td>0</td>\n",
       "    </tr>\n",
       "    <tr>\n",
       "      <th>1235</th>\n",
       "      <td>117</td>\n",
       "      <td>0</td>\n",
       "    </tr>\n",
       "  </tbody>\n",
       "</table>\n",
       "<p>1226 rows × 2 columns</p>\n",
       "</div>"
      ],
      "text/plain": [
       "      peso  fumou\n",
       "0      120      0\n",
       "1      113      0\n",
       "2      128      1\n",
       "3      123      0\n",
       "4      108      1\n",
       "...    ...    ...\n",
       "1231   113      0\n",
       "1232   128      0\n",
       "1233   130      1\n",
       "1234   125      0\n",
       "1235   117      0\n",
       "\n",
       "[1226 rows x 2 columns]"
      ]
     },
     "execution_count": 7,
     "metadata": {},
     "output_type": "execute_result"
    }
   ],
   "source": [
    "logic = df[\"fumou\"] != 9\n",
    "\n",
    "df = df.loc[logic]\n",
    "\n",
    "df"
   ]
  },
  {
   "cell_type": "markdown",
   "metadata": {},
   "source": [
    "Temos agora um conjunto com 1226 exemplos. Vamos fazer uma análise exploratória dos dados.\n",
    "\n"
   ]
  },
  {
   "cell_type": "code",
   "execution_count": 8,
   "metadata": {},
   "outputs": [
    {
     "name": "stdout",
     "output_type": "stream",
     "text": [
      "Existem 484 exemplos onde a mãe fumou durante a gravidez\n",
      "Existem 742 exemplos onde a mãe não fumou durante a gravidez\n"
     ]
    },
    {
     "data": {
      "image/png": "[encoded data removed]",
      "text/plain": [
       "<Figure size 640x480 with 1 Axes>"
      ]
     },
     "metadata": {},
     "output_type": "display_data"
    }
   ],
   "source": [
    "logic = df[\"fumou\"] == 1\n",
    "\n",
    "print(f\"Existem {len(df.loc[logic])} exemplos onde a mãe fumou durante a gravidez\")\n",
    "\n",
    "print(f\"Existem {len(df.loc[~logic])} exemplos onde a mãe não fumou durante a gravidez\")\n",
    "\n",
    "sns.histplot(data=df, x=\"peso\", hue=\"fumou\");"
   ]
  },
  {
   "cell_type": "markdown",
   "metadata": {},
   "source": [
    "Observamos que as distribuições de peso de bebês parecem ser diferentes, mas a sobreposição das distribuições não nos permite afirmar com certeza se são diferentes apenas pela análise visual&#x2026; afinal, esta diferença visual pode ser fruto do acaso!\n",
    "\n",
    "Com esta observação, queremos saber se fumar durante a gravidez teve influência no peso do bebê recém-nascido. Para isso, vamos formular nossa hipóteses.\n",
    "\n",
    "-   $H_0$: Não há diferença na distribuição de pesos dos bebês recém-nascidos para mães que fumaram e mães que não fumaram durante a gravidez. A diferença nas distribuições observadas é fruto do acaso.\n",
    "\n",
    "-   $H_1$: Bebês de mães que fumaram durante a gravidez nascem, em média, com um peso menor do que bebês de mães que não fumaram durante a gravidez.\n",
    "\n",
    "Qual é uma estatística de teste possível para usarmos aqui? A própria formulação da hipótese alternativa já sugere que a média dos pesos pode ser diferente. Vamos seguir com a estatística de teste que é: peso médio dos bebês de mães que fumaram durante a gravidez *menos* peso médio dos bebês de mães que não fumaram durante a gravidez.\n",
    "\n",
    "Vamos criar uma função que computa nossa estatística de teste e computá-la para o conjunto de dados.\n",
    "\n"
   ]
  },
  {
   "cell_type": "code",
   "execution_count": 9,
   "metadata": {},
   "outputs": [
    {
     "name": "stdout",
     "output_type": "stream",
     "text": [
      "O valor da estatística de teste observado foi de -8.93766567908935\n"
     ]
    }
   ],
   "source": [
    "def computa_est_teste(dados):\n",
    "    \"\"\"Computa a estatística de teste pela diferença das médias.\n",
    "\n",
    "    Args:\n",
    "      dados: DataFrame com as colunas `peso` e `fumou`.\n",
    "\n",
    "    Returns:\n",
    "      Valor float da estatística de teste.\n",
    "    \"\"\"\n",
    "\n",
    "    logic = dados[\"fumou\"] == 1\n",
    "\n",
    "    peso_medio_fumou = dados.loc[logic][\"peso\"].mean()\n",
    "    peso_medio_nao_fumou = dados.loc[~logic][\"peso\"].mean()\n",
    "\n",
    "    return peso_medio_fumou - peso_medio_nao_fumou\n",
    "\n",
    "estatistica_observada = computa_est_teste(df)\n",
    "\n",
    "print(f\"O valor da estatística de teste observado foi de {estatistica_observada}\")"
   ]
  },
  {
   "cell_type": "markdown",
   "metadata": {},
   "source": [
    "Obtivemos o valor de -8,9. Agora resta saber como este valor se compara com os valores simulados na luz da hipótese nula.\n",
    "\n",
    "Nosso desafio agora é justamente como simulamos diferentes cenários na luz da hipótese nula neste caso que temos dados pareados (mães pareadas com respectivos bebês). A estratégia que usaremos é conhecida como *estratégia da permutação aleatória*.\n",
    "\n",
    "A ideia da estratégia adotada é a seguinte: caso *não* exista diferença entre as duas distribuições sendo estudadas, então *embaralhar* os valores de uma das variáveis aleatórias não deve resultar em diferenças significativas nas médias das distribuições.\n",
    "\n",
    "Embaralhar os valores, neste caso, significa exatamente o que parece significar: vamos alterar os valores de lugar, porém não iremos alterar *os valores em si*. Uma estratégia para embaralhar valores é realizar uma amostragem de 100% dos dados.\n",
    "\n"
   ]
  },
  {
   "cell_type": "code",
   "execution_count": 10,
   "metadata": {},
   "outputs": [
    {
     "data": {
      "text/html": [
       "<div>\n",
       "<style scoped>\n",
       "    .dataframe tbody tr th:only-of-type {\n",
       "        vertical-align: middle;\n",
       "    }\n",
       "\n",
       "    .dataframe tbody tr th {\n",
       "        vertical-align: top;\n",
       "    }\n",
       "\n",
       "    .dataframe thead th {\n",
       "        text-align: right;\n",
       "    }\n",
       "</style>\n",
       "<table border=\"1\" class=\"dataframe\">\n",
       "  <thead>\n",
       "    <tr style=\"text-align: right;\">\n",
       "      <th></th>\n",
       "      <th>peso</th>\n",
       "      <th>fumou</th>\n",
       "    </tr>\n",
       "  </thead>\n",
       "  <tbody>\n",
       "    <tr>\n",
       "      <th>0</th>\n",
       "      <td>120</td>\n",
       "      <td>0</td>\n",
       "    </tr>\n",
       "    <tr>\n",
       "      <th>1</th>\n",
       "      <td>113</td>\n",
       "      <td>1</td>\n",
       "    </tr>\n",
       "    <tr>\n",
       "      <th>2</th>\n",
       "      <td>128</td>\n",
       "      <td>1</td>\n",
       "    </tr>\n",
       "    <tr>\n",
       "      <th>3</th>\n",
       "      <td>123</td>\n",
       "      <td>0</td>\n",
       "    </tr>\n",
       "    <tr>\n",
       "      <th>4</th>\n",
       "      <td>108</td>\n",
       "      <td>0</td>\n",
       "    </tr>\n",
       "    <tr>\n",
       "      <th>...</th>\n",
       "      <td>...</td>\n",
       "      <td>...</td>\n",
       "    </tr>\n",
       "    <tr>\n",
       "      <th>1231</th>\n",
       "      <td>113</td>\n",
       "      <td>1</td>\n",
       "    </tr>\n",
       "    <tr>\n",
       "      <th>1232</th>\n",
       "      <td>128</td>\n",
       "      <td>1</td>\n",
       "    </tr>\n",
       "    <tr>\n",
       "      <th>1233</th>\n",
       "      <td>130</td>\n",
       "      <td>0</td>\n",
       "    </tr>\n",
       "    <tr>\n",
       "      <th>1234</th>\n",
       "      <td>125</td>\n",
       "      <td>1</td>\n",
       "    </tr>\n",
       "    <tr>\n",
       "      <th>1235</th>\n",
       "      <td>117</td>\n",
       "      <td>1</td>\n",
       "    </tr>\n",
       "  </tbody>\n",
       "</table>\n",
       "<p>1226 rows × 2 columns</p>\n",
       "</div>"
      ],
      "text/plain": [
       "      peso  fumou\n",
       "0      120      0\n",
       "1      113      1\n",
       "2      128      1\n",
       "3      123      0\n",
       "4      108      0\n",
       "...    ...    ...\n",
       "1231   113      1\n",
       "1232   128      1\n",
       "1233   130      0\n",
       "1234   125      1\n",
       "1235   117      1\n",
       "\n",
       "[1226 rows x 2 columns]"
      ]
     },
     "execution_count": 10,
     "metadata": {},
     "output_type": "execute_result"
    }
   ],
   "source": [
    "df_copia = df.copy()\n",
    "\n",
    "df_copia[\"fumou\"] = df[\"fumou\"].sample(frac=1).values\n",
    "\n",
    "df_copia"
   ]
  },
  {
   "cell_type": "markdown",
   "metadata": {},
   "source": [
    "Vamos checar a estatística de teste para nosso novo conjunto de dados após a permutação aleatória.\n",
    "\n"
   ]
  },
  {
   "cell_type": "code",
   "execution_count": 11,
   "metadata": {},
   "outputs": [
    {
     "name": "stdout",
     "output_type": "stream",
     "text": [
      "-0.29727562317613376\n"
     ]
    }
   ],
   "source": [
    "print(computa_est_teste(df_copia))"
   ]
  },
  {
   "cell_type": "markdown",
   "metadata": {},
   "source": [
    "Nesta simulação, obtivemos um valor diferente da estatística de teste observada. O próximo passo agora é realizar um experimento simulando diversas permutações aleatórias.\n",
    "\n"
   ]
  },
  {
   "cell_type": "code",
   "execution_count": 12,
   "metadata": {},
   "outputs": [],
   "source": [
    "def simulacao(df):\n",
    "    \"\"\"Realiza permutação aleatória e computa a estatística de teste.\"\"\"\n",
    "\n",
    "    df_copia = df.copy()\n",
    "    df_copia[\"fumou\"] = df[\"fumou\"].sample(frac=1).values\n",
    "    estatistica_teste = computa_est_teste(df_copia)\n",
    "\n",
    "    return estatistica_teste\n",
    "\n",
    "\n",
    "def experimento(n, df):\n",
    "    resultado = []\n",
    "    for _ in range(n):\n",
    "        estatistica_teste = simulacao(df)\n",
    "        resultado.append(estatistica_teste)\n",
    "    return resultado\n",
    "\n",
    "\n",
    "NUM_REPETICOES = 10000\n",
    "\n",
    "resultado = experimento(NUM_REPETICOES, df)"
   ]
  },
  {
   "cell_type": "markdown",
   "metadata": {},
   "source": [
    "Vamos observar a distribuição do nosso experimento.\n",
    "\n"
   ]
  },
  {
   "cell_type": "code",
   "execution_count": 13,
   "metadata": {},
   "outputs": [
    {
     "data": {
      "image/png": "[encoded data removed]",
      "text/plain": [
       "<Figure size 640x480 with 1 Axes>"
      ]
     },
     "metadata": {},
     "output_type": "display_data"
    }
   ],
   "source": [
    "eixo = sns.histplot(resultado, stat=\"percent\", bins=10, label=\"Distribuição\")\n",
    "eixo.axvline(estatistica_observada, label=\"Estatística observada\", color=\"red\")\n",
    "eixo.set_xlabel(\"Estatística de teste\")\n",
    "eixo.set_ylabel(\"Porcentagem (%)\")\n",
    "eixo.legend();"
   ]
  },
  {
   "cell_type": "markdown",
   "metadata": {},
   "source": [
    "E, finalmente, vamos computar o p-valor.\n",
    "\n"
   ]
  },
  {
   "cell_type": "code",
   "execution_count": 14,
   "metadata": {},
   "outputs": [
    {
     "name": "stdout",
     "output_type": "stream",
     "text": [
      "O p-valor observado foi de 0.00000\n",
      "\n",
      "Com esta observação, devemos rejeitar H0\n"
     ]
    }
   ],
   "source": [
    "array = np.array(resultado)\n",
    "logic = array <= estatistica_observada\n",
    "\n",
    "pvalor = sum(logic) / len(array)\n",
    "\n",
    "print(f\"O p-valor observado foi de {pvalor:.5f}\")\n",
    "\n",
    "print()\n",
    "\n",
    "if pvalor < significancia:\n",
    "    print(\"Com esta observação, devemos rejeitar H0\")\n",
    "else:\n",
    "    print(\"Com esta observação, não devemos rejeitar H0\")"
   ]
  },
  {
   "cell_type": "markdown",
   "metadata": {},
   "source": [
    "Nosso p-valor foi zero, rejeitamos $H_0$. Observamos que existe sim uma relação entre fumar durante a gravidez e isso resultar em um peso menor do recém-nascido. Observe que mesmo que o $H_0$ simulado tenha sido zero, isso não significa que a probabilidade de que o resultado observado tenha sido fruto do acaso seja zero.\n",
    "\n"
   ]
  },
  {
   "cell_type": "markdown",
   "metadata": {},
   "source": [
    "## Confiança e poder\n",
    "\n"
   ]
  },
  {
   "cell_type": "markdown",
   "metadata": {},
   "source": [
    "Logo no início de um teste de hipóteses nós precisamos definir qual será a confiança da análise (discutimos isso no notebook anterior). Uma confiança de 95% nos diz que existe uma chance de 5% de cometermos o erro do tipo I, isto é, existe uma chance de 5% de rejeitarmos a hipótese nula quando na verdade não deveríamos rejeitar a hipótese nula (também conhecido como falso positivo). Neste caso, 5% é a chance de cometermos o erro do tipo I (representamos essa chance usando a letra grega $\\alpha$).\n",
    "\n",
    "$$\n",
    "\\alpha = P(\\textrm{Rejeitar } H_0 | H_0 \\textrm{ é verdadeiro})\n",
    "$$\n",
    "\n",
    "Em testes clínicos de novos fármacos, é usual escolher uma confiança de 99%. Afinal, queremos reduzir a chance de rejeitar a hipótese nula (o medicamento não faz nada) quando na verdade ela é verdadeira. Em outras palavras, não queremos dar um remédio que não tem efeito benéfico para as pessoas.\n",
    "\n",
    "Quanto maior a confiança da análise, mais damos um &ldquo;peso&rdquo; à hipótese nula. Isso significa que só rejeitaremos a hipótese nula caso as evidências estejam *bastante* indicativas de que esta é a melhor estratégia.\n",
    "\n",
    "Um exemplo interessante é o do experimento realizado no CERN para descobrir o bóson de Higgs. A hipótese nula deste experimento era o modelo padrão considerando que o bóson *não existe*. Na luz da hipótese nula, o modelo padrão nos diz como a realidade deveria ocorrer. Se o bóson *existe*, os dados observados irão se desviar do modelo padrão e promover evidências no sentido de rejeitar a hipótese nula (evidências estas que são pontos acima do baseline do modelo, dado que o bóson de Higgs deveria gerar um sinal nos detectores do CERN). Neste experimento, a confiança que os cientistas do CERN utilizaram foi de 99,99997%, que é o que chamamos de 5 sigmas de confiança. A chance dos cientistas terem cometido um erro do tipo I (isto é, de terem observado um desvio do modelo padrão por puro acaso e não pela existência do bóson de Higgs) foi de 0,00003%\n",
    "\n",
    "Além da confiança do teste, existe também o *poder* do teste. Um teste com poder de 80% nos diz que existe uma chance de 20% de cometermos o erro do tipo II, isto é, existe uma chance de 20% de não rejeitarmos a hipótese nula quando na verdade deveríamos rejeitar a hipótese nula (também conhecido como falso negativo). Neste caso, 20% é a chance de cometermos o erro do tipo II (representamos essa chance usando a letra grega $\\beta$). Vale a pena ver a referência [4].\n",
    "\n",
    "$$\n",
    "\\beta = P(\\textrm{Não rejeitar } H_0 | H_0 \\textrm{ é falso})\n",
    "$$\n",
    "\n",
    "O cálculo do poder de um teste estatístico não está no escopo desta disciplina. No entanto, é bom saber que este cálculo depende do\n",
    "\n",
    "-   **Tamanho das amostras**: basicamente, quanto mais dados coletados maior o poder do teste;\n",
    "\n",
    "-   **Significância estatística**: quanto maior for o valor de $\\alpha$, maior será o poder do teste;\n",
    "\n",
    "-   **Efeito de tamanho**: quanto maior for as diferenças entre os valores das estatísticas de teste computadas, maior será o poder do teste. Ver referência [5].\n",
    "\n",
    "Não é trivial encontrar um bom balanço entre $\\alpha$ e $\\beta$.\n",
    "\n",
    "A tabela abaixo mostra de maneira clara as probabilidades em cada situação.\n",
    "\n",
    "| |$H_0$ é verdadeira|$H_0$ é falsa|\n",
    "|---|---|---|\n",
    "| Teste rejeitou $H_0$|$\\alpha$|$1 - \\beta$|\n",
    "| Teste não rejeitou $H_0$|$1 - \\alpha$|$\\beta$|\n",
    "\n"
   ]
  },
  {
   "cell_type": "markdown",
   "metadata": {},
   "source": [
    "## Os hackers do p-valor\n",
    "\n"
   ]
  },
  {
   "cell_type": "markdown",
   "metadata": {},
   "source": [
    "Digamos que você realize um teste clínico com confiança de 99% ($\\alpha$ = 1%). Se você realizar 100 testes clínicos dentro deste paradigma, é esperado que 1 destes testes resulte em um falso positivo por pura ação do acaso.\n",
    "\n",
    "Por conta disso, é interessante reproduzir um resultado onde rejeitamos $H_0$ antes de publicar ou de inserir um novo produto/fármaco no mercado. Se mesmo reproduzindo você rejeitou $H_0$, então muito provavelmente tudo está certo!\n",
    "\n",
    "Pela própria natureza de como as pesquisas são feitas, muitas vezes não temos recursos para reproduzir um resultado. Neste caso, devemos comunicar todos os passos que realizamos para que qualquer um interessado possa tentar reproduzir nosso resultado.\n",
    "\n",
    "Outra informação que é interessante termos em mente é que resultados negativos (isto é, testes que falharam em rejeitar $H_0$) costumam *não ser publicados* por falta de interesse das editoras científicas de reportar um resultado deste tipo. Logo, quando vamos na literatura em busca de informações, usualmente vemos apenas os resultados publicados que foram capazes de rejeitar $H_0$. Por pura ação do acaso, alguns destes resultados são falsos positivos.\n",
    "\n",
    "Finalmente, existe o que chamamos de *p-hacking*. Imagine um teste clínico de novos fármacos para uma certa doença. Testamos 100 fármacos novos para esta doença usando um teste com confiança de 99%. Você já sabe que por puro acaso, é perfeitamente possível que um destes medicamentos será considerado bom para curar a doença. Este fármaco que &ldquo;deu certo&rdquo; por puro acaso é então publicado sem a menção aos outros 99 que falharam em rejeitar $H_0$. Este é o princípio básico do p-hacking: fazer *de tudo* para que os dados suportem uma hipótese alternativa *sem* realizar um experimento de reprodutibilidade. Vale bastante a pena assistir ao vídeo da referência [3].\n",
    "\n"
   ]
  },
  {
   "cell_type": "markdown",
   "metadata": {},
   "source": [
    "## XKCD relevante\n",
    "\n"
   ]
  },
  {
   "cell_type": "markdown",
   "metadata": {},
   "source": [
    "![img](https://imgs.xkcd.com/comics/significant.png)\n",
    "\n",
    "`Imagem: Significant (XKCD) disponível em https://xkcd.com/882`\n",
    "\n"
   ]
  },
  {
   "cell_type": "markdown",
   "metadata": {},
   "source": [
    "## Referências\n",
    "\n"
   ]
  },
  {
   "cell_type": "markdown",
   "metadata": {},
   "source": [
    "1.  ADHIKARI, Ani; DENERO, John; WAGNER, David. Computational and Inferential Thinking: The Foundations of Data Science. Disponível em: [https://inferentialthinking.com/chapters/intro.html](https://inferentialthinking.com/chapters/intro.html). Acesso em: 02 out. 2023.\n",
    "\n",
    "2.  DEVORE, Jay L. Probabilidade E Estatística Para Engenharia E Ciências. Tradução Da 9ª Edição Norte-Americana. Cengage Learning, 2018.\n",
    "\n",
    "3.  StatQuest sobre p-hacking [https://www.youtube.com/watch?v=HDCOUXE3HMM](https://www.youtube.com/watch?v=HDCOUXE3HMM)\n",
    "\n",
    "4.  StatQuest sobre poder de testes estatísticos (introdução) [https://www.youtube.com/watch?v=Rsc5znwR5FA](https://www.youtube.com/watch?v=Rsc5znwR5FA)\n",
    "\n",
    "5.  StatQuest sobre análise de poder de testes estatísticos [https://www.youtube.com/watch?v=VX_M3tIyiYk](https://www.youtube.com/watch?v=VX_M3tIyiYk)\n",
    "\n",
    "6.  Conjunto de dados de mães fumantes [https://www.stat.berkeley.edu/~statlabs/labs.html](https://www.stat.berkeley.edu/~statlabs/labs.html)\n",
    "\n"
   ]
  }
 ],
 "metadata": {
  "kernelspec": {
   "display_name": "ilumpy",
   "language": "python",
   "name": "ilumpy"
  },
  "language_info": {
   "codemirror_mode": {
    "name": "ipython",
    "version": 3
   },
   "file_extension": ".py",
   "mimetype": "text/x-python",
   "name": "python",
   "nbconvert_exporter": "python",
   "pygments_lexer": "ipython3",
   "version": "3.10.6"
  },
  "org": null
 },
 "nbformat": 4,
 "nbformat_minor": 4
}
