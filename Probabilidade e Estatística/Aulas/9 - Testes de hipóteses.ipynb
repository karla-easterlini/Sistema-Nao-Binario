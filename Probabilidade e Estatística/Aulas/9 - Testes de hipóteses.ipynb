{
 "cells": [
  {
   "cell_type": "markdown",
   "metadata": {},
   "source": [
    "Testes de hipóteses --- uma introdução com simulação\n",
    "====================================================\n",
    "\n"
   ]
  },
  {
   "cell_type": "markdown",
   "metadata": {},
   "source": [
    "Este notebook é praticamente inteiro baseado no material do curso *Computational and Inferential Thinking: The Foundations of Data Science* criado pelos professores Ani Adhikari, John DeNero e David Wagner da Universidade da Califórnia em Berkeley. O curso está disponível gratuitamente na internet e é altamente recomendado para quem tem vontade de aprofundar seus conhecimentos de estatística (ver referência [1]). Este curso trás uma visão mais intuitiva e mais computacional do que são testes de hipóteses do que o tradicionalmente abordado em livros-texto de estatística (e este foi o motivo de ter sido escolhido para esta disciplina).\n",
    "\n"
   ]
  },
  {
   "cell_type": "markdown",
   "metadata": {},
   "source": [
    "## Introdução\n",
    "\n"
   ]
  },
  {
   "cell_type": "markdown",
   "metadata": {},
   "source": [
    "Testes estatísticos são realizados para escolhermos entre duas possíveis explicações sobre como o mundo funciona. Chamamos estas &ldquo;visões sobre o mundo&rdquo; de *hipóteses*.\n",
    "\n",
    "Uma das hipóteses que temos é a *hipótese nula*. Esta hipótese nos diz que os dados observados foram gerados de forma aleatória seguindo as suposições do nosso modelo. A ideia da hipótese nula é que mesmo que a realidade não seja *estritamente igual* à previsão do modelo que supomos, a diferença observada é apenas fruto do acaso. Na prática, <u>a hipótese nula é a hipótese que conseguimos simular computacionalmente</u>.\n",
    "\n",
    "A outra hipótese é a *hipótese alternativa*. Esta hipótese nos diz que existe alguma razão (que não podemos atribuir ao acaso) que fez com que os dados observados *não* seguissem as suposições do nosso modelo. <u>A hipótese alternativa não nos conta *como* ou *porque* o modelo não condiz com a realidade</u>, ela apenas nos diz que o modelo suposto não condiz com a realidade.\n",
    "\n",
    "Iremos testar hipóteses neste notebook. É muito importante definirmos o nosso *nível de confiança* antes de iniciar o nosso processo. De forma simples, o nível de confiança, como o próprio nome sugere, está relacionado com a segurança que queremos ter na conclusão do nosso teste. Este será um termo melhor definido ao longo do notebook, mas por enquanto escolha um valor de nível de confiança dentro do intervalo $]0, 1[$.\n",
    "\n"
   ]
  },
  {
   "cell_type": "code",
   "execution_count": 1,
   "metadata": {},
   "outputs": [],
   "source": [
    "nivel_confianca = 0.95"
   ]
  },
  {
   "cell_type": "markdown",
   "metadata": {},
   "source": [
    "## Mendel no país dos testes de hipóteses\n",
    "\n"
   ]
  },
  {
   "cell_type": "markdown",
   "metadata": {},
   "source": [
    "Gregor Mendel (1822-1884) foi um monge austríaco e é hoje conhecido como um dos pais do campo da genética. Diversos experimentos de Mendel foram realizados observando plantas de ervilhas. O processo científico de Mendel se deu através da formulação de modelos e hipóteses sobre o comportamento genético das plantas que estudava, seguido da parte experimental de efetivamente plantar as suas plantas de estudo e observar suas características.\n",
    "\n",
    "Para uma espécie particular de ervilhas, Mendel propôs o seguinte modelo: para cada planta de ervilha, existe uma chance de 75% que a flor dela terá a cor roxa e uma chance de 25% de que a flor dela terá a cor branca. Esta chance independe da cor das demais plantas de ervilha.\n",
    "\n",
    "Para testar seu modelo, Mendel plantou 929 plantas da variedade de ervilha em questão e observou que 705 delas apresentaram flores roxas e o restante apresentou flores brancas.\n",
    "\n"
   ]
  },
  {
   "cell_type": "code",
   "execution_count": 2,
   "metadata": {},
   "outputs": [
    {
     "name": "stdout",
     "output_type": "stream",
     "text": [
      "Porcentagem de roxas observada: 75.9%\n",
      "Porcentagem de brancas observada: 24.1%\n"
     ]
    }
   ],
   "source": [
    "porcentagem_roxas_obs = 100 * (705 / 929)\n",
    "porcentagem_brancas_obs = 100 * ((929 - 705) / 929)\n",
    "\n",
    "print(f\"Porcentagem de roxas observada: {porcentagem_roxas_obs:.1f}%\")\n",
    "print(f\"Porcentagem de brancas observada: {porcentagem_brancas_obs:.1f}%\")"
   ]
  },
  {
   "cell_type": "markdown",
   "metadata": {},
   "source": [
    "Vamos usar estes dados para testar o modelo de Mendel. Para isso, vamos definir as hipóteses:\n",
    "\n",
    "-   $H_0$ (hipótese nula): As plantas de ervilha seguem o modelo de Mendel (75% com flor roxa e 25% com flor branca).\n",
    "\n",
    "-   $H_1$ (hipótese alternativa): As plantas de ervilha *não* seguem o modelo de Mendel.\n",
    "\n",
    "Observe que as duas hipóteses são complementares e que a hipótese $H_0$ pode ser simulada computacionalmente.\n",
    "\n",
    "O primeiro passo para realizar o teste de hipótese é escolher uma *estatística de teste*. Esta estatística será utilizada para chegarmos na nossa conclusão. Uma estatística possível neste caso é computar o quão diferente são as probabilidades observadas e preditas. Como temos apenas duas probabilidades, é bastante fácil de visualizar:\n",
    "\n",
    "$$\n",
    "\\left| 0,75 - 0,759 \\right| = 0,09 = | 0,25 - 0,241 |.\n",
    "$$\n",
    "\n",
    "Observe também que\n",
    "\n",
    "$$\n",
    "\\frac{1}{2} \\left( |0,75 - 0,759 | + | 0,25 - 0,241 | \\right) = 0,09.\n",
    "$$\n",
    "\n",
    "**Definição**: a metade da soma das distâncias entre duas distribuições é chamada de *distância de variação total* (total variance distance em inglês, ou simplesmente TVD). Lembre-se que distâncias são sempre números maiores ou iguais a zero!\n",
    "\n",
    "O TVD é uma estatística de teste bastante razoável para compararmos distribuições. Vamos implementá-la em Python.\n",
    "\n"
   ]
  },
  {
   "cell_type": "code",
   "execution_count": 3,
   "metadata": {},
   "outputs": [],
   "source": [
    "import numpy as np\n",
    "\n",
    "\n",
    "def computa_dist_var_total(distribuicao1, distribuicao2):\n",
    "    distancia = abs(np.array(distribuicao1) - np.array(distribuicao2))\n",
    "    distancia_var_total = sum(distancia) / 2\n",
    "    return distancia_var_total"
   ]
  },
  {
   "cell_type": "markdown",
   "metadata": {},
   "source": [
    "Agora, vamos computar qual é o *valor da estatística de teste observada*.\n",
    "\n"
   ]
  },
  {
   "cell_type": "code",
   "execution_count": 4,
   "metadata": {},
   "outputs": [
    {
     "name": "stdout",
     "output_type": "stream",
     "text": [
      "O valor da estatística de teste observado foi de 0.009000000000000008\n"
     ]
    }
   ],
   "source": [
    "distribuicao_modelo = [0.75, 0.25]\n",
    "distribuicao_observada = [0.759, 0.241]\n",
    "\n",
    "estatistica_observada = computa_dist_var_total(\n",
    "    distribuicao_modelo, distribuicao_observada\n",
    ")\n",
    "\n",
    "print(f\"O valor da estatística de teste observado foi de {estatistica_observada}\")"
   ]
  },
  {
   "cell_type": "markdown",
   "metadata": {},
   "source": [
    "E agora? Como sabemos se este valor é alto ou baixo? Como sabemos se este valor rejeita $H_0$ ou não rejeita $H_0$? Para seguir em frente, precisamos entender a distribuição de valores da nossa estatística de teste. Uma forma de obter esta distribuição é através de simulação.\n",
    "\n",
    "O primeiro passo para nossa simulação é ter uma função que gere uma população a partir de uma pmf (pmf é a função massa de probabilidade, releia o notebook sobre distribuições discretas caso tenha dúvidas). O módulo `random` pode fazer isso para nós.\n",
    "\n"
   ]
  },
  {
   "cell_type": "code",
   "execution_count": 5,
   "metadata": {},
   "outputs": [
    {
     "name": "stdout",
     "output_type": "stream",
     "text": [
      "Fração de roxas 0.7427341227125942\n",
      "Fração de brancas 0.2572658772874058\n",
      "\n",
      "['branca', 'branca', 'roxa', 'roxa', 'branca', 'roxa', 'roxa', 'roxa', 'roxa', 'branca', 'roxa', 'roxa', 'roxa', 'roxa', 'roxa', 'roxa', 'roxa', 'roxa', 'roxa', 'roxa', 'roxa', 'roxa', 'branca', 'roxa', 'roxa', 'roxa', 'roxa', 'branca', 'branca', 'roxa', 'roxa', 'roxa', 'roxa', 'roxa', 'roxa', 'roxa', 'roxa', 'roxa', 'roxa', 'roxa', 'roxa', 'roxa', 'roxa', 'roxa', 'roxa', 'roxa', 'branca', 'branca', 'roxa', 'roxa', 'branca', 'roxa', 'branca', 'branca', 'roxa', 'roxa', 'roxa', 'roxa', 'roxa', 'roxa', 'branca', 'roxa', 'roxa', 'roxa', 'roxa', 'roxa', 'branca', 'roxa', 'roxa', 'branca', 'branca', 'roxa', 'branca', 'roxa', 'roxa', 'roxa', 'branca', 'roxa', 'roxa', 'roxa', 'roxa', 'roxa', 'roxa', 'roxa', 'roxa', 'roxa', 'branca', 'roxa', 'roxa', 'roxa', 'branca', 'roxa', 'roxa', 'branca', 'roxa', 'roxa', 'branca', 'roxa', 'roxa', 'branca', 'branca', 'roxa', 'roxa', 'roxa', 'branca', 'branca', 'roxa', 'roxa', 'branca', 'roxa', 'roxa', 'roxa', 'roxa', 'branca', 'roxa', 'roxa', 'branca', 'roxa', 'branca', 'branca', 'roxa', 'roxa', 'roxa', 'roxa', 'branca', 'roxa', 'branca', 'roxa', 'roxa', 'roxa', 'roxa', 'roxa', 'roxa', 'roxa', 'roxa', 'roxa', 'branca', 'roxa', 'roxa', 'branca', 'roxa', 'branca', 'roxa', 'roxa', 'roxa', 'branca', 'roxa', 'roxa', 'roxa', 'branca', 'roxa', 'branca', 'branca', 'branca', 'roxa', 'roxa', 'roxa', 'roxa', 'roxa', 'branca', 'roxa', 'branca', 'roxa', 'roxa', 'roxa', 'roxa', 'roxa', 'roxa', 'roxa', 'roxa', 'branca', 'roxa', 'roxa', 'roxa', 'roxa', 'branca', 'branca', 'roxa', 'branca', 'roxa', 'roxa', 'roxa', 'branca', 'roxa', 'roxa', 'roxa', 'roxa', 'roxa', 'roxa', 'branca', 'branca', 'roxa', 'roxa', 'roxa', 'roxa', 'roxa', 'roxa', 'roxa', 'roxa', 'roxa', 'roxa', 'roxa', 'roxa', 'roxa', 'roxa', 'roxa', 'roxa', 'roxa', 'roxa', 'roxa', 'branca', 'roxa', 'roxa', 'roxa', 'roxa', 'branca', 'branca', 'roxa', 'roxa', 'roxa', 'roxa', 'branca', 'roxa', 'branca', 'roxa', 'roxa', 'roxa', 'roxa', 'roxa', 'roxa', 'roxa', 'roxa', 'roxa', 'roxa', 'roxa', 'roxa', 'branca', 'roxa', 'roxa', 'roxa', 'roxa', 'roxa', 'roxa', 'roxa', 'branca', 'roxa', 'roxa', 'roxa', 'roxa', 'roxa', 'branca', 'roxa', 'roxa', 'roxa', 'branca', 'roxa', 'roxa', 'roxa', 'branca', 'roxa', 'roxa', 'roxa', 'roxa', 'roxa', 'roxa', 'roxa', 'roxa', 'branca', 'branca', 'roxa', 'roxa', 'roxa', 'roxa', 'branca', 'roxa', 'roxa', 'roxa', 'roxa', 'branca', 'branca', 'roxa', 'branca', 'roxa', 'branca', 'roxa', 'roxa', 'branca', 'roxa', 'roxa', 'roxa', 'roxa', 'roxa', 'roxa', 'roxa', 'roxa', 'roxa', 'roxa', 'roxa', 'roxa', 'roxa', 'roxa', 'roxa', 'roxa', 'roxa', 'branca', 'roxa', 'branca', 'branca', 'roxa', 'roxa', 'roxa', 'roxa', 'roxa', 'roxa', 'roxa', 'roxa', 'roxa', 'roxa', 'roxa', 'roxa', 'roxa', 'roxa', 'roxa', 'branca', 'roxa', 'roxa', 'roxa', 'roxa', 'branca', 'roxa', 'roxa', 'branca', 'roxa', 'roxa', 'roxa', 'roxa', 'branca', 'branca', 'branca', 'roxa', 'branca', 'roxa', 'roxa', 'branca', 'branca', 'branca', 'branca', 'roxa', 'roxa', 'roxa', 'roxa', 'roxa', 'roxa', 'roxa', 'branca', 'roxa', 'roxa', 'roxa', 'roxa', 'roxa', 'branca', 'roxa', 'roxa', 'roxa', 'branca', 'branca', 'roxa', 'roxa', 'roxa', 'roxa', 'branca', 'roxa', 'roxa', 'roxa', 'branca', 'roxa', 'branca', 'roxa', 'branca', 'roxa', 'roxa', 'branca', 'roxa', 'roxa', 'roxa', 'roxa', 'roxa', 'roxa', 'roxa', 'roxa', 'roxa', 'roxa', 'branca', 'roxa', 'roxa', 'branca', 'roxa', 'roxa', 'roxa', 'branca', 'roxa', 'roxa', 'roxa', 'roxa', 'roxa', 'branca', 'roxa', 'roxa', 'branca', 'roxa', 'roxa', 'roxa', 'roxa', 'branca', 'roxa', 'roxa', 'branca', 'roxa', 'roxa', 'roxa', 'roxa', 'roxa', 'branca', 'roxa', 'roxa', 'roxa', 'roxa', 'roxa', 'branca', 'roxa', 'roxa', 'roxa', 'branca', 'branca', 'roxa', 'roxa', 'roxa', 'roxa', 'branca', 'roxa', 'roxa', 'branca', 'branca', 'roxa', 'roxa', 'branca', 'roxa', 'roxa', 'roxa', 'branca', 'branca', 'roxa', 'roxa', 'roxa', 'branca', 'roxa', 'branca', 'roxa', 'roxa', 'branca', 'roxa', 'branca', 'branca', 'branca', 'branca', 'roxa', 'roxa', 'roxa', 'roxa', 'branca', 'roxa', 'roxa', 'roxa', 'branca', 'branca', 'roxa', 'roxa', 'roxa', 'roxa', 'roxa', 'roxa', 'roxa', 'roxa', 'roxa', 'roxa', 'branca', 'roxa', 'roxa', 'branca', 'roxa', 'branca', 'branca', 'branca', 'roxa', 'branca', 'roxa', 'branca', 'branca', 'roxa', 'roxa', 'roxa', 'roxa', 'roxa', 'roxa', 'roxa', 'branca', 'roxa', 'roxa', 'branca', 'roxa', 'roxa', 'roxa', 'roxa', 'roxa', 'roxa', 'roxa', 'branca', 'branca', 'roxa', 'roxa', 'roxa', 'branca', 'roxa', 'roxa', 'branca', 'roxa', 'roxa', 'roxa', 'roxa', 'roxa', 'roxa', 'branca', 'roxa', 'roxa', 'branca', 'roxa', 'roxa', 'roxa', 'roxa', 'branca', 'roxa', 'roxa', 'roxa', 'roxa', 'roxa', 'roxa', 'roxa', 'roxa', 'roxa', 'roxa', 'branca', 'roxa', 'roxa', 'branca', 'branca', 'roxa', 'roxa', 'roxa', 'roxa', 'branca', 'roxa', 'roxa', 'branca', 'roxa', 'roxa', 'roxa', 'roxa', 'roxa', 'roxa', 'roxa', 'roxa', 'branca', 'roxa', 'branca', 'roxa', 'roxa', 'roxa', 'roxa', 'roxa', 'roxa', 'roxa', 'branca', 'roxa', 'roxa', 'branca', 'roxa', 'roxa', 'roxa', 'branca', 'roxa', 'roxa', 'roxa', 'roxa', 'roxa', 'roxa', 'roxa', 'roxa', 'roxa', 'branca', 'roxa', 'roxa', 'roxa', 'roxa', 'branca', 'roxa', 'roxa', 'roxa', 'roxa', 'roxa', 'roxa', 'roxa', 'roxa', 'branca', 'roxa', 'roxa', 'branca', 'branca', 'branca', 'branca', 'roxa', 'branca', 'roxa', 'branca', 'branca', 'roxa', 'roxa', 'roxa', 'roxa', 'roxa', 'roxa', 'roxa', 'branca', 'roxa', 'branca', 'roxa', 'roxa', 'branca', 'roxa', 'roxa', 'branca', 'roxa', 'roxa', 'roxa', 'roxa', 'branca', 'roxa', 'branca', 'roxa', 'roxa', 'branca', 'roxa', 'roxa', 'branca', 'roxa', 'roxa', 'roxa', 'branca', 'roxa', 'roxa', 'branca', 'roxa', 'roxa', 'roxa', 'roxa', 'roxa', 'branca', 'roxa', 'roxa', 'branca', 'roxa', 'branca', 'roxa', 'branca', 'roxa', 'roxa', 'roxa', 'roxa', 'roxa', 'roxa', 'roxa', 'roxa', 'roxa', 'roxa', 'roxa', 'roxa', 'roxa', 'branca', 'branca', 'roxa', 'roxa', 'branca', 'branca', 'roxa', 'branca', 'branca', 'roxa', 'roxa', 'roxa', 'roxa', 'roxa', 'roxa', 'roxa', 'roxa', 'branca', 'roxa', 'roxa', 'roxa', 'roxa', 'roxa', 'roxa', 'roxa', 'roxa', 'branca', 'branca', 'roxa', 'roxa', 'branca', 'branca', 'branca', 'roxa', 'roxa', 'roxa', 'branca', 'roxa', 'roxa', 'roxa', 'roxa', 'branca', 'roxa', 'roxa', 'branca', 'roxa', 'branca', 'roxa', 'roxa', 'roxa', 'roxa', 'roxa', 'branca', 'roxa', 'roxa', 'roxa', 'branca', 'roxa', 'roxa', 'roxa', 'roxa', 'roxa', 'roxa', 'branca', 'roxa', 'branca', 'roxa', 'roxa', 'roxa', 'branca', 'roxa', 'roxa', 'roxa', 'branca', 'roxa', 'roxa', 'roxa', 'roxa', 'roxa', 'roxa', 'roxa', 'roxa', 'roxa', 'branca', 'roxa', 'branca', 'roxa', 'roxa', 'roxa', 'roxa', 'branca', 'roxa', 'roxa', 'roxa', 'branca', 'branca', 'branca', 'roxa', 'branca', 'roxa', 'roxa', 'roxa', 'branca', 'roxa', 'roxa', 'roxa', 'roxa', 'roxa', 'roxa', 'roxa', 'branca', 'roxa', 'branca', 'roxa', 'roxa', 'roxa', 'roxa', 'roxa', 'roxa', 'roxa', 'branca', 'branca', 'roxa', 'roxa', 'roxa', 'roxa', 'roxa', 'roxa', 'roxa', 'roxa', 'roxa', 'branca', 'branca', 'roxa', 'roxa', 'branca', 'branca', 'roxa', 'branca', 'roxa', 'roxa', 'branca', 'roxa', 'roxa', 'roxa', 'roxa', 'branca', 'roxa', 'roxa', 'branca', 'roxa', 'roxa', 'roxa', 'branca', 'roxa', 'branca', 'branca', 'roxa', 'roxa', 'branca', 'branca', 'roxa', 'roxa', 'roxa', 'roxa', 'branca', 'roxa', 'branca', 'roxa', 'roxa', 'roxa', 'roxa', 'roxa', 'branca', 'roxa', 'branca', 'roxa', 'branca', 'roxa', 'branca', 'roxa', 'roxa', 'branca', 'roxa', 'branca', 'roxa', 'roxa', 'branca', 'roxa', 'roxa', 'roxa', 'branca', 'roxa', 'roxa', 'roxa', 'roxa', 'branca', 'roxa', 'branca', 'branca', 'roxa', 'roxa', 'roxa', 'branca', 'branca', 'roxa', 'branca', 'roxa', 'roxa', 'roxa', 'branca', 'roxa', 'roxa', 'roxa', 'branca', 'roxa', 'roxa', 'roxa', 'roxa', 'branca', 'roxa', 'roxa', 'roxa', 'roxa', 'roxa', 'branca', 'branca', 'roxa', 'branca', 'roxa', 'branca', 'roxa', 'roxa', 'roxa', 'roxa', 'roxa', 'roxa', 'roxa', 'roxa', 'roxa', 'roxa', 'roxa', 'roxa']\n"
     ]
    }
   ],
   "source": [
    "import random\n",
    "\n",
    "N = 929  # número de plantas de ervilha de Mendel\n",
    "\n",
    "rotulos = [\"roxa\", \"branca\"]\n",
    "distribuicao = [0.75, 0.25]\n",
    "\n",
    "populacao = random.choices(rotulos, weights=distribuicao, k=N)\n",
    "\n",
    "print(f\"Fração de roxas {populacao.count('roxa') / N}\")\n",
    "print(f\"Fração de brancas {populacao.count('branca') / N}\")\n",
    "print()\n",
    "print(populacao)"
   ]
  },
  {
   "cell_type": "markdown",
   "metadata": {},
   "source": [
    "Agora vamos programar nossa simulação.\n",
    "\n"
   ]
  },
  {
   "cell_type": "code",
   "execution_count": 6,
   "metadata": {},
   "outputs": [],
   "source": [
    "def simulacao():\n",
    "    \"\"\"Sorteia plantas de ervilha e computa a distância da variação total.\"\"\"\n",
    "\n",
    "    N = 929  # número de plantas de ervilha de Mendel\n",
    "    rotulos = [\"roxa\", \"branca\"]\n",
    "    distribuicao_modelo = [0.75, 0.25]  # modelo de Mendel\n",
    "\n",
    "    plantacao_simulada = random.choices(\n",
    "        rotulos, weights=distribuicao_modelo, k=N\n",
    "    )\n",
    "\n",
    "    distribuicao_obtida = []\n",
    "\n",
    "    for rotulo in rotulos:\n",
    "        proporcao = plantacao_simulada.count(rotulo) / N\n",
    "        distribuicao_obtida.append(proporcao)\n",
    "\n",
    "    distancia = computa_dist_var_total(\n",
    "        distribuicao_modelo, distribuicao_obtida\n",
    "    )\n",
    "\n",
    "    return distancia"
   ]
  },
  {
   "cell_type": "markdown",
   "metadata": {},
   "source": [
    "Tendo uma simulação, podemos levantar a distribuição da nossa estatística de teste através de um experimento repetindo esta simulação várias vezes.\n",
    "\n"
   ]
  },
  {
   "cell_type": "code",
   "execution_count": 7,
   "metadata": {},
   "outputs": [],
   "source": [
    "def experimento(n):\n",
    "    resultado = []\n",
    "    for _ in range(n):\n",
    "        distancia = simulacao()\n",
    "        resultado.append(distancia)\n",
    "    return resultado\n",
    "\n",
    "\n",
    "NUM_REPETICOES = 10000\n",
    "\n",
    "resultado = experimento(NUM_REPETICOES)"
   ]
  },
  {
   "cell_type": "markdown",
   "metadata": {},
   "source": [
    "Vamos observar a distribuição da estatística de teste e onde está a estatística de teste observada. Observe que a distribuição abaixo foi construída apenas levando em consideração o modelo de Mendel. A observação de Mendel é apenas uma informação adicional que sobrepusemos ao gráfico (linha vermelha).\n",
    "\n"
   ]
  },
  {
   "cell_type": "code",
   "execution_count": 8,
   "metadata": {},
   "outputs": [
    {
     "data": {
      "text/plain": [
       "<matplotlib.legend.Legend at 0x7f1d54a4d750>"
      ]
     },
     "execution_count": 8,
     "metadata": {},
     "output_type": "execute_result"
    },
    {
     "data": {
      "image/png": "[encoded data removed]",
      "text/plain": [
       "<Figure size 640x480 with 1 Axes>"
      ]
     },
     "metadata": {},
     "output_type": "display_data"
    }
   ],
   "source": [
    "import seaborn as sns\n",
    "\n",
    "eixo = sns.histplot(resultado, stat=\"percent\", bins=10, label=\"Distribuição\")\n",
    "eixo.axvline(estatistica_observada, label=\"Estatística observada\", color=\"red\")\n",
    "eixo.set_xlabel(\"Estatística de teste\")\n",
    "eixo.set_ylabel(\"Porcentagem (%)\")\n",
    "eixo.legend()"
   ]
  },
  {
   "cell_type": "markdown",
   "metadata": {},
   "source": [
    "Apenas da observação visual da distribuição acima, o que você faria: rejeitaria $H_0$ ou não rejeitaria $H_0$?\n",
    "\n",
    "Visualmente, a estatística observada está no *coração da distribuição* (isto é, dentro da região mais provável da distribuição). Os dados obtidos no experimento de Mendel estão consistentes com $H_0$. Em outras palavras, os dados obtidos no experimento de Mendel *dão suporte* a $H_0$. *Não é razoável* rejeitar $H_0$ na luz dos dados obtidos.\n",
    "\n",
    "Agora suponha que a realidade tivesse sido outra e o experimento de Mendel tivesse resultado em um valor para a estatística de teste observada de 0.032. Vamos ver como ficaria o gráfico.\n",
    "\n"
   ]
  },
  {
   "cell_type": "code",
   "execution_count": 9,
   "metadata": {},
   "outputs": [
    {
     "data": {
      "text/plain": [
       "<matplotlib.legend.Legend at 0x7f1d54acfb20>"
      ]
     },
     "execution_count": 9,
     "metadata": {},
     "output_type": "execute_result"
    },
    {
     "data": {
      "image/png": "[encoded data removed]",
      "text/plain": [
       "<Figure size 640x480 with 1 Axes>"
      ]
     },
     "metadata": {},
     "output_type": "display_data"
    }
   ],
   "source": [
    "eixo = sns.histplot(resultado, stat=\"percent\", bins=10, label=\"Distribuição\")\n",
    "eixo.axvline(0.032, label=\"Estatística observada\", color=\"red\")\n",
    "eixo.set_xlabel(\"Estatística de teste\")\n",
    "eixo.set_ylabel(\"Porcentagem (%)\")\n",
    "eixo.legend()"
   ]
  },
  {
   "cell_type": "markdown",
   "metadata": {},
   "source": [
    "E agora, nesta situação você rejeitaria $H_0$ ou não rejeitaria $H_0$?\n",
    "\n",
    "É provável que você não esteja confortável de chegar em uma conclusão apenas pela a análise visual do gráfico acima&#x2026; afinal, para que valor da estatística observada que nós passamos de uma situação de não rejeitar $H_0$ para uma situação de rejeitar $H_0$?\n",
    "\n",
    "É justamente por conta deste problema que é importantíssimo definirmos o nosso nível de confiança entes de iniciar qualquer teste de hipótese. O nível de confiança que irá nos dizer para quais valores da estatística observada que rejeitamos ou não $H_0$.\n",
    "\n",
    "Para seguir em frente precisamos obter o valor do *nível de significância* (usualmente escrito com a letra grega $\\alpha$). Este valor é simplesmente 1 menos o nível de confiança.\n",
    "\n"
   ]
  },
  {
   "cell_type": "code",
   "execution_count": 10,
   "metadata": {},
   "outputs": [
    {
     "name": "stdout",
     "output_type": "stream",
     "text": [
      "O nível de significância estatística deste trabalho é 0.050\n"
     ]
    }
   ],
   "source": [
    "significancia = 1 - nivel_confianca\n",
    "print(f\"O nível de significância estatística deste trabalho é {significancia:.3f}\")"
   ]
  },
  {
   "cell_type": "markdown",
   "metadata": {},
   "source": [
    "O próximo passo é calcular a fração de simulações que são *tão ruins quanto ou mais ruins* que a estatística observada e comparar ela com a significância estatística. &ldquo;Mais ruim&rdquo; neste caso é o valor ir na direção de rejeitar $H_0$. Para a situação estudada, trata-se de valores *maiores* da estatística de teste. Vamos computar isso primeiramente para o experimento original de Mendel.\n",
    "\n"
   ]
  },
  {
   "cell_type": "code",
   "execution_count": 11,
   "metadata": {},
   "outputs": [
    {
     "name": "stdout",
     "output_type": "stream",
     "text": [
      "A fração de simulações tão ruins ou mais que a estatística observada foi de 0.51850\n",
      "\n",
      "Com esta observação, não devemos rejeitar H0\n"
     ]
    }
   ],
   "source": [
    "array = np.array(resultado)\n",
    "logic = array >= estatistica_observada\n",
    "\n",
    "fracao = sum(logic) / len(array)\n",
    "\n",
    "print(f\"A fração de simulações tão ruins ou mais que a estatística observada foi de {fracao:.5f}\")\n",
    "\n",
    "print()\n",
    "\n",
    "if fracao < significancia:\n",
    "    print(\"Com esta observação, devemos rejeitar H0\")\n",
    "else:\n",
    "    print(\"Com esta observação, não devemos rejeitar H0\")"
   ]
  },
  {
   "cell_type": "markdown",
   "metadata": {},
   "source": [
    "E para o resultado do cenário hipotético?\n",
    "\n"
   ]
  },
  {
   "cell_type": "code",
   "execution_count": 12,
   "metadata": {},
   "outputs": [
    {
     "name": "stdout",
     "output_type": "stream",
     "text": [
      "A fração de simulações tão ruins ou mais que a estatística observada foi de 0.02410\n",
      "\n",
      "Com esta observação, devemos rejeitar H0\n"
     ]
    }
   ],
   "source": [
    "array = np.array(resultado)\n",
    "logic = array >= 0.032\n",
    "\n",
    "fracao = sum(logic) / len(array)\n",
    "\n",
    "print(f\"A fração de simulações tão ruins ou mais que a estatística observada foi de {fracao:.5f}\")\n",
    "\n",
    "print()\n",
    "\n",
    "if fracao < significancia:\n",
    "    print(\"Com esta observação, devemos rejeitar H0\")\n",
    "else:\n",
    "    print(\"Com esta observação, não devemos rejeitar H0\")"
   ]
  },
  {
   "cell_type": "markdown",
   "metadata": {},
   "source": [
    "Esta fração de simulações tão ruins ou mais do que a estatística observada tem um nome: *nível de significância observado*. Como este nome é grande demais, usualmente chamamos esta fração de *p-valor*.\n",
    "\n",
    "**Definição**: O p-valor de um teste é a probabilidade de se obter o resultado observado ou resultados ainda mais extremos (isto é, resultados que suportam ainda mais a hipótese alternativa) dentro da suposição que a hipótese nula está correta.\n",
    "\n",
    "**Definição**: O nível de significância é a probabilidade de se rejeitar $H_0$ quando não se deveria rejeitar $H_0$.\n",
    "\n",
    "**Definição**: Erro tipo I é quando rejeitamos $H_0$ sendo que não deveríamos rejeitar $H_0$.\n",
    "\n",
    "**Definição**: Erro tipo II é quando não rejeitamos $H_0$ sendo que deveríamos ter rejeitado $H_0$.\n",
    "\n",
    "Valores usuais para o nível de significância $\\alpha$ são (em ordem de frequência): 0.05, 0.01, 0.001 e 0.1.\n",
    "\n",
    "Regras a serem seguidas:\n",
    "\n",
    "1.  Sempre reporte o p-valor do seu teste estatístico. Evite reportar apenas $p<0.05$ ou coisa similar.\n",
    "\n",
    "2.  Defina seu nível de significância (ou nível de confiança) antes de iniciar sua investigação científica. Evite usar valores não usuais para $\\alpha$.\n",
    "\n",
    "3.  Mesmo que você rejeite $H_0$ com um teste de hipótese, este teste não irá te dizer o motivo do modelo proposto em $H_0$ não funcionar. Evite conclusões causais sem evidências para suportar suas conclusões.\n",
    "\n"
   ]
  },
  {
   "cell_type": "markdown",
   "metadata": {},
   "source": [
    "## Robert Swain e o painel quase nada enviesado\n",
    "\n"
   ]
  },
  {
   "cell_type": "markdown",
   "metadata": {},
   "source": [
    "Robert Swain foi julgado pela suprema corte norte americana em 1962 e condenado a passar o restante de sua vida na prisão. Robert recorreu ao veredito alegando que a composição do painel de júris feria a 4ª emenda da constituição norte americana. A corte negou seu recurso alegando que a composição do júri era condizente com o esperado de um sorteio aleatório.\n",
    "\n",
    "O painel de júris de Robert Swain era composto por 100 pessoas, sendo 8 delas pessoas negras. Na cidade onde pode ter ocorrido o crime sendo julgado, o censo nos diz que 26% são pessoas negras. A 4ª emenda da constituição americana nos diz que a composição do painel de júris deve refletir a sociedade. Será que este painel está mesmo respeitando a 4ª emenda? Ah, vale ressaltar que Robert Swain era negro.\n",
    "\n",
    "Vamos levantar nossas hipóteses estatísticas:\n",
    "\n",
    "-   $H_0$: O painel de júris observado no caso de Robert Swain (100 pessoas sendo 8 delas negras) é *fruto do acaso* de selecionar 100 pessoas quaisquer de uma população com 26% de pessoas negras.\n",
    "\n",
    "-   $H_1$: O painel de júris de Robert Swain tem *menos* negros do que seria esperado para um sorteio aleatório de 100 pessoas quaisquer de uma população com 26% de pessoas negras.\n",
    "\n",
    "O primeiro passo, assim como fizemos no problema anterior, é escolher uma estatística de teste. Poderíamos escolher novamente a distância de variação total, não há problema algum em seguir desta forma. Apenas para mostrar que é possível escolher outra estatística, vamos observar então o número de pessoas negras no júri como sendo a nossa estatística de teste.\n",
    "\n"
   ]
  },
  {
   "cell_type": "code",
   "execution_count": 13,
   "metadata": {},
   "outputs": [
    {
     "name": "stdout",
     "output_type": "stream",
     "text": [
      "O valor da estatística de teste observado foi de 8\n"
     ]
    }
   ],
   "source": [
    "rotulos = [\"negro\", \"não negro\"]\n",
    "distribuicao_modelo = [0.26, 0.74]\n",
    "\n",
    "estatistica_observada = 8\n",
    "print(f\"O valor da estatística de teste observado foi de {estatistica_observada}\")"
   ]
  },
  {
   "cell_type": "markdown",
   "metadata": {},
   "source": [
    "Vamos criar a simulação e rodar um experimento na luz de $H_0$ (isto é, o que observamos se $H_0$ estiver correto?).\n",
    "\n"
   ]
  },
  {
   "cell_type": "code",
   "execution_count": 14,
   "metadata": {},
   "outputs": [],
   "source": [
    "def simulacao():\n",
    "    \"\"\"Sorteia um painel de júris e retorna o número de pessoas negras.\"\"\"\n",
    "\n",
    "    N = 100  # número de pessoas no painel\n",
    "    rotulos = [\"negro\", \"não negro\"]\n",
    "    distribuicao_modelo = [0.26, 0.74]  # distribuição da população\n",
    "\n",
    "    painel_simulado = random.choices(\n",
    "        rotulos, weights=distribuicao_modelo, k=N\n",
    "    )\n",
    "\n",
    "    distribuicao_obtida = []\n",
    "\n",
    "    num_negros = painel_simulado.count(\"negro\")\n",
    "\n",
    "    return num_negros\n",
    "\n",
    "\n",
    "def experimento(n):\n",
    "    resultado = []\n",
    "    for _ in range(n):\n",
    "        num_negros = simulacao()\n",
    "        resultado.append(num_negros)\n",
    "    return resultado\n",
    "\n",
    "\n",
    "NUM_REPETICOES = 100000\n",
    "\n",
    "resultado = experimento(NUM_REPETICOES)"
   ]
  },
  {
   "cell_type": "markdown",
   "metadata": {},
   "source": [
    "Vamos observar a distribuição do nosso experimento.\n",
    "\n"
   ]
  },
  {
   "cell_type": "code",
   "execution_count": 15,
   "metadata": {},
   "outputs": [
    {
     "data": {
      "text/plain": [
       "<matplotlib.legend.Legend at 0x7f1db0bf6ce0>"
      ]
     },
     "execution_count": 15,
     "metadata": {},
     "output_type": "execute_result"
    },
    {
     "data": {
      "image/png": "[encoded data removed]",
      "text/plain": [
       "<Figure size 640x480 with 1 Axes>"
      ]
     },
     "metadata": {},
     "output_type": "display_data"
    }
   ],
   "source": [
    "eixo = sns.histplot(resultado, stat=\"percent\", bins=10, label=\"Distribuição\")\n",
    "eixo.axvline(estatistica_observada, label=\"Estatística observada\", color=\"red\")\n",
    "eixo.set_xlabel(\"Estatística de teste\")\n",
    "eixo.set_ylabel(\"Porcentagem (%)\")\n",
    "eixo.legend()"
   ]
  },
  {
   "cell_type": "markdown",
   "metadata": {},
   "source": [
    "Sem fazer cálculo algum, apenas observando este resultado, você **rejeitaria** ou **não rejeitaria** $H_0$? Vamos computar o p-valor e finalizar nosso teste de hipótese.\n",
    "\n"
   ]
  },
  {
   "cell_type": "code",
   "execution_count": 16,
   "metadata": {},
   "outputs": [
    {
     "name": "stdout",
     "output_type": "stream",
     "text": [
      "O p-valor observado foi de 0.00001\n",
      "\n",
      "Com esta observação, devemos rejeitar H0\n"
     ]
    }
   ],
   "source": [
    "array = np.array(resultado)\n",
    "logic = array <= estatistica_observada\n",
    "\n",
    "pvalor = sum(logic) / len(array)\n",
    "\n",
    "print(f\"O p-valor observado foi de {pvalor:.5f}\")\n",
    "\n",
    "print()\n",
    "\n",
    "if pvalor < significancia:\n",
    "    print(\"Com esta observação, devemos rejeitar H0\")\n",
    "else:\n",
    "    print(\"Com esta observação, não devemos rejeitar H0\")"
   ]
  },
  {
   "cell_type": "markdown",
   "metadata": {},
   "source": [
    "Observe que é bastante raro observar um painel de júris com tão poucos negros que tenha sido sorteado aleatoriamente na cidade onde Robert morava. Apesar de ser *possível* observar este resultado por acaso, nossa simulação demonstrou que é bastante *improvável*.\n",
    "\n",
    "Quando nosso modelo não reflete a realidade, então é necessário descartar o modelo uma vez que a realidade nós não podemos descartar. Nosso modelo é que os júris são sorteados de forma a refletir a sociedade ($H_0$). Nosso resultado nos faz **rejeitar** esta hipótese.\n",
    "\n",
    "Segundo a referência [1] (de onde este problema foi retirado), outros júris da época de Robert contavam com 10 a 15 negros apenas. Estes valores são também bastante improváveis dentro do cenário que observamos na simulação. Dizemos que a escolha dos membros dos júris era bastante *enviesada*.\n",
    "\n"
   ]
  },
  {
   "cell_type": "markdown",
   "metadata": {},
   "source": [
    "## Crônicas de &rsquo;Mérica &#x2014; Condado Alameda, sistema judiciário e o racismo estrutural\n",
    "\n"
   ]
  },
  {
   "cell_type": "markdown",
   "metadata": {},
   "source": [
    "Nos anos de 2009 a 2010, no condado de Alameda na Califórnia, um total de 1453 pessoas eram elegíveis para compor painéis de júri. Sempre que um júri se fazia necessário, 100 pessoas eram sorteadas destas 1453.\n",
    "\n",
    "Veja na tabela abaixo a distribuição de etnias considerando as 1453 pessoas elegíveis e veja também qual foi a distribuição de etnias nos painéis formados durante os anos de 2009 e 2010.\n",
    "\n"
   ]
  },
  {
   "cell_type": "code",
   "execution_count": 17,
   "metadata": {},
   "outputs": [
    {
     "data": {
      "text/html": [
       "<div>\n",
       "<style scoped>\n",
       "    .dataframe tbody tr th:only-of-type {\n",
       "        vertical-align: middle;\n",
       "    }\n",
       "\n",
       "    .dataframe tbody tr th {\n",
       "        vertical-align: top;\n",
       "    }\n",
       "\n",
       "    .dataframe thead th {\n",
       "        text-align: right;\n",
       "    }\n",
       "</style>\n",
       "<table border=\"1\" class=\"dataframe\">\n",
       "  <thead>\n",
       "    <tr style=\"text-align: right;\">\n",
       "      <th></th>\n",
       "      <th>Etnia</th>\n",
       "      <th>Elegível</th>\n",
       "      <th>Painéis formados (média)</th>\n",
       "    </tr>\n",
       "  </thead>\n",
       "  <tbody>\n",
       "    <tr>\n",
       "      <th>0</th>\n",
       "      <td>Asiáticos</td>\n",
       "      <td>0.15</td>\n",
       "      <td>0.26</td>\n",
       "    </tr>\n",
       "    <tr>\n",
       "      <th>1</th>\n",
       "      <td>Negros</td>\n",
       "      <td>0.18</td>\n",
       "      <td>0.08</td>\n",
       "    </tr>\n",
       "    <tr>\n",
       "      <th>2</th>\n",
       "      <td>Brancos</td>\n",
       "      <td>0.54</td>\n",
       "      <td>0.54</td>\n",
       "    </tr>\n",
       "    <tr>\n",
       "      <th>3</th>\n",
       "      <td>Latinos</td>\n",
       "      <td>0.12</td>\n",
       "      <td>0.08</td>\n",
       "    </tr>\n",
       "    <tr>\n",
       "      <th>4</th>\n",
       "      <td>Outros</td>\n",
       "      <td>0.01</td>\n",
       "      <td>0.04</td>\n",
       "    </tr>\n",
       "  </tbody>\n",
       "</table>\n",
       "</div>"
      ],
      "text/plain": [
       "       Etnia  Elegível  Painéis formados (média)\n",
       "0  Asiáticos      0.15                      0.26\n",
       "1     Negros      0.18                      0.08\n",
       "2    Brancos      0.54                      0.54\n",
       "3    Latinos      0.12                      0.08\n",
       "4     Outros      0.01                      0.04"
      ]
     },
     "execution_count": 17,
     "metadata": {},
     "output_type": "execute_result"
    }
   ],
   "source": [
    "import pandas as pd\n",
    "\n",
    "juri = {\n",
    "    \"Etnia\": [\"Asiáticos\", \"Negros\", \"Brancos\", \"Latinos\", \"Outros\"],\n",
    "    \"Elegível\": [0.15, 0.18, 0.54, 0.12, 0.01],\n",
    "    \"Painéis formados (média)\": [0.26, 0.08, 0.54, 0.08, 0.04],\n",
    "}\n",
    "\n",
    "df = pd.DataFrame.from_dict(juri)\n",
    "\n",
    "df"
   ]
  },
  {
   "cell_type": "markdown",
   "metadata": {},
   "source": [
    "Vamos levantar nossas hipóteses estatísticas:\n",
    "\n",
    "-   $H_0$: Os painéis de júri observados estão condizentes com o sorteio aleatório dos 1453 membros elegíveis.\n",
    "\n",
    "-   $H_1$: Os painéis de júri observados *não* estão condizentes com o sorteio aleatório dos 1453 membros elegíveis.\n",
    "\n",
    "Tendo as hipóteses, precisamos escolher uma estatística de teste. Observe que agora a nossa hipótese alternativa nos diz que &ldquo;os painéis não estão condizente com o sorteio aleatório&rdquo;. Neste caso, precisamos levar em conta todas as etnias do painel, não podemos usar apenas uma. Para isso, voltamos a utilizar a distância de variação total.\n",
    "\n"
   ]
  },
  {
   "cell_type": "code",
   "execution_count": 18,
   "metadata": {},
   "outputs": [
    {
     "name": "stdout",
     "output_type": "stream",
     "text": [
      "O valor da estatística de teste observado foi de 0.14\n"
     ]
    }
   ],
   "source": [
    "distribuicao_modelo = df[\"Elegível\"]\n",
    "distribuicao_observada = df[\"Painéis formados (média)\"]\n",
    "\n",
    "estatistica_observada = computa_dist_var_total(\n",
    "    distribuicao_modelo, distribuicao_observada\n",
    ")\n",
    "\n",
    "print(f\"O valor da estatística de teste observado foi de {estatistica_observada}\")"
   ]
  },
  {
   "cell_type": "markdown",
   "metadata": {},
   "source": [
    "Vamos realizar um experimento de simulação na luz da hipótese nula.\n",
    "\n"
   ]
  },
  {
   "cell_type": "code",
   "execution_count": 19,
   "metadata": {},
   "outputs": [],
   "source": [
    "def simulacao(rotulos, distribuicao_modelo):\n",
    "    \"\"\"Sorteia um painel de júris e computa a distância da variação total.\"\"\"\n",
    "\n",
    "    N1 = 1453  # número de pessoas elegíveis\n",
    "    N2 = 100   # número de pessoas no painel\n",
    "\n",
    "    elegiveis = random.choices(\n",
    "        rotulos, weights=distribuicao_modelo, k=N1\n",
    "    )\n",
    "\n",
    "    painel_simulado = random.sample(elegiveis, k=N2)\n",
    "\n",
    "    distribuicao_obtida = []\n",
    "\n",
    "    for rotulo in rotulos:\n",
    "        proporcao = painel_simulado.count(rotulo) / N2\n",
    "        distribuicao_obtida.append(proporcao)\n",
    "\n",
    "    distancia = computa_dist_var_total(\n",
    "        distribuicao_modelo, distribuicao_obtida\n",
    "    )\n",
    "\n",
    "    return distancia\n",
    "\n",
    "\n",
    "def experimento(n, rotulos, distribuicao_modelo):\n",
    "    resultado = []\n",
    "    for _ in range(n):\n",
    "        distancia = simulacao(rotulos, distribuicao_modelo)\n",
    "        resultado.append(distancia)\n",
    "    return resultado\n",
    "\n",
    "\n",
    "NUM_REPETICOES = 10000\n",
    "\n",
    "rotulos = df[\"Etnia\"]\n",
    "distribuicao_modelo = df[\"Elegível\"]\n",
    "\n",
    "resultado = experimento(NUM_REPETICOES, rotulos, distribuicao_modelo)"
   ]
  },
  {
   "cell_type": "markdown",
   "metadata": {},
   "source": [
    "Vamos observar a distribuição da estatística de teste.\n",
    "\n"
   ]
  },
  {
   "cell_type": "code",
   "execution_count": 20,
   "metadata": {},
   "outputs": [
    {
     "data": {
      "text/plain": [
       "<matplotlib.legend.Legend at 0x7f1d52963d00>"
      ]
     },
     "execution_count": 20,
     "metadata": {},
     "output_type": "execute_result"
    },
    {
     "data": {
      "image/png": "[encoded data removed]",
      "text/plain": [
       "<Figure size 640x480 with 1 Axes>"
      ]
     },
     "metadata": {},
     "output_type": "display_data"
    }
   ],
   "source": [
    "import seaborn as sns\n",
    "\n",
    "eixo = sns.histplot(resultado, stat=\"percent\", bins=10, label=\"Distribuição\")\n",
    "eixo.axvline(estatistica_observada, label=\"Estatística observada\", color=\"red\")\n",
    "eixo.set_xlabel(\"Estatística de teste\")\n",
    "eixo.set_ylabel(\"Porcentagem (%)\")\n",
    "eixo.legend()"
   ]
  },
  {
   "cell_type": "markdown",
   "metadata": {},
   "source": [
    "E, finalmente, vamos computar o p-valor e encerrar nosso teste de hipótese.\n",
    "\n"
   ]
  },
  {
   "cell_type": "code",
   "execution_count": 21,
   "metadata": {},
   "outputs": [
    {
     "name": "stdout",
     "output_type": "stream",
     "text": [
      "O p-valor observado foi de 0.98880\n",
      "\n",
      "Com esta observação, não devemos rejeitar H0\n"
     ]
    }
   ],
   "source": [
    "array = np.array(resultado)\n",
    "logic = array <= estatistica_observada\n",
    "\n",
    "pvalor = sum(logic) / len(array)\n",
    "\n",
    "print(f\"O p-valor observado foi de {pvalor:.5f}\")\n",
    "\n",
    "print()\n",
    "\n",
    "if pvalor < significancia:\n",
    "    print(\"Com esta observação, devemos rejeitar H0\")\n",
    "else:\n",
    "    print(\"Com esta observação, não devemos rejeitar H0\")"
   ]
  },
  {
   "cell_type": "markdown",
   "metadata": {},
   "source": [
    "## XKCD relevante\n",
    "\n"
   ]
  },
  {
   "cell_type": "markdown",
   "metadata": {},
   "source": [
    "![img](https://imgs.xkcd.com/comics/hypothesis_generation.png)\n",
    "\n",
    "`Imagem: Hypothesis Generation (XKCD) disponível em https://xkcd.com/2569`\n",
    "\n"
   ]
  },
  {
   "cell_type": "markdown",
   "metadata": {},
   "source": [
    "## Referências\n",
    "\n"
   ]
  },
  {
   "cell_type": "markdown",
   "metadata": {},
   "source": [
    "1.  ADHIKARI, Ani; DENERO, John; WAGNER, David. Computational and Inferential Thinking: The Foundations of Data Science. Disponível em: [https://inferentialthinking.com/chapters/intro.html](https://inferentialthinking.com/chapters/intro.html). Acesso em: 02 out. 2023.\n",
    "\n",
    "2.  DEVORE, Jay L. Probabilidade E Estatística Para Engenharia E Ciências. Tradução Da 9ª Edição Norte-Americana. Cengage Learning, 2018.\n",
    "\n",
    "3.  Distância da variação total [https://en.wikipedia.org/wiki/Total_variation_distance_of_probability_measures](https://en.wikipedia.org/wiki/Total_variation_distance_of_probability_measures)\n",
    "\n",
    "4.  Nível de significância [https://pt.wikipedia.org/wiki/Signific%C3%A2ncia_estat%C3%ADstica](https://pt.wikipedia.org/wiki/Signific%C3%A2ncia_estat%C3%ADstica)\n",
    "\n"
   ]
  }
 ],
 "metadata": {
  "kernelspec": {
   "display_name": "ilumpy",
   "language": "python",
   "name": "ilumpy"
  },
  "language_info": {
   "codemirror_mode": {
    "name": "ipython",
    "version": 3
   },
   "file_extension": ".py",
   "mimetype": "text/x-python",
   "name": "python",
   "nbconvert_exporter": "python",
   "pygments_lexer": "ipython3",
   "version": "3.10.6"
  },
  "org": null
 },
 "nbformat": 4,
 "nbformat_minor": 4
}
