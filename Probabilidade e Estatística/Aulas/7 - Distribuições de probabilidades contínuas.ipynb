{
 "cells": [
  {
   "cell_type": "markdown",
   "metadata": {},
   "source": [
    "Distribuição de probabilidade 2\n",
    "===============================\n",
    "\n"
   ]
  },
  {
   "cell_type": "markdown",
   "metadata": {},
   "source": [
    "## Variáveis aleatórias contínuas e discretas\n",
    "\n"
   ]
  },
  {
   "cell_type": "markdown",
   "metadata": {},
   "source": [
    "Quando medimos a altura de pessoas, geralmente reportamos o valor em metros com no máximo duas casas decimais. Isso ocorre pois nosso instrumento de medida raramente tem uma precisão maior que essa. Neste contexto, podemos tratar a altura como uma variável aleatória discreta e podemos utilizar dos conceitos de distribuição de probabilidades que vimos no notebook anterior (que tratava apenas de variáveis aleatórias discretas).\n",
    "\n",
    "No entanto, assumir que a altura de pessoas é uma variável discreta é uma simplificação da realidade; sabemos que a altura das pessoas varia de forma contínua. Se tivéssemos instrumentos suficientemente precisos, poderíamos medir a altura com maior precisão e confirmar que a altura é, de fato, uma variável aleatória contínua.\n",
    "\n",
    "Uma variável aleatória contínua pode assumir infinitos valores dentro de um ou mais intervalos numéricos. Observe que este é um infinito incontável, uma vez que não podemos listar todos os valores possíveis. Muito cuidado aqui: uma variável aleatória que pode assumir apenas valores inteiros é discreta, mesmo que este conjunto seja infinito (isto ocorre pois o conjunto dos inteiros é um conjunto de tamanho infinito, porém contável).\n",
    "\n"
   ]
  },
  {
   "cell_type": "markdown",
   "metadata": {},
   "source": [
    "## Distribuição de probabilidades para variáveis contínuas\n",
    "\n"
   ]
  },
  {
   "cell_type": "markdown",
   "metadata": {},
   "source": [
    "Observe que agora que estamos no contexto de variáveis aleatórias contínuas, não temos mais como listar todos os valores possíveis que a variável pode assumir. Sendo assim, não é possível construir uma pmf (função massa de probabilidade) para esta variável.\n",
    "\n",
    "Neste caso, nós podemos construir uma *função densidade de probabilidade* (probability density function em inglês, ou simplesmente pdf). Para $f(x)$ ser considerada uma pdf, temos que ela deve apresentar as seguintes propriedades:\n",
    "\n",
    "$$\n",
    "\\forall x: f(x) \\geq 0\n",
    "$$\n",
    "\n",
    "e\n",
    "\n",
    "$$\n",
    "\\int_{-\\infty}^{\\infty} f(x) \\, \\mathrm{d}x = 1.\n",
    "$$\n",
    "\n",
    "Sendo $f(x)$ uma pdf, temos que a probabilidade de observar um resultado $X \\in [a, b]$ é de\n",
    "\n",
    "$$\n",
    "P(a \\leq X \\leq b) = \\int_{a}^{b} f(x) \\, \\mathrm{d}x.\n",
    "$$\n",
    "\n",
    "Estas propriedades apresentadas estão intimamente relacionadas aos axiomas de Kolmogorov, você consegue visualizar isso?\n",
    "\n",
    "Observe que no caso particular onde $a=b$ temos que\n",
    "\n",
    "$$\n",
    "P(a \\leq X \\leq b) = P(a \\leq X \\leq a) = P(X = a) = \\int_{a}^{a} f(x) \\, \\mathrm{d}x = 0.\n",
    "$$\n",
    "\n",
    "Do resultado acima, temos que não importa se incluímos os extremos na hora de computar a probabilidade, logo:\n",
    "\n",
    "$$\n",
    "P(a \\leq X \\leq b) = P(a \\leq X < b) = P(a < X \\leq b) = P(a < X < b).\n",
    "$$\n",
    "\n"
   ]
  },
  {
   "cell_type": "markdown",
   "metadata": {},
   "source": [
    "## Distribuição uniforme\n",
    "\n"
   ]
  },
  {
   "cell_type": "markdown",
   "metadata": {},
   "source": [
    "Imagine um relógio analógico onde seus ponteiros caminham continuamente por todo o percurso circular. Imagine que trata-se de um relógio movido a pilha e que esta pilha tem uma quantidade finita de energia. Eventualmente esta energia irá acabar e o relógio irá parar. Ao parar, o ponteiro dos segundos terá um certo ângulo $\\alpha$ com relação ao eixo $x$ do relógio.\n",
    "\n",
    "Como você representaria a pdf do ângulo $\\alpha$ de parada? É razoável pensar que todo e qualquer ângulo $\\alpha \\in [0^\\circ, 360^\\circ]$ deva ter a mesma probabilidade de ocorrer, uma vez que não faz sentido existir um ângulo preferencial neste problema. Logo, temos a seguinte pdf:\n",
    "\n",
    "$$\n",
    "f(x)=\\begin{cases}\n",
    "\\frac{1}{360} & 0^\\circ \\leq x \\leq 360^\\circ\\\\\n",
    "0 & \\textrm{caso contrário}\n",
    "\\end{cases}\n",
    "$$\n",
    "\n",
    "Vamos ver um gráfico desta pdf.\n",
    "\n"
   ]
  },
  {
   "cell_type": "code",
   "execution_count": 2,
   "metadata": {},
   "outputs": [
    {
     "data": {
      "text/plain": [
       "Text(0, 0.5, '$f(x)$')"
      ]
     },
     "execution_count": 2,
     "metadata": {},
     "output_type": "execute_result"
    },
    {
     "data": {
      "image/png": "[encoded data removed]",
      "text/plain": [
       "<Figure size 640x480 with 1 Axes>"
      ]
     },
     "metadata": {},
     "output_type": "display_data"
    }
   ],
   "source": [
    "import numpy as np\n",
    "import matplotlib.pyplot as plt\n",
    "\n",
    "x = np.linspace(-50, 400, 1000)\n",
    "\n",
    "def f(x):\n",
    "    if 0 <= x <= 360:\n",
    "        return 1/360\n",
    "    else:\n",
    "        return 0\n",
    "\n",
    "y = []\n",
    "\n",
    "for x_ in x:\n",
    "    y.append(f(x_))\n",
    "\n",
    "figura, eixo = plt.subplots()\n",
    "\n",
    "eixo.plot(x, y)\n",
    "\n",
    "eixo.set_xlabel(\"Ângulo\")\n",
    "eixo.set_ylabel(\"$f(x)$\")"
   ]
  },
  {
   "cell_type": "markdown",
   "metadata": {},
   "source": [
    "Observe que a integral $\\int_{-\\infty}^{\\infty} f(x) \\, \\mathrm{d}x$ é de fato igual a 1 neste caso, que é condição necessária para $f(x)$ ser uma pdf.\n",
    "\n",
    "Qual a probabilidade do ponteiro parar entre os ângulos 90° e 180°?\n",
    "\n"
   ]
  },
  {
   "cell_type": "code",
   "execution_count": 3,
   "metadata": {},
   "outputs": [
    {
     "name": "stdout",
     "output_type": "stream",
     "text": [
      "A probabilidade do ponteiro parar entre 90 e 180 é de 25.0%\n"
     ]
    }
   ],
   "source": [
    "from scipy.integrate import quad\n",
    "\n",
    "a = 90\n",
    "b = 180\n",
    "\n",
    "prob = quad(f, a, b)[0]  # leia: integral de f de a até b\n",
    "\n",
    "print(f\"A probabilidade do ponteiro parar entre {a} e {b} é de {prob * 100}%\")"
   ]
  },
  {
   "cell_type": "markdown",
   "metadata": {},
   "source": [
    "A forma geral de uma distribuição uniforme no intervalo $[A,B]$ é\n",
    "\n",
    "$$\n",
    "f(x; A, B)=\\begin{cases}\n",
    "\\frac{1}{B - A} & A \\leq x \\leq B\\\\\n",
    "0 & \\textrm{caso contrário}\n",
    "\\end{cases}\n",
    "$$\n",
    "\n"
   ]
  },
  {
   "cell_type": "markdown",
   "metadata": {},
   "source": [
    "## Função de distribuição acumulada\n",
    "\n"
   ]
  },
  {
   "cell_type": "markdown",
   "metadata": {},
   "source": [
    "É possível aplicar o mesmo conceito de função de distribuição acumulada (cdf, visto no notebook anterior) para distribuições contínuas. Sendo $F(x)$ a função de distribuição acumulada, temos\n",
    "\n",
    "$$\n",
    "F(x) = P(X \\leq x) = \\int_{-\\infty}^{x} f(x) \\, \\mathrm{d}x.\n",
    "$$\n",
    "\n",
    "Vamos ver um gráfico.\n",
    "\n"
   ]
  },
  {
   "cell_type": "code",
   "execution_count": 4,
   "metadata": {},
   "outputs": [
    {
     "name": "stderr",
     "output_type": "stream",
     "text": [
      "C:\\Users\\caue23024\\AppData\\Local\\Temp\\ipykernel_13204\\27097878.py:10: IntegrationWarning: The maximum number of subdivisions (50) has been achieved.\n",
      "  If increasing the limit yields no improvement it is advised to analyze \n",
      "  the integrand in order to determine the difficulties.  If the position of a \n",
      "  local difficulty can be determined (singularity, discontinuity) one will \n",
      "  probably gain from splitting up the interval and calling the integrator \n",
      "  on the subranges.  Perhaps a special-purpose integrator should be used.\n",
      "  return quad(f, -np.inf, x)[0]\n"
     ]
    },
    {
     "data": {
      "text/plain": [
       "Text(0, 0.5, '$F(x)$')"
      ]
     },
     "execution_count": 4,
     "metadata": {},
     "output_type": "execute_result"
    },
    {
     "data": {
      "image/png": "[encoded data removed]",
      "text/plain": [
       "<Figure size 640x480 with 1 Axes>"
      ]
     },
     "metadata": {},
     "output_type": "display_data"
    }
   ],
   "source": [
    "x = np.linspace(-50, 400, 1000)\n",
    "\n",
    "def f(x):\n",
    "    if 0 <= x <= 360:\n",
    "        return 1/360\n",
    "    else:\n",
    "        return 0\n",
    "\n",
    "def F(x):\n",
    "    return quad(f, -np.inf, x)[0]\n",
    "\n",
    "y = []\n",
    "\n",
    "for x_ in x:\n",
    "    y.append(F(x_))\n",
    "\n",
    "figura, eixo = plt.subplots()\n",
    "\n",
    "eixo.plot(x, y)\n",
    "\n",
    "eixo.set_xlabel(\"Ângulo\")\n",
    "eixo.set_ylabel(\"$F(x)$\")"
   ]
  },
  {
   "cell_type": "markdown",
   "metadata": {},
   "source": [
    "Da definição de $F(x)$ (e supondo que $a \\leq b$) é fácil de observar que\n",
    "\n",
    "$$\n",
    "P(a \\leq X \\leq b) = F(b) - F(a)\n",
    "$$\n",
    "\n",
    "e que\n",
    "\n",
    "$$\n",
    "\\frac{\\mathrm{d}}{\\mathrm{d}x} F(x) = f(x)\n",
    "$$\n",
    "\n"
   ]
  },
  {
   "cell_type": "markdown",
   "metadata": {},
   "source": [
    "## Percentil\n",
    "\n"
   ]
  },
  {
   "cell_type": "markdown",
   "metadata": {},
   "source": [
    "Dizemos que o valor $x$ está no 95° percentil quando 95% de toda a população tem valor menor que o valor $x$ para a variável aleatória sendo estudada. É o mesmo que dizer que o valor $x$ está no top 5% neste caso.\n",
    "\n",
    "O próprio valor da $F(x)$ já indica a fração da população que tem valor menor que $x$ (ver definição). Neste contexto, definimos o valor $p$ tal que\n",
    "\n",
    "$$\n",
    "p = F(\\eta(p)).\n",
    "$$\n",
    "\n",
    "O valor $100p$ é o percentil da distribuição acumulada $F(x)$. O valor $\\eta(p)$ (a letra grega $\\eta$ se chama &ldquo;eta&rdquo;) é o valor da variável $x$ associada ao percentil $100p$.\n",
    "\n",
    "Vamos ver na prática!\n",
    "\n"
   ]
  },
  {
   "cell_type": "code",
   "execution_count": 5,
   "metadata": {},
   "outputs": [
    {
     "data": {
      "text/plain": [
       "(-0.05000358687148087, 1.050075324301098)"
      ]
     },
     "execution_count": 5,
     "metadata": {},
     "output_type": "execute_result"
    },
    {
     "data": {
      "image/png": "[encoded data removed]",
      "text/plain": [
       "<Figure size 640x480 with 1 Axes>"
      ]
     },
     "metadata": {},
     "output_type": "display_data"
    }
   ],
   "source": [
    "PERCENTIL = 50\n",
    "\n",
    "eta = x[np.argmin(abs(np.array(y) - PERCENTIL / 100))]\n",
    "\n",
    "figura, eixo = plt.subplots()\n",
    "\n",
    "eixo.plot(x, y)\n",
    "\n",
    "xmin, xmax = eixo.get_xlim()\n",
    "ymin, ymax = eixo.get_ylim()\n",
    "\n",
    "eixo.plot([xmin, eta], [PERCENTIL / 100, PERCENTIL / 100], ls=\"--\", c=\"red\")\n",
    "eixo.plot([eta, eta], [PERCENTIL / 100, ymin], ls=\"--\", c=\"red\")\n",
    "\n",
    "eixo.set_xlabel(\"Ângulo\")\n",
    "eixo.set_ylabel(\"$F(x)$\")\n",
    "\n",
    "eixo.set_xlim(min(x), max(x))\n",
    "eixo.set_ylim(ymin, ymax)"
   ]
  },
  {
   "cell_type": "markdown",
   "metadata": {},
   "source": [
    "A mediana de uma distribuição de probabilidades contínua é definida como sendo o valor onde $F(\\eta(0.5)) = 0.5$. A mediana separa exatamente 50% da população para cada lado.\n",
    "\n"
   ]
  },
  {
   "cell_type": "markdown",
   "metadata": {},
   "source": [
    "## Valor esperado\n",
    "\n"
   ]
  },
  {
   "cell_type": "markdown",
   "metadata": {},
   "source": [
    "A expressão do valor esperado para uma pdf é:\n",
    "\n",
    "$$\n",
    "E[X] = \\int_{-\\infty}^{\\infty} x \\cdot f(x) \\, \\mathrm{d}x \\equiv \\mu_X.\n",
    "$$\n",
    "\n",
    "Vamos ver um exemplo.\n",
    "\n"
   ]
  },
  {
   "cell_type": "code",
   "execution_count": 12,
   "metadata": {},
   "outputs": [
    {
     "name": "stdout",
     "output_type": "stream",
     "text": [
      "0.0\n"
     ]
    }
   ],
   "source": [
    "def f(x):\n",
    "    if -1 <= x <= 1:\n",
    "        return (0.75)*(1-x**2)\n",
    "    else:\n",
    "        return 0\n",
    "\n",
    "def valor_esperado(f):\n",
    "    \"\"\"Computa o valor esperado para uma distribuição contínua.\"\"\"\n",
    "    return quad(lambda x: x * f(x), -np.inf, np.inf)[0]\n",
    "\n",
    "v_esperado = valor_esperado(f)\n",
    "\n",
    "print(v_esperado)"
   ]
  },
  {
   "cell_type": "markdown",
   "metadata": {},
   "source": [
    "É comum aplicarmos uma função $h$ à variável aleatória $X$. Neste caso, temos a expressão geral do valor esperado:\n",
    "\n",
    "$$\n",
    "E[h(X)] = \\int_{-\\infty}^{\\infty} h(x) \\cdot f(x) \\, \\mathrm{d}x \\equiv \\mu_{h(X)}.\n",
    "$$\n",
    "\n",
    "A expressão original que vimos acima era o caso particular quando a função $h$ é a função identidade (isto é, $h(x) = x$).\n",
    "\n",
    "Vamos ver um exemplo: cálculo de $E[X^2]$ (observe que neste caso, $h(x)=x^2$)\n",
    "\n"
   ]
  },
  {
   "cell_type": "code",
   "execution_count": 10,
   "metadata": {},
   "outputs": [
    {
     "name": "stdout",
     "output_type": "stream",
     "text": [
      "0.19999999999999996\n"
     ]
    }
   ],
   "source": [
    "def f(x):\n",
    "    if -1 <= x <= 1:\n",
    "        return (0.75)*(1-x**2)\n",
    "    else:\n",
    "        return 0\n",
    "\n",
    "def valor_esperado(f, h=lambda x: x):\n",
    "    \"\"\"Computa o valor esperado para uma distribuição contínua.\"\"\"\n",
    "    return quad(lambda x: h(x) * f(x), -np.inf, np.inf)[0]\n",
    "\n",
    "def h(x):\n",
    "    return x ** 2\n",
    "\n",
    "v_esperado = valor_esperado(f, h)\n",
    "\n",
    "print(v_esperado)"
   ]
  },
  {
   "cell_type": "markdown",
   "metadata": {},
   "source": [
    "## Variância\n",
    "\n"
   ]
  },
  {
   "cell_type": "markdown",
   "metadata": {},
   "source": [
    "A definição de variância para uma pdf é a mesma que vimos no notebook anterior para uma pmf.\n",
    "\n",
    "$$\n",
    "\\mathrm{Var}(X) = E[(X-\\mu_X)^2]\n",
    "$$\n",
    "\n"
   ]
  },
  {
   "cell_type": "code",
   "execution_count": 11,
   "metadata": {},
   "outputs": [
    {
     "name": "stdout",
     "output_type": "stream",
     "text": [
      "0.19999999999999996\n"
     ]
    }
   ],
   "source": [
    "v_esperado = valor_esperado(f)\n",
    "\n",
    "def h(x):\n",
    "    return (x - v_esperado) ** 2\n",
    "\n",
    "variancia = valor_esperado(f, h)\n",
    "\n",
    "print(variancia)"
   ]
  },
  {
   "cell_type": "markdown",
   "metadata": {},
   "source": [
    "Podemos usar também a expressão abaixo (são equivalentes).\n",
    "\n",
    "$$\n",
    "\\mathrm{Var}(X) = E[X^2] - (E[X])^2\n",
    "$$\n",
    "\n"
   ]
  },
  {
   "cell_type": "code",
   "execution_count": 13,
   "metadata": {},
   "outputs": [
    {
     "ename": "TypeError",
     "evalue": "valor_esperado() takes 1 positional argument but 2 were given",
     "output_type": "error",
     "traceback": [
      "\u001b[1;31m---------------------------------------------------------------------------\u001b[0m",
      "\u001b[1;31mTypeError\u001b[0m                                 Traceback (most recent call last)",
      "Cell \u001b[1;32mIn [13], line 6\u001b[0m\n\u001b[0;32m      3\u001b[0m \u001b[38;5;28;01mdef\u001b[39;00m \u001b[38;5;21mh\u001b[39m(x):\n\u001b[0;32m      4\u001b[0m     \u001b[38;5;28;01mreturn\u001b[39;00m x \u001b[38;5;241m*\u001b[39m\u001b[38;5;241m*\u001b[39m \u001b[38;5;241m2\u001b[39m\n\u001b[1;32m----> 6\u001b[0m v_esperado_2 \u001b[38;5;241m=\u001b[39m \u001b[43mvalor_esperado\u001b[49m\u001b[43m(\u001b[49m\u001b[43mf\u001b[49m\u001b[43m,\u001b[49m\u001b[43m \u001b[49m\u001b[43mh\u001b[49m\u001b[43m)\u001b[49m\n\u001b[0;32m      7\u001b[0m variancia \u001b[38;5;241m=\u001b[39m v_esperado_2 \u001b[38;5;241m-\u001b[39m v_esperado\u001b[38;5;241m*\u001b[39m\u001b[38;5;241m*\u001b[39m\u001b[38;5;241m2\u001b[39m\n\u001b[0;32m      8\u001b[0m \u001b[38;5;28mprint\u001b[39m(variancia)\n",
      "\u001b[1;31mTypeError\u001b[0m: valor_esperado() takes 1 positional argument but 2 were given"
     ]
    }
   ],
   "source": [
    "v_esperado = valor_esperado(f)\n",
    "\n",
    "def h(x):\n",
    "    return x ** 2\n",
    "\n",
    "v_esperado_2 = valor_esperado(f, h)\n",
    "variancia = v_esperado_2 - v_esperado**2\n",
    "print(variancia)"
   ]
  },
  {
   "cell_type": "markdown",
   "metadata": {},
   "source": [
    "Lembrando que a definição do desvio padrão permanece a mesma desde o primeiro notebook: $\\sigma(X) = \\sqrt{\\mathrm{Var}(X)}$.\n",
    "\n"
   ]
  },
  {
   "cell_type": "markdown",
   "metadata": {},
   "source": [
    "## A distribuição normal\n",
    "\n"
   ]
  },
  {
   "cell_type": "markdown",
   "metadata": {},
   "source": [
    "A distribuição normal é provavelmente a distribuição contínua mais famosa que existe. Também é conhecida como distribuição Gaussiana e, em inglês, vocês também encontrarão pessoas chamando ela de *bell curve* (curva no formato de sino).\n",
    "\n",
    "A expressão desta distribuição é\n",
    "\n",
    "$$\n",
    "f(x;\\mu,\\sigma) = \\frac{1}{\\sigma \\sqrt{2 \\pi}} \\exp \\left( -\\frac{1}{2} \\left( \\frac{x - \\mu}{\\sigma} \\right)^2 \\right),\n",
    "$$\n",
    "\n",
    "onde $\\mu$ é a média da distribuição e $\\sigma$ é o desvio padrão.\n",
    "\n",
    "Quando uma variável aleatória $X$ segue a distribuição normal, isso é geralmente abreviado como $X \\sim N(\\mu, \\sigma^2)$ ou $X \\sim \\mathcal{N}(\\mu, \\sigma^2)$\n",
    "\n",
    "Antes de seguir, vamos ver um gráfico desta distribuição. No código abaixo, varie o valor da variável `MEDIA` e `DESV_PADRAO` e observe que a variável `MEDIA` altera a localização do pico e a variável `DESV_PADRAO` altera a largura do pico.\n",
    "\n"
   ]
  },
  {
   "cell_type": "code",
   "execution_count": null,
   "metadata": {},
   "outputs": [],
   "source": [
    "from math import pi\n",
    "\n",
    "MEDIA = 0\n",
    "DESV_PADRAO = 2\n",
    "\n",
    "def dist_normal(x, media, desvpadr):\n",
    "    \"\"\"Computa a pdf de uma distribuição normal.\"\"\"\n",
    "\n",
    "    preexp = 1 / (desvpadr * (2 * pi) ** (1/2))\n",
    "    exp = np.exp(-(1 / 2) * ((x - media) / desvpadr) ** 2)\n",
    "\n",
    "    return preexp * exp\n",
    "\n",
    "\n",
    "x = np.linspace(-20, 20, 1000)\n",
    "y = dist_normal(x, MEDIA, DESV_PADRAO)\n",
    "\n",
    "figura, eixo = plt.subplots()\n",
    "\n",
    "eixo.plot(x, y)\n",
    "\n",
    "eixo.set_xlabel(\"$x$\")\n",
    "eixo.set_ylabel(\"$f(x)$\")"
   ]
  },
  {
   "cell_type": "markdown",
   "metadata": {},
   "source": [
    "## A distribuição normal padrão\n",
    "\n"
   ]
  },
  {
   "cell_type": "markdown",
   "metadata": {},
   "source": [
    "A distribuição normal padrão ($\\varphi$) é simplesmente uma distribuição normal com média 0 e desvio padrão 1. Sua pdf é:\n",
    "\n",
    "$$\n",
    "\\varphi(x) \\equiv f(x;0,1) = \\frac{1}{\\sqrt{2 \\pi}} \\exp \\left( -\\frac{x^2}{2} \\right)\n",
    "$$\n",
    "\n",
    "A <u>normalização padrão</u> que vimos em aprendizado de máquina transforma uma distribuição normal qualquer em uma distribuição normal padrão. Por conta disso, a distribuição normal padrão é considerada uma distribuição de referência. Toda distribuição normal pode ser obtida da distribuição normal padrão.\n",
    "\n",
    "A cdf da distribuição normal padrão é representada pela letra $\\Phi$ e sua expressão é:\n",
    "\n",
    "$$\n",
    "\\Phi(x) = F(x;0,1) = \\frac{1}{2} \\left( 1 + \\textrm{erf} \\left( \\frac{x}{\\sqrt{2}} \\right) \\right),\n",
    "$$\n",
    "\n",
    "onde $\\mathrm{erf}$ é uma função especial conhecida como *função erro*, definida como\n",
    "\n",
    "$$\n",
    "\\mathrm{erf}(x) = \\frac{2}{\\sqrt{\\pi}} \\int_0^x e^{-t^2} \\, \\mathrm{d}t.\n",
    "$$\n",
    "\n",
    "A integral da função erro não pode ser representada for funções elementares (ou seja, não existe solução analítica para esta integral).\n",
    "\n",
    "Vamos ver a pdf da distribuição normal padrão.\n",
    "\n"
   ]
  },
  {
   "cell_type": "code",
   "execution_count": null,
   "metadata": {},
   "outputs": [],
   "source": [
    "def dist_normal_padrao(x):\n",
    "    return dist_normal(x, 0, 1)\n",
    "\n",
    "x = np.linspace(-10, 10, 1000)\n",
    "y = dist_normal_padrao(x)\n",
    "\n",
    "figura, eixo = plt.subplots()\n",
    "\n",
    "eixo.plot(x, y)\n",
    "\n",
    "eixo.set_xlabel(\"$x$\")\n",
    "eixo.set_ylabel(r\"$\\varphi(x)$\")"
   ]
  },
  {
   "cell_type": "markdown",
   "metadata": {},
   "source": [
    "Vamos ver a cdf da distribuição normal padrão.\n",
    "\n"
   ]
  },
  {
   "cell_type": "code",
   "execution_count": null,
   "metadata": {},
   "outputs": [],
   "source": [
    "def cdf_dist_normal_padrao(x):\n",
    "    return quad(dist_normal_padrao, -np.inf, x)[0]\n",
    "\n",
    "x = np.linspace(-10, 10, 1000)\n",
    "\n",
    "y = []\n",
    "for x_ in x:\n",
    "    y.append(cdf_dist_normal_padrao(x_))\n",
    "\n",
    "figura, eixo = plt.subplots()\n",
    "\n",
    "eixo.plot(x, y)\n",
    "\n",
    "eixo.set_xlabel(\"$x$\")\n",
    "eixo.set_ylabel(\"$\\Phi(x)$\")"
   ]
  },
  {
   "cell_type": "markdown",
   "metadata": {},
   "source": [
    "## Percentis da distribuição normal\n",
    "\n"
   ]
  },
  {
   "cell_type": "markdown",
   "metadata": {},
   "source": [
    "Observe a imagem abaixo.\n",
    "\n",
    "![img](https://upload.wikimedia.org/wikipedia/commons/8/8c/Standard_deviation_diagram.svg)\n",
    "\n",
    "Esta imagem nos mostra a área da distribuição normal em relação ao desvio padrão. Observe que 68% da área total da distribuição está entre os valores $\\mu - \\sigma$ e $\\mu + \\sigma$. Isto significa que na *maioria* das vezes (68%), observamos eventos que ocorrem entre a média e um desvio padrão para mais ou para menos.\n",
    "\n",
    "Vamos computar isso para a distribuição normal padrão para checar? Lembrando que nesta distribuição, a média é 0 e o desvio padrão é 1.\n",
    "\n"
   ]
  },
  {
   "cell_type": "code",
   "execution_count": null,
   "metadata": {},
   "outputs": [],
   "source": [
    "area_ate_media_menos_1_dp = cdf_dist_normal_padrao(0 - 1)\n",
    "area_ate_media_mais_1_dp = cdf_dist_normal_padrao(0 + 1)\n",
    "\n",
    "area_media_mais_ou_menos_1_dp = (\n",
    "    area_ate_media_mais_1_dp - area_ate_media_menos_1_dp\n",
    ")\n",
    "\n",
    "print(area_media_mais_ou_menos_1_dp)"
   ]
  },
  {
   "cell_type": "markdown",
   "metadata": {},
   "source": [
    "Considerando dois desvios padrões, temos 95% da área total da distribuição!\n",
    "\n"
   ]
  },
  {
   "cell_type": "code",
   "execution_count": null,
   "metadata": {},
   "outputs": [],
   "source": [
    "area_ate_media_menos_2_dp = cdf_dist_normal_padrao(0 - 2)\n",
    "area_ate_media_mais_2_dp = cdf_dist_normal_padrao(0 + 2)\n",
    "\n",
    "area_media_mais_ou_menos_2_dp = (\n",
    "    area_ate_media_mais_2_dp - area_ate_media_menos_2_dp\n",
    ")\n",
    "\n",
    "print(area_media_mais_ou_menos_2_dp)"
   ]
  },
  {
   "cell_type": "markdown",
   "metadata": {},
   "source": [
    "Com três desvios padrões, temos 99.7% da área total da distribuição (quase tudo).\n",
    "\n"
   ]
  },
  {
   "cell_type": "code",
   "execution_count": null,
   "metadata": {},
   "outputs": [],
   "source": [
    "area_ate_media_menos_3_dp = cdf_dist_normal_padrao(0 - 3)\n",
    "area_ate_media_mais_3_dp = cdf_dist_normal_padrao(0 + 3)\n",
    "\n",
    "area_media_mais_ou_menos_3_dp = (\n",
    "    area_ate_media_mais_3_dp - area_ate_media_menos_3_dp\n",
    ")\n",
    "\n",
    "print(area_media_mais_ou_menos_3_dp)"
   ]
  },
  {
   "cell_type": "markdown",
   "metadata": {},
   "source": [
    "Apesar de não ser impossível, é bastante raro observar valores que estejam mais do que 3 desvios padrões distantes da média (tanto para mais quanto para menos).\n",
    "\n"
   ]
  },
  {
   "cell_type": "markdown",
   "metadata": {},
   "source": [
    "## Leitura complementar\n",
    "\n"
   ]
  },
  {
   "cell_type": "markdown",
   "metadata": {},
   "source": [
    "Na seção 4.3 da referência [1] é apresentada uma forma de aproximar a distribuição binomial (que é discreta) por uma distribuição normal (que é contínua). Leia esta seção e explore estes conhecimentos em código.\n",
    "\n"
   ]
  },
  {
   "cell_type": "markdown",
   "metadata": {},
   "source": [
    "## O Teorema do Limite Central\n",
    "\n"
   ]
  },
  {
   "cell_type": "markdown",
   "metadata": {},
   "source": [
    "O Teorema do Limite Central é um dos mais importantes da probabilidade e estatística. Veja este [excelente vídeo](https://www.youtube.com/watch?v=zeJD6dqJ5lo) do canal 3blue1brown sobre este teorema.\n",
    "\n"
   ]
  },
  {
   "cell_type": "markdown",
   "metadata": {},
   "source": [
    "## XKCD relevante\n",
    "\n"
   ]
  },
  {
   "cell_type": "markdown",
   "metadata": {},
   "source": [
    "![img](https://imgs.xkcd.com/comics/normal_distribution.png)\n",
    "\n",
    "`Imagem: Normal Distribution (XKCD) disponível em https://xkcd.com/2118`\n",
    "\n"
   ]
  },
  {
   "cell_type": "markdown",
   "metadata": {},
   "source": [
    "## Referências\n",
    "\n"
   ]
  },
  {
   "cell_type": "markdown",
   "metadata": {},
   "source": [
    "1.  DEVORE, Jay L. Probabilidade E Estatística Para Engenharia E Ciências. Tradução Da 9ª Edição Norte-Americana. Cengage Learning, 2018.\n",
    "\n",
    "2.  Distribuição normal [https://en.wikipedia.org/wiki/Normal_distribution](https://en.wikipedia.org/wiki/Normal_distribution)\n",
    "\n",
    "3.  Função erro [https://en.wikipedia.org/wiki/Error_function](https://en.wikipedia.org/wiki/Error_function)\n",
    "\n",
    "4.  Vídeo sobre o Teorema do Limite Central [https://www.youtube.com/watch?v=zeJD6dqJ5lo](https://www.youtube.com/watch?v=zeJD6dqJ5lo)\n",
    "\n"
   ]
  }
 ],
 "metadata": {
  "kernelspec": {
   "display_name": "ilumpy",
   "language": "python",
   "name": "ilumpy"
  },
  "language_info": {
   "codemirror_mode": {
    "name": "ipython",
    "version": 3
   },
   "file_extension": ".py",
   "mimetype": "text/x-python",
   "name": "python",
   "nbconvert_exporter": "python",
   "pygments_lexer": "ipython3",
   "version": "3.10.8"
  },
  "org": null
 },
 "nbformat": 4,
 "nbformat_minor": 4
}
