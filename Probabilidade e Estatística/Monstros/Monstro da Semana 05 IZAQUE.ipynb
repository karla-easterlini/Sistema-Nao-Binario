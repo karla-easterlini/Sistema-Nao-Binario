{
 "cells": [
  {
   "cell_type": "markdown",
   "metadata": {},
   "source": [
    "To Bayes or not to Bayes\n",
    "========================\n",
    "\n"
   ]
  },
  {
   "cell_type": "markdown",
   "metadata": {},
   "source": [
    "## Objetivo\n",
    "\n"
   ]
  },
  {
   "cell_type": "markdown",
   "metadata": {},
   "source": [
    "Na sua área de estudo existem duas explicações reportadas na literatura para um certo fenômeno natural. Considere que estas explicações são mutualmente exclusivas.\n",
    "\n",
    "Evidências a favor das duas explicações existem e a comunidade científica ainda debate sobre qual destas explicações é a mais adequada para o fenômeno natural sendo estudado. Vamos chamar de $E_1$ o evento &ldquo;a explicação 1 está correta&rdquo; e de $E_2$ o evento &ldquo;a explicação 2 está correta&rdquo;.\n",
    "\n",
    "Você acabou de realizar um experimento e obteve uma nova evidência a favor da explicação 1. O experimento que você executou entrega o resultado correto $n$ vezes a cada 100 experimentos. Vamos chamar de $X$ o evento &ldquo;experimento realizado resultou em evidência a favor da explicação 1&rdquo;.\n",
    "\n",
    "Para cada <b>uma das situações abaixo</b>, compute a probabilidade a posteriori da explicação $E_1$ após a realização do experimento. Use sempre as notações discutidas no notebook da disciplina.\n",
    "\n",
    "1.  Probabilidade inicial de $E_1$ de 20% e $n=99$.\n",
    "\n",
    "2.  Probabilidade inicial de $E_1$ de 20% e $n=50$.\n",
    "\n",
    "3.  Probabilidade inicial de $E_1$ de 99% e $n=5$.\n",
    "\n",
    "Após isso, mostre como a probabilidade a posteriori se altera com a realização de mais experimentos sucessivos para o caso 2. Mostre graficamente seu resultado.\n",
    "\n",
    "Discuta os resultados obtidos.\n",
    "\n"
   ]
  },
  {
   "cell_type": "code",
   "execution_count": 2,
   "metadata": {},
   "outputs": [],
   "source": [
    "import matplotlib.pyplot as plt"
   ]
  },
  {
   "cell_type": "markdown",
   "metadata": {},
   "source": [
    "Para o cálculo da probabilidade a posteriori consideramos o seguinte:<br><br>\n",
    "$$P(X) = P(E)\\times P(X|E) + P(E^{c})\\times P(X|E^{c})$$<br><br>\n",
    "\n",
    "$$P(E|X) = \\frac{P(E)\\times P(X|E)}{P(X)}$$"
   ]
  },
  {
   "cell_type": "code",
   "execution_count": 3,
   "metadata": {},
   "outputs": [
    {
     "name": "stdout",
     "output_type": "stream",
     "text": [
      "A nova probabilidade da explicação 1 ser verdadeira é de 96.117%\n"
     ]
    }
   ],
   "source": [
    "p_x_e = 0.99\n",
    "p_e = 0.2\n",
    "#P(e) --> e complementar\n",
    "p_ec = 1- p_e\n",
    "p_xec = 1 - p_x_e\n",
    "p_x= (p_e*p_x_e)+(p_ec*p_xec)\n",
    "\n",
    "probabilidade = (p_e*p_x_e)/p_x\n",
    "\n",
    "print(f'A nova probabilidade da explicação 1 ser verdadeira é de {round(probabilidade*100,3)}%')"
   ]
  },
  {
   "cell_type": "code",
   "execution_count": 4,
   "metadata": {},
   "outputs": [
    {
     "name": "stdout",
     "output_type": "stream",
     "text": [
      "A nova probabilidade da explicação 1 ser verdadeira é de 20.0%\n"
     ]
    }
   ],
   "source": [
    "p_x_e = 0.50 #probabilidade de x dado e\n",
    "p_e = 0.2 #probabilidade de e\n",
    "\n",
    "#P(ec) --> e complementar\n",
    "\n",
    "p_ec = 1- p_e #probabilidade de e complementar\n",
    "\n",
    "p_xec = 1 - p_x_e #probabilidade de x dado e complementar\n",
    "\n",
    "p_x= (p_e*p_x_e)+(p_ec*p_xec) #probabilidade de x\n",
    "\n",
    "probabilidade = (p_e*p_x_e)/p_x\n",
    "\n",
    "print(f'A nova probabilidade da explicação 1 ser verdadeira é de {round(probabilidade*100,3)}%')"
   ]
  },
  {
   "cell_type": "code",
   "execution_count": 5,
   "metadata": {},
   "outputs": [
    {
     "name": "stdout",
     "output_type": "stream",
     "text": [
      "A nova probabilidade da explicação 1 ser verdadeira é de 83.898%\n"
     ]
    }
   ],
   "source": [
    "p_x_e = 0.05\n",
    "p_e = 0.99\n",
    "#P(e) --> e complementar\n",
    "p_ec = 1- p_e\n",
    "p_xec = 1 - p_x_e\n",
    "p_x= (p_e*p_x_e)+(p_ec*p_xec)\n",
    "\n",
    "probabilidade = (p_e*p_x_e)/p_x\n",
    "\n",
    "print(f'A nova probabilidade da explicação 1 ser verdadeira é de {round(probabilidade*100,3)}%')"
   ]
  },
  {
   "cell_type": "markdown",
   "metadata": {},
   "source": [
    "### Testanto para mais números de `n` no caso 2"
   ]
  },
  {
   "cell_type": "code",
   "execution_count": 7,
   "metadata": {},
   "outputs": [],
   "source": [
    "lista_n = []\n",
    "lista_p = []\n",
    "for n in range(0,100):\n",
    "    p_x_e = n/100 #probabilidade de x dado e\n",
    "    p_e = 0.2 #probabilidade de e\n",
    "\n",
    "    #P(ec) --> e complementar\n",
    "\n",
    "    p_ec = 1- p_e #probabilidade de e complementar\n",
    "\n",
    "    p_xec = 1 - p_x_e #probabilidade de x dado e complementar\n",
    "\n",
    "    p_x= (p_e*p_x_e)+(p_ec*p_xec) #probabilidade de x\n",
    "\n",
    "    probabilidade = (p_e*p_x_e)/p_x\n",
    "    lista_n.append(n)\n",
    "    lista_p.append(probabilidade)"
   ]
  },
  {
   "cell_type": "code",
   "execution_count": 16,
   "metadata": {},
   "outputs": [
    {
     "data": {
      "image/png": "[encoded data removed]",
      "text/plain": [
       "<Figure size 640x480 with 1 Axes>"
      ]
     },
     "metadata": {},
     "output_type": "display_data"
    }
   ],
   "source": [
    "fig, eixo = plt.subplots()\n",
    "\n",
    "eixo.plot(lista_n, lista_p, color = 'black')\n",
    "\n",
    "eixo.set_title(\"Variação de $P(E_{1})$ em função de n\")\n",
    "eixo.set_xlabel(\"n\")\n",
    "eixo.set_ylabel(\"$P(E_{1})$\")\n",
    "\n",
    "plt.show()"
   ]
  },
  {
   "cell_type": "markdown",
   "metadata": {},
   "source": [
    "## Resultado e discussão\n",
    "\n"
   ]
  },
  {
   "cell_type": "markdown",
   "metadata": {},
   "source": [
    "Se a probabilidade de E aumenta e a proabilidade de x dado e diminui isso nao influencia na probabilidade de x dado e de modo a não validar a afirmação. O evento E1 ainda continua verídico. Pq?"
   ]
  },
  {
   "cell_type": "markdown",
   "metadata": {},
   "source": [
    "## Referências\n",
    "\n"
   ]
  },
  {
   "cell_type": "markdown",
   "metadata": {},
   "source": [
    "[1] Cassar, Daniel Roberto. Notebook Probabilidade Condicional.\n"
   ]
  }
 ],
 "metadata": {
  "kernelspec": {
   "display_name": "ilumpy",
   "language": "python",
   "name": "ilumpy"
  },
  "language_info": {
   "codemirror_mode": {
    "name": "ipython",
    "version": 3
   },
   "file_extension": ".py",
   "mimetype": "text/x-python",
   "name": "python",
   "nbconvert_exporter": "python",
   "pygments_lexer": "ipython3",
   "version": "3.10.8"
  },
  "org": null
 },
 "nbformat": 4,
 "nbformat_minor": 4
}
