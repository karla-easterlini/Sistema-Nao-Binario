{
 "cells": [
  {
   "cell_type": "markdown",
   "metadata": {},
   "source": [
    "A média das médias\n",
    "==================\n",
    "\n"
   ]
  },
  {
   "cell_type": "markdown",
   "metadata": {},
   "source": [
    "## Objetivo\n",
    "\n"
   ]
  },
  {
   "cell_type": "markdown",
   "metadata": {},
   "source": [
    "Crie ou obtenha um conjunto de dados numéricos que representa uma variável aleatória (certifique-se que seu conjunto de dados tem pelo menos 100 itens). Considere que este conjunto de dados é a sua população. Compute e reporte a média desta população.\n",
    "\n",
    "Realize o processo de amostragem aleatória sem reposição neste conjunto de dados 100 vezes. Cada vez que realizar a amostragem, colete um certo número de dados (algo entre 25% e 75% dos dados, escolha o valor que preferir), compute a média das suas amostras e registre estas médias em uma lista.\n",
    "\n",
    "Compute a média da lista de médias que obteve e compare este valor com a média da população. Discuta seu resultado.\n",
    "\n"
   ]
  },
  {
   "cell_type": "markdown",
   "metadata": {},
   "source": [
    "## Resultado e discussão\n",
    "\n"
   ]
  },
  {
   "cell_type": "markdown",
   "metadata": {},
   "source": [
    "#### Criando o conjunto de dados"
   ]
  },
  {
   "cell_type": "code",
   "execution_count": 92,
   "metadata": {
    "tags": []
   },
   "outputs": [
    {
     "name": "stdout",
     "output_type": "stream",
     "text": [
      "A média da população é: 501.7125\n",
      "A estimativa da média da população com uma amostra de 25% é: 481.58\n",
      "A estimativa da média da população com uma amostra de 75% é: 501.5466666666667\n"
     ]
    }
   ],
   "source": [
    "from numpy.random import choice\n",
    "from numpy import *\n",
    "\n",
    "cnj_dados = np.random.randint(0,1000, (20,20))\n",
    "#C = [1,2,3,4,5,6,7,8,9,10]\n",
    "\n",
    "media = cnj_dados.mean()\n",
    "print(f'A média da população é: {media}')"
   ]
  },
  {
   "cell_type": "markdown",
   "metadata": {
    "tags": []
   },
   "source": [
    "#### Amostragem"
   ]
  },
  {
   "cell_type": "code",
   "execution_count": 93,
   "metadata": {
    "tags": []
   },
   "outputs": [
    {
     "name": "stdout",
     "output_type": "stream",
     "text": [
      "A estimativa da média da população com uma amostra de 25% é: 505.67\n",
      "A estimativa da média da população com uma amostra de 75% é: 499.93333333333334\n"
     ]
    }
   ],
   "source": [
    "tam1 = 100\n",
    "tam2 = 300\n",
    "pop = cnj_dados.flatten()\n",
    "\n",
    "amostra1 = choice(pop, tam1, replace=False)\n",
    "media1 = amostra1.mean()\n",
    "print(f'A estimativa da média da população com uma amostra de 25% é: {media1}')\n",
    "\n",
    "amostra2 = choice(pop, tam2, replace=False)\n",
    "media2 = amostra2.mean()\n",
    "print(f'A estimativa da média da população com uma amostra de 75% é: {media2}')"
   ]
  },
  {
   "cell_type": "markdown",
   "metadata": {},
   "source": [
    "#### 100 amostras"
   ]
  },
  {
   "cell_type": "code",
   "execution_count": 128,
   "metadata": {
    "tags": []
   },
   "outputs": [],
   "source": [
    "dados = np.random.randint(0,1000, (25,4))\n",
    "pop1 = dados.flatten()\n",
    "\n",
    "#A fração (frac) deve ser um número inteiro, exemplo: 75% da população, escrever '75'\n",
    "# qtd significa quantidade da amostras que quer produzir\n",
    "def amostragem(lista, total, frac, qtd):\n",
    "    tam = (total * frac) * (100 ** (-1))\n",
    "    dic = {\n",
    "        \"media da população\": [],\n",
    "        \"amostras\": [],\n",
    "        \"media das amostras\": [],\n",
    "        \"media das medias das amostras\": [],\n",
    "        \"sublistas\": [],\n",
    "    }\n",
    "    dic[\"media da população\"].append(lista.mean())\n",
    "    for i in range(qtd):\n",
    "        am = choice(pop, int(tam), replace=False)\n",
    "        dic[\"amostras\"].append(\"M\" + str(i))\n",
    "        dic[\"sublistas\"].append(am)\n",
    "        dic[\"media das amostras\"].append(round(am.mean() , 1))\n",
    "        dic[\"media das medias das amostras\"] = round(np.mean(dic[\"media das amostras\"]),1)\n",
    "    return dic"
   ]
  },
  {
   "cell_type": "markdown",
   "metadata": {},
   "source": [
    "##### 75% da população"
   ]
  },
  {
   "cell_type": "code",
   "execution_count": 143,
   "metadata": {
    "tags": []
   },
   "outputs": [
    {
     "name": "stdout",
     "output_type": "stream",
     "text": [
      "A média da população é : [451.55]\n",
      "\n",
      "A estimativa de média da população com 75% de amostragem é : [498.3, 557.9, 541.7, 453.7, 440.7, 447.1, 551.9, 512.7, 446.1, 499.2, 457.5, 399.1, 543.8, 574.3, 489.1, 468.5, 390.9, 617.4, 540.5, 549.1, 577.9, 532.8, 554.9, 544.7, 520.2, 523.2, 541.9, 498.8, 482.6, 455.6, 558.4, 446.8, 499.9, 494.4, 498.6, 479.6, 531.2, 460.4, 481.8, 584.4, 522.5, 489.4, 445.7, 450.7, 591.5, 512.4, 482.5, 466.4, 482.7, 464.7, 556.9, 526.2, 536.5, 510.0, 407.7, 586.0, 458.9, 571.3, 500.3, 404.4, 531.8, 464.4, 515.5, 558.2, 484.6, 478.5, 518.5, 571.3, 516.2, 370.5, 480.3, 496.2, 524.4, 479.4, 480.4, 507.0, 542.8, 456.1, 517.8, 529.4, 529.7, 497.4, 515.7, 519.4, 493.1, 490.7, 468.2, 520.4, 447.2, 510.0, 439.7, 476.8, 523.0, 472.6, 534.9, 460.4, 500.0, 475.3, 490.4, 561.4]\n",
      "\n",
      "A média da média das amostras é : 501.6\n"
     ]
    }
   ],
   "source": [
    "x = amostragem(pop1, 50, 75, 100)\n",
    "print(f'A média da população é : {x[\"media da população\"]}')\n",
    "print()\n",
    "print(f'A estimativa de média da população com 75% de amostragem é : {x[\"media das amostras\"]}')\n",
    "print()\n",
    "print(f'A média da média das amostras é : {x[\"media das medias das amostras\"]}')"
   ]
  },
  {
   "cell_type": "markdown",
   "metadata": {},
   "source": [
    "##### 25% da população"
   ]
  },
  {
   "cell_type": "code",
   "execution_count": 144,
   "metadata": {
    "tags": []
   },
   "outputs": [
    {
     "name": "stdout",
     "output_type": "stream",
     "text": [
      "A média da população é : [451.55]\n",
      "\n",
      "A estimativa de média da população com 75% de amostragem é : [531.8, 454.8, 439.9, 469.7, 544.2, 589.5, 595.2, 571.7, 443.8, 410.2, 484.2, 335.7, 521.8, 513.4, 435.6, 707.5, 409.8, 465.2, 721.7, 631.8, 601.4, 551.7, 654.4, 543.4, 738.9, 464.2, 558.9, 488.7, 547.8, 501.8, 607.8, 508.9, 480.1, 349.9, 439.9, 504.5, 499.5, 575.4, 502.9, 572.2, 501.8, 513.2, 468.8, 465.3, 461.4, 531.0, 482.2, 492.2, 576.9, 387.1, 720.2, 469.3, 475.8, 567.2, 473.7, 452.8, 481.1, 435.1, 538.7, 601.2, 708.6, 356.6, 562.8, 414.8, 570.7, 542.3, 451.5, 658.8, 446.2, 499.2, 656.7, 568.8, 510.4, 632.9, 510.0, 459.0, 528.3, 484.8, 718.5, 526.1, 402.6, 507.3, 517.8, 308.5, 529.8, 681.7, 521.9, 294.7, 657.8, 642.2, 423.1, 422.9, 552.7, 692.8, 638.5, 505.0, 383.1, 516.5, 585.8, 570.2]\n",
      "\n",
      "A média da média das amostras é : 522.3\n"
     ]
    }
   ],
   "source": [
    "y = amostragem(pop1, 50, 25, 100)\n",
    "print(f'A média da população é : {y[\"media da população\"]}')\n",
    "print()\n",
    "print(f'A estimativa de média da população com 75% de amostragem é : {y[\"media das amostras\"]}')\n",
    "print()\n",
    "print(f'A média da média das amostras é : {y[\"media das medias das amostras\"]}')"
   ]
  },
  {
   "cell_type": "markdown",
   "metadata": {
    "tags": []
   },
   "source": [
    "#### Afim de comparações"
   ]
  },
  {
   "cell_type": "code",
   "execution_count": 145,
   "metadata": {
    "tags": []
   },
   "outputs": [],
   "source": [
    "def amostragem_comp(lista, total, frac1, frac2, qtd):\n",
    "    tam11 = (total * frac1) * (100 ** (-1))\n",
    "    tam22 = (total * frac2) * (100 ** (-1))\n",
    "    dic1 = {\n",
    "        \"media da população\": [],\n",
    "        \"amostras\": [],\n",
    "        \"media das amostras\": [],\n",
    "        \"media das medias das amostras\": [],\n",
    "        \"sublistas\": [],\n",
    "    }\n",
    "    dic2 = {\n",
    "        \"media da população\": [],\n",
    "        \"amostras\": [],\n",
    "        \"media das amostras\": [],\n",
    "        \"media das medias das amostras\": [],\n",
    "        \"sublistas\": [],\n",
    "    }\n",
    "    dic1[\"media da população\"].append(lista.mean())\n",
    "    dic2[\"media da população\"].append(lista.mean())\n",
    "    for i in range(qtd):\n",
    "        am1 = choice(pop, int(tam11), replace=False)\n",
    "        dic1[\"amostras\"].append(\"M\" + str(i))\n",
    "        dic1[\"sublistas\"].append(am)\n",
    "        dic1[\"media das amostras\"].append(round(am.mean() , 1))\n",
    "        dic1[\"media das medias das amostras\"] = round(np.mean(dic1[\"media das amostras\"]),1)\n",
    "    for i in range(qtd):\n",
    "        am2 = choice(pop, int(tam22), replace=False)\n",
    "        dic2[\"amostras\"].append(\"M\" + str(i))\n",
    "        dic2[\"sublistas\"].append(am)\n",
    "        dic2[\"media das amostras\"].append(round(am.mean() , 1))\n",
    "        dic2[\"media das medias das amostras\"] = round(np.mean(dic2[\"media das amostras\"]),1)\n",
    "    return dic1, dic2"
   ]
  },
  {
   "cell_type": "markdown",
   "metadata": {},
   "source": [
    "##### 75% da população"
   ]
  },
  {
   "cell_type": "code",
   "execution_count": 143,
   "metadata": {
    "collapsed": true,
    "jupyter": {
     "outputs_hidden": true
    },
    "tags": []
   },
   "outputs": [
    {
     "name": "stdout",
     "output_type": "stream",
     "text": [
      "A média da população é : [451.55]\n",
      "\n",
      "A estimativa de média da população com 75% de amostragem é : [498.3, 557.9, 541.7, 453.7, 440.7, 447.1, 551.9, 512.7, 446.1, 499.2, 457.5, 399.1, 543.8, 574.3, 489.1, 468.5, 390.9, 617.4, 540.5, 549.1, 577.9, 532.8, 554.9, 544.7, 520.2, 523.2, 541.9, 498.8, 482.6, 455.6, 558.4, 446.8, 499.9, 494.4, 498.6, 479.6, 531.2, 460.4, 481.8, 584.4, 522.5, 489.4, 445.7, 450.7, 591.5, 512.4, 482.5, 466.4, 482.7, 464.7, 556.9, 526.2, 536.5, 510.0, 407.7, 586.0, 458.9, 571.3, 500.3, 404.4, 531.8, 464.4, 515.5, 558.2, 484.6, 478.5, 518.5, 571.3, 516.2, 370.5, 480.3, 496.2, 524.4, 479.4, 480.4, 507.0, 542.8, 456.1, 517.8, 529.4, 529.7, 497.4, 515.7, 519.4, 493.1, 490.7, 468.2, 520.4, 447.2, 510.0, 439.7, 476.8, 523.0, 472.6, 534.9, 460.4, 500.0, 475.3, 490.4, 561.4]\n",
      "\n",
      "A média da média das amostras é : 501.6\n"
     ]
    }
   ],
   "source": [
    "z = amostragem_comp(pop1, 50, 75, 100)\n",
    "print(f'A média da população é : {z[\"media da população\"]}')\n",
    "print()\n",
    "print(f'A estimativa de média da população com 75% de amostragem é : {z[\"media das amostras\"]}')\n",
    "print()\n",
    "print(f'A média da média das amostras é : {z[\"media das medias das amostras\"]}')"
   ]
  },
  {
   "cell_type": "markdown",
   "metadata": {},
   "source": [
    "##### 25% da população"
   ]
  },
  {
   "cell_type": "code",
   "execution_count": 144,
   "metadata": {
    "tags": []
   },
   "outputs": [
    {
     "name": "stdout",
     "output_type": "stream",
     "text": [
      "A média da população é : [451.55]\n",
      "\n",
      "A estimativa de média da população com 75% de amostragem é : [531.8, 454.8, 439.9, 469.7, 544.2, 589.5, 595.2, 571.7, 443.8, 410.2, 484.2, 335.7, 521.8, 513.4, 435.6, 707.5, 409.8, 465.2, 721.7, 631.8, 601.4, 551.7, 654.4, 543.4, 738.9, 464.2, 558.9, 488.7, 547.8, 501.8, 607.8, 508.9, 480.1, 349.9, 439.9, 504.5, 499.5, 575.4, 502.9, 572.2, 501.8, 513.2, 468.8, 465.3, 461.4, 531.0, 482.2, 492.2, 576.9, 387.1, 720.2, 469.3, 475.8, 567.2, 473.7, 452.8, 481.1, 435.1, 538.7, 601.2, 708.6, 356.6, 562.8, 414.8, 570.7, 542.3, 451.5, 658.8, 446.2, 499.2, 656.7, 568.8, 510.4, 632.9, 510.0, 459.0, 528.3, 484.8, 718.5, 526.1, 402.6, 507.3, 517.8, 308.5, 529.8, 681.7, 521.9, 294.7, 657.8, 642.2, 423.1, 422.9, 552.7, 692.8, 638.5, 505.0, 383.1, 516.5, 585.8, 570.2]\n",
      "\n",
      "A média da média das amostras é : 522.3\n"
     ]
    }
   ],
   "source": [
    "a = amostragem_comp(pop1, 50, 25, 100)\n",
    "print(f'A média da população é : {a[\"media da população\"]}')\n",
    "print()\n",
    "print(f'A estimativa de média da população com 75% de amostragem é : {a[\"media das amostras\"]}')\n",
    "print()\n",
    "print(f'A média da média das amostras é : {a[\"media das medias das amostras\"]}')"
   ]
  },
  {
   "cell_type": "markdown",
   "metadata": {
    "tags": []
   },
   "source": [
    "#### Discussão\n",
    "A amostragem da população pode aparentar ter valores repetidos, ainda que o comando replace seja equivalente a False. Isso acontece porque o cnj_dados pode ter entre os valores randomizados, alguns valores que sejam iguais, porém em posições diferentes. Por conta disso, podem aparecer valores iguais, msa de posições diferentes no array que foi criado.\n",
    "\n",
    "Se fosse usado um conjunto C qualquer com valores não repetidos, isso não aconteceria."
   ]
  },
  {
   "cell_type": "markdown",
   "metadata": {},
   "source": [
    "## Referências\n",
    "\n"
   ]
  },
  {
   "cell_type": "markdown",
   "metadata": {},
   "source": [
    "Escreva nesta seção as referências consultadas.\n",
    "\n",
    "https://stackoverflow.com/questions/25440008/python-pandas-flatten-a-dataframe-to-a-list\n",
    "\n",
    "http://www.bosontreinamentos.com.br/programacao-em-python/como-arredondar-numeros-em-python/\n",
    "\n",
    "https://stackoverflow.com/questions/25440008/python-pandas-flatten-a-dataframe-to-a-list\n",
    "\n",
    "https://acervolima.com/amostragem-aleatoria-em-numpy-funcao-sample/"
   ]
  },
  {
   "cell_type": "markdown",
   "metadata": {},
   "source": [
    "## Playground\n",
    "\n"
   ]
  },
  {
   "cell_type": "code",
   "execution_count": null,
   "metadata": {},
   "outputs": [],
   "source": []
  }
 ],
 "metadata": {
  "kernelspec": {
   "display_name": "ilumpy",
   "language": "python",
   "name": "ilumpy"
  },
  "language_info": {
   "codemirror_mode": {
    "name": "ipython",
    "version": 3
   },
   "file_extension": ".py",
   "mimetype": "text/x-python",
   "name": "python",
   "nbconvert_exporter": "python",
   "pygments_lexer": "ipython3",
   "version": "3.10.8"
  },
  "org": null
 },
 "nbformat": 4,
 "nbformat_minor": 4
}
