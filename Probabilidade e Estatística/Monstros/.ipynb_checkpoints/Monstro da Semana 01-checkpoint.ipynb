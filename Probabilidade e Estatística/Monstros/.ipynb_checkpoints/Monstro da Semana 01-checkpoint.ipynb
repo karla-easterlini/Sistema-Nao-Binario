{
 "cells": [
  {
   "cell_type": "markdown",
   "metadata": {},
   "source": [
    "Estatística descritiva - Exercício\n",
    "==================================\n",
    "\n"
   ]
  },
  {
   "cell_type": "markdown",
   "metadata": {},
   "source": [
    "## Objetivo\n",
    "\n"
   ]
  },
  {
   "cell_type": "markdown",
   "metadata": {},
   "source": [
    "Faça uma análise exploratória do conjunto de dados que você recebeu. Para isso, compute estatísticas descritivas dos dados e escolha algumas variáveis para representar graficamente. Com as informações obtidas, escreva um texto sobre o que observou.\n",
    "\n"
   ]
  },
  {
   "cell_type": "markdown",
   "metadata": {
    "tags": []
   },
   "source": [
    "## Resultado e discussão\n",
    "\n"
   ]
  },
  {
   "cell_type": "code",
   "execution_count": 4,
   "metadata": {
    "tags": []
   },
   "outputs": [
    {
     "name": "stdout",
     "output_type": "stream",
     "text": [
      "248.0662248001055\n"
     ]
    }
   ],
   "source": [
    "import pandas as pd\n",
    "import statistics as st\n",
    "import matplotlib.pyplot as plt\n",
    "import numpy as np\n",
    "\n",
    "nome_do_arquivo = \"questionario.xlsx\"\n",
    "\n",
    "df_do_excel = pd.read_excel(nome_do_arquivo) #Leu o arquivo inteiro\n",
    "\n",
    "alturas = df_do_excel['Qual é a sua altura em centímetros?\\n'] #Atributo de altura\n",
    "\n",
    "sapato = df_do_excel['Qual é o número de sapato que você calça?\\n'] #Atributo de sapato\n",
    "\n",
    "mes_do_aniversario = df_do_excel['Qual o mês do seu aniversário?\\n'] #Atributo de aniversário\n",
    "\n",
    "qtd_irmaos = df_do_excel['Quantos irmãos você tem?\\n'] \n",
    "\n",
    "livros = df_do_excel['Quantos livros você leu ano passado?\\n']\n",
    "\n",
    "cor = df_do_excel['Das cores abaixo qual é a sua favorita (ou a cor que mais gosta se sua cor favorita mesmo não estiver na lista)?\\n']\n",
    "\n",
    "azeitona = df_do_excel['Qual a sua opinião sobre azeitona?\\n']\n",
    "\n",
    "mais_afinidade = df_do_excel['Qual destas linhas de estudo é a que você tem mais afinidade?\\n']\n",
    "\n",
    "menos_afinidade = df_do_excel['Qual destas linhas de estudo é a que você tem menos afinidade?\\n']\n",
    "\n",
    "gatos_sao_melhores = df_do_excel['Cachorros ou gatos?\\n']\n",
    "\n",
    "dv_padrao_altura = st.pstdev(alturas)\n",
    "print(dv_padrao_altura)"
   ]
  },
  {
   "cell_type": "markdown",
   "metadata": {
    "tags": []
   },
   "source": [
    "## Discussões de Altura"
   ]
  },
  {
   "cell_type": "code",
   "execution_count": 127,
   "metadata": {
    "tags": []
   },
   "outputs": [
    {
     "name": "stdout",
     "output_type": "stream",
     "text": [
      "Mediana:  170.0\n",
      "Média:  204.66806451612902\n",
      "Desvio Padrão:  248.06622480010552\n",
      "Variância:  61536.85188657648\n"
     ]
    },
    {
     "data": {
      "image/png": "[encoded data removed]",
      "text/plain": [
       "<Figure size 432x288 with 1 Axes>"
      ]
     },
     "metadata": {
      "needs_background": "light"
     },
     "output_type": "display_data"
    }
   ],
   "source": [
    "mediana = np.median(alturas)\n",
    "media = np.mean(alturas)\n",
    "desv_pad = np.std(alturas)\n",
    "variancia = np.var(alturas)\n",
    "\n",
    "print('Mediana: ', mediana)\n",
    "print('Média: ', media)\n",
    "print('Desvio Padrão: ', desv_pad)\n",
    "print('Variância: ', variancia)\n",
    "\n",
    "plt.hist(alturas, bins=100)\n",
    "plt.xlabel('Alturas')\n",
    "plt.ylabel('Quantidade de Alunos')\n",
    "plt.title('Distribuição de alturas')\n",
    "plt.show()"
   ]
  },
  {
   "cell_type": "markdown",
   "metadata": {
    "tags": []
   },
   "source": [
    "### Discussão inicial\n",
    "Nota-se 2 resultados do atributo altura com problema, que diferem muito do desvio padrão. Que são os valores equivalentes a 1545 e 1.71 centímetros. Nenhum destes valores podem ser comparados com outros valores mais próximos do desvio padrão, visto que os outros valores estão mais próximos da realidade, pois ninguém tem uma altura de 15 metrous ou menos de 2 centímetros. Além disso, a média deu um valor aproximado de 2,05 metros, e por razão de que existiria apenas uma pessoa, teóricamente, com bem mais de 2 metros em sala, essa pessoa não representa a média da turma, o mesmo procede para o valor mínimo de 1.71 centímetros.\n",
    "Portanto, estes dois valores não pode ser considerados durante o tratamento dos dados."
   ]
  },
  {
   "cell_type": "code",
   "execution_count": 128,
   "metadata": {
    "tags": []
   },
   "outputs": [
    {
     "name": "stdout",
     "output_type": "stream",
     "text": [
      "Mediana:  170.0\n",
      "Média:  170.75\n",
      "Desvio Padrão:  9.504228382296857\n",
      "Variância:  90.33035714285714\n"
     ]
    },
    {
     "data": {
      "image/png": "[encoded data removed]",
      "text/plain": [
       "<Figure size 432x288 with 1 Axes>"
      ]
     },
     "metadata": {
      "needs_background": "light"
     },
     "output_type": "display_data"
    }
   ],
   "source": [
    "alturas_certas = []\n",
    "\n",
    "for i in alturas:\n",
    "    if 100 <= i <= 200:\n",
    "        alturas_certas.append(i)\n",
    "\n",
    "mediana = np.median(alturas_certas)\n",
    "media = np.mean(alturas_certas)\n",
    "desv_pad = np.std(alturas_certas)\n",
    "variancia = np.var(alturas_certas)\n",
    "\n",
    "print('Mediana: ', mediana)\n",
    "print('Média: ', media)\n",
    "print('Desvio Padrão: ', desv_pad)\n",
    "print('Variância: ', variancia)\n",
    "\n",
    "plt.hist(alturas_certas, bins=50, range=(155, 190), align='left', rwidth=0.8)\n",
    "plt.xlabel('Alturas')\n",
    "plt.ylabel('Quantidade de Alunos')\n",
    "plt.title('Distribuição de alturas')\n",
    "plt.show()"
   ]
  },
  {
   "cell_type": "markdown",
   "metadata": {
    "tags": []
   },
   "source": [
    "### Discussão final\n",
    "Agora, após retirar os elementos maiores que 2 metros e 10, e menores que 1 metro, a media e mediana equivaleram a valores aproxiamods, e o desvio padrão diminuiu em cerca de 26 vezes.\n",
    "Note que agora os valores são bem mais factíveis."
   ]
  },
  {
   "cell_type": "markdown",
   "metadata": {
    "tags": []
   },
   "source": [
    "## Discussão de Sapatão"
   ]
  },
  {
   "cell_type": "code",
   "execution_count": 129,
   "metadata": {
    "tags": []
   },
   "outputs": [
    {
     "name": "stdout",
     "output_type": "stream",
     "text": [
      "Mediana:  40.0\n",
      "Média:  39.58064516129032\n",
      "Desvio Padrão:  3.14974851580236\n",
      "Variância:  9.92091571279917\n"
     ]
    },
    {
     "data": {
      "image/png": "[encoded data removed]",
      "text/plain": [
       "<Figure size 432x288 with 1 Axes>"
      ]
     },
     "metadata": {
      "needs_background": "light"
     },
     "output_type": "display_data"
    }
   ],
   "source": [
    "mediana = np.median(sapato)\n",
    "media = np.mean(sapato)\n",
    "desv_pad = np.std(sapato)\n",
    "variancia = np.var(sapato)\n",
    "\n",
    "print('Mediana: ', mediana)\n",
    "print('Média: ', media)\n",
    "print('Desvio Padrão: ', desv_pad)\n",
    "print('Variância: ', variancia)\n",
    "\n",
    "plt.hist(sapato, bins=30, range=(32, 47), align='left', rwidth=0.8)\n",
    "plt.xlabel('Tamanhos')\n",
    "plt.ylabel('Quantidade de Alunos')\n",
    "plt.title('Distribuição de tamanhos de sapatos')\n",
    "plt.show()"
   ]
  },
  {
   "cell_type": "markdown",
   "metadata": {
    "tags": []
   },
   "source": [
    "## Discussões do Aniversário\n",
    "\n"
   ]
  },
  {
   "cell_type": "code",
   "execution_count": 130,
   "metadata": {
    "tags": []
   },
   "outputs": [
    {
     "name": "stdout",
     "output_type": "stream",
     "text": [
      "Moda:  5\n",
      "Mediana:  6.0\n",
      "Média:  6.774193548387097\n",
      "Desvio Padrão:  3.299165851753702\n",
      "Variância:  10.88449531737773\n"
     ]
    },
    {
     "data": {
      "image/png": "[encoded data removed]",
      "text/plain": [
       "<Figure size 432x288 with 1 Axes>"
      ]
     },
     "metadata": {
      "needs_background": "light"
     },
     "output_type": "display_data"
    }
   ],
   "source": [
    "mes_com_mais_aniversarios = st.mode(mes_do_aniversario)\n",
    "print('Moda: ', mes_com_mais_aniversarios)\n",
    "\n",
    "media = np.mean(mes_do_aniversario)\n",
    "desv_pad = np.std(mes_do_aniversario)\n",
    "variancia = np.var(mes_do_aniversario)\n",
    "\n",
    "print('Mediana: ', mediana)\n",
    "print('Média: ', media)\n",
    "print('Desvio Padrão: ', desv_pad)\n",
    "print('Variância: ', variancia)\n",
    "\n",
    "plt.hist(mes_do_aniversario, bins=25, range=(1, 13), align='left', rwidth=0.8)\n",
    "plt.xlabel('Meses')\n",
    "plt.ylabel('Quantidade de Alunos')\n",
    "plt.title('Distribuição de Aniversários')\n",
    "plt.xticks(np.arange(0, 13, step=1))\n",
    "plt.show()"
   ]
  },
  {
   "cell_type": "markdown",
   "metadata": {
    "tags": []
   },
   "source": [
    "## Discussões dos Brothers\n",
    "\n"
   ]
  },
  {
   "cell_type": "code",
   "execution_count": 5,
   "metadata": {
    "tags": []
   },
   "outputs": [
    {
     "data": {
      "image/png": "[encoded data removed]",
      "text/plain": [
       "<Figure size 432x288 with 1 Axes>"
      ]
     },
     "metadata": {
      "needs_background": "light"
     },
     "output_type": "display_data"
    }
   ],
   "source": [
    "plt.hist(qtd_irmaos, bins=30, range=(0, 20), align='left', rwidth=0.8)\n",
    "plt.xlabel('Quantidade de Irmãos')\n",
    "plt.ylabel('Quantidade de Alunos')\n",
    "plt.title('Distribuição de Irmãos por Alunos')\n",
    "plt.show()"
   ]
  },
  {
   "cell_type": "markdown",
   "metadata": {
    "tags": []
   },
   "source": [
    "### Discussão Inicial\n",
    "Apesar da estranheza de encontrar uma pessoa que tenha 18 irmãos, este dado é viável e não deve ser desconsiderado do resto, por razão de que é realmente aplicável na realidade, uma pessoa pode ter, biológicamente, 19 filhos ao longo da vida.\n",
    "Porém, ele não representa a maioria, e por isso, o desvio padrão não será condizente com a população no geral, por isso, considere o gráfico acima contando com toda a população, e os cálculos de média, mediana, moda, desvio padrão e variância sem o dado anômalo."
   ]
  },
  {
   "cell_type": "code",
   "execution_count": 6,
   "metadata": {
    "tags": []
   },
   "outputs": [
    {
     "name": "stdout",
     "output_type": "stream",
     "text": [
      "Moda:  1\n",
      "Mediana:  1.0\n",
      "Média:  1.5\n",
      "Desvio Padrão:  1.4548768561863463\n",
      "Variância:  2.1166666666666667\n"
     ]
    }
   ],
   "source": [
    "irmaos_certo = []\n",
    "for i in qtd_irmaos:\n",
    "    if i < 10:\n",
    "        irmaos_certo.append(i)\n",
    "mediana = np.median(irmaos_certo)\n",
    "media = np.mean(irmaos_certo)\n",
    "desv_pad = np.std(irmaos_certo)\n",
    "variancia = np.var(irmaos_certo)\n",
    "moda = st.mode(irmaos_certo)\n",
    "\n",
    "print('Moda: ', moda)\n",
    "print('Mediana: ', mediana)\n",
    "print('Média: ', media)\n",
    "print('Desvio Padrão: ', desv_pad)\n",
    "print('Variância: ', variancia)"
   ]
  },
  {
   "cell_type": "markdown",
   "metadata": {
    "tags": []
   },
   "source": [
    "## Referências\n",
    "\n"
   ]
  },
  {
   "cell_type": "markdown",
   "metadata": {},
   "source": [
    "Escreva nesta seção as referências consultadas.\n",
    "\n",
    "https://towardsdatascience.com/fix-pandas-parser-error-tokenizing-data-889167292d38\n",
    "\n",
    "http://www.bosontreinamentos.com.br/programacao-em-python/estatistica-descritiva-em-python-media-mediana-variancia-e-desvio-padrao/\n",
    "\n",
    "https://www.alura.com.br/artigos/listas-no-python#:~:text=Removendo%20um%20elemento%20de%20uma%20lista%20com%20o%20método%20remove(),-Agora%20que%20já&text=Acontece%20que%20o%20método%20remove,os%20elementos%20com%20esse%20valor."
   ]
  },
  {
   "cell_type": "markdown",
   "metadata": {},
   "source": [
    "## Playground\n",
    "\n"
   ]
  },
  {
   "cell_type": "markdown",
   "metadata": {},
   "source": [
    "## Discussão das Azeitonas"
   ]
  },
  {
   "cell_type": "markdown",
   "metadata": {
    "tags": []
   },
   "source": [
    "### Não deu tempo de fazer, mas gostaria de frizar que o nome inicial pra esse histograma era: \"Azeitona: Ame-a ou Deixa-a.\""
   ]
  }
 ],
 "metadata": {
  "kernelspec": {
   "display_name": "ilumpy",
   "language": "python",
   "name": "ilumpy"
  },
  "language_info": {
   "codemirror_mode": {
    "name": "ipython",
    "version": 3
   },
   "file_extension": ".py",
   "mimetype": "text/x-python",
   "name": "python",
   "nbconvert_exporter": "python",
   "pygments_lexer": "ipython3",
   "version": "3.9.13"
  },
  "org": null
 },
 "nbformat": 4,
 "nbformat_minor": 4
}
