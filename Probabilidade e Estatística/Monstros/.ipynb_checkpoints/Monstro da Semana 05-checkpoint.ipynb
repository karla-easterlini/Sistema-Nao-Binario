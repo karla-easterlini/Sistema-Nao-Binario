{
 "cells": [
  {
   "cell_type": "markdown",
   "metadata": {},
   "source": [
    "To Bayes or not to Bayes\n",
    "========================\n",
    "\n"
   ]
  },
  {
   "cell_type": "markdown",
   "metadata": {},
   "source": [
    "## Objetivo\n",
    "\n"
   ]
  },
  {
   "cell_type": "markdown",
   "metadata": {},
   "source": [
    "Na sua área de estudo existem duas explicações reportadas na literatura para um certo fenômeno natural. Considere que estas explicações são mutualmente exclusivas.\n",
    "\n",
    "Evidências a favor das duas explicações existem e a comunidade científica ainda debate sobre qual destas explicações é a mais adequada para o fenômeno natural sendo estudado. Vamos chamar de $E_1$ o evento &ldquo;a explicação 1 está correta&rdquo; e de $E_2$ o evento &ldquo;a explicação 2 está correta&rdquo;.\n",
    "\n",
    "Você acabou de realizar um experimento e obteve uma nova evidência a favor da explicação 1. O experimento que você executou entrega o resultado correto $n$ vezes a cada 100 experimentos. Vamos chamar de $X$ o evento &ldquo;experimento realizado resultou em evidência a favor da explicação 1&rdquo;.\n",
    "\n",
    "Para cada uma das situações abaixo, compute a probabilidade a posteriori da explicação $E_1$ após a realização do experimento. Use sempre as notações discutidas no notebook da disciplina.\n",
    "\n",
    "1.  Probabilidade inicial de $E_1$ de 20% e $n=99$.\n",
    "\n",
    "2.  Probabilidade inicial de $E_1$ de 20% e $n=50$.\n",
    "\n",
    "3.  Probabilidade inicial de $E_1$ de 99% e $n=5$.\n",
    "\n",
    "Após isso, mostre como a probabilidade a posteriori se altera com a realização de mais experimentos sucessivos para o caso 2. Mostre graficamente seu resultado.\n",
    "\n",
    "Discuta os resultados obtidos.\n",
    "\n"
   ]
  },
  {
   "cell_type": "markdown",
   "metadata": {},
   "source": [
    "## Resultado e discussão\n",
    "\n"
   ]
  },
  {
   "cell_type": "code",
   "execution_count": null,
   "metadata": {},
   "outputs": [],
   "source": []
  },
  {
   "cell_type": "markdown",
   "metadata": {},
   "source": [
    "## Referências\n",
    "\n"
   ]
  },
  {
   "cell_type": "markdown",
   "metadata": {},
   "source": [
    "Escreva nesta seção as referências consultadas.\n",
    "\n"
   ]
  },
  {
   "cell_type": "markdown",
   "metadata": {},
   "source": [
    "## Playground\n",
    "\n"
   ]
  },
  {
   "cell_type": "markdown",
   "metadata": {},
   "source": [
    "Use este espaço para fazer o que quiser. Não será considerado na correção.\n",
    "\n"
   ]
  },
  {
   "cell_type": "code",
   "execution_count": null,
   "metadata": {},
   "outputs": [],
   "source": []
  }
 ],
 "metadata": {
  "kernelspec": {
   "display_name": "ilumpy",
   "language": "python",
   "name": "ilumpy"
  },
  "language_info": {
   "codemirror_mode": {
    "name": "ipython",
    "version": 3
   },
   "file_extension": ".py",
   "mimetype": "text/x-python",
   "name": "python",
   "nbconvert_exporter": "python",
   "pygments_lexer": "ipython3",
   "version": "3.10.6"
  },
  "org": null
 },
 "nbformat": 4,
 "nbformat_minor": 4
}
