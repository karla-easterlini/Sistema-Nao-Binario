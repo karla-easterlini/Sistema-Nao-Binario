{
 "cells": [
  {
   "cell_type": "markdown",
   "metadata": {},
   "source": [
    "Provavelmente relevante\n",
    "=======================\n",
    "\n"
   ]
  },
  {
   "cell_type": "markdown",
   "metadata": {},
   "source": [
    "## Objetivo\n",
    "\n"
   ]
  },
  {
   "cell_type": "markdown",
   "metadata": {},
   "source": [
    "Resolva pelo menos 5 dos exercícios abaixo. Mostre de maneira clara a sua resolução e escreva uma breve conclusão para cada exercício. Certifique-se que você leu *todo* o notebook sobre probabilidade antes de iniciar suas resoluções. Mostre explicitamente o espaço amostral e o evento em questão sempre que o espaço amostral tiver menos que 20 itens.\n",
    "\n",
    "Para os exercícios abaixo, sempre considere que &ldquo;menino&rdquo; significa pessoa do sexo biológico masculino e &ldquo;menina&rdquo; significa pessoa do sexo biológico feminino. Não leve em consideração casos raros onde indivíduos tem cromossomos que não sejam XX ou XY. Assuma que a chance de nascer menino ou menina é igual.\n",
    "\n",
    "Aliás, para todos os fins, considere que nesta disciplina (e em todas as disciplinas que eu venha a lecionar), palavras que tenham sentido dentro do contexto de sexo biológico sempre são utilizadas com seu sentido dentro do contexto de sexo biológico, mesmo que tenham outros significados em outros contextos (a menos que explicitamente escrito o contrário). É uma regra simples que evita que o texto fique difuso.\n",
    "\n",
    "Quando necessário, sempre assuma a situação mais razoável dentro do bom senso. É de bom tom reportar na sua resolução todas as suposições que fizer.\n",
    "\n",
    "1.  Um casal tem dois filhos. Qual a probabilidade dos dois filhos serem meninas?\n",
    "\n",
    "2.  Um casal tem dois filhos. Qual a probabilidade dos dois filhos serem meninas se um dos filhos é uma menina?\n",
    "\n",
    "3.  Ao rolar um dado de 6 faces, qual é a chance de sair o número 5?\n",
    "\n",
    "4.  Ao rolar dois dados de 6 faces, qual é a chance de sair duas faces com o número 1?\n",
    "\n",
    "5.  Ao rolar dois dados de 6 faces, qual é a chance das duas faces serem iguais?\n",
    "\n",
    "6.  Qual a probabilidade de sortear duas cartas vermelhas em um baralho convencional (52 cartas)?\n",
    "\n",
    "7.  Uma rifa tem 100 números e 3 prêmios. Qual a probabilidade de você ganhar pelo menos um prêmio se você comprar 5 números?\n",
    "\n",
    "8.  Qual a probabilidade de sortear 5 cartas do mesmo naipe em um baralho convencional (52 cartas)?\n",
    "\n",
    "9.  Qual a probabilidade de se ganhar na loteria federal comprando apenas um bilhete de 6 números? A loteria federal sorteia 6 números inteiros no intervalo de $[1, 60]$. Um bilhete de 6 números te permite escolher 6 números diferentes dentro do intervalo. Ganhar, neste caso, significa que você acertou os 6 números sorteados.\n",
    "\n",
    "10. Existem 23 pessoas em uma sala. Qual é a chance de que existam duas pessoas que façam aniversário no mesmo dia dentro desta sala? Considerar um ano de 365 dias e mesma chance de nascer em qualquer dia do ano.\n",
    "\n"
   ]
  },
  {
   "cell_type": "markdown",
   "metadata": {},
   "source": [
    "## Resultado e discussão\n",
    "\n"
   ]
  },
  {
   "cell_type": "code",
   "execution_count": null,
   "metadata": {},
   "outputs": [],
   "source": []
  },
  {
   "cell_type": "markdown",
   "metadata": {},
   "source": [
    "## Referências\n",
    "\n"
   ]
  },
  {
   "cell_type": "markdown",
   "metadata": {},
   "source": [
    "Escreva nesta seção as referências consultadas.\n",
    "\n"
   ]
  },
  {
   "cell_type": "markdown",
   "metadata": {},
   "source": [
    "## Playground\n",
    "\n"
   ]
  },
  {
   "cell_type": "code",
   "execution_count": null,
   "metadata": {},
   "outputs": [],
   "source": []
  }
 ],
 "metadata": {
  "kernelspec": {
   "display_name": "ilumpy",
   "language": "python",
   "name": "ilumpy"
  },
  "language_info": {
   "codemirror_mode": {
    "name": "ipython",
    "version": 3
   },
   "file_extension": ".py",
   "mimetype": "text/x-python",
   "name": "python",
   "nbconvert_exporter": "python",
   "pygments_lexer": "ipython3",
   "version": "3.10.8"
  },
  "org": null
 },
 "nbformat": 4,
 "nbformat_minor": 4
}
