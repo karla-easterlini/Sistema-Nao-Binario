{
 "cells": [
  {
   "cell_type": "markdown",
   "metadata": {},
   "source": [
    "A média das médias\n",
    "==================\n",
    "\n"
   ]
  },
  {
   "cell_type": "markdown",
   "metadata": {},
   "source": [
    "## Objetivo\n",
    "\n"
   ]
  },
  {
   "cell_type": "markdown",
   "metadata": {},
   "source": [
    "Crie ou obtenha um conjunto de dados numéricos que representa uma variável aleatória (certifique-se que seu conjunto de dados tem pelo menos 100 itens). Considere que este conjunto de dados é a sua população. Compute e reporte a média desta população.\n",
    "\n",
    "Realize o processo de amostragem aleatória sem reposição neste conjunto de dados 100 vezes. Cada vez que realizar a amostragem, colete um certo número de dados (algo entre 25% e 75% dos dados, escolha o valor que preferir), compute a média das suas amostras e registre estas médias em uma lista.\n",
    "\n",
    "Compute a média da lista de médias que obteve e compare este valor com a média da população. Discuta seu resultado.\n",
    "\n"
   ]
  },
  {
   "cell_type": "markdown",
   "metadata": {},
   "source": [
    "## Resultado e discussão\n",
    "\n"
   ]
  },
  {
   "cell_type": "markdown",
   "metadata": {},
   "source": [
    "#### Criando o conjunto de dados"
   ]
  },
  {
   "cell_type": "code",
   "execution_count": 3,
   "metadata": {
    "tags": []
   },
   "outputs": [
    {
     "name": "stdout",
     "output_type": "stream",
     "text": [
      "A média da população é: 526.37\n"
     ]
    }
   ],
   "source": [
    "from numpy.random import choice\n",
    "import numpy as np\n",
    "\n",
    "cnj_dados = np.random.randint(0,1000, (20,20))\n",
    "#C = [1,2,3,4,5,6,7,8,9,10]\n",
    "\n",
    "media = cnj_dados.mean()\n",
    "print(f'A média da população é: {media}')"
   ]
  },
  {
   "cell_type": "markdown",
   "metadata": {
    "tags": []
   },
   "source": [
    "#### Amostragem"
   ]
  },
  {
   "cell_type": "code",
   "execution_count": 93,
   "metadata": {
    "collapsed": true,
    "jupyter": {
     "outputs_hidden": true
    },
    "tags": []
   },
   "outputs": [
    {
     "name": "stdout",
     "output_type": "stream",
     "text": [
      "A estimativa da média da população com uma amostra de 25% é: 505.67\n",
      "A estimativa da média da população com uma amostra de 75% é: 499.93333333333334\n"
     ]
    }
   ],
   "source": [
    "tam1 = 100\n",
    "tam2 = 300\n",
    "pop = cnj_dados.flatten()\n",
    "\n",
    "amostra1 = choice(pop, tam1, replace=False)\n",
    "media1 = amostra1.mean()\n",
    "print(f'A estimativa da média da população com uma amostra de 25% é: {media1}')\n",
    "\n",
    "amostra2 = choice(pop, tam2, replace=False)\n",
    "media2 = amostra2.mean()\n",
    "print(f'A estimativa da média da população com uma amostra de 75% é: {media2}')"
   ]
  },
  {
   "cell_type": "markdown",
   "metadata": {
    "jp-MarkdownHeadingCollapsed": true,
    "tags": []
   },
   "source": [
    "#### 100 amostras"
   ]
  },
  {
   "cell_type": "code",
   "execution_count": 37,
   "metadata": {
    "jupyter": {
     "source_hidden": true
    },
    "tags": []
   },
   "outputs": [],
   "source": [
    "dados = np.random.randint(0,1000, (25,4))\n",
    "pop1 = dados.flatten()\n",
    "\n",
    "#A fração (frac) deve ser um número inteiro, exemplo: 75% da população, escrever '75'\n",
    "# qtd significa quantidade da amostras que quer produzir\n",
    "def amostragem(lista, total, frac, qtd):\n",
    "    tam = (total * frac) * (100 ** (-1))\n",
    "    dic = {\n",
    "        \"media da população\": [],\n",
    "        \"amostras\": [],\n",
    "        \"media das amostras\": [],\n",
    "        \"media das medias das amostras\": [],\n",
    "        \"sublistas\": [],\n",
    "    }\n",
    "    dic[\"media da população\"].append(lista.mean())\n",
    "    for i in range(qtd):\n",
    "        am = choice(lista, int(tam), replace=False)\n",
    "        dic[\"amostras\"].append(\"M\" + str(i))\n",
    "        dic[\"sublistas\"].append(am)\n",
    "        dic[\"media das amostras\"].append(round(am.mean() , 1))\n",
    "        dic[\"media das medias das amostras\"] = round(np.mean(dic[\"media das amostras\"]),1)\n",
    "    return dic"
   ]
  },
  {
   "cell_type": "markdown",
   "metadata": {
    "jupyter": {
     "source_hidden": true
    },
    "tags": []
   },
   "source": [
    "##### 75% da população"
   ]
  },
  {
   "cell_type": "code",
   "execution_count": 42,
   "metadata": {
    "collapsed": true,
    "jupyter": {
     "outputs_hidden": true,
     "source_hidden": true
    },
    "tags": []
   },
   "outputs": [
    {
     "name": "stdout",
     "output_type": "stream",
     "text": [
      "A média da população é : [485.65]\n",
      "\n",
      "A média da média das amostras é : 483.8\n"
     ]
    }
   ],
   "source": [
    "x = amostragem(pop1, 50, 75, 100)\n",
    "print(f'A média da população é : {x[\"media da população\"]}')\n",
    "print()\n",
    "#print(f'A estimativa de média da população com 75% de amostragem é : {x[\"media das amostras\"]}')\n",
    "#print()\n",
    "print(f'A média da média das amostras é : {x[\"media das medias das amostras\"]}')"
   ]
  },
  {
   "cell_type": "markdown",
   "metadata": {
    "jupyter": {
     "source_hidden": true
    },
    "tags": []
   },
   "source": [
    "##### 25% da população"
   ]
  },
  {
   "cell_type": "code",
   "execution_count": 41,
   "metadata": {
    "collapsed": true,
    "jupyter": {
     "outputs_hidden": true,
     "source_hidden": true
    },
    "tags": []
   },
   "outputs": [
    {
     "name": "stdout",
     "output_type": "stream",
     "text": [
      "A média da população é : [485.65]\n",
      "\n",
      "A média da média das amostras é : 490.9\n"
     ]
    }
   ],
   "source": [
    "y = amostragem(pop1, 50, 25, 100)\n",
    "print(f'A média da população é : {y[\"media da população\"]}')\n",
    "print()\n",
    "#print(f'A estimativa de média da população com 75% de amostragem é : {y[\"media das amostras\"]}')\n",
    "#print()\n",
    "print(f'A média da média das amostras é : {y[\"media das medias das amostras\"]}')"
   ]
  },
  {
   "cell_type": "markdown",
   "metadata": {},
   "source": [
    "Nesse caso, por conta da função ter sido feita para criar um único dicionário com a informação de 100 amostras para 1 única porcentagem por vez, ela não é útil para fins de comparação. Note que, algumas vezes, 25% da média das amostras é mais preciso que 75%, o que não é algo observado tão facilmente, ainda mais quando as amostras são pegas de forma aleatória e em porcentagens diferentes.\n",
    "Sabendo disso, criamos uma função que resulta em 2 dicionários, podendo escolher 2 porcentagens. Nesse caso, as 200 amostras com proporções diferentes podem ser comparadas, demonstrando a real diferença de precisão."
   ]
  },
  {
   "cell_type": "markdown",
   "metadata": {
    "tags": []
   },
   "source": [
    "### Comparação das amostras da população"
   ]
  },
  {
   "cell_type": "code",
   "execution_count": 28,
   "metadata": {
    "tags": []
   },
   "outputs": [],
   "source": [
    "#Frac1 e 2 determinam porcetagens diferentes para serem comparadas\n",
    "def amostragem_comp(lista, total, frac1, frac2, qtd):\n",
    "    tam11 = (total * frac1) * (100 ** (-1))\n",
    "    tam22 = (total * frac2) * (100 ** (-1))\n",
    "    dic1 = {\n",
    "        \"media da população\": [],\n",
    "        \"amostras\": [],\n",
    "        \"media das amostras\": [],\n",
    "        \"media das medias das amostras\": [],\n",
    "        \"desvio padrão da media\": [],\n",
    "        \"desvio²\": [],\n",
    "        \"sublistas\": [],\n",
    "    }\n",
    "    dic2 = {\n",
    "        \"media da população\": [],\n",
    "        \"amostras\": [],\n",
    "        \"media das amostras\": [],\n",
    "        \"media das medias das amostras\": [],\n",
    "        \"desvio padrão da media\": [],\n",
    "        \"desvio²\": [],\n",
    "        \"sublistas\": [],\n",
    "    }\n",
    "    dic1[\"media da população\"].append(lista.mean())\n",
    "    dic2[\"media da população\"].append(lista.mean())\n",
    "    for i in range(qtd):\n",
    "        am1 = choice(lista, int(tam11), replace=False)\n",
    "        dic1[\"amostras\"].append(\"M\" + str(i))\n",
    "        dic1[\"sublistas\"].append(am1)\n",
    "        dic1[\"media das amostras\"].append(round(am1.mean() , 1))\n",
    "        dic1[\"media das medias das amostras\"] = round(np.mean(dic1[\"media das amostras\"]),1)\n",
    "        dic1[\"desvio padrão da media\"].append(round(np.std(dic1[\"media das amostras\"])))\n",
    "    for i in range(qtd):\n",
    "        am2 = choice(lista, int(tam22), replace=False)\n",
    "        dic2[\"amostras\"].append(\"M\" + str(i))\n",
    "        dic2[\"sublistas\"].append(am2)\n",
    "        dic2[\"media das amostras\"].append(round(am2.mean() , 1))\n",
    "        dic2[\"media das medias das amostras\"] = round(np.mean(dic2[\"media das amostras\"]),1)\n",
    "        dic2[\"desvio padrão da media\"].append(round(np.std(dic2[\"media das amostras\"])))\n",
    "    return dic1, dic2"
   ]
  },
  {
   "cell_type": "code",
   "execution_count": 29,
   "metadata": {
    "tags": []
   },
   "outputs": [
    {
     "name": "stdout",
     "output_type": "stream",
     "text": [
      "A média da população é : [491.33]\n",
      "\n",
      "A média da média das amostras de 25% é : 499.5\n",
      "A média da média das amostras de 75% é : 493.3\n",
      "\n",
      "O desvio padrão da média das amostras de 25% é : [0, 57, 51, 63, 62, 75, 70, 71, 70, 71, 73, 71, 68, 67, 66, 68, 72, 70, 68, 69, 69, 68, 69, 80, 78, 77, 77, 78, 80, 80, 79, 78, 79, 78, 77, 77, 76, 77, 76, 82, 81, 80, 80, 83, 82, 83, 84, 85, 84, 84, 83, 85, 85, 85, 85, 84, 86, 86, 85, 85, 84, 84, 83, 83, 82, 82, 81, 81, 80, 81, 81, 80, 80, 80, 80, 80, 80, 80, 80, 79, 79, 79, 79, 79, 79, 79, 80, 80, 80, 80, 80, 80, 79, 79, 78, 80, 80, 80, 80, 80]\n",
      "O desvio padrão da média das amostras de 75% é : [0, 2, 17, 33, 34, 31, 31, 36, 38, 37, 37, 35, 34, 33, 32, 31, 36, 35, 35, 38, 41, 40, 40, 40, 40, 41, 43, 43, 42, 44, 44, 44, 43, 44, 44, 44, 44, 44, 44, 44, 44, 43, 43, 43, 42, 42, 42, 43, 43, 42, 43, 43, 43, 43, 42, 43, 43, 44, 43, 44, 44, 43, 43, 43, 43, 43, 43, 42, 42, 43, 43, 42, 42, 42, 42, 42, 42, 42, 42, 42, 42, 41, 42, 42, 42, 42, 42, 42, 42, 43, 43, 42, 43, 43, 43, 42, 42, 42, 43, 43]\n"
     ]
    }
   ],
   "source": [
    "dados = np.random.randint(0,1000, (25,4))\n",
    "pop1 = dados.flatten()\n",
    "\n",
    "doiscinco = 25\n",
    "setecinco = 75\n",
    "\n",
    "a, z = amostragem_comp(pop1, 50, doiscinco, setecinco, 100)\n",
    "print(f'A média da população é : {z[\"media da população\"]}')\n",
    "print()\n",
    "#print(f'A estimativa de média da população com {doiscinco}% de amostragem é : {a[\"media das amostras\"]}')\n",
    "#print(f'A estimativa de média da população com {setecinco}% de amostragem é : {z[\"media das amostras\"]}')\n",
    "#print()\n",
    "print(f'A média da média das amostras de {doiscinco}% é : {a[\"media das medias das amostras\"]}')\n",
    "print(f'A média da média das amostras de {setecinco}% é : {z[\"media das medias das amostras\"]}')\n",
    "print()\n",
    "print(f'O desvio padrão da média das amostras de {doiscinco}% é : {a[\"desvio padrão da media\"]}')\n",
    "print(f'O desvio padrão da média das amostras de {setecinco}% é : {z[\"desvio padrão da media\"]}')"
   ]
  },
  {
   "cell_type": "markdown",
   "metadata": {
    "tags": []
   },
   "source": [
    "#### Discussão\n",
    "É visivelmente observável que a estimativa da média da população se aproxima cada vez mais do valor real quando se considera uma porcentagem de amostragem maior. Por exemplo, em um dos casos rodados com amostras aleatórias, a média da população foi 485.65, para 2 estimativas de 75 e 25 respectivamente: 488 e 476.9. Em uma análise simples, é visível que a amostragem maior tem uma estimativa mais fiel ao ideal. \n",
    "Além disso, é possível analisar pelo cálculo feito do desvio padrão, com intuito de realmente notar quanto os conjuntos de amostras variaram em relação às suas média, e nele o desvio padrão indica que para cerca de 40 unidades de desvio padrão o conjunto de amostras de 75%, o conjunto de 25% varia o dobro, em média sendo 80 UN.\n",
    "\n",
    "Uma observação curiosa é que a amostragem da população pode aparentar ter valores repetidos, se em algum momento isso for observado (é mais fácil ver com uma população be\n",
    "m menor), ainda que o comando replace seja equivalente a False. Isso acontece porque o cnj_dados pode ter entre os valores randomizados, alguns valores que sejam iguais, porém em posições diferentes. Por conta disso, podem aparecer valores iguais, mas de posições diferentes no array que foi criado. Se fosse usado um conjunto C qualquer com valores não repetidos, isso não aconteceria."
   ]
  },
  {
   "cell_type": "markdown",
   "metadata": {},
   "source": [
    "## Referências\n",
    "\n"
   ]
  },
  {
   "cell_type": "markdown",
   "metadata": {},
   "source": [
    "Escreva nesta seção as referências consultadas.\n",
    "\n",
    "https://stackoverflow.com/questions/25440008/python-pandas-flatten-a-dataframe-to-a-list\n",
    "\n",
    "http://www.bosontreinamentos.com.br/programacao-em-python/como-arredondar-numeros-em-python/\n",
    "\n",
    "https://stackoverflow.com/questions/25440008/python-pandas-flatten-a-dataframe-to-a-list\n",
    "\n",
    "https://acervolima.com/amostragem-aleatoria-em-numpy-funcao-sample/"
   ]
  },
  {
   "cell_type": "markdown",
   "metadata": {},
   "source": [
    "## Playground\n",
    "\n"
   ]
  },
  {
   "cell_type": "code",
   "execution_count": null,
   "metadata": {},
   "outputs": [],
   "source": []
  }
 ],
 "metadata": {
  "kernelspec": {
   "display_name": "ilumpy",
   "language": "python",
   "name": "ilumpy"
  },
  "language_info": {
   "codemirror_mode": {
    "name": "ipython",
    "version": 3
   },
   "file_extension": ".py",
   "mimetype": "text/x-python",
   "name": "python",
   "nbconvert_exporter": "python",
   "pygments_lexer": "ipython3",
   "version": "3.9.13"
  },
  "org": null
 },
 "nbformat": 4,
 "nbformat_minor": 4
}
