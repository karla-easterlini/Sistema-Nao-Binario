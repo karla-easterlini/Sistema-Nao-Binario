{
 "cells": [
  {
   "cell_type": "markdown",
   "metadata": {},
   "source": [
    "Exercícios sobre distribuições\n",
    "==============================\n",
    "\n"
   ]
  },
  {
   "cell_type": "markdown",
   "metadata": {},
   "source": [
    "## Contextualização\n",
    "\n"
   ]
  },
  {
   "cell_type": "markdown",
   "metadata": {},
   "source": [
    "A confirmação da teoria da Relatividade Geral de Albert Einstein durante o eclipse solar de 1919 é um momento marcante na história da ciência. O experimento, conduzido por Sir Arthur Eddington, tinha como objetivo testar uma das principais previsões da Relatividade Geral: a curvatura da luz pela gravidade.\n",
    "\n",
    "A Teoria Geral da Relatividade de Einstein, publicada em 1915, introduziu uma nova compreensão da gravidade. Em vez da visão clássica da gravidade como uma força, a teoria de Einstein propôs que objetos massivos, como o Sol, deformam o tecido do espaço-tempo ao seu redor. A luz que passa perto de um objeto massivo destes seguiria um caminho curvo devido a essa distorção, criando o efeito de lente gravitacional.\n",
    "\n",
    "A teoria de Einstein previu que, durante um eclipse solar, quando a massa do Sol bloqueasse a luz de estrelas distantes, as posições dessas estrelas pareceriam deslocadas devido ao campo gravitacional do Sol. As posições observadas das estrelas seriam diferentes de suas posições esperadas se a gravidade não afetasse a luz. Especificamente, as posições das estrelas seriam deslocadas para fora do Sol.\n",
    "\n",
    "Os resultados esperados do experimento envolviam a medição do deslocamento angular das estrelas quando elas apareciam perto do Sol durante um eclipse solar total. O deslocamento angular seria a diferença entre a posição aparente de uma estrela e sua posição real na ausência da gravidade do Sol:\n",
    "\n",
    "A teoria de Einstein previu que esse deslocamento angular seria de aproximadamente 1,75 segundo de arco (arcseg) para estrelas que estivessem próximas ao Sol durante o eclipse.\n",
    "\n",
    "Arthur Eddington organizou duas expedições - uma para Sobral, no Brasil, e outra para a Ilha do Príncipe, na África Ocidental - para observar o eclipse solar total de 29 de maio de 1919. As equipes tiraram fotografias das estrelas que estavam próximas ao Sol durante o eclipse.\n",
    "\n",
    "As fotografias tiradas durante o eclipse foram comparadas com fotografias do mesmo campo estelar tiradas quando o Sol não estava nas proximidades. As posições observadas das estrelas foram de fato deslocadas para fora do Sol, de acordo com as previsões de Einstein.\n",
    "\n",
    "**O deslocamento angular medido das estrelas durante o eclipse de 1919 foi de aproximadamente 1,98 arcseg.**\n",
    "\n"
   ]
  },
  {
   "cell_type": "markdown",
   "metadata": {},
   "source": [
    "## Objetivo\n",
    "\n"
   ]
  },
  {
   "cell_type": "markdown",
   "metadata": {},
   "source": [
    "Suponha que pelo modelo de Einstein e pelos equipamentos utilizados, o valor esperado para o deslocamento angular segue uma distribuição normal $\\mathcal{N}(1.75, 0.02)$ (isto é, tem média de 1,75 e variância de 0,02). Proponha e execute um teste de hipótese para testar o modelo de Einstein na luz do resultado obtido usando de simulação.\n",
    "\n",
    "**Dica**: preste atenção na sua formulação da hipótese alternativa. Existem pelo menos duas possibilidades de hipóteses alternativas aqui. Após escolher sua hipótese alternativa, pense com carinho sobre qual estatística de teste que irá utilizar.\n",
    "\n",
    "**Observação 1**: não serão consideradas respostas que usam testes estatísticos prontos, o objetivo do exercício é elaborar o teste do início ao fim, seguindo um procedimento similar ao que estudamos no notebook 9.\n",
    "\n",
    "**Observação 2**: preste atenção em *todas* as informações disponíveis no notebook 9. Observem que justificativas como &ldquo;eu não vi que tinha isso escrito aqui&rdquo; não se sustentam caso queiram revisar a nota recebida.\n",
    "\n",
    "**Observação 3**: se o enunciado não estiver claro por qualquer motivo, então <u>postar no grupo do teams</u> com antecedência suficiente para que o professor possa responder. Sua dúvida pode ser a mesma dúvida de um colega.\n",
    "\n"
   ]
  },
  {
   "cell_type": "markdown",
   "metadata": {},
   "source": [
    "## Resultado e discussão\n",
    "\n"
   ]
  },
  {
   "cell_type": "code",
   "execution_count": null,
   "metadata": {},
   "outputs": [],
   "source": []
  },
  {
   "cell_type": "markdown",
   "metadata": {},
   "source": [
    "## Referências\n",
    "\n"
   ]
  },
  {
   "cell_type": "markdown",
   "metadata": {},
   "source": [
    "Escreva nesta seção as referências consultadas.\n",
    "\n",
    "1.  O texto utilizado na contextualização do problema foi levemente modificado de um texto gerado pelo chatGPT com o intuito de propor um problema científico interessante.\n",
    "\n"
   ]
  },
  {
   "cell_type": "markdown",
   "metadata": {},
   "source": [
    "## Playground\n",
    "\n"
   ]
  },
  {
   "cell_type": "markdown",
   "metadata": {},
   "source": [
    "Use este espaço para fazer o que quiser. Não será considerado na correção.\n",
    "\n"
   ]
  },
  {
   "cell_type": "code",
   "execution_count": null,
   "metadata": {},
   "outputs": [],
   "source": []
  }
 ],
 "metadata": {
  "kernelspec": {
   "display_name": "ilumpy",
   "language": "python",
   "name": "ilumpy"
  },
  "language_info": {
   "codemirror_mode": {
    "name": "ipython",
    "version": 3
   },
   "file_extension": ".py",
   "mimetype": "text/x-python",
   "name": "python",
   "nbconvert_exporter": "python",
   "pygments_lexer": "ipython3",
   "version": "3.10.6"
  },
  "org": null
 },
 "nbformat": 4,
 "nbformat_minor": 4
}
