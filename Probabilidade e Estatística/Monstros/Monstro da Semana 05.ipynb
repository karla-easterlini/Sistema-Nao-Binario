{
 "cells": [
  {
   "cell_type": "markdown",
   "metadata": {
    "tags": []
   },
   "source": [
    "To Bayes or not to Bayes\n",
    "========================\n",
    "\n"
   ]
  },
  {
   "cell_type": "markdown",
   "metadata": {},
   "source": [
    "## Objetivo\n",
    "\n"
   ]
  },
  {
   "cell_type": "markdown",
   "metadata": {},
   "source": [
    "Na sua área de estudo existem duas explicações reportadas na literatura para um certo fenômeno natural. Considere que estas explicações são mutualmente exclusivas.\n",
    "\n",
    "Evidências a favor das duas explicações existem e a comunidade científica ainda debate sobre qual destas explicações é a mais adequada para o fenômeno natural sendo estudado. Vamos chamar de $E_1$ o evento &ldquo;a explicação 1 está correta&rdquo; e de $E_2$ o evento &ldquo;a explicação 2 está correta&rdquo;.\n",
    "\n",
    "Você acabou de realizar um experimento e obteve uma nova evidência a favor da explicação 1. O experimento que você executou entrega o resultado correto $n$ vezes a cada 100 experimentos. Vamos chamar de $X$ o evento &ldquo;experimento realizado resultou em evidência a favor da explicação 1&rdquo;.\n",
    "\n",
    "Para cada uma das situações abaixo, compute a probabilidade a posteriori da explicação $E_1$ após a realização do experimento. Use sempre as notações discutidas no notebook da disciplina.\n",
    "\n",
    "1.  Probabilidade inicial de $E_1$ de 20% e $n=99$.\n",
    "\n",
    "2.  Probabilidade inicial de $E_1$ de 20% e $n=50$.\n",
    "\n",
    "3.  Probabilidade inicial de $E_1$ de 99% e $n=5$.\n",
    "\n",
    "Após isso, mostre como a probabilidade a posteriori se altera com a realização de mais experimentos sucessivos para o caso 2. Mostre graficamente seu resultado.\n",
    "\n",
    "Discuta os resultados obtidos.\n",
    "\n"
   ]
  },
  {
   "cell_type": "markdown",
   "metadata": {},
   "source": [
    "## Resultado e discussão\n",
    "\n"
   ]
  },
  {
   "cell_type": "markdown",
   "metadata": {
    "tags": []
   },
   "source": [
    "### Probabilidade de $E_1$ dado X:\n",
    "\n",
    "#### Caso 1: Probabilidade inicial de $E_{1}$ de 20% e $n=99$.\n",
    "\n",
    "Sabendo que a probabilidade do evento X estar correto é de $\\frac{99}{100}$, podemos usar o teorema de Bayes para calcular a probabilidade do evento $E_{1}$ acontecer após o evento X. \n",
    "\n",
    "$$ P(E_{1} | X) = \\frac{P(E_{1}) P(X | E_{1})}{P(X)} $$\n",
    "\n",
    "Onde temos que $ P(X) = P(E_{1})P(X|E_{1}) + P(E_{1}^{c})P(X|E_{1}^{c})$\n",
    "\n",
    "$\\therefore P(E_{1} | X) = \\frac{P(E_{1}) P(X | E_{1})}{P(E_{1})P(X|E_{1}) + P(E_{1}^{c})P(X|E_{1}^{c})} = \\frac{0.99 * 0.2}{0.2*0.99 + 0.8*0.01} = 0.9611$ \n",
    "\n",
    "A porcentagem de que o evento de $E_{1}$ aconteça sabendo do experimento X é de $96.11 \\%$\n",
    "\n",
    "#### Caso 2: Probabilidade inicial de $E_1$ de 20% e $n=50$.\n",
    "Usando a mesma lógica do caso anterior, temos que:\n",
    "\n",
    "$P(E_{1} | X) = \\frac{P(E_{1}) P(X | E_{1})}{P(E_{1})P(X|E_{1}) + P(E_{1}^{c})P(X|E_{1}^{c})} = \\frac{0.2 * 0.5}{0.2 * 0.5 + 0.8 * 0.5} = 0.2$ \n",
    "\n",
    "A porcentagem de que o evento de $E_{1}$ aconteça sabendo do experimento X é de $20 \\%$\n",
    "\n",
    "Este é possivelmente o único caso que a probabilidade do evento 1 acontecer sabendo de X é equivalente a probabilidade do evento 1, pois a probabilidade do evento X acontecer sabendo do evento 1 é 50% e P(X) vai equivaler a 50% também, como é notável no passo a seguir:\n",
    "\n",
    "$ P(E_{2} | X) = \\frac{0.2 * 0.5}{0.5 * (0.8 + 0.2)} = \\frac{0.2 * 0.5}{0.5} = 0.2 = 20\\%$\n",
    "\n",
    "\n",
    "#### Caso 3: Probabilidade inicial de $E_1$ de 99% e $n=5$.\n",
    "Novamente, podemos escrever a probabilidade do evento acontecer, sabendo de outro evento, é:\n",
    "\n",
    "$P(E_{1} | X) = \\frac{P(E_{1}) P(X | E_{1})}{P(E_{1})P(X|E_{1}) + P(E_{1}^{c})P(X|E_{1}^{c})} = \\frac{0.99 * 0.05}{0.99 * 0.05 + 0.01 * 0.95} = 0.8389$ \n",
    "\n",
    "A porcentagem de que o evento de $E_{1}$ aconteça sabendo do experimento X é de $83.89 \\%$\n",
    "\n",
    "### Variando n para o $E_1$"
   ]
  },
  {
   "cell_type": "code",
   "execution_count": 19,
   "metadata": {},
   "outputs": [
    {
     "data": {
      "image/png": "[encoded data removed]",
      "text/plain": [
       "<Figure size 640x480 with 1 Axes>"
      ]
     },
     "metadata": {},
     "output_type": "display_data"
    }
   ],
   "source": [
    "import matplotlib.pyplot as plt\n",
    "\n",
    "n2 = 100\n",
    "\n",
    "def variando (n_max, p_e):\n",
    "    e_var = []\n",
    "    n_var = []\n",
    "    n = list(range(n_max+1))\n",
    "    for i in n:\n",
    "        p_x_e = i/100\n",
    "        p_ec = 1 - p_e\n",
    "        p_x_ec = 1 - p_x_e \n",
    "        p_x = (p_e * p_x_e) + (p_ec * p_x_ec)\n",
    "        p_e_x = (p_e * p_x_e) / (p_x)\n",
    "        n_var.append(i)\n",
    "        e_var.append(p_e_x)\n",
    "    return n_var, e_var\n",
    "\n",
    "n, e = variando(n2, 0.2)\n",
    "\n",
    "fig, eixo = plt.subplots()\n",
    "eixo.plot(e, n)\n",
    "eixo.set_title(\"Variando a probabilidade do evento 1 dado n\")\n",
    "eixo.set_xlabel(\"Prob. do Evento 1\")\n",
    "eixo.set_ylabel(\"n\")\n",
    "plt.show()"
   ]
  },
  {
   "cell_type": "markdown",
   "metadata": {},
   "source": [
    "É notável que quanto maior n, o número de resultados corretos que favorecem o evento 1, maior a probabilidade do evento 1 acontecer. Quando n equivale a 100, então é certeza de que o evento 1 acontecerá. o mesmo para quando n é 0."
   ]
  },
  {
   "cell_type": "markdown",
   "metadata": {},
   "source": [
    "### Teste: Calculando $E_2$ dado que este é mutualmente exclusivo ao $E_1$\n",
    "\n",
    "Este é apenas um teste, considerando apenas fins de curiosidade, visto que a dupla queria descobrir se era possível descobrir a probabilidade a posteriori do evento 2 visto que ela tem uma dependência com o evento 1 (Mutualmente exclusivos)."
   ]
  },
  {
   "cell_type": "markdown",
   "metadata": {},
   "source": [
    "##### Caso 1 para o $E_{2}$\n",
    "\n",
    "Vamos assumir que a taxa de acerto dos experimentos X, que agora favorecem $E_2$, seja a mesma.\n",
    "\n",
    "Como o evento 1 e o evento 2 são multualmente exclusivos, podemos dizer que, quando o evento 1 acontece, o evento 2 não acontece, portanto, dentro dos 20% de chance do evento 1 acontecer, o evento 2 não tem chance de acontecer, e com isso, podemos dizer que o evento 2 tem chance de 80% de chance de acontecer.\n",
    "\n",
    "$\\therefore P(E_{2} | X) = \\frac{P(E_{2}) P(X | E_{2})}{P(E_{2})P(X|E_{2}) + P(E_{2}^{c})P(X|E_{2}^{c})} = \\frac{0.99 * 0.8}{0.8*0.99 + 0.2*0.01} = 0.9975$ \n",
    "\n",
    "A porcentagem de que o evento de $E_{1}$ aconteça sabendo do experimento X é de $99.75  \\%$\n",
    "\n",
    "##### Caso 2 para o $E_{2}$\n",
    "\n",
    "Brevemente, podemos escrever na equação que:\n",
    "\n",
    "$P(E_{2} | X) = \\frac{P(E_{2}) P(X | E_{2})}{P(E_{2})P(X|E_{2}) + P(E_{2}^{c})P(X|E_{2}^{c})} = \\frac{0.8 * 0.5}{0.8 * 0.5 + 0.2 * 0.5} = 0.8 = 80 \\%$\n",
    "\n",
    "Semelhante ao caso 2 para o $E_1$, a probabilidade do evento 2 acontecer sabendo do evento x também é a probabilidade do evento 2 acontecer.\n",
    "\n",
    "##### Caso 3 para o $E_{2}$\n",
    "\n",
    "$P(E_{2} | X) = \\frac{P(E_{2}) P(X | E_{2})}{P(E_{2})P(X|E_{2}) + P(E_{2}^{c})P(X|E_{2}^{c})} = \\frac{0.01 * 0.05}{0.01 * 0.05 + 0.99 * 0.95} = 5.31 * 10 ^ {-4}$\n",
    "\n",
    "Nesse caso, a probabilidade do evento 2 acontecer dado os experimentos (com taxa de acerto de 5%) é de $0.05 \\%$."
   ]
  },
  {
   "cell_type": "markdown",
   "metadata": {},
   "source": [
    "## Referências"
   ]
  },
  {
   "cell_type": "markdown",
   "metadata": {},
   "source": [
    "Escreva nesta seção as referências consultadas.\n",
    "\n",
    "[1] Cassar, Daniel Roberto. Notebook Probabilidade Condicional: \"5 - Probabilidade condicional\".\n",
    "\n",
    "[2] https://docs.python.org/3/library/stdtypes.html?highlight=range#range"
   ]
  },
  {
   "cell_type": "markdown",
   "metadata": {},
   "source": [
    "## Playground\n",
    "\n"
   ]
  },
  {
   "cell_type": "markdown",
   "metadata": {},
   "source": [
    "Use este espaço para fazer o que quiser. Não será considerado na correção.\n",
    "\n"
   ]
  },
  {
   "cell_type": "code",
   "execution_count": null,
   "metadata": {},
   "outputs": [],
   "source": []
  }
 ],
 "metadata": {
  "kernelspec": {
   "display_name": "ilumpy",
   "language": "python",
   "name": "ilumpy"
  },
  "language_info": {
   "codemirror_mode": {
    "name": "ipython",
    "version": 3
   },
   "file_extension": ".py",
   "mimetype": "text/x-python",
   "name": "python",
   "nbconvert_exporter": "python",
   "pygments_lexer": "ipython3",
   "version": "3.10.8"
  },
  "org": null
 },
 "nbformat": 4,
 "nbformat_minor": 4
}
