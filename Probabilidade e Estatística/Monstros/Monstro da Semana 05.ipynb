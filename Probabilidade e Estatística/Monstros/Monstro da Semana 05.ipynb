{
 "cells": [
  {
   "cell_type": "markdown",
   "metadata": {
    "tags": []
   },
   "source": [
    "To Bayes or not to Bayes\n",
    "========================\n",
    "\n"
   ]
  },
  {
   "cell_type": "markdown",
   "metadata": {},
   "source": [
    "## Objetivo\n",
    "\n"
   ]
  },
  {
   "cell_type": "markdown",
   "metadata": {},
   "source": [
    "Na sua área de estudo existem duas explicações reportadas na literatura para um certo fenômeno natural. Considere que estas explicações são mutualmente exclusivas.\n",
    "\n",
    "Evidências a favor das duas explicações existem e a comunidade científica ainda debate sobre qual destas explicações é a mais adequada para o fenômeno natural sendo estudado. Vamos chamar de $E_1$ o evento &ldquo;a explicação 1 está correta&rdquo; e de $E_2$ o evento &ldquo;a explicação 2 está correta&rdquo;.\n",
    "\n",
    "Você acabou de realizar um experimento e obteve uma nova evidência a favor da explicação 1. O experimento que você executou entrega o resultado correto $n$ vezes a cada 100 experimentos. Vamos chamar de $X$ o evento &ldquo;experimento realizado resultou em evidência a favor da explicação 1&rdquo;.\n",
    "\n",
    "Para cada uma das situações abaixo, compute a probabilidade a posteriori da explicação $E_1$ após a realização do experimento. Use sempre as notações discutidas no notebook da disciplina.\n",
    "\n",
    "1.  Probabilidade inicial de $E_1$ de 20% e $n=99$.\n",
    "\n",
    "2.  Probabilidade inicial de $E_1$ de 20% e $n=50$.\n",
    "\n",
    "3.  Probabilidade inicial de $E_1$ de 99% e $n=5$.\n",
    "\n",
    "Após isso, mostre como a probabilidade a posteriori se altera com a realização de mais experimentos sucessivos para o caso 2. Mostre graficamente seu resultado.\n",
    "\n",
    "Discuta os resultados obtidos.\n",
    "\n"
   ]
  },
  {
   "cell_type": "markdown",
   "metadata": {},
   "source": [
    "## Resultado e discussão\n",
    "\n"
   ]
  },
  {
   "cell_type": "markdown",
   "metadata": {
    "jp-MarkdownHeadingCollapsed": true,
    "tags": []
   },
   "source": [
    "Para cada uma das situações abaixo, compute a probabilidade a posteriori da explicação $E_1$ após a realização do experimento.\n",
    "\n",
    "Após isso, mostre como a probabilidade a posteriori se altera com a realização de mais experimentos sucessivos para o caso 2. Mostre graficamente seu resultado.\n",
    "\n",
    "Discuta os resultados obtidos.\n",
    "\n",
    "\n",
    "#### Caso 1: Probabilidade inicial de $E_1$ de 20% e $n=99$.\n",
    "\n",
    "Sabendo que a probabilidade do evento X estar correto é de $\\frac{99}{100}$, podemos usar o teorema de Bayes para calcular a probabilidade do evento $E_{1}$ acontecer após o evento X. \n",
    "\n",
    "$$ P(E_{1} | X) = \\frac{P(E_{1}) P(X | E_{1})}{P(X)} $$\n",
    "\n",
    "Onde temos que $ P(X) = P(E_{1})P(X|E_{1}) + P(E_{1}^{c})P(X|E_{1}^{c})$\n",
    "\n",
    "$\\therefore P(E_{1} | X) = \\frac{P(E_{1}) P(X | E_{1})}{P(E_{1})P(X|E_{1}) + P(E_{1}^{c})P(X|E_{1}^{c})} = \\frac{0.99 * 0.2}{0.2*0.99 + 0.8*0.01} = 0.9611$ \n",
    "\n",
    "A porcentagem de que o evento de $E_{1}$ aconteça sabendo do experimento X é de $96.11 \\%$\n",
    "\n",
    "#### Caso 2: Probabilidade inicial de $E_1$ de 20% e $n=50$.\n",
    "Usando a mesma lógica do caso anterior, temos que:\n",
    "\n",
    "$P(E_{1} | X) = \\frac{P(E_{1}) P(X | E_{1})}{P(E_{1})P(X|E_{1}) + P(E_{1}^{c})P(X|E_{1}^{c})} = \\frac{0.2 * 0.5}{0.2 * 0.5 + 0.8 * 0.5} = 0.2$ \n",
    "\n",
    "A porcentagem de que o evento de $E_{1}$ aconteça sabendo do experimento X é de $20 \\%$\n",
    "\n",
    "#### Caso 3: Probabilidade inicial de $E_1$ de 99% e $n=5$.\n",
    "Novamente, podemos escrever a probabilidade do evento acontecer, sabendo de outro evento, é:\n",
    "\n",
    "$P(E_{1} | X) = \\frac{P(E_{1}) P(X | E_{1})}{P(E_{1})P(X|E_{1}) + P(E_{1}^{c})P(X|E_{1}^{c})} = \\frac{0.99 * 0.05}{0.99 * 0.05 + 0.01 * 0.95} = 0.8389$ \n",
    "\n",
    "A porcentagem de que o evento de $E_{1}$ aconteça sabendo do experimento X é de $83.89 \\%$"
   ]
  },
  {
   "cell_type": "markdown",
   "metadata": {},
   "source": [
    "## Referências\n",
    "\n"
   ]
  },
  {
   "cell_type": "markdown",
   "metadata": {},
   "source": [
    "Escreva nesta seção as referências consultadas.\n",
    "\n"
   ]
  },
  {
   "cell_type": "markdown",
   "metadata": {},
   "source": [
    "## Playground\n",
    "\n"
   ]
  },
  {
   "cell_type": "markdown",
   "metadata": {},
   "source": [
    "Use este espaço para fazer o que quiser. Não será considerado na correção.\n",
    "\n"
   ]
  },
  {
   "cell_type": "code",
   "execution_count": null,
   "metadata": {},
   "outputs": [],
   "source": []
  }
 ],
 "metadata": {
  "kernelspec": {
   "display_name": "ilumpy",
   "language": "python",
   "name": "ilumpy"
  },
  "language_info": {
   "codemirror_mode": {
    "name": "ipython",
    "version": 3
   },
   "file_extension": ".py",
   "mimetype": "text/x-python",
   "name": "python",
   "nbconvert_exporter": "python",
   "pygments_lexer": "ipython3",
   "version": "3.10.8"
  },
  "org": null
 },
 "nbformat": 4,
 "nbformat_minor": 4
}
