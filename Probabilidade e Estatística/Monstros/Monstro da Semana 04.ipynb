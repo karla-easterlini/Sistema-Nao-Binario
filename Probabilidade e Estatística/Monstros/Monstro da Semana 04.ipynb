{
 "cells": [
  {
   "cell_type": "markdown",
   "metadata": {},
   "source": [
    "Provavelmente relevante\n",
    "=======================\n",
    "\n"
   ]
  },
  {
   "cell_type": "markdown",
   "metadata": {},
   "source": [
    "## Objetivo\n",
    "\n"
   ]
  },
  {
   "cell_type": "markdown",
   "metadata": {},
   "source": [
    "Resolva pelo menos 5 dos exercícios abaixo. Mostre de maneira clara a sua resolução e escreva uma breve conclusão para cada exercício. Certifique-se que você leu *todo* o notebook sobre probabilidade antes de iniciar suas resoluções. Mostre explicitamente o espaço amostral e o evento em questão sempre que o espaço amostral tiver menos que 20 itens.\n",
    "\n",
    "Para os exercícios abaixo, sempre considere que &ldquo;menino&rdquo; significa pessoa do sexo biológico masculino e &ldquo;menina&rdquo; significa pessoa do sexo biológico feminino. Não leve em consideração casos raros onde indivíduos tem cromossomos que não sejam XX ou XY. Assuma que a chance de nascer menino ou menina é igual.\n",
    "\n",
    "Aliás, para todos os fins, considere que nesta disciplina (e em todas as disciplinas que eu venha a lecionar), palavras que tenham sentido dentro do contexto de sexo biológico sempre são utilizadas com seu sentido dentro do contexto de sexo biológico, mesmo que tenham outros significados em outros contextos (a menos que explicitamente escrito o contrário). É uma regra simples que evita que o texto fique difuso.\n",
    "\n",
    "Quando necessário, sempre assuma a situação mais razoável dentro do bom senso. É de bom tom reportar na sua resolução todas as suposições que fizer.\n",
    "\n",
    "3.  Ao rolar um dado de 6 faces, qual é a chance de sair o número 5?\n",
    "\n",
    ".6.  Qual a probabilidade de sortear duas cartas vermelhas em um baralho convencional (52 cartas)?\n",
    "\n",
    ".7.  Uma rifa tem 100 números e 3 prêmios. Qual a probabilidade de você ganhar pelo menos um prêmio se você comprar 5 números?\n",
    "\n",
    ".8.  Qual a probabilidade de sortear 5 cartas do mesmo naipe em um baralho convencional (52 cartas)?\n",
    "\n",
    ".10. Existem 23 pessoas em uma sala. Qual é a chance de que existam duas pessoas que façam aniversário no mesmo dia dentro desta sala? Considerar um ano de 365 dias e mesma chance de nascer em qualquer dia do ano.\n",
    "\n"
   ]
  },
  {
   "cell_type": "markdown",
   "metadata": {},
   "source": [
    "## Resultado e discussão\n",
    "\n"
   ]
  },
  {
   "cell_type": "markdown",
   "metadata": {},
   "source": [
    "### Problema 1: Um casal tem dois filhos. Qual a probabilidade dos dois filhos serem meninas? \n",
    "\n",
    "Primeiro vamos analisar o espaço amostral desse problema:\n",
    "\n",
    "$$\\Omega = \\{(\\textrm{Menino}, \\textrm{Menino}), (\\textrm{Menino}, \\textrm{Menina}), (\\textrm{Menina}, \\textrm{Menino}), (\\textrm{Menina}, \\textrm{Menina}) \\}$$\n",
    "\n",
    "Assim vemos que possuimos 4 itens no espaço amostral, que representa todas as possibilidades para um dado evento. Dessa forma, podemos calcular a probabilidade de um evento como a quantidade de vezes que esse item aparece no espaço amostral, sobre a quantidade de itens do mesmo:\n",
    "\n",
    "$$P_{(\\text{2 meninas})} = \\frac{1}{4} = 25\\% $$\n",
    "\n",
    "Dessa maneira, sabemos que o casal possui 1 chance em 4 de terem duas filhas.\n",
    "\n",
    "### Problema 2: Um casal tem dois filhos. Qual a probabilidade dos dois filhos serem meninas se um dos filhos é uma menina?\n",
    "\n",
    "Mesmo parecendo semelhante ao problema anterior, a condição de que um dos filhos deve ser uma menina, altera o espaço amostral de modo que possuímos 3 itens ao invés de 4:\n",
    "\n",
    "$$\\Omega = \\{(\\textrm{Menino}, \\textrm{Menina}), (\\textrm{Menina}, \\textrm{Menino}), (\\textrm{Menina}, \\textrm{Menina})\\}$$\n",
    "\n",
    "Agora, calculando a probabilidade desse evento, chegamos em um resultado diferente. Isso se deve ao fato de que impomos uma condição específica para o espaço amostral, alterando-o definitivamente.\n",
    "$$P_{(\\text{2 meninas|menina})} = \\frac{1}{3} = 33.\\bar{3}\\% $$\n",
    "\n",
    "### Problema 3: Ao rolar um dado de 6 faces, qual é a chance de sair o número 5?\n",
    "\n",
    "A probabilidade de ocorrência de um número qualquer percentence ao conjunto D = {1,2,3,4,5,6} é a mesma para qualquer outro valor. Sabendo que essa probabilidade é distribuída igualmente, podemos considerar que P(X), neste caso sendo X = 6, representa a probabilidade de um valor qualquer ser tirado em um dado de 6 lados.\n",
    "\n",
    "Com isso, podemos dizer que: $$P(X) = \\frac{n(X)}{n(T)}$$\n",
    "$\\therefore P(X) = \\frac{1}{6} = 16.666... \\%$\n",
    "\n",
    "### Problema 4: Ao rolar dois dados de 6 faces, qual é a chance de sair duas faces com o número 1?\n",
    "\n",
    "Como o espaço amostral possui mais de 20 itens (36 para ser exato), não irei representá-lo aqui. Porém a probabilidade será calculada da mesma maneira:\n",
    "\n",
    "$$P_{(\\text{Dois 1})} = \\frac{1}{36} \\approx 2.\\bar{7}\\% $$\n",
    "\n",
    "### Problema 5: Ao rolar dois dados de 6 faces, qual é a chance das duas faces serem iguais? \n",
    "\n",
    "Como o espaço amostral possui mais de 20 itens (36 para ser exato), não irei representá-lo aqui. Porém o processo é identico ao que ja havia sido feito:\n",
    "\n",
    "$$P_{(\\text{Faces Iguais})} = \\frac{6}{36} = \\frac{1}{6} \\approx 16.\\bar{6}\\% $$\n",
    "\n",
    "### Problema 6: Qual a probabilidade de sortear duas cartas vermelhas em um baralho convencional (52 cartas)?\n",
    "\n",
    "Dado o conjunto B1 = {Ás, 2, 3, 4, 5, 6, 7, 8, 9, 10, Valete, Dama, Rei}, para cada um tendo uma versão que permuta com todos os valores do B2 = {Copas, Espadas, Ouros, Paus}, esse conjunto será o conjunto B1 X B2 = C, cujo é igual ao conjunto B2 X B1, resultando em 52 resultados. Sabendo que no conjunto B2, os elementos Copas e Ouros são vermelhos, temos que 26 elementos (já permutados) são cartas vermelhas. Vamos chamar a probabilidade de pegar 2 cartas vermelhas (Aqui nós assumimos que seriam seguidas) no baralho de P(2C). Vamos também chamar um subconjunto de C, que considera apenas cartas vermelhas será chamado de V.\n",
    "\n",
    "Com isso, vamos separar a probabilidade em 2 partes, na primeira, considerando apenas a primeira retirada: $$ 1º Retirada: \\frac{n(V)}{n(C)} = \\frac{26}{52}$$\n",
    "$$ 2º Retirada: \\frac{n(V) - 1}{n(C) - 1} = \\frac{25}{51}$$\n",
    "Note que o número na 2º vez diminui, pois uma carta (esta sendo vermelha) foi retirada do baralho na 1º retirada.\n",
    "\n",
    "$\\therefore P(2C) = \\frac{26}{52} \\cdot \\frac{25}{51} = 24.5 \\% \\approx 25 \\%$ , podemos dizer então que há aproximadamente $\\frac{1}{4}$ de chance de retirar 2 cartas vermelhas de um deque convencional de 52 cartas.\n",
    "\n",
    "### Problema 7: Uma rifa tem 100 números e 3 prêmios. Qual a probabilidade de você ganhar pelo menos um prêmio se você comprar 5 números?\n",
    "\n",
    "Vamos tomar algumas ideias iniciais para termos noção do que estamos trabalhando: Sabemos que, para cada 33.333... números escolhidos entre os 100, há 1 prêmio possível, e que a probabilidade de ganhar qualquer um dos 3 escolhendo apenas um número é de 0.03%.\n",
    "Agora, vamos dividir a probabilidade em 3 prêmios (E considerar que para cada prêmio sorteado, o próximo prêmio não pode ser sorteado pelo mesmo número). Note que P(R) é a probabilidade de ganhar o sorteio da rifa.\n",
    "\n",
    "Antes disso, vamos analisar $P(R^{c})$, ou seja, a probabilidade de não ganhar o sorteio.\n",
    "Temos que, para 3 números premiados, 97 não estão. Então vamos dividir nosso evento pelo espaço amostral: $\\frac{97}{100}$, porém, este seria para apenas 1 número comprado da rifa, e foram comprados 5, portanto, temos que: $$P(R^{c}) = \\frac{97}{100} \\cdot \\frac{96}{99} \\cdot \\frac{95}{98} \\cdot \\frac{94}{97} \\cdot \\frac{93}{96} = 85.59 \\%$$\n",
    "\n",
    "Note que, para uma quantidade menor do que 5 números, a probabilidade de não ganhar o sorteio aumenta, por exemplo se fossem apenas dois números, teriamos $\\frac{97*96}{100*99} = 94\\%$.\n",
    "\n",
    "Sabendo que P(R) e $P(R^{c})$ são complementares, podemos encontrar P(R) usando o valor final da porcentagem de chance de perder a rifa. Ao subtrairmos o valor absoluto da porcentagem total, 1, deste valor (0,8559), temos a porcentagem de chance de ganhar a rifa. $$\\therefore P(R) + P(R^{c}) = 1, P(R) = 14.41 \\%$$\n",
    "\n",
    "### Problema 8: Qual a probabilidade de sortear 5 cartas do mesmo naipe em um baralho convencional (52 cartas)?\n",
    "\n",
    "B1 = {Ás, 2, 3, 4, 5, 6, 7, 8, 9, 10, Valete, Dama, Rei}\n",
    "\n",
    "B2 = {Copas, Espadas, Ouros, Paus}\n",
    "\n",
    "C = B1 x B2 = B2  X B1\n",
    "\n",
    "Aqui temos o mesmo espaço amostral do problema 6, só que a agora para 5 cartas em outro evento, o subconjunto do naipe. Como cada naipe (cada elemento do B2) tem também as mesmas probabilidades de serem escolhidos, vamos tratá-los como um naipe qualquer.\n",
    "Temos 13 cartas para cada naipe, portanto, para 1 naipe e 1 sorteio, temos que: $P(X1) = \\frac{n(N)}{n(T)} = \\frac{13}{52}$, porém, como temos 5 sorteios seguidos, e vamos retirando cartas do naipe e portanto: \n",
    "$$P(X5) = \\frac{13}{52} \\cdot \\frac{12}{51} \\cdot \\frac{11}{50} \\cdot \\frac{10}{49} \\cdot \\frac{9}{48} =  4.95 * 10 ^ {-4} = 0.049\\%$$\n",
    "\n",
    "### Problema 9: Qual a probabilidade de se ganhar na loteria federal comprando apenas um bilhete de 6 números? \n",
    "\n",
    "A loteria federal sorteia 6 números inteiros no intervalo de $[1, 60]$. Um bilhete de 6 números te permite escolher 6 números diferentes dentro do intervalo. Ganhar, neste caso, significa que você acertou os 6 números sorteados.\n",
    "\n",
    "Para esse problema convém o uso da combinação para contabilizar toda as possibilidades, lembrando que a combinação pode ser definida como:\n",
    "\n",
    "$$C(n,k) = \\frac{n!}{k!(n-k)!}$$\n",
    "\n",
    "onde k é a quantidade de números escolhidos por bilhete e n é a quantidade de números possíveis de serem escritos. Computando a combinação para esse caso (k = 6 e n = 60), temos que:\n",
    "\n",
    "$$C(60,6) = \\frac{60!}{6!(60-6)!} = 386206920$$\n",
    "\n",
    "Ou seja, possuimos 386206920 maneiras diferentes de escolher os números (o espaço amostral possui  386,206,920 itens). O que significa que a probabilidade de ganhar na loteria federal é de:\n",
    "\n",
    "$$P_{(\\text{Ganhar na Loteria})} = \\frac{1}{386206920} = 2.589 * 10 ^ {-9}$$\n",
    "\n",
    "O que é obviamente um número muito baixo, e por isso é tão difícil de ganhar na loteria!\n",
    "\n",
    "### Problema 10: Existem 23 pessoas em uma sala. Qual é a chance de que existam duas pessoas que façam aniversário no mesmo dia dentro desta sala? Considerar um ano de 365 dias e mesma chance de nascer em qualquer dia do ano.\n",
    " \n",
    "Este problema pode ser encotrado de forma similar a diversos casos do paradoxo do aniversário (Não que isto seja um paradoxo, mas enfim, fazer o que), esse \"paradoxo\", no caso específico (equivalente ao problema 10), afirma que para um grupo de 23 (ou mais), a porcentagem de chance de que 2 pessoas farão aniversário no mesmo dia é maior que 50%. Isso já era de conhecimento da dupla, link [1]. Porém, aqui vamos discutir porque e qual o valor exato para esse caso.\n",
    "Podemos escrever a questão como sendo:\n",
    "$$P(2p ^ {c}) = \\frac{364!}{342! * 365 ^ {22}}$$\n",
    "Porém, para este caso, estamos calculando a probabilidade dessas pessoas de não nascerem no mesmo dia.\n",
    "$$P(2p^{c}) = \\frac{365}{365} \\cdot \\frac{364}{365} \\cdot \\frac{363}{365} \\cdot \\frac{362}{365} ... \\frac{342}{365}$$\n",
    "Note que essas duas equações são equivalentes.\n",
    "A equação inicial tem 364! no numerador, pois não considera o bebe inicial $\\frac{365}{365} = 1$, o valor 342! não considera os 23 bebes iniciais e o valor 22 elevado na potencia de 365 também não considera o bebe inicial.\n",
    "Com isso, temos que $P(2p^{c}) = 49.3 \\%$ de chance de não ter pessoas que fazem aniversário no mesmo dia. Utilizando novamente a equivalência de eventos complementares, encontramos que $$P(2p) = 50.7 \\%$$\n",
    "Que é maior que 50%!"
   ]
  },
  {
   "cell_type": "markdown",
   "metadata": {},
   "source": [
    "## Referências\n",
    "\n"
   ]
  },
  {
   "cell_type": "markdown",
   "metadata": {},
   "source": [
    "Escreva nesta seção as referências consultadas.\n",
    "\n",
    "[1] https://www.youtube.com/watch?v=ofTb57aZHZ\n",
    "\n",
    "[2] https://minilua.net/surpreendente-paradoxo-aniversario/#:~:text=Em%20uma%20festa%20com%2030,aniversário%20é%20maior%20que%2070%25.\n",
    "\n",
    "[3] https://www.youtube.com/watch?v=CVCZJCogpnU\n",
    "\n",
    "[4] https://www.britannica.com/science/probability-theory\n",
    "\n",
    "[5] https://en.wikipedia.org/wiki/Probability\n",
    "\n",
    "[6] https://www.mathsisfun.com/data/probability.html\n",
    "\n",
    "[7] https://olimpiada.ic.unicamp.br/pratique/ps/2021/f1/baralho/#:~:text=Cada%20baralho%20produzido%20deve%20ser,Valete%2C%20Dama%20e%20Rei "
   ]
  },
  {
   "cell_type": "markdown",
   "metadata": {},
   "source": [
    "## Playground\n",
    "\n"
   ]
  },
  {
   "cell_type": "markdown",
   "metadata": {},
   "source": [
    "Porque o paradoxo do aniversário chama paradoxo do aniversário se ele não é um paradoxo? Essa pergunta é um paradoxo?"
   ]
  }
 ],
 "metadata": {
  "kernelspec": {
   "display_name": "ilumpy",
   "language": "python",
   "name": "ilumpy"
  },
  "language_info": {
   "codemirror_mode": {
    "name": "ipython",
    "version": 3
   },
   "file_extension": ".py",
   "mimetype": "text/x-python",
   "name": "python",
   "nbconvert_exporter": "python",
   "pygments_lexer": "ipython3",
   "version": "3.10.8"
  },
  "org": null
 },
 "nbformat": 4,
 "nbformat_minor": 4
}
