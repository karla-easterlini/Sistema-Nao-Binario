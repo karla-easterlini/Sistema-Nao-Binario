{
 "cells": [
  {
   "cell_type": "markdown",
   "metadata": {},
   "source": [
    "Exercícios sobre distribuições\n",
    "==============================\n",
    "\n"
   ]
  },
  {
   "cell_type": "markdown",
   "metadata": {},
   "source": [
    "## Exercício 1 (25 pontos)\n",
    "\n"
   ]
  },
  {
   "cell_type": "markdown",
   "metadata": {},
   "source": [
    "Considere que a variável aleatória $X$ apresenta a seguinte pdf:\n",
    "\n",
    "$$\n",
    "f(x)=\\begin{cases}\n",
    "c(1-x^2) & -1 < x < 1\\\\\n",
    "0 & \\textrm{caso contrário}\n",
    "\\end{cases}\n",
    "$$\n",
    "\n",
    "Utilizando de seus conhecimentos adquiridos sobre distribuições de probabilidades, resolva as questões abaixo.\n",
    "\n",
    "1.  Encontre o valor de $c$. Se calcular de forma numérica, mostre os códigos. Se calcular de forma analítica, mostre todos os passos.\n",
    "\n",
    "2.  Encontre a forma analítica da cdf de $X$. Mostre todos os passos.\n",
    "\n",
    "3.  Calcule $P(|X| > 0,5)$. Mostre com clareza os passo do seu raciocínio.\n",
    "\n",
    "4.  Calcule $E[X]$.\n",
    "\n",
    "5.  Calcule $\\mathrm{Var}(X)$.\n",
    "\n",
    "**Nota**: pode resolver em papel a parte matemática e incluir a imagem no notebook e na entrega do teams. Mas lembrando que em LaTeX fica muito mais bonito e elegante :)\n",
    "\n"
   ]
  },
  {
   "cell_type": "markdown",
   "metadata": {
    "jp-MarkdownHeadingCollapsed": true,
    "tags": []
   },
   "source": [
    "## Resolução do exercício 1\n",
    "\n"
   ]
  },
  {
   "cell_type": "markdown",
   "metadata": {
    "tags": []
   },
   "source": [
    "#### A.) Encontre o valor de $c$. Se calcular de forma numérica, mostre os códigos. Se calcular de forma analítica, mostre todos os passos.\n",
    "\n",
    "Sabendo que a função de densidade de probabilidade pode ser dada por: \n",
    "\n",
    "$$\n",
    "f(x)=\\begin{cases}\n",
    "c(1-x^2), & -1 < x < 1\\\\\n",
    "0, & \\textrm{otherwise}\n",
    "\\end{cases}\n",
    "$$\n",
    "\n",
    "Sabemos também que por definição, uma PDF ($f(x)$) deve necessáriamente seguir a seguinte condição:\n",
    "\n",
    "$$\n",
    "\\int_{-\\infty}^{\\infty} f(x) \\, \\mathrm{d}x = 1.\n",
    "$$\n",
    "\n",
    "Assim, podemos dividir a integral dessa PDF em 3 partes:\n",
    "$$\n",
    "\\begin{cases}\n",
    "x < -1 \\\\\n",
    "-1 \\leq x \\geq 1 \\\\\n",
    "x > 1\n",
    "\\end{cases}\n",
    "$$\n",
    "Logo temos que:\n",
    "\n",
    "$$\n",
    "\\int_{-\\infty}^{-1} 0 \\, \\mathrm{d}x + \\int_{-1}^{+1} c(1-x^2) \\, \\mathrm{d}x + \\int_{1}^{\\infty} 0 \\, \\mathrm{d}x = 1\n",
    "$$\n",
    "\n",
    "É trivial perceber que o primeiro e terceiro termo são iguais a 0, restando apenas o 2º termo para nos preocuparmos:\n",
    "$$\\int_{-1}^{+1} c(1-x^2)\\, \\mathrm{d}x = c\\Bigg( \\int_{-1}^{+1} 1-x^2 \\, \\mathrm{d}x\\Bigg) = 1$$\n",
    "\n",
    "Sabendo que a integral da soma, é a soma das integrais, podemos ainda quebrar essa integral em outras duas:\n",
    "$$\n",
    "c\\Bigg( \\int_{-1}^{+1} 1 \\, \\mathrm{d}x - \\int_{-1}^{+1} x^2 \\, \\mathrm{d}x\\Bigg) = 1\n",
    "$$\n",
    "\n",
    "$$\n",
    "c\\Big(2 - \\frac{x^3}{3} \\Bigg |^{1}_{-1}\\Big) = 1\n",
    "$$\n",
    "$$\n",
    "c(\\frac{6}{3} - \\frac{2}{3}) = 1 \\therefore c = \\frac{3}{4}\n",
    "$$"
   ]
  },
  {
   "cell_type": "markdown",
   "metadata": {
    "tags": []
   },
   "source": [
    "#### B.) Encontre a forma analítica da cdf de $X$. Mostre todos os passos\n",
    "\n",
    "Sabemos que a CDF pode ser encontrada apartir da PDF por meio do seguinte raciocínio:\n",
    "$$\n",
    "F(x) = P(X \\leq x) = \\int_{-\\infty}^{x} f(x) \\, \\mathrm{d}x\n",
    "$$\n",
    "Para o caso de agora, temos que a contribuição feita para valores de x menores que -1 é igual a 0, logo podemos simplificar isso pelo menos para:\n",
    "$$\n",
    "F(x) = P(X \\leq x) = \\int_{-\\infty}^{-1} 0 \\, \\mathrm{d}x + \\int_{-1}^{x} \\frac{3}{4}(1-x^2) \\, \\mathrm{d}x\n",
    "$$\n",
    "Resultando em:\n",
    "$$\n",
    "F(x) = P(X \\leq x) = \\frac{-x^3 + 3x + 2}{4}\n",
    "$$"
   ]
  },
  {
   "cell_type": "markdown",
   "metadata": {},
   "source": [
    "#### C.) Calcule  𝑃(|𝑋|>0,5). Mostre com clareza os passo do seu raciocínio.\n",
    "Usando propriedade de módulo, sabemos que $|X|>0.5$ implica que: \n",
    "\n",
    "$$\n",
    "\\begin{cases}\n",
    "X > 0.5 \\\\\n",
    "X < -0.5\n",
    "\\end{cases}\n",
    "$$\n",
    "\n",
    "Portanto, queremos determinar a probabilidade de que seja maior do que 0.5 e menor do que -0.5. Isso pode ser escrito como uma soma de probabilidades.\n",
    "Para tanto temos que: \n",
    "\n",
    "$$\n",
    "P(a \\leq X \\leq b) = \\int_{a}^{b} f(x) \\, \\mathrm{d}x\n",
    "$$\n",
    "\n",
    "Assim $P(|X|>0.5) = P(X>0.5) + P(X< -0.5)$, para determinar esse valor, vamos calcular cada uma delas separadamente e somar depois. Para iniciarmos, vamos calcular $P(X>0.5)$, que pode ser reescrito como: \n",
    "$$\n",
    "P(0.5 < X < \\infty) = \\int_{0.5}^{\\infty} f(x) \\, \\mathrm{d}x\n",
    "$$ Pela nossa definição por partes da PDF, temos que a contribuição de qualquer valor acima de 1 é nula, logo:\n",
    "$$\n",
    "P(0.5 < X < \\infty) = \\int_{0.5}^{1} \\frac{3}{4}(1-x^2) \\, \\mathrm{d}x + \\int_{1}^{\\infty} 0 \\, \\mathrm{d}x\n",
    "$$\n",
    "$$\n",
    "P(0.5 < X < \\infty) = \\int_{0.5}^{1} \\frac{3}{4}(1-x^2) \\, \\mathrm{d}x = 0.15625\n",
    "$$\n",
    "$$\\therefore P(X>0.5) = 0.15625$$\n",
    "\n",
    "Agora vamos calcular $P(X < -0.5)$, queseguindo um raciocínio análogo teremos que:\n",
    "$$\n",
    "P(-0,5 > X > \\infty) = \\int_{-1}^{-0.5} \\frac{3}{4}(1-x^2) \\, \\mathrm{d}x + \\int_{\\infty}^{-1} 0 \\, \\mathrm{d}x\n",
    "$$\n",
    "\n",
    "$$\\therefore P(X < -0.5) = 0.15625$$\n",
    "\n",
    "Assim, podemos determinar que $P(|X|> 0.5) = 2(0.15625) = 0.3125 $"
   ]
  },
  {
   "cell_type": "markdown",
   "metadata": {},
   "source": [
    "#### D.) Calcule  𝐸[𝑋].\n",
    "Pela definição o valor esperado de uma PDF é dada pela seguinte expressão:\n",
    "\n",
    "$$\n",
    "E[X] = \\int_{-\\infty}^{\\infty} x \\cdot f(x) \\, \\mathrm{d}x\n",
    "$$\n",
    "\n",
    "Novamente, pelo comportamento piecewise da nossa PDF, podemos quebrar isso em 3 partes:\n",
    "$$\n",
    "E[X] = \\int_{-\\infty}^{-1} x \\cdot 0 \\, \\mathrm{d}x + \\int_{-1}^{1} x \\cdot \\frac{3}{4}(1-x^2) \\, \\mathrm{d}x + \\int_{1}^{\\infty} x \\cdot 0 \\, \\mathrm{d}x\n",
    "$$\n",
    "\n",
    "Logo a contribuição é somente do intervalo de $[-1, 1]$:\n",
    "$$\n",
    "\\int_{-1}^{1} x \\cdot \\frac{3}{4}(1-x^2) \\, \\mathrm{d}x\n",
    "$$\n",
    "\n",
    "Essa integral dá 0, logo $E[X] = 0$"
   ]
  },
  {
   "cell_type": "markdown",
   "metadata": {
    "jp-MarkdownHeadingCollapsed": true,
    "tags": []
   },
   "source": [
    "#### E.) Calcule  Var(𝑋)."
   ]
  },
  {
   "cell_type": "code",
   "execution_count": 4,
   "metadata": {},
   "outputs": [
    {
     "name": "stdout",
     "output_type": "stream",
     "text": [
      "0.19999999999999996\n"
     ]
    }
   ],
   "source": [
    "import numpy as np\n",
    "from scipy.integrate import quad\n",
    "def f(x):\n",
    "    if -1 <= x <= 1:\n",
    "        return (0.75)*(1-x**2)\n",
    "    else:\n",
    "        return 0\n",
    "\n",
    "def valor_esperado(f, h=lambda x: x):\n",
    "    \"\"\"Computa o valor esperado para uma distribuição contínua.\"\"\"\n",
    "    return quad(lambda x: h(x) * f(x), -np.inf, np.inf)[0]\n",
    "\n",
    "def h(x):\n",
    "    return x ** 2\n",
    "\n",
    "v_esperado = valor_esperado(f, h)\n",
    "\n",
    "print(v_esperado)"
   ]
  },
  {
   "cell_type": "markdown",
   "metadata": {},
   "source": [
    "## Exercício 2 (25 pontos)\n",
    "\n"
   ]
  },
  {
   "cell_type": "markdown",
   "metadata": {},
   "source": [
    "As reuniões do colegiado acontecem de terça-feira, tendo início às 12:30.\n",
    "\n",
    "O professor $A$ chega nesta reunião entre 12:30 e 12:35 seguindo uma distribuição uniforme de probabilidade.\n",
    "\n",
    "O professor $B$ chega nesta reunião seguindo uma distribuição normal de probabilidade com média 12:33 e desvio padrão de 0,5 minuto.\n",
    "\n",
    "A chegada dos professores $A$ e $B$ são eventos independentes.\n",
    "\n",
    "Qual é a probabilidade de que os professores $A$ e $B$ irão perder os 2 primeiros minutos da reunião do colegiado na próxima terça-feira?\n",
    "\n",
    "<u>Resolva este problema de forma numérica usando código</u>. O `scipy` [tem](https://docs.scipy.org/doc/scipy/reference/generated/scipy.stats.uniform.html#scipy.stats.uniform) a distribuição uniforme caso queira.\n",
    "\n",
    "**Dica**: Quem sabe representar os horários de outra maneira possa ajudar! Deixe claro para o leitor qualquer conversão feita.\n",
    "\n"
   ]
  },
  {
   "cell_type": "markdown",
   "metadata": {},
   "source": [
    "## Resolução do exercício 2\n",
    "\n"
   ]
  },
  {
   "cell_type": "code",
   "execution_count": null,
   "metadata": {},
   "outputs": [],
   "source": []
  },
  {
   "cell_type": "markdown",
   "metadata": {},
   "source": [
    "## Referências\n",
    "\n"
   ]
  },
  {
   "cell_type": "markdown",
   "metadata": {},
   "source": [
    "Escreva nesta seção as referências consultadas.\n",
    "\n",
    "1.  Exercícios foram baseados no curso Data 140 de UC Berkeley [http://prob140.org/textbook/content/README.html](http://prob140.org/textbook/content/README.html)\n",
    "\n"
   ]
  },
  {
   "cell_type": "markdown",
   "metadata": {},
   "source": [
    "## Playground\n",
    "\n"
   ]
  },
  {
   "cell_type": "markdown",
   "metadata": {},
   "source": [
    "Use este espaço para fazer o que quiser. Não será considerado na correção.\n",
    "\n"
   ]
  },
  {
   "cell_type": "code",
   "execution_count": null,
   "metadata": {},
   "outputs": [],
   "source": []
  }
 ],
 "metadata": {
  "kernelspec": {
   "display_name": "ilumpy",
   "language": "python",
   "name": "ilumpy"
  },
  "language_info": {
   "codemirror_mode": {
    "name": "ipython",
    "version": 3
   },
   "file_extension": ".py",
   "mimetype": "text/x-python",
   "name": "python",
   "nbconvert_exporter": "python",
   "pygments_lexer": "ipython3",
   "version": "3.10.8"
  },
  "org": null
 },
 "nbformat": 4,
 "nbformat_minor": 4
}
