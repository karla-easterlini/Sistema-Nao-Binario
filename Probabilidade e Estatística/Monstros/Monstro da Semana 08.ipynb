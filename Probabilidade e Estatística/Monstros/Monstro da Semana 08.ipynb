{
 "cells": [
  {
   "cell_type": "markdown",
   "metadata": {},
   "source": [
    "Exercícios sobre distribuições\n",
    "==============================\n",
    "\n"
   ]
  },
  {
   "cell_type": "markdown",
   "metadata": {},
   "source": [
    "## Exercício 1 (25 pontos)\n",
    "\n"
   ]
  },
  {
   "cell_type": "markdown",
   "metadata": {},
   "source": [
    "Considere que a variável aleatória $X$ apresenta a seguinte pdf:\n",
    "\n",
    "$$\n",
    "f(x)=\\begin{cases}\n",
    "c(1-x^2) & -1 < x < 1\\\\\n",
    "0 & \\textrm{caso contrário}\n",
    "\\end{cases}\n",
    "$$\n",
    "\n",
    "Utilizando de seus conhecimentos adquiridos sobre distribuições de probabilidades, resolva as questões abaixo.\n",
    "\n",
    "1.  Encontre o valor de $c$. Se calcular de forma numérica, mostre os códigos. Se calcular de forma analítica, mostre todos os passos.\n",
    "\n",
    "2.  Encontre a forma analítica da cdf de $X$. Mostre todos os passos.\n",
    "\n",
    "3.  Calcule $P(|X| > 0,5)$. Mostre com clareza os passo do seu raciocínio.\n",
    "\n",
    "4.  Calcule $E[X]$.\n",
    "\n",
    "5.  Calcule $\\mathrm{Var}(X)$.\n",
    "\n",
    "**Nota**: pode resolver em papel a parte matemática e incluir a imagem no notebook e na entrega do teams. Mas lembrando que em LaTeX fica muito mais bonito e elegante :)\n",
    "\n"
   ]
  },
  {
   "cell_type": "markdown",
   "metadata": {},
   "source": [
    "## Resolução do exercício 1\n",
    "\n"
   ]
  },
  {
   "cell_type": "code",
   "execution_count": null,
   "metadata": {},
   "outputs": [],
   "source": []
  },
  {
   "cell_type": "markdown",
   "metadata": {},
   "source": [
    "## Exercício 2 (25 pontos)\n",
    "\n"
   ]
  },
  {
   "cell_type": "markdown",
   "metadata": {},
   "source": [
    "As reuniões do colegiado acontecem de terça-feira, tendo início às 12:30.\n",
    "\n",
    "O professor $A$ chega nesta reunião entre 12:30 e 12:35 seguindo uma distribuição uniforme de probabilidade.\n",
    "\n",
    "O professor $B$ chega nesta reunião seguindo uma distribuição normal de probabilidade com média 12:33 e desvio padrão de 0,5 minuto.\n",
    "\n",
    "A chegada dos professores $A$ e $B$ são eventos independentes.\n",
    "\n",
    "Qual é a probabilidade de que os professores $A$ e $B$ irão perder os 2 primeiros minutos da reunião do colegiado na próxima terça-feira?\n",
    "\n",
    "<u>Resolva este problema de forma numérica usando código</u>. O `scipy` [tem](https://docs.scipy.org/doc/scipy/reference/generated/scipy.stats.uniform.html#scipy.stats.uniform) a distribuição uniforme caso queira.\n",
    "\n",
    "**Dica**: Quem sabe representar os horários de outra maneira possa ajudar! Deixe claro para o leitor qualquer conversão feita.\n",
    "\n"
   ]
  },
  {
   "cell_type": "markdown",
   "metadata": {},
   "source": [
    "## Resolução do exercício 2\n",
    "\n"
   ]
  },
  {
   "cell_type": "code",
   "execution_count": null,
   "metadata": {},
   "outputs": [],
   "source": []
  },
  {
   "cell_type": "markdown",
   "metadata": {},
   "source": [
    "## Referências\n",
    "\n"
   ]
  },
  {
   "cell_type": "markdown",
   "metadata": {},
   "source": [
    "Escreva nesta seção as referências consultadas.\n",
    "\n",
    "1.  Exercícios foram baseados no curso Data 140 de UC Berkeley [http://prob140.org/textbook/content/README.html](http://prob140.org/textbook/content/README.html)\n",
    "\n"
   ]
  },
  {
   "cell_type": "markdown",
   "metadata": {},
   "source": [
    "## Playground\n",
    "\n"
   ]
  },
  {
   "cell_type": "markdown",
   "metadata": {},
   "source": [
    "Use este espaço para fazer o que quiser. Não será considerado na correção.\n",
    "\n"
   ]
  },
  {
   "cell_type": "code",
   "execution_count": null,
   "metadata": {},
   "outputs": [],
   "source": []
  }
 ],
 "metadata": {
  "kernelspec": {
   "display_name": "ilumpy",
   "language": "python",
   "name": "ilumpy"
  },
  "language_info": {
   "codemirror_mode": {
    "name": "ipython",
    "version": 3
   },
   "file_extension": ".py",
   "mimetype": "text/x-python",
   "name": "python",
   "nbconvert_exporter": "python",
   "pygments_lexer": "ipython3",
   "version": "3.10.6"
  },
  "org": null
 },
 "nbformat": 4,
 "nbformat_minor": 4
}
